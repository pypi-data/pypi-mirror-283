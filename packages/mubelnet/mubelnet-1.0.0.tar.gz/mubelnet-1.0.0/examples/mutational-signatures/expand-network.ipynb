{
 "cells": [
  {
   "cell_type": "code",
   "execution_count": null,
   "metadata": {},
   "outputs": [],
   "source": [
    "from copy import deepcopy\n",
    "from functools import partial\n",
    "import os\n",
    "from pathlib import Path\n",
    "import pickle\n",
    "from typing import Literal, NamedTuple\n",
    "\n",
    "from gabenet.nets import MultinomialDirichletBelieve, PoissonGammaBelieve\n",
    "from gabenet._surgery import copy_to_larger_net\n",
    "from gabenet.utils import get_layer_name, get_model_name\n",
    "import haiku as hk\n",
    "import jax\n",
    "from jax import random\n",
    "from jaxtyping import PyTree\n",
    "\n",
    "from dataset import load_mutation_spectrum, COSMIC_WEIGHTS\n",
    "\n",
    "\n",
    "ARTEFACT_DIR = Path(os.environ.get(\"ARTEFACT_DIR\", \"/mnt/output/\"))\n",
    "ARTEFACT_DIR.mkdir(parents=True, exist_ok=True)\n",
    "\n",
    "\n",
    "# Model hyperparameters.\n",
    "MODEL: Literal[\n",
    "    \"multinomial_dirichlet_believe\", \"poisson_gamma_believe\"\n",
    "] = \"poisson_gamma_believe\"\n",
    "n_topics = len(COSMIC_WEIGHTS)\n",
    "HIDDEN_LAYER_SIZES = [n_topics, n_topics]\n",
    "GAMMA_0 = 10.0\n",
    "# Print out model hyperparameters for logging.\n",
    "print(f\"MODEL = {MODEL}\")\n",
    "print(f\"n_topics = {n_topics}\")\n",
    "print(f\"HIDDEN_LAYER_SIZES = {HIDDEN_LAYER_SIZES}\")\n",
    "print(f\"GAMMA_0 = {GAMMA_0}\")\n",
    "\n",
    "n_features = 96\n",
    "X_train, X_test = load_mutation_spectrum()\n",
    "\n",
    "i_checkpoint = 0\n",
    "\n",
    "\n",
    "class TrainState(NamedTuple):\n",
    "    params: hk.Params\n",
    "    state: hk.State\n",
    "    key: jax.Array  # type: ignore\n",
    "    step: int"
   ]
  },
  {
   "cell_type": "code",
   "execution_count": null,
   "metadata": {},
   "outputs": [],
   "source": [
    "@hk.transform_with_state\n",
    "def kernel(X=X_train, freeze_phi=True):\n",
    "    \"\"\"Advance the Markov chain by one step.\"\"\"\n",
    "    if MODEL == \"multinomial_dirichlet_believe\":\n",
    "        model = MultinomialDirichletBelieve(\n",
    "            HIDDEN_LAYER_SIZES, n_features, gamma_0=GAMMA_0\n",
    "        )\n",
    "    else:\n",
    "        model = PoissonGammaBelieve(HIDDEN_LAYER_SIZES, n_features, gamma_0=GAMMA_0)\n",
    "    if freeze_phi:\n",
    "        model.layers.layers[-1].set_training(False)\n",
    "    # Do one Gibbs sampling step.\n",
    "    model(X)"
   ]
  },
  {
   "cell_type": "code",
   "execution_count": null,
   "metadata": {},
   "outputs": [],
   "source": [
    "def load_last_checkpoint(hidden_layer_sizes) -> TrainState | None:\n",
    "    \"\"\"Load last state from disk.\"\"\"\n",
    "    global i_checkpoint\n",
    "    # List all pickle files, sort by number and load last one.\n",
    "    architecture = '-'.join(map(str, hidden_layer_sizes))\n",
    "    checkpoint_dir = ARTEFACT_DIR / MODEL / architecture / \"checkpoints\"\n",
    "    files = sorted(checkpoint_dir.glob(\"checkpoint_*.pkl\"))\n",
    "    if len(files) == 0:\n",
    "        print(\"No checkpoints found.\")\n",
    "        return None\n",
    "    with open(files[-1], \"rb\") as fi:\n",
    "        state = pickle.load(fi)\n",
    "    i_checkpoint = int(files[-1].stem.split(\"_\")[-1])\n",
    "    print(f\"Loaded checkpoint i={i_checkpoint}.\")\n",
    "    i_checkpoint += 1\n",
    "    return state"
   ]
  },
  {
   "cell_type": "code",
   "execution_count": null,
   "metadata": {},
   "outputs": [],
   "source": [
    "def migrate_v005_to_v006(state: PyTree) -> PyTree:\n",
    "    \"\"\"Migrate theta cache name from v0.0.5 to v0.0.6.\"\"\"\n",
    "    model_name = get_model_name(state)\n",
    "    bottom = get_layer_name(\"bottom\", model_name)\n",
    "    new_state = deepcopy(state)\n",
    "    for layer_key, layer in state.items():\n",
    "        if layer_key.endswith(bottom):\n",
    "            if \"theta\" in layer:\n",
    "                new_state[layer_key][\"copy[theta(1)]\"] = new_state[layer_key].pop(\n",
    "                    \"theta\"\n",
    "                )\n",
    "        elif \"theta_tplus1\" in layer:\n",
    "            new_state[layer_key][\"copy[theta(t+1)]\"] = new_state[layer_key].pop(\n",
    "                \"theta_tplus1\"\n",
    "            )\n",
    "    return new_state"
   ]
  },
  {
   "cell_type": "code",
   "execution_count": null,
   "metadata": {},
   "outputs": [],
   "source": [
    "train_state = load_last_checkpoint(hidden_layer_sizes=[n_topics])\n",
    "state_source = train_state.state\n",
    "params_source = train_state.params\n",
    "key_source = train_state.key\n",
    "key_seq = hk.PRNGSequence(key_source)\n",
    "keys = random.split(next(key_seq), 4)\n",
    "init_fn = partial(kernel.init, freeze_phi=False)\n",
    "params_target, state_target = jax.pmap(init_fn)(keys)"
   ]
  },
  {
   "cell_type": "code",
   "execution_count": null,
   "metadata": {},
   "outputs": [],
   "source": [
    "migrated_state_source = migrate_v005_to_v006(state_source)\n",
    "new_params, new_state = copy_to_larger_net(\n",
    "    params_source, migrated_state_source, params_target, state_target\n",
    ")\n",
    "train_state = TrainState(params=new_params, state=new_state, key=next(key_seq), step=0)"
   ]
  },
  {
   "cell_type": "code",
   "execution_count": null,
   "metadata": {},
   "outputs": [],
   "source": [
    "architecture = '-'.join(map(str, HIDDEN_LAYER_SIZES))\n",
    "target_dir = ARTEFACT_DIR / MODEL / architecture / \"checkpoints\"\n",
    "target_dir.mkdir(parents=True, exist_ok=True)\n",
    "with open( target_dir/ \"checkpoint_0000.pkl\", \"wb\") as fo:\n",
    "    pickle.dump(train_state, fo)"
   ]
  }
 ],
 "metadata": {
  "kernelspec": {
   "display_name": "Python 3",
   "language": "python",
   "name": "python3"
  },
  "language_info": {
   "codemirror_mode": {
    "name": "ipython",
    "version": 3
   },
   "file_extension": ".py",
   "mimetype": "text/x-python",
   "name": "python",
   "nbconvert_exporter": "python",
   "pygments_lexer": "ipython3",
   "version": "3.11.4"
  },
  "orig_nbformat": 4
 },
 "nbformat": 4,
 "nbformat_minor": 2
}
