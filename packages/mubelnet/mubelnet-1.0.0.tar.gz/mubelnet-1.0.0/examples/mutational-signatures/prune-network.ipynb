{
 "cells": [
  {
   "cell_type": "code",
   "execution_count": null,
   "metadata": {},
   "outputs": [],
   "source": [
    "from copy import deepcopy\n",
    "from functools import partial\n",
    "import os\n",
    "from pathlib import Path\n",
    "import pickle\n",
    "from typing import Literal, NamedTuple\n",
    "\n",
    "from gabenet.nets import MultinomialDirichletBelieve, PoissonGammaBelieve\n",
    "from gabenet._surgery import determine_number_to_prune, prune_network\n",
    "from gabenet.utils import get_hidden_unit_sizes\n",
    "import haiku as hk\n",
    "import jax\n",
    "from jax.tree_util import tree_map\n",
    "import jax.numpy as jnp\n",
    "from jax import random\n",
    "from jaxtyping import PyTree\n",
    "\n",
    "from dataset import COSMIC_WEIGHTS\n",
    "\n",
    "\n",
    "ARTEFACT_DIR = Path(os.environ.get(\"ARTEFACT_DIR\", \"/mnt/output/\"))\n",
    "ARTEFACT_DIR.mkdir(parents=True, exist_ok=True)\n",
    "\n",
    "\n",
    "# Model hyperparameters.\n",
    "MODEL: Literal[\n",
    "    \"multinomial_dirichlet_believe\", \"poisson_gamma_believe\"\n",
    "] = \"multinomial_dirichlet_believe\"\n",
    "n_topics = len(COSMIC_WEIGHTS)\n",
    "HIDDEN_LAYER_SIZES = [40, n_topics]\n",
    "# Print out model hyperparameters for logging.\n",
    "print(f\"MODEL = {MODEL}\")\n",
    "print(f\"n_topics = {n_topics}\")\n",
    "print(f\"HIDDEN_LAYER_SIZES = {HIDDEN_LAYER_SIZES}\")\n",
    "\n",
    "\n",
    "i_checkpoint = 0\n",
    "\n",
    "\n",
    "class TrainState(NamedTuple):\n",
    "    params: hk.Params\n",
    "    state: hk.State\n",
    "    key: jax.Array  # type: ignore\n",
    "    step: int"
   ]
  },
  {
   "cell_type": "code",
   "execution_count": null,
   "metadata": {},
   "outputs": [],
   "source": [
    "def load_last_checkpoint(hidden_layer_sizes) -> TrainState | None:\n",
    "    \"\"\"Load last state from disk.\"\"\"\n",
    "    global i_checkpoint\n",
    "    # List all pickle files, sort by number and load last one.\n",
    "    architecture = '-'.join(map(str, hidden_layer_sizes))\n",
    "    checkpoint_dir = ARTEFACT_DIR / MODEL / architecture / \"checkpoints\"\n",
    "    files = sorted(checkpoint_dir.glob(\"checkpoint_*.pkl\"))\n",
    "    if len(files) == 0:\n",
    "        print(\"No checkpoints found.\")\n",
    "        return None\n",
    "    with open(files[-1], \"rb\") as fi:\n",
    "        state = pickle.load(fi)\n",
    "    i_checkpoint = int(files[-1].stem.split(\"_\")[-1])\n",
    "    print(f\"Loaded checkpoint i={i_checkpoint}.\")\n",
    "    i_checkpoint += 1\n",
    "    return state"
   ]
  },
  {
   "cell_type": "code",
   "execution_count": null,
   "metadata": {},
   "outputs": [],
   "source": [
    "n_chains = 4\n",
    "train_state = load_last_checkpoint(hidden_layer_sizes=HIDDEN_LAYER_SIZES)\n",
    "state_source = train_state.state\n",
    "params_source = train_state.params\n",
    "key_source = train_state.key\n",
    "key_seq = hk.PRNGSequence(key_source)"
   ]
  },
  {
   "cell_type": "code",
   "execution_count": null,
   "metadata": {},
   "outputs": [],
   "source": [
    "tree_map(jnp.shape, state_source)"
   ]
  },
  {
   "cell_type": "code",
   "execution_count": null,
   "metadata": {},
   "outputs": [],
   "source": [
    "states_pruned = []\n",
    "n_prune = determine_number_to_prune(state_source)\n",
    "for chain in range(n_chains):\n",
    "    state_i = jax.tree_map(lambda x: x[chain], state_source)\n",
    "    state_pruned = prune_network(state_i, n_prune)\n",
    "    states_pruned.append(state_pruned)\n",
    "state_pruned = jax.tree_map(lambda *s: jnp.stack(s), *states_pruned)\n",
    "NEW_HIDDEN_LAYER_SIZES = get_hidden_unit_sizes(state_pruned)"
   ]
  },
  {
   "cell_type": "code",
   "execution_count": null,
   "metadata": {},
   "outputs": [],
   "source": [
    "tree_map(jnp.shape, state_pruned)"
   ]
  },
  {
   "cell_type": "code",
   "execution_count": null,
   "metadata": {},
   "outputs": [],
   "source": [
    "train_state = TrainState(params=params_source, state=state_pruned, key=next(key_seq), step=0)"
   ]
  },
  {
   "cell_type": "code",
   "execution_count": null,
   "metadata": {},
   "outputs": [],
   "source": [
    "from dataset import load_mutation_spectrum, COSMIC_WEIGHTS\n",
    "\n",
    "n_features = 96\n",
    "X_train, X_test = load_mutation_spectrum()\n",
    "GAMMA_0 = 10.0\n",
    "\n",
    "\n",
    "\n",
    "@hk.transform_with_state\n",
    "def kernel(X=X_train, freeze_phi=True):\n",
    "    \"\"\"Advance the Markov chain by one step.\"\"\"\n",
    "    if MODEL == \"multinomial_dirichlet_believe\":\n",
    "        model = MultinomialDirichletBelieve(\n",
    "            NEW_HIDDEN_LAYER_SIZES, n_features, gamma_0=GAMMA_0\n",
    "        )\n",
    "    else:\n",
    "        model = PoissonGammaBelieve(NEW_HIDDEN_LAYER_SIZES, n_features, gamma_0=GAMMA_0)\n",
    "    if freeze_phi:\n",
    "        model.layers.layers[-1].set_training(False)\n",
    "    # Do one Gibbs sampling step.\n",
    "    model(X)\n",
    "\n",
    "# Test new network config.\n",
    "keys = random.split(next(key_seq), num=n_chains)\n",
    "kernel_fn = jax.pmap(kernel.apply, in_axes=(None, 0, 0))\n",
    "_, new_state = kernel_fn(params_source, state_pruned, keys)"
   ]
  },
  {
   "cell_type": "code",
   "execution_count": null,
   "metadata": {},
   "outputs": [],
   "source": [
    "NEW_HIDDEN_LAYER_SIZES = get_hidden_unit_sizes(state_pruned)\n",
    "architecture = '-'.join(map(str, NEW_HIDDEN_LAYER_SIZES))\n",
    "target_dir = ARTEFACT_DIR / MODEL / architecture / \"checkpoints\"\n",
    "target_dir.mkdir(parents=True, exist_ok=True)\n",
    "with open( target_dir/ \"checkpoint_0000.pkl\", \"wb\") as fo:\n",
    "    pickle.dump(train_state, fo)"
   ]
  }
 ],
 "metadata": {
  "kernelspec": {
   "display_name": "Python 3",
   "language": "python",
   "name": "python3"
  },
  "language_info": {
   "codemirror_mode": {
    "name": "ipython",
    "version": 3
   },
   "file_extension": ".py",
   "mimetype": "text/x-python",
   "name": "python",
   "nbconvert_exporter": "python",
   "pygments_lexer": "ipython3",
   "version": "3.11.4"
  },
  "orig_nbformat": 4
 },
 "nbformat": 4,
 "nbformat_minor": 2
}
