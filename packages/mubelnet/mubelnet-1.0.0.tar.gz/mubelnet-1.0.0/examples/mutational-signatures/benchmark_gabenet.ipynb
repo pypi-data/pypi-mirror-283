{
 "cells": [
  {
   "cell_type": "code",
   "execution_count": 10,
   "id": "dd713a11",
   "metadata": {},
   "outputs": [],
   "source": [
    "from functools import partial\n",
    "# Run the following before any XLA modules such as JAX:\n",
    "import chex\n",
    "\n",
    "chex.set_n_cpu_devices(2)\n",
    "\n",
    "# Add current directory to Python path.\n",
    "import sys\n",
    "sys.path.append(\"../../src\")\n",
    "\n",
    "# Import the remaining JAX related \n",
    "import arviz as az\n",
    "from gabenet.mcmc import sample_markov_chain\n",
    "from gabenet.nets import MultinomialDirichletBelieve\n",
    "from gabenet.utils import freeze_trainable_states,perplexity\n",
    "import haiku as hk\n",
    "import jax\n",
    "from jax import random\n",
    "import jax.numpy as jnp\n",
    "\n",
    "from dataset import load_mutation_spectrum, COSMIC_WEIGHTS"
   ]
  },
  {
   "cell_type": "code",
   "execution_count": 2,
   "id": "89a77416",
   "metadata": {},
   "outputs": [
    {
     "name": "stderr",
     "output_type": "stream",
     "text": [
      "No GPU/TPU found, falling back to CPU. (Set TF_CPP_MIN_LOG_LEVEL=0 and rerun for more info.)\n"
     ]
    }
   ],
   "source": [
    "# Pseudo-random number generator sequence.\n",
    "key_seq = hk.PRNGSequence(43)\n",
    "\n",
    "X_train, X_test = load_mutation_spectrum()"
   ]
  },
  {
   "cell_type": "code",
   "execution_count": 3,
   "id": "e59b74a8",
   "metadata": {},
   "outputs": [],
   "source": [
    "X_train = X_train[:10]\n",
    "X_test = X_test[:10]"
   ]
  },
  {
   "cell_type": "code",
   "execution_count": 4,
   "id": "0e1ae09c",
   "metadata": {},
   "outputs": [],
   "source": [
    "n_features = 96\n",
    "n_topics = len(COSMIC_WEIGHTS)\n",
    "\n",
    "@hk.transform_with_state\n",
    "def kernel(X=X_train, freeze_phi=True):\n",
    "    \"\"\"Advance the Markov chain by one step.\"\"\"\n",
    "    model = MultinomialDirichletBelieve([n_topics], n_features)\n",
    "    if freeze_phi:\n",
    "        model.layers.layers[1].set_training(False)\n",
    "    # Do one Gibbs sampling step.\n",
    "    model(X)\n",
    "    \n",
    "def probability(params, state):\n",
    "    bottom_params = params.get(\"multinomial_dirichlet_believe/~/multinomial_layer\", {})\n",
    "    bottom_state = state[\"multinomial_dirichlet_believe/~/multinomial_layer\"]\n",
    "    phi = bottom_params.get(\"phi\", bottom_state.get(\"phi\"))\n",
    "    theta = bottom_state[\"theta\"]\n",
    "    return theta @ phi"
   ]
  },
  {
   "cell_type": "markdown",
   "id": "55b5175b",
   "metadata": {},
   "source": [
    "Inference using COSMIC weights."
   ]
  },
  {
   "cell_type": "code",
   "execution_count": 11,
   "id": "cd39b3cc",
   "metadata": {},
   "outputs": [
    {
     "name": "stderr",
     "output_type": "stream",
     "text": [
      "WARNING:root:Number of trials is fixed at n_trials = [10. 11. 12. 13. 14. 15. 16. 17. 18. 19.]\n"
     ]
    }
   ],
   "source": [
    "keys = random.split(next(key_seq), jax.device_count())\n",
    "params, state = jax.vmap(partial(kernel.init, freeze_phi=False), in_axes=[0, None])(keys, X_train)\n",
    "params, state = freeze_trainable_states(state, variable_names=['phi'])\n",
    "params['multinomial_dirichlet_believe/~/multinomial_layer']['phi'] = jnp.array(COSMIC_WEIGHTS)"
   ]
  },
  {
   "cell_type": "markdown",
   "id": "5af82fe7",
   "metadata": {},
   "source": [
    "Perplexity before training."
   ]
  },
  {
   "cell_type": "code",
   "execution_count": 7,
   "id": "3cb5abca",
   "metadata": {},
   "outputs": [
    {
     "data": {
      "text/plain": [
       "Array(107.320724, dtype=float32)"
      ]
     },
     "execution_count": 7,
     "metadata": {},
     "output_type": "execute_result"
    }
   ],
   "source": [
    "probs = probability(params, state).mean(axis=[0])\n",
    "perplexity(X_test, probs)"
   ]
  },
  {
   "cell_type": "code",
   "execution_count": 8,
   "id": "a1638b92",
   "metadata": {},
   "outputs": [],
   "source": [
    "params, states = sample_markov_chain(\n",
    "    next(key_seq), \n",
    "    kernel=kernel, \n",
    "    n_samples=40, #400, \n",
    "    n_burnin_steps=50,#1_000, \n",
    "    params=params, \n",
    "    n_chains=jax.device_count(),\n",
    "    initial_state=state,\n",
    ")\n",
    "_ = states['multinomial_dirichlet_believe/~/cap_layer']['theta'].block_until_ready()"
   ]
  },
  {
   "cell_type": "code",
   "execution_count": 12,
   "id": "ad7321a4",
   "metadata": {},
   "outputs": [
    {
     "name": "stdout",
     "output_type": "stream",
     "text": [
      "Perplexity on fitted test set 74.03703\n",
      "Perplexity on unseen observations 73.699\n"
     ]
    }
   ],
   "source": [
    "# Perplexity on trained test set.\n",
    "probs = probability(params, states).mean(axis=[0, 1])\n",
    "print('Perplexity on fitted test set', perplexity(X_train, probs))\n",
    "print('Perplexity on unseen observations', perplexity(X_test, probs))"
   ]
  },
  {
   "cell_type": "code",
   "execution_count": 13,
   "id": "57902ce3",
   "metadata": {},
   "outputs": [],
   "source": [
    "c_cap = states['multinomial_dirichlet_believe/~/cap_layer']['c']\n",
    "idata = az.convert_to_inference_data({'c': c_cap})"
   ]
  },
  {
   "cell_type": "code",
   "execution_count": 16,
   "id": "d474668a",
   "metadata": {},
   "outputs": [
    {
     "name": "stdout",
     "output_type": "stream",
     "text": [
      "c    2.07\n",
      "Name: r_hat, dtype: float64\n"
     ]
    }
   ],
   "source": [
    "print(az.summary(idata)['r_hat'])"
   ]
  },
  {
   "cell_type": "code",
   "execution_count": null,
   "id": "17b5d21d",
   "metadata": {},
   "outputs": [],
   "source": [
    "az.plot_trace(idata)"
   ]
  }
 ],
 "metadata": {
  "kernelspec": {
   "display_name": "venv",
   "language": "python",
   "name": "venv"
  },
  "language_info": {
   "codemirror_mode": {
    "name": "ipython",
    "version": 3
   },
   "file_extension": ".py",
   "mimetype": "text/x-python",
   "name": "python",
   "nbconvert_exporter": "python",
   "pygments_lexer": "ipython3",
   "version": "3.11.4"
  }
 },
 "nbformat": 4,
 "nbformat_minor": 5
}
