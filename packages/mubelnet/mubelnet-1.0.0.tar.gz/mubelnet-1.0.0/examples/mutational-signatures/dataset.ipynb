{
 "cells": [
  {
   "cell_type": "code",
   "execution_count": 2,
   "id": "f54c959c",
   "metadata": {},
   "outputs": [],
   "source": [
    "from pathlib import Path\n",
    "\n",
    "from gabenet.utils import holdout_split\n",
    "import haiku as hk\n",
    "import jax.numpy as jnp\n",
    "import pandas as pd\n",
    "from sklearn.model_selection import train_test_split\n",
    "\n",
    "\n",
    "_PATH = Path('./')\n",
    "_COSMIC_PATH = _PATH / \"COSMIC_v3.3_SBS_GRCh37.txt\"\n",
    "COSMIC_WEIGHTS = pd.read_csv(_COSMIC_PATH, sep=\"\\t\", index_col=0).T"
   ]
  },
  {
   "cell_type": "code",
   "execution_count": 3,
   "id": "6da3c859",
   "metadata": {},
   "outputs": [],
   "source": [
    "def _read_sbs96():\n",
    "    # Get path of this file and read mutation spectrum.\n",
    "    df = pd.read_csv(_PATH / \"WGS_PCAWG.96.csv\")\n",
    "    df[\"Type\"] = (\n",
    "        df.Trinucleotide.str[0]\n",
    "        + \"[\"\n",
    "        + df[\"Mutation type\"]\n",
    "        + \"]\"\n",
    "        + df.Trinucleotide.str[2]\n",
    "    )\n",
    "    # The purpose of this temporary index is for sorting.\n",
    "    df[\"sortable_index\"] = (\n",
    "        \"[\" + df[\"Mutation type\"].str[:3] + \"]\" + df.Trinucleotide.str[:3]\n",
    "    )\n",
    "    df = df.reset_index()\n",
    "    # Drop sorting index from dataframe.\n",
    "    df = df.set_index(\"Type\").sort_index()\n",
    "    df = df.drop(columns=[\"sortable_index\", \"index\", \"Mutation type\", \"Trinucleotide\"])\n",
    "    df = df.transpose()\n",
    "    assert jnp.all(df.columns == COSMIC_WEIGHTS.columns)\n",
    "    return df"
   ]
  },
  {
   "cell_type": "code",
   "execution_count": 4,
   "id": "9949d4d4",
   "metadata": {},
   "outputs": [
    {
     "name": "stderr",
     "output_type": "stream",
     "text": [
      "No GPU/TPU found, falling back to CPU. (Set TF_CPP_MIN_LOG_LEVEL=0 and rerun for more info.)\n"
     ]
    }
   ],
   "source": [
    "df = _read_sbs96()"
   ]
  },
  {
   "cell_type": "code",
   "execution_count": 5,
   "id": "4a50641a",
   "metadata": {},
   "outputs": [],
   "source": [
    "df2 = _read_sbs96()"
   ]
  },
  {
   "cell_type": "code",
   "execution_count": 7,
   "id": "ec647a8b",
   "metadata": {},
   "outputs": [
    {
     "name": "stderr",
     "output_type": "stream",
     "text": [
      "/tmp/ipykernel_25691/1331713195.py:1: FutureWarning: The frame.append method is deprecated and will be removed from pandas in a future version. Use pandas.concat instead.\n",
      "  df.append(df2).shape\n"
     ]
    },
    {
     "data": {
      "text/plain": [
       "(5560, 96)"
      ]
     },
     "execution_count": 7,
     "metadata": {},
     "output_type": "execute_result"
    }
   ],
   "source": [
    "df.append(df2).shape"
   ]
  },
  {
   "cell_type": "code",
   "execution_count": null,
   "id": "d466a4e2",
   "metadata": {},
   "outputs": [],
   "source": []
  }
 ],
 "metadata": {
  "kernelspec": {
   "display_name": "venv",
   "language": "python",
   "name": "venv"
  },
  "language_info": {
   "codemirror_mode": {
    "name": "ipython",
    "version": 3
   },
   "file_extension": ".py",
   "mimetype": "text/x-python",
   "name": "python",
   "nbconvert_exporter": "python",
   "pygments_lexer": "ipython3",
   "version": "3.11.4"
  }
 },
 "nbformat": 4,
 "nbformat_minor": 5
}
