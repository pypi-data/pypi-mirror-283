{
 "cells": [
  {
   "cell_type": "code",
   "execution_count": 1,
   "id": "d199f7ef",
   "metadata": {},
   "outputs": [
    {
     "name": "stderr",
     "output_type": "stream",
     "text": [
      "2023-09-29 11:15:33.085382: W tensorflow/compiler/tf2tensorrt/utils/py_utils.cc:38] TF-TRT Warning: Could not find TensorRT\n"
     ]
    }
   ],
   "source": [
    "import os\n",
    "from pathlib import Path\n",
    "import pickle\n",
    "\n",
    "\n",
    "import chex\n",
    "\n",
    "chex.set_n_cpu_devices(2)\n",
    "\n",
    "import sys\n",
    "sys.path.append(\"../src\")\n",
    "\n",
    "\n",
    "# Import the remaining JAX related \n",
    "from gabenet.mcmc import sample_markov_chain\n",
    "from gabenet.nets import MultinomialDirichletBelieve\n",
    "import haiku as hk\n",
    "import jax\n",
    "import jax.numpy as jnp\n",
    "from sklearn.datasets import fetch_20newsgroups\n",
    "from sklearn.feature_extraction.text import CountVectorizer"
   ]
  },
  {
   "cell_type": "code",
   "execution_count": 2,
   "id": "a39b98c0",
   "metadata": {},
   "outputs": [
    {
     "name": "stderr",
     "output_type": "stream",
     "text": [
      "No GPU/TPU found, falling back to CPU. (Set TF_CPP_MIN_LOG_LEVEL=0 and rerun for more info.)\n"
     ]
    }
   ],
   "source": [
    "files_train = fetch_20newsgroups(subset='all', )\n",
    "cv = CountVectorizer(min_df=10, max_features=2_000)\n",
    "X_train = cv.fit_transform(files_train.data)\n",
    "X_train = jnp.array(X_train.todense().astype(jnp.float32))"
   ]
  },
  {
   "cell_type": "code",
   "execution_count": 3,
   "id": "317ea883",
   "metadata": {},
   "outputs": [],
   "source": [
    "X_train = X_train[:100]"
   ]
  },
  {
   "cell_type": "code",
   "execution_count": 4,
   "id": "9ef4bc9a",
   "metadata": {},
   "outputs": [],
   "source": [
    "# Pseudo-random number generator sequence.\n",
    "key_seq = hk.PRNGSequence(42)\n",
    "\n",
    "m_samples, n_features = X_train.shape"
   ]
  },
  {
   "cell_type": "code",
   "execution_count": 5,
   "id": "22b1830c",
   "metadata": {},
   "outputs": [],
   "source": [
    "@hk.transform_with_state\n",
    "def kernel(n_hidden_units = (200, )):\n",
    "    \"\"\"Advance the Markov chain by one step.\"\"\"\n",
    "    model = MultinomialDirichletBelieve(n_hidden_units, n_features)\n",
    "    # Do one Gibbs sampling step.\n",
    "    model(X_train)"
   ]
  },
  {
   "cell_type": "code",
   "execution_count": 6,
   "metadata": {},
   "outputs": [
    {
     "name": "stderr",
     "output_type": "stream",
     "text": [
      "WARNING:root:Number of trials is fixed at n_trials = [100. 101. 102. 103. 104. 105. 106. 107. 108. 109. 110. 111. 112. 113.\n",
      " 114. 115. 116. 117. 118. 119. 120. 121. 122. 123. 124. 125. 126. 127.\n",
      " 128. 129. 130. 131. 132. 133. 134. 135. 136. 137. 138. 139. 140. 141.\n",
      " 142. 143. 144. 145. 146. 147. 148. 149. 150. 151. 152. 153. 154. 155.\n",
      " 156. 157. 158. 159. 160. 161. 162. 163. 164. 165. 166. 167. 168. 169.\n",
      " 170. 171. 172. 173. 174. 175. 176. 177. 178. 179. 180. 181. 182. 183.\n",
      " 184. 185. 186. 187. 188. 189. 190. 191. 192. 193. 194. 195. 196. 197.\n",
      " 198. 199.]\n"
     ]
    }
   ],
   "source": [
    "params, state = kernel.init(next(key_seq))"
   ]
  },
  {
   "cell_type": "code",
   "execution_count": 12,
   "id": "66b3a431",
   "metadata": {},
   "outputs": [],
   "source": [
    "theta = state['multinomial_dirichlet_believe/~/multinomial_layer']['copy[theta(1)]']\n",
    "phi = state['multinomial_dirichlet_believe/~/multinomial_layer']['phi']"
   ]
  },
  {
   "cell_type": "code",
   "execution_count": 22,
   "id": "1ea94050",
   "metadata": {},
   "outputs": [],
   "source": [
    "from tensorflow_probability.substrates import jax as tfp  # type: ignore\n",
    "\n",
    "tfd = tfp.distributions\n"
   ]
  },
  {
   "cell_type": "code",
   "execution_count": 18,
   "id": "966f81c5",
   "metadata": {},
   "outputs": [
    {
     "data": {
      "text/plain": [
       "Array([[[0, 0, 0, ..., 0, 0, 0],\n",
       "        [0, 0, 0, ..., 0, 0, 0],\n",
       "        [0, 0, 0, ..., 0, 0, 0],\n",
       "        ...,\n",
       "        [0, 0, 0, ..., 0, 0, 0],\n",
       "        [0, 0, 0, ..., 0, 0, 0],\n",
       "        [0, 0, 0, ..., 0, 0, 0]],\n",
       "\n",
       "       [[0, 0, 0, ..., 0, 0, 0],\n",
       "        [0, 0, 0, ..., 0, 0, 0],\n",
       "        [0, 0, 0, ..., 0, 0, 0],\n",
       "        ...,\n",
       "        [0, 0, 0, ..., 0, 0, 0],\n",
       "        [0, 0, 0, ..., 0, 0, 0],\n",
       "        [0, 0, 0, ..., 0, 0, 0]],\n",
       "\n",
       "       [[0, 0, 0, ..., 0, 0, 0],\n",
       "        [0, 0, 0, ..., 0, 0, 0],\n",
       "        [0, 0, 0, ..., 0, 0, 0],\n",
       "        ...,\n",
       "        [0, 0, 0, ..., 0, 0, 0],\n",
       "        [0, 0, 0, ..., 0, 0, 0],\n",
       "        [0, 0, 0, ..., 0, 0, 0]],\n",
       "\n",
       "       ...,\n",
       "\n",
       "       [[0, 0, 0, ..., 0, 0, 0],\n",
       "        [0, 0, 0, ..., 0, 0, 0],\n",
       "        [0, 0, 0, ..., 0, 0, 0],\n",
       "        ...,\n",
       "        [0, 0, 0, ..., 0, 0, 0],\n",
       "        [0, 0, 0, ..., 0, 0, 0],\n",
       "        [0, 0, 0, ..., 0, 0, 0]],\n",
       "\n",
       "       [[0, 0, 0, ..., 0, 0, 0],\n",
       "        [0, 0, 0, ..., 0, 0, 0],\n",
       "        [0, 0, 0, ..., 0, 0, 0],\n",
       "        ...,\n",
       "        [0, 0, 0, ..., 0, 0, 0],\n",
       "        [0, 0, 0, ..., 0, 0, 0],\n",
       "        [0, 0, 0, ..., 0, 0, 0]],\n",
       "\n",
       "       [[0, 0, 0, ..., 0, 0, 0],\n",
       "        [0, 0, 0, ..., 0, 0, 0],\n",
       "        [0, 0, 0, ..., 0, 0, 0],\n",
       "        ...,\n",
       "        [0, 0, 0, ..., 0, 0, 0],\n",
       "        [0, 0, 0, ..., 0, 0, 0],\n",
       "        [0, 0, 0, ..., 0, 0, 0]]], dtype=int32)"
      ]
     },
     "execution_count": 18,
     "metadata": {},
     "output_type": "execute_result"
    }
   ],
   "source": [
    "from gabenet.random import augmented_poisson\n",
    "rate = theta[:, jnp.newaxis, :] * phi.T[jnp.newaxis, ...]\n",
    "\n",
    "augmented_poisson(next(key_seq), rate, X_train)"
   ]
  },
  {
   "cell_type": "code",
   "execution_count": 23,
   "id": "775ae9e1",
   "metadata": {},
   "outputs": [],
   "source": [
    "with jax.profiler.trace(\"/tmp/trace-augment-internals\"):\n",
    "    rate = theta[:, jnp.newaxis, :] * phi.T[jnp.newaxis, ...]\n",
    "    rate_norm = jnp.sum(rate, axis=-1, keepdims=True)\n",
    "    zeta = jnp.where(rate_norm == 0, 0, rate / rate_norm)\n",
    "    x_augmented = tfd.Multinomial(total_count=X_train, probs=zeta).sample(seed=next(key_seq))"
   ]
  },
  {
   "cell_type": "code",
   "execution_count": null,
   "id": "142bceb8",
   "metadata": {},
   "outputs": [],
   "source": [
    "rate = state['multi_dirichlet_believe/~/multinomial_layer']"
   ]
  },
  {
   "cell_type": "code",
   "execution_count": 7,
   "id": "35e7e6d4",
   "metadata": {},
   "outputs": [],
   "source": [
    "# Warm up\n",
    "_, state = kernel.apply(params, state, next(key_seq))\n",
    "_ = state['multinomial_dirichlet_believe/~/cap_layer']['r'].block_until_ready()"
   ]
  },
  {
   "cell_type": "code",
   "execution_count": 8,
   "id": "525bf9d2",
   "metadata": {},
   "outputs": [],
   "source": [
    "with jax.profiler.trace(\"/tmp/jax-trace\"):\n",
    "    _, state = kernel.apply(params, state, next(key_seq))\n",
    "    _ = state['multinomial_dirichlet_believe/~/cap_layer']['r'].block_until_ready()"
   ]
  }
 ],
 "metadata": {
  "kernelspec": {
   "display_name": "Python 3 (ipykernel)",
   "language": "python",
   "name": "python3"
  },
  "language_info": {
   "codemirror_mode": {
    "name": "ipython",
    "version": 3
   },
   "file_extension": ".py",
   "mimetype": "text/x-python",
   "name": "python",
   "nbconvert_exporter": "python",
   "pygments_lexer": "ipython3",
   "version": "3.11.4"
  }
 },
 "nbformat": 4,
 "nbformat_minor": 5
}
