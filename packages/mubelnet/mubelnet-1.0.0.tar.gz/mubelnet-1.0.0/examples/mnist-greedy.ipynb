{
   "cells": [
      {
         "cell_type": "code",
         "execution_count": 1,
         "id": "1c8623ce",
         "metadata": {},
         "outputs": [
            {
               "name": "stderr",
               "output_type": "stream",
               "text": [
                  "2023-09-07 12:12:17.278214: W tensorflow/compiler/tf2tensorrt/utils/py_utils.cc:38] TF-TRT Warning: Could not find TensorRT\n"
               ]
            }
         ],
         "source": [
            "from functools import partial\n",
            "\n",
            "from matplotlib import pyplot as plt\n",
            "import numpy as np\n",
            "from sklearn import datasets\n",
            "from sklearn.model_selection import train_test_split\n",
            "\n",
            "# Run the following before any XLA modules such as JAX:\n",
            "import chex\n",
            "\n",
            "chex.set_n_cpu_devices(2)\n",
            "\n",
            "import sys\n",
            "sys.path.append(\"../src\")\n",
            "\n",
            "# Import the remaining JAX related \n",
            "from gabenet.mcmc import greedy_wise_training\n",
            "from gabenet.nets import MultinomialDirichletBelieve\n",
            "from gabenet.utils import freeze_trainable_states, holdout_split, perplexity\n",
            "\n",
            "import haiku as hk\n",
            "import jax\n",
            "from jax import random\n",
            "import jax.numpy as jnp"
         ]
      },
      {
         "attachments": {},
         "cell_type": "markdown",
         "id": "0234db6d",
         "metadata": {},
         "source": [
            "To illustrate how to use the multinomial-Dirichlet believe network, we will train the\n",
            "model on the MNIST dataset, containing handwritten digits.\n",
            "\n",
            "The dataset can directly be loaded from scikit-learn. As preprocessing step, we reshape the\n",
            "digits from a 8x8 square matrix to a flat array of size 64."
         ]
      },
      {
         "cell_type": "code",
         "execution_count": 2,
         "id": "b51a7b7b",
         "metadata": {},
         "outputs": [],
         "source": [
            "digits = datasets.load_digits()\n",
            "n_samples = len(digits.images)\n",
            "X = digits.images.reshape((n_samples, -1))\n",
            "X_train, X_test = train_test_split(X, test_size=0.2, random_state=0)"
         ]
      },
      {
         "attachments": {},
         "cell_type": "markdown",
         "id": "b2a8f4f6",
         "metadata": {},
         "source": [
            "Next, we define the model. We use a simple decoder network with two hidden layers. In\n",
            "total, the size of the network: 2 x 10 x 64.\n",
            "\n",
            "```\n",
            "n_hidden_units = (2, 10)\n",
            "model = MultinomialDirichletBelieve(n_hidden_units, n_features)\n",
            "```\n",
            "\n",
            "This function has to be defined in a [haiku](https://github.com/deepmind/dm-haiku) context to transform the network in a pure state for JAX.\n",
            "\n",
            "Since the network is a Bayesian model, we don't train the model by\n",
            "minimising a loss. Rather, we infer the distribution $p(\\boldsymbol{\\theta}|\\boldsymbol{X}_{\\mathrm{train}})$ of the model's parameters $\\boldsymbol{\\theta}$ given the training data $\\boldsymbol{X}_{\\mathrm{train}}$ that we observe. This probability distribution is called the [posterior](https://en.wikipedia.org/wiki/Posterior_probability).\n",
            "\n",
            "Unfortunately, we don't know what this distribution is. However, we do know a way how to sample it: using Markov chain Monte Carlo (MCMC). This simulation method samples the distributions by taking small steps that depend on its previous state. In theory, when we have take enough steps, the state converges to the true (posterior) distribution.\n",
            "\n",
            "First, initialise the chain using training data:\n",
            "\n",
            "```python\n",
            "model.init(X_train)\n",
            "```\n",
            "\n",
            "This method takes samples from the prior as a starting point. After that, keep taking steps from your current to your next state. To take one step, you simply call your model using\n",
            "the training data:\n",
            "\n",
            "```python\n",
            "model(X_train)\n",
            "```\n",
            "\n",
            "This function call does one Gibbs sampling step, which updates all the parameters one-by-one.\n",
            "\n",
            "Now, lets put all elements together."
         ]
      },
      {
         "cell_type": "code",
         "execution_count": 3,
         "id": "5ab28182",
         "metadata": {},
         "outputs": [
            {
               "name": "stderr",
               "output_type": "stream",
               "text": [
                  "No GPU/TPU found, falling back to CPU. (Set TF_CPP_MIN_LOG_LEVEL=0 and rerun for more info.)\n"
               ]
            }
         ],
         "source": [
            "# Pseudo-random number generator sequence.\n",
            "key_seq = hk.PRNGSequence(42)\n",
            "\n",
            "m_samples, n_features = X_train.shape\n",
            "\n",
            "@hk.transform_with_state\n",
            "def kernel(n_hidden_units: tuple, X=X_train, training=True):\n",
            "    \"\"\"Advance the Markov chain by one step.\"\"\"\n",
            "    model = MultinomialDirichletBelieve(n_hidden_units, n_features)\n",
            "    # Do one Gibbs sampling step.\n",
            "    model(X)"
         ]
      },
      {
         "attachments": {},
         "cell_type": "markdown",
         "id": "0d4cbcc7",
         "metadata": {},
         "source": [
            "Here, we defined a function that proposes a new state based on its current configuration. This is called a _kernel_. The `hk.transform_with_state` decorator uses haiku to purify the function into something that is stateless."
         ]
      },
      {
         "attachments": {},
         "cell_type": "markdown",
         "id": "56d21ade",
         "metadata": {},
         "source": [
            "Finally, we draw samples from the Markov chain. We first take 100 burn-in steps, in the\n",
            "hope that the chain converges to the true distribution. After throwing away these first 100 samples, we collect a new set\n",
            "of 50 samples (25 in each chain) to estimate the posterior distribution.\n",
            "\n",
            "Note that `sample_markov_chain` (below) automatically takes care of distributing your\n",
            "computation across multiple devices. For simplicity, we assume you are running on a CPU and split the CPU up in two virtual devices. (See above, at the import section, where we've used\n",
            "`chex` set the number of devices to 2.)\n",
            "\n",
            "The following cell, that collects statistics from the Markov chain takes, about `10 minutes` to run on a CPU."
         ]
      },
      {
         "cell_type": "code",
         "execution_count": 4,
         "id": "4b2b6ceb",
         "metadata": {},
         "outputs": [],
         "source": [
            "from functools import partial\n",
            "\n",
            "import haiku as hk\n",
            "import jax\n",
            "import jax.numpy as jnp\n",
            "from jax import random\n",
            "from jaxtyping import Array, PRNGKeyArray, PyTree, UInt\n",
            "\n",
            "from gabenet._surgery import (\n",
            "    copy_to_larger_net,\n",
            "    determine_number_to_prune,\n",
            "    prune_network,\n",
            ")\n",
            "from gabenet.utils import get_hidden_unit_sizes\n",
            "from gabenet.mcmc import sample_markov_chain"
         ]
      },
      {
         "cell_type": "code",
         "execution_count": 13,
         "id": "23f32c2f",
         "metadata": {},
         "outputs": [
            {
               "name": "stderr",
               "output_type": "stream",
               "text": [
                  "WARNING:root:Number of trials is fixed at n_trials = Traced<ShapedArray(float32[1437])>with<DynamicJaxprTrace(level=0/1)>\n"
               ]
            },
            {
               "name": "stdout",
               "output_type": "stream",
               "text": [
                  "Starting training network config: (10,)\n",
                  "Pruned network to (7,)\n"
               ]
            },
            {
               "name": "stderr",
               "output_type": "stream",
               "text": [
                  "WARNING:root:Number of trials is fixed at n_trials = Traced<ShapedArray(float32[1437])>with<DynamicJaxprTrace(level=0/1)>\n"
               ]
            },
            {
               "name": "stdout",
               "output_type": "stream",
               "text": [
                  "Starting training network config: (7, 7)\n",
                  "Pruned network to (6, 7)\n"
               ]
            },
            {
               "name": "stderr",
               "output_type": "stream",
               "text": [
                  "WARNING:root:Number of trials is fixed at n_trials = Traced<ShapedArray(float32[1437])>with<DynamicJaxprTrace(level=0/1)>\n"
               ]
            }
         ],
         "source": [
            "n_chains = jax.device_count()\n",
            "\n",
            "params, states = greedy_wise_training(\n",
            "    next(key_seq),\n",
            "    kernel=kernel,\n",
            "    n_samples=100,\n",
            "    T_max=2,\n",
            "    K_1max=10,\n",
            "    B=(1_000, 500),\n",
            "    C=(500, 500),\n",
            ")"
         ]
      },
      {
         "attachments": {},
         "cell_type": "markdown",
         "id": "cc6c1598",
         "metadata": {},
         "source": [
            "After training the model, we can inspect what the model has learned. Note that, instead of a single point estimate of the parameters, we've obtained a distribution. To visualise the parameters, we take for simplicity the median. Let's take a look at $\\bm{\\Phi}^{(1)}$, the weights of the first layer."
         ]
      },
      {
         "cell_type": "code",
         "execution_count": 14,
         "id": "e09b1bda",
         "metadata": {},
         "outputs": [],
         "source": [
            "states_shallow = states[(7,)]\n",
            "states_deep = states[(6, 7)]"
         ]
      },
      {
         "cell_type": "code",
         "execution_count": 15,
         "id": "07381c22",
         "metadata": {},
         "outputs": [],
         "source": [
            "def probability(params, state):\n",
            "    bottom_params = params.get(\"multinomial_dirichlet_believe/~/multinomial_layer\", {})\n",
            "    bottom_state = state[\"multinomial_dirichlet_believe/~/multinomial_layer\"]\n",
            "    phi = bottom_params.get(\"phi\", bottom_state.get(\"phi\"))\n",
            "    theta = bottom_state[\"copy[theta(1)]\"]\n",
            "    return theta @ phi"
         ]
      },
      {
         "cell_type": "code",
         "execution_count": 18,
         "id": "bd40335a",
         "metadata": {},
         "outputs": [
            {
               "name": "stdout",
               "output_type": "stream",
               "text": [
                  "Training set perplexity: 34.80\n"
               ]
            }
         ],
         "source": [
            "# probs_train = jnp.mean(probability({}, states_shallow), axis=(0, 1))\n",
            "probs_train = jnp.mean(probability({}, states_shallow)[1], axis=0)\n",
            "print(f'Training set perplexity: {perplexity(X_train, probs_train):.2f}')"
         ]
      },
      {
         "cell_type": "code",
         "execution_count": 17,
         "id": "dad098e5",
         "metadata": {},
         "outputs": [
            {
               "data": {
                  "text/plain": [
                     "<Figure size 640x480 with 0 Axes>"
                  ]
               },
               "metadata": {},
               "output_type": "display_data"
            },
            {
               "data": {
                  "image/png": "[encoded data removed]",
                  "text/plain": [
                     "<Figure size 1250x600 with 6 Axes>"
                  ]
               },
               "metadata": {},
               "output_type": "display_data"
            },
            {
               "data": {
                  "text/plain": [
                     "<Figure size 640x480 with 0 Axes>"
                  ]
               },
               "metadata": {},
               "output_type": "display_data"
            },
            {
               "data": {
                  "image/png": "[encoded data removed]",
                  "text/plain": [
                     "<Figure size 1250x600 with 6 Axes>"
                  ]
               },
               "metadata": {},
               "output_type": "display_data"
            }
         ],
         "source": [
            "# Aggregate posterior samples to visualise.\n",
            "phi_1st_layer = np.median(states_shallow['multinomial_dirichlet_believe/~/multinomial_layer']['phi'], axis=[1])\n",
            "\n",
            "for i in range(n_chains):  # For each Markov chain.\n",
            "    plt.figure()\n",
            "    _, axes = plt.subplots(nrows=2, ncols=3, figsize=(12.5, 6))\n",
            "    plt.suptitle(f'Chain {i+1}')\n",
            "    # Plot the weights of all 10 hidden states.\n",
            "    for ax, phi in zip(axes.flatten(), phi_1st_layer[i]):\n",
            "        ax.set_axis_off()\n",
            "        image = phi.reshape(8, 8)\n",
            "        ax.imshow(image, cmap=plt.cm.gray_r, interpolation=\"nearest\")"
         ]
      },
      {
         "cell_type": "markdown",
         "id": "4f16dad0",
         "metadata": {},
         "source": [
            "# Test perplexity.\n",
            "Given a distribution $p(x)$, perplexity is defined as $\\mathcal{L} = \\exp(S[p])$ with $S[p]$ the entropy of distribution $p(x)$. In practice, we evaluate the cross entropy with the emperical distribution so that\n",
            "$$\n",
            "\\ln \\mathcal{L} = -E_{\\mathrm{\\pmb{x}}}[ \\ln p(\\pmb{x}|\\pmb{X}_{\\mathrm{train}})] \\approx -\\frac{1}{m}\\sum_{i=1}^{m} \\ln p(\\pmb{x}^{(i)}|\\pmb{X}_{\\mathrm{train}})\n",
            "$$"
         ]
      },
      {
         "cell_type": "markdown",
         "id": "388eefe4",
         "metadata": {},
         "source": [
            "To this end, we split the data in three sets: A training set $\\pmb{X}_{\\mathrm{train}}$, and two tests sets $\\pmb{X}_{\\mathrm{test}}^{A}$ and $\\pmb{X}_{\\mathrm{test}}^{B}$ containing 50% of the pixel intensities each (so that $\\pmb{X}_{\\mathrm{test}} = \\pmb{X}_{\\mathrm{test}}^A + \\pmb{X}_{\\mathrm{test}}^B$), similar to Ref. [1]. \n",
            "\n",
            "[1]: Wang, Chong, John Paisley, and David M. Blei. \"Online variational inference for the hierarchical Dirichlet process.\" Proceedings of the fourteenth international conference on artificial intelligence and statistics. JMLR Workshop and Conference Proceedings, 2011."
         ]
      },
      {
         "cell_type": "code",
         "execution_count": 7,
         "id": "a3e1b393",
         "metadata": {},
         "outputs": [],
         "source": [
            "X_test_A, X_test_B = holdout_split(next(key_seq), X_test)"
         ]
      },
      {
         "cell_type": "markdown",
         "id": "a1705bc0",
         "metadata": {},
         "source": [
            "We then use $\\pmb{X}_{\\mathrm{train}}$ to infer the sample independent parameters $\\bm{\\phi}, \\bm{r}, c$ (i.e., without sample index $i$). With these, we use $\\pmb{X}_{\\mathrm{test}}^A $ to infer the sample _dependent_ parameters $\\pmb{\\theta}$ (i.e., with index $i$). Finally, we use $\\pmb{X}_{\\mathrm{test}}^{B}$ to estimate $p(\\pmb{x}|\\pmb{X}_{\\mathrm{train}})$."
         ]
      },
      {
         "cell_type": "markdown",
         "id": "40b69a8d",
         "metadata": {},
         "source": [
            "\n",
            "Specifically, we model the probabilities as categories $p(x_{ij}|\\pi_{ij}) = \\pi_{ij}^{x_{ij}}$ where $\\pi_{ij}$ is the probability to observe pixel intensity $j$ in sample $i$."
         ]
      },
      {
         "cell_type": "code",
         "execution_count": 8,
         "id": "616ab655",
         "metadata": {},
         "outputs": [],
         "source": [
            "def probability(params, state):\n",
            "    bottom_params = params.get(\"multinomial_dirichlet_believe/~/multinomial_layer\", {})\n",
            "    bottom_state = state[\"multinomial_dirichlet_believe/~/multinomial_layer\"]\n",
            "    phi = bottom_params.get(\"phi\", bottom_state.get(\"phi\"))\n",
            "    theta = bottom_state[\"theta\"]\n",
            "    return theta @ phi"
         ]
      },
      {
         "cell_type": "markdown",
         "id": "df4c9849",
         "metadata": {},
         "source": [
            "We estimate $\\pi_{ij}$ by averaging the posterior samples:\n",
            "$$\n",
            "\\pi_{ij}(\\pmb{X}_{\\mathrm{train}}, \\pmb{X}_{\\mathrm{test}}^A ) \n",
            "= \\int \\mathrm{d}\\pmb{\\phi} \\, \\mathrm{d}\\pmb{\\theta} \\, p(x_{ij}|\\pmb{\\phi}\\pmb{\\theta}) p(\\pmb{\\theta} | \\pmb{\\phi}, \\pmb{r}, c, \\pmb{X}_{\\mathrm{test}}^A ) p(\\pmb{\\phi}, \\pmb{r}, c|\\pmb{X}_{\\mathrm{train}}) \n",
            "\\approx \\frac{1}{S R} \\sum_{s=1}^S \\sum_{r=1}^{R} \\sum_{k=1}^K \\theta_{ik}^{(s, r)} \\phi_{kj}^{(s)}\n",
            "$$\n",
            "where $\\phi_{kj}^{(s)}$ with $s=1,\\dots,S$ denote posterior samples based on the training set $\\pmb{X}_{\\mathrm{train}}$ and $\\theta_{ik}^{(s, r)}$ the posterior samples $r=1,\\dots,R$ with respect to $\\pmb{X}_{\\mathrm{test}}^A $ given $\\phi_{kj}^{(s)}$ .\n",
            "\n",
            "Having inferred $\\pmb{\\phi}|\\pmb{X}_{\\mathrm{train}}$ above, let's infer $\\pmb{\\theta} | \\pmb{\\phi}, \\pmb{r}, c, \\pmb{X}_{\\mathrm{test}}^A$ for all the different realisations."
         ]
      },
      {
         "cell_type": "code",
         "execution_count": 10,
         "id": "cb19fe8e",
         "metadata": {},
         "outputs": [
            {
               "name": "stderr",
               "output_type": "stream",
               "text": [
                  "WARNING:root:Number of trials is fixed at n_trials = Traced<ShapedArray(float32[360])>with<DynamicJaxprTrace(level=1/0)>\n"
               ]
            }
         ],
         "source": [
            "# Lift our the parameters r, c, and phi to keep them fixed.\n",
            "test_params, _ = freeze_trainable_states(states)\n",
            "\n",
            "# Configure Markov chain kernel for X_test_a with clamped parameters (training=False).\n",
            "init_test_fn = jax.jit(jax.vmap(partial(kernel.init, X=X_test_A, training=False)))\n",
            "kernel_test_fn = partial(kernel.apply, X=X_test_A, training=False)\n",
            "\n",
            "# Do inference on X_test_A for each posterior sample individually.\n",
            "probs = []\n",
            "for i in range(n_chains):\n",
            "    probs_i = []\n",
            "    for j in range(25):\n",
            "        params_s = jax.tree_util.tree_map(lambda x: x[i, j], test_params)\n",
            "        # Randomly initialise Markov chain.\n",
            "        keys_per_chain = random.split(next(key_seq), num=n_chains)\n",
            "        _, states_test_s_r = init_test_fn(keys_per_chain)\n",
            "        # Sample Markov chain.\n",
            "        _, states_test_s_r = sample_markov_chain(\n",
            "            next(key_seq), \n",
            "            n_samples=10, \n",
            "            kernel=kernel_test_fn, \n",
            "            params=params_s, \n",
            "            initial_state=states_test_s_r,\n",
            "            n_burnin_steps=20, \n",
            "        )\n",
            "        _ = states_test_s_r['multinomial_dirichlet_believe/~/cap_layer']['theta'].block_until_ready()\n",
            "        probs_ij = probability(params_s, states_test_s_r)\n",
            "        probs_i.append(probs_ij)\n",
            "    probs.append(jnp.stack(probs_i))\n",
            "        \n",
            "probs = jnp.stack(probs)"
         ]
      },
      {
         "cell_type": "markdown",
         "id": "cace3019",
         "metadata": {},
         "source": [
            "Finally, the per intensity perplexity is computed on the separate hold-out set $\\pmb{X}_{\\mathrm{test}}^B$:\n",
            "$$\n",
            "\\mathcal{L}\\left(\\pmb{X}_{\\mathrm{test}}^B| \\pmb{\\pi}\\right) = \\exp \\left(-\\frac{1}{m} \\sum_{i=1}^m \\sum_{j=1}^n \\frac{x_{ij} \\ln {\\pi}_{ij}}{\\sum_{j=1}^n x_{ij}} \\right).\n",
            "$$"
         ]
      },
      {
         "cell_type": "code",
         "execution_count": 11,
         "id": "5615dd9c",
         "metadata": {},
         "outputs": [
            {
               "name": "stdout",
               "output_type": "stream",
               "text": [
                  "Training set perplexity: 33.80\n"
               ]
            }
         ],
         "source": [
            "probs_train = jnp.mean(probability(params, states), axis=(0, 1))\n",
            "print(f'Training set perplexity: {perplexity(X_train, probs_train):.2f}')"
         ]
      },
      {
         "cell_type": "code",
         "execution_count": 12,
         "id": "cee51019",
         "metadata": {},
         "outputs": [
            {
               "name": "stdout",
               "output_type": "stream",
               "text": [
                  "Test set perplexity: 34.98\n"
               ]
            }
         ],
         "source": [
            "probs_test = probs.mean(axis=[0, 1, 2, 3])\n",
            "print(f'Test set perplexity: {perplexity(X_test_B, probs_test):.2f}')"
         ]
      }
   ],
   "metadata": {
      "kernelspec": {
         "display_name": "Python 3 (ipykernel)",
         "language": "python",
         "name": "python3"
      },
      "language_info": {
         "codemirror_mode": {
            "name": "ipython",
            "version": 3
         },
         "file_extension": ".py",
         "mimetype": "text/x-python",
         "name": "python",
         "nbconvert_exporter": "python",
         "pygments_lexer": "ipython3",
         "version": "3.11.4"
      },
      "vscode": {
         "interpreter": {
            "hash": "916dbcbb3f70747c44a77c7bcd40155683ae19c65e1c03b4aa3499c5328201f1"
         }
      }
   },
   "nbformat": 4,
   "nbformat_minor": 5
}
