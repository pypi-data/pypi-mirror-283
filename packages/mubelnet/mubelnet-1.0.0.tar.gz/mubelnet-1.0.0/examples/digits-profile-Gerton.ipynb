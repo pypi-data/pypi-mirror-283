{
   "cells": [
      {
         "cell_type": "code",
         "execution_count": 1,
         "id": "1c8623ce",
         "metadata": {},
         "outputs": [
            {
               "name": "stderr",
               "output_type": "stream",
               "text": [
                  "2023-09-29 09:19:47.150714: W tensorflow/compiler/tf2tensorrt/utils/py_utils.cc:38] TF-TRT Warning: Could not find TensorRT\n"
               ]
            }
         ],
         "source": [
            "from functools import partial\n",
            "\n",
            "from matplotlib import pyplot as plt\n",
            "import numpy as np\n",
            "from sklearn import datasets\n",
            "from sklearn.model_selection import train_test_split\n",
            "\n",
            "# Run the following before any XLA modules such as JAX:\n",
            "import chex\n",
            "\n",
            "chex.set_n_cpu_devices(2)\n",
            "\n",
            "import sys\n",
            "sys.path.append(\"../src\")\n",
            "\n",
            "# Import the remaining JAX related \n",
            "from gabenet.mcmc import sample_markov_chain\n",
            "from gabenet.nets import MultinomialDirichletBelieve\n",
            "\n",
            "import haiku as hk\n",
            "import jax"
         ]
      },
      {
         "attachments": {},
         "cell_type": "markdown",
         "id": "0234db6d",
         "metadata": {},
         "source": [
            "To illustrate how to use the multinomial-Dirichlet believe network, we will train the\n",
            "model on the UCI ML datasets, containing handwritten digits.\n",
            "\n",
            "The dataset can directly be loaded from scikit-learn. As preprocessing step, we reshape the\n",
            "digits from a 8x8 square matrix to a flat array of size 64."
         ]
      },
      {
         "cell_type": "code",
         "execution_count": 2,
         "id": "b51a7b7b",
         "metadata": {},
         "outputs": [],
         "source": [
            "digits = datasets.load_digits()\n",
            "n_samples = len(digits.images)\n",
            "X = digits.images.reshape((n_samples, -1))\n",
            "X_train, X_test = train_test_split(X, test_size=0.2, random_state=0)"
         ]
      },
      {
         "cell_type": "code",
         "execution_count": 6,
         "id": "5ab28182",
         "metadata": {},
         "outputs": [
            {
               "name": "stderr",
               "output_type": "stream",
               "text": [
                  "No GPU/TPU found, falling back to CPU. (Set TF_CPP_MIN_LOG_LEVEL=0 and rerun for more info.)\n"
               ]
            }
         ],
         "source": [
            "# Pseudo-random number generator sequence.\n",
            "key_seq = hk.PRNGSequence(42)\n",
            "\n",
            "m_samples, n_features = X_train.shape\n",
            "\n",
            "@hk.transform_with_state\n",
            "def kernel(X=X_train):\n",
            "    \"\"\"Advance the Markov chain by one step.\"\"\"\n",
            "    n_hidden_units = (2, 10)\n",
            "    model = MultinomialDirichletBelieve(n_hidden_units, n_features)\n",
            "    # Do one Gibbs sampling step.\n",
            "    model(X)"
         ]
      },
      {
         "cell_type": "code",
         "execution_count": 7,
         "id": "c9480ae4",
         "metadata": {},
         "outputs": [
            {
               "name": "stderr",
               "output_type": "stream",
               "text": [
                  "WARNING:root:Number of trials is fixed at n_trials = [1437. 1438. 1439. ... 2871. 2872. 2873.]\n",
                  "/home/hylke/workspace/gabenet/examples/../src/gabenet/random.py:326: UserWarning: Explicitly requested dtype float64 requested in zeros_like is not available, and will be truncated to dtype float32. To enable more dtypes, set the jax_enable_x64 configuration option or the JAX_ENABLE_X64 shell environment variable. See https://github.com/google/jax#current-gotchas for more.\n",
                  "  x_jk = jnp.zeros_like(b.transpose(), dtype=x.dtype)\n",
                  "/home/hylke/workspace/gabenet/examples/../src/gabenet/random.py:350: UserWarning: Explicitly requested dtype float64 requested in zeros is not available, and will be truncated to dtype float32. To enable more dtypes, set the jax_enable_x64 configuration option or the JAX_ENABLE_X64 shell environment variable. See https://github.com/google/jax#current-gotchas for more.\n",
                  "  x_pad = jnp.zeros((n_pad, x.shape[1]), x.dtype)\n"
               ]
            }
         ],
         "source": [
            "params, state = kernel.init(next(key_seq))"
         ]
      },
      {
         "cell_type": "code",
         "execution_count": 10,
         "id": "b37bea01",
         "metadata": {},
         "outputs": [
            {
               "data": {
                  "text/plain": [
                     "{'multinomial_dirichlet_believe/~/cap_layer': {'c': (),\n",
                     "  'm_k': (2,),\n",
                     "  'r': (2,),\n",
                     "  'theta': (1437, 2)},\n",
                     " 'multinomial_dirichlet_believe/~/dirichlet_layer': {'c': (),\n",
                     "  'copy[theta(t+1)]': (1437, 2),\n",
                     "  'm': (1437, 10),\n",
                     "  'phi': (2, 10),\n",
                     "  'theta': (1437, 10)},\n",
                     " 'multinomial_dirichlet_believe/~/multinomial_layer': {'copy[theta(1)]': (1437,\n",
                     "   10),\n",
                     "  'phi': (10, 64)}}"
                  ]
               },
               "execution_count": 10,
               "metadata": {},
               "output_type": "execute_result"
            }
         ],
         "source": [
            "import jax.numpy as jnp\n",
            "from jax.tree_util import tree_map\n",
            "\n",
            "tree_map(jnp.shape, state)"
         ]
      },
      {
         "cell_type": "code",
         "execution_count": 11,
         "id": "ae10784c",
         "metadata": {},
         "outputs": [
            {
               "name": "stderr",
               "output_type": "stream",
               "text": [
                  "/home/hylke/workspace/gabenet/examples/../src/gabenet/random.py:326: UserWarning: Explicitly requested dtype float64 requested in zeros_like is not available, and will be truncated to dtype float32. To enable more dtypes, set the jax_enable_x64 configuration option or the JAX_ENABLE_X64 shell environment variable. See https://github.com/google/jax#current-gotchas for more.\n",
                  "  x_jk = jnp.zeros_like(b.transpose(), dtype=x.dtype)\n",
                  "/home/hylke/workspace/gabenet/examples/../src/gabenet/random.py:350: UserWarning: Explicitly requested dtype float64 requested in zeros is not available, and will be truncated to dtype float32. To enable more dtypes, set the jax_enable_x64 configuration option or the JAX_ENABLE_X64 shell environment variable. See https://github.com/google/jax#current-gotchas for more.\n",
                  "  x_pad = jnp.zeros((n_pad, x.shape[1]), x.dtype)\n"
               ]
            }
         ],
         "source": [
            "apply_fn = jax.jit(kernel.apply)\n",
            "_, state = apply_fn(params, state, next(key_seq))\n",
            "# Warm up the JIT.\n",
            "_ = state['multinomial_dirichlet_believe/~/multinomial_layer']['phi'].block_until_ready()"
         ]
      },
      {
         "cell_type": "code",
         "execution_count": 12,
         "id": "af55a0d2",
         "metadata": {},
         "outputs": [],
         "source": [
            "_, state = apply_fn(params, state, next(key_seq))\n",
            "_ = state['multinomial_dirichlet_believe/~/multinomial_layer']['phi'].block_until_ready()"
         ]
      },
      {
         "cell_type": "markdown",
         "id": "2ffd3c2f",
         "metadata": {},
         "source": [
            "# To enter cluster and start container:\n",
            "```bash\n",
            "ssh tunnel+nibbler\n",
            "cdl && cd jobs/digits\n",
            "srun --cpus-per-task=8 --mem=16gb --nodes=1 --qos=interactive --time=03:00:00 --partition=gpu_a40 --gpus-per-node=4 --pty bash -i\n",
            "\n",
            "OUTPUT_DIR=/groups/umcg-lifelines/tmp02/projects/ov21_0208/jobs/job-output/digits\n",
            "INPUT_DIR=/groups/umcg-lifelines/tmp02/projects/ov21_0208/jobs/job-input/digits\n",
            "GPU_IMAGE=/groups/umcg-lifelines/tmp02/projects/ov21_0208/jobs/apptainer/cuda_12_9815359f_20230922.sif\n",
            "apptainer run --nv --bind \"/local/${SLURM_JOB_ID}\":\"/local/${SLURM_JOB_ID}\" --env ARTEFACT_DIR=/mnt/output/ --bind ${INPUT_DIR}:/job/ --bind \"${OUTPUT_DIR}:/mnt/output/\" ${GPU_IMAGE}\n",
            "```"
         ]
      },
      {
         "cell_type": "code",
         "execution_count": 16,
         "id": "f18731c6",
         "metadata": {},
         "outputs": [
            {
               "name": "stderr",
               "output_type": "stream",
               "text": [
                  "WARNING:root:Number of trials is fixed at n_trials = [1437. 1438. 1439. ... 2871. 2872. 2873.]\n"
               ]
            }
         ],
         "source": [
            "n_chains = jax.device_count()\n",
            "\n",
            "params, states = sample_markov_chain(\n",
            "    next(key_seq), \n",
            "    kernel=kernel, \n",
            "    n_samples=50, \n",
            "    n_burnin_steps=100, \n",
            "    n_chains=n_chains,\n",
            ")\n",
            "\n",
            "_ = states['multinomial_dirichlet_believe/~/multinomial_layer']['phi'].block_until_ready()"
         ]
      },
      {
         "attachments": {},
         "cell_type": "markdown",
         "id": "cc6c1598",
         "metadata": {},
         "source": [
            "After training the model, we can inspect what the model has learned. Note that, instead of a single point estimate of the parameters, we've obtained a distribution. To visualise the parameters, we take for simplicity the median. Let's take a look at $\\bm{\\Phi}^{(1)}$, the weights of the first layer."
         ]
      },
      {
         "cell_type": "code",
         "execution_count": 5,
         "id": "dad098e5",
         "metadata": {},
         "outputs": [
            {
               "data": {
                  "text/plain": [
                     "<Figure size 640x480 with 0 Axes>"
                  ]
               },
               "metadata": {},
               "output_type": "display_data"
            },
            {
               "data": {
                  "image/png": "[encoded data removed]",
                  "text/plain": [
                     "<Figure size 1250x600 with 10 Axes>"
                  ]
               },
               "metadata": {},
               "output_type": "display_data"
            },
            {
               "data": {
                  "text/plain": [
                     "<Figure size 640x480 with 0 Axes>"
                  ]
               },
               "metadata": {},
               "output_type": "display_data"
            },
            {
               "data": {
                  "image/png": "[encoded data removed]",
                  "text/plain": [
                     "<Figure size 1250x600 with 10 Axes>"
                  ]
               },
               "metadata": {},
               "output_type": "display_data"
            }
         ],
         "source": [
            "# Aggregate posterior samples to visualise.\n",
            "phi_1st_layer = np.median(states['multinomial_dirichlet_believe/~/multinomial_layer']['phi'], axis=[1])\n",
            "\n",
            "for i in range(n_chains):  # For each Markov chain.\n",
            "    plt.figure()\n",
            "    _, axes = plt.subplots(nrows=2, ncols=5, figsize=(12.5, 6))\n",
            "    plt.suptitle(f'Chain {i+1}')\n",
            "    # Plot the weights of all 10 hidden states.\n",
            "    for ax, phi in zip(axes.flatten(), phi_1st_layer[i]):\n",
            "        ax.set_axis_off()\n",
            "        image = phi.reshape(8, 8)\n",
            "        ax.imshow(image, cmap=plt.cm.gray_r, interpolation=\"nearest\")"
         ]
      }
   ],
   "metadata": {
      "kernelspec": {
         "display_name": "Python 3 (ipykernel)",
         "language": "python",
         "name": "python3"
      },
      "language_info": {
         "codemirror_mode": {
            "name": "ipython",
            "version": 3
         },
         "file_extension": ".py",
         "mimetype": "text/x-python",
         "name": "python",
         "nbconvert_exporter": "python",
         "pygments_lexer": "ipython3",
         "version": "3.11.4"
      },
      "vscode": {
         "interpreter": {
            "hash": "916dbcbb3f70747c44a77c7bcd40155683ae19c65e1c03b4aa3499c5328201f1"
         }
      }
   },
   "nbformat": 4,
   "nbformat_minor": 5
}
