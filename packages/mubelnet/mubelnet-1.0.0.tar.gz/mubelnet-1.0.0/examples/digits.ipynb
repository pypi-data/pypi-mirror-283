{
   "cells": [
      {
         "cell_type": "code",
         "execution_count": 1,
         "id": "1c8623ce",
         "metadata": {},
         "outputs": [
            {
               "name": "stderr",
               "output_type": "stream",
               "text": [
                  "2024-03-26 11:53:46.795968: E external/local_xla/xla/stream_executor/cuda/cuda_dnn.cc:9261] Unable to register cuDNN factory: Attempting to register factory for plugin cuDNN when one has already been registered\n",
                  "2024-03-26 11:53:46.795998: E external/local_xla/xla/stream_executor/cuda/cuda_fft.cc:607] Unable to register cuFFT factory: Attempting to register factory for plugin cuFFT when one has already been registered\n",
                  "2024-03-26 11:53:46.797030: E external/local_xla/xla/stream_executor/cuda/cuda_blas.cc:1515] Unable to register cuBLAS factory: Attempting to register factory for plugin cuBLAS when one has already been registered\n",
                  "2024-03-26 11:53:48.926227: W tensorflow/compiler/tf2tensorrt/utils/py_utils.cc:38] TF-TRT Warning: Could not find TensorRT\n"
               ]
            }
         ],
         "source": [
            "from matplotlib import pyplot as plt\n",
            "import numpy as np\n",
            "from sklearn import datasets\n",
            "\n",
            "# Run the following before any XLA modules such as JAX:\n",
            "import chex\n",
            "\n",
            "chex.set_n_cpu_devices(2)\n",
            "\n",
            "# Import the remaining JAX related\n",
            "from mubelnet.mcmc import sample_markov_chain\n",
            "from mubelnet.nets import MultinomialBelief\n",
            "\n",
            "import haiku as hk\n",
            "import jax"
         ]
      },
      {
         "attachments": {},
         "cell_type": "markdown",
         "id": "0234db6d",
         "metadata": {},
         "source": [
            "To illustrate how to use the multinomial belief network, we will train the\n",
            "model on the UCI ML datasets, containing handwritten digits.\n",
            "\n",
            "The dataset can directly be loaded from scikit-learn. As preprocessing step, we reshape the\n",
            "digits from a 8x8 square matrix to a flat array of size 64."
         ]
      },
      {
         "cell_type": "code",
         "execution_count": 2,
         "id": "b51a7b7b",
         "metadata": {},
         "outputs": [],
         "source": [
            "digits = datasets.load_digits()\n",
            "n_samples = len(digits.images)\n",
            "X_train = digits.images.reshape((n_samples, -1))"
         ]
      },
      {
         "cell_type": "markdown",
         "id": "d166344f",
         "metadata": {},
         "source": [
            "This is what a typical image looks like:"
         ]
      },
      {
         "cell_type": "code",
         "execution_count": 3,
         "id": "2c2d3902",
         "metadata": {},
         "outputs": [
            {
               "data": {
                  "image/png": "[encoded data removed]",
                  "text/plain": [
                     "<Figure size 640x480 with 1 Axes>"
                  ]
               },
               "metadata": {},
               "output_type": "display_data"
            }
         ],
         "source": [
            "plt.imshow(X_train[0].reshape(8, 8), cmap=plt.cm.gray_r, interpolation=\"nearest\")\n",
            "plt.gca().set_axis_off()"
         ]
      },
      {
         "attachments": {},
         "cell_type": "markdown",
         "id": "b2a8f4f6",
         "metadata": {},
         "source": [
            "Next, we define the model. We use a simple decoder network with two hidden layers. In\n",
            "total, the size of the network: 2 x 10 x 64.\n",
            "\n",
            "```\n",
            "hidden_units = (2, 10)\n",
            "model = MultinomialBelief(hidden_units, n_features)\n",
            "```\n",
            "\n",
            "This function has to be defined in a [haiku](https://github.com/deepmind/dm-haiku) context to transform the network in a pure state for JAX.\n",
            "\n",
            "Since the network is a Bayesian model, we don't train the model by\n",
            "minimising a loss. Rather, we infer the distribution $p(\\boldsymbol{\\theta}|\\boldsymbol{X}_{\\mathrm{train}})$ of the model's parameters $\\boldsymbol{\\theta}$ given the training data $\\boldsymbol{X}_{\\mathrm{train}}$ that we observe. This probability distribution is called the [posterior](https://en.wikipedia.org/wiki/Posterior_probability).\n",
            "\n",
            "Unfortunately, we don't know what this distribution is. However, we do know a way how to sample it: using Markov chain Monte Carlo (MCMC). This simulation method samples the distributions by taking small steps that depend on its previous state. In theory, when we have take enough steps, the state converges to the true (posterior) distribution.\n",
            "\n",
            "To take one step, you simply call your model using\n",
            "the training data:\n",
            "\n",
            "```python\n",
            "model(X_train)\n",
            "```\n",
            "\n",
            "This function call does one Gibbs sampling step, which updates all the parameters one-by-one. The initialisation of the chain  (which are initialised with ancesetral samples) is automatically taken care for you.\n",
            "\n",
            "Now, lets put all elements together."
         ]
      },
      {
         "cell_type": "code",
         "execution_count": 4,
         "id": "5ab28182",
         "metadata": {},
         "outputs": [],
         "source": [
            "# Pseudo-random number generator sequence.\n",
            "key_seq = hk.PRNGSequence(42)\n",
            "\n",
            "m_samples, n_features = X_train.shape\n",
            "\n",
            "@hk.transform_with_state\n",
            "def kernel():\n",
            "    \"\"\"Advance the Markov chain by one step.\"\"\"\n",
            "    hidden_units = (2, 10)\n",
            "    model = MultinomialBelief(hidden_units, n_features)\n",
            "    model(X_train)  # Do one Gibbs step."
         ]
      },
      {
         "attachments": {},
         "cell_type": "markdown",
         "id": "0d4cbcc7",
         "metadata": {},
         "source": [
            "Here, we defined a function that proposes a new state based on its current configuration. This is called a _kernel_. The `hk.transform_with_state` decorator uses haiku to purify the function into something that is stateless."
         ]
      },
      {
         "attachments": {},
         "cell_type": "markdown",
         "id": "56d21ade",
         "metadata": {},
         "source": [
            "Finally, we draw samples from the Markov chain. We first take 100 burn-in steps, in the\n",
            "hope that the chain converges to the true distribution. After throwing away these first 100 samples, we collect a new set\n",
            "of 50 samples (25 in each chain) to estimate the posterior distribution.\n",
            "\n",
            "Note that `sample_markov_chain` (below) automatically takes care of distributing your\n",
            "computation across multiple devices. For simplicity, we assume you are running on a CPU and split the CPU up in two virtual devices. (See above, at the import section, where we've used\n",
            "`chex` set the number of devices to 2.)\n",
            "\n",
            "The following cell, that collects statistics from the Markov chain takes, about `10 minutes` to run on a CPU."
         ]
      },
      {
         "cell_type": "code",
         "execution_count": 5,
         "id": "f18731c6",
         "metadata": {},
         "outputs": [
            {
               "name": "stderr",
               "output_type": "stream",
               "text": [
                  "WARNING:root:Number of trials is fixed at n_trials = [1797. 1798. 1799. ... 3591. 3592. 3593.]\n",
                  "/home/hylke/.local/lib/python3.11/site-packages/mubelnet/random.py:326: UserWarning: Explicitly requested dtype float64 requested in zeros_like is not available, and will be truncated to dtype float32. To enable more dtypes, set the jax_enable_x64 configuration option or the JAX_ENABLE_X64 shell environment variable. See https://github.com/google/jax#current-gotchas for more.\n",
                  "  x_jk = jnp.zeros_like(b.transpose(), dtype=x.dtype)\n",
                  "/home/hylke/.local/lib/python3.11/site-packages/mubelnet/random.py:344: UserWarning: Explicitly requested dtype float64 requested in zeros is not available, and will be truncated to dtype float32. To enable more dtypes, set the jax_enable_x64 configuration option or the JAX_ENABLE_X64 shell environment variable. See https://github.com/google/jax#current-gotchas for more.\n",
                  "  x_pad = jnp.zeros((n_pad, x.shape[1]), x.dtype)\n",
                  "/home/hylke/.local/lib/python3.11/site-packages/mubelnet/random.py:326: UserWarning: Explicitly requested dtype float64 requested in zeros_like is not available, and will be truncated to dtype float32. To enable more dtypes, set the jax_enable_x64 configuration option or the JAX_ENABLE_X64 shell environment variable. See https://github.com/google/jax#current-gotchas for more.\n",
                  "  x_jk = jnp.zeros_like(b.transpose(), dtype=x.dtype)\n",
                  "/home/hylke/.local/lib/python3.11/site-packages/mubelnet/random.py:344: UserWarning: Explicitly requested dtype float64 requested in zeros is not available, and will be truncated to dtype float32. To enable more dtypes, set the jax_enable_x64 configuration option or the JAX_ENABLE_X64 shell environment variable. See https://github.com/google/jax#current-gotchas for more.\n",
                  "  x_pad = jnp.zeros((n_pad, x.shape[1]), x.dtype)\n"
               ]
            }
         ],
         "source": [
            "n_chains = jax.device_count()\n",
            "\n",
            "params, trace = sample_markov_chain(\n",
            "    next(key_seq),\n",
            "    kernel=kernel,\n",
            "    n_samples=50,\n",
            "    n_burnin_steps=100,\n",
            "    n_chains=n_chains,\n",
            ")\n",
            "\n",
            "_ = trace['multinomial_belief/~/multinomial_layer']['phi'].block_until_ready()"
         ]
      },
      {
         "attachments": {},
         "cell_type": "markdown",
         "id": "cc6c1598",
         "metadata": {},
         "source": [
            "After training the model, we can inspect what the model has learned. Note that, instead of a single point estimate of the parameters, we've obtained a distribution. To visualise the parameters, we take for simplicity the median. Let's take a look at $\\bm{\\Phi}^{(1)}$, the weights of the first layer."
         ]
      },
      {
         "cell_type": "code",
         "execution_count": 6,
         "id": "dad098e5",
         "metadata": {},
         "outputs": [
            {
               "data": {
                  "text/plain": [
                     "<Figure size 640x480 with 0 Axes>"
                  ]
               },
               "metadata": {},
               "output_type": "display_data"
            },
            {
               "data": {
                  "image/png": "[encoded data removed]",
                  "text/plain": [
                     "<Figure size 1250x600 with 10 Axes>"
                  ]
               },
               "metadata": {},
               "output_type": "display_data"
            },
            {
               "data": {
                  "text/plain": [
                     "<Figure size 640x480 with 0 Axes>"
                  ]
               },
               "metadata": {},
               "output_type": "display_data"
            },
            {
               "data": {
                  "image/png": "[encoded data removed]",
                  "text/plain": [
                     "<Figure size 1250x600 with 10 Axes>"
                  ]
               },
               "metadata": {},
               "output_type": "display_data"
            }
         ],
         "source": [
            "# Aggregate posterior samples to visualise.\n",
            "phi_1st_layer = np.mean(trace['multinomial_belief/~/multinomial_layer']['phi'], axis=[1])\n",
            "\n",
            "for i in range(n_chains):  # For each Markov chain.\n",
            "    plt.figure()\n",
            "    _, axes = plt.subplots(nrows=2, ncols=5, figsize=(12.5, 6))\n",
            "    plt.suptitle(f'Chain {i+1}')\n",
            "    # Plot the weights of all 10 hidden states.\n",
            "    for ax, phi in zip(axes.flatten(), phi_1st_layer[i]):\n",
            "        ax.set_axis_off()\n",
            "        image = phi.reshape(8, 8)\n",
            "        ax.imshow(image, cmap=plt.cm.gray_r, interpolation=\"nearest\")"
         ]
      }
   ],
   "metadata": {
      "kernelspec": {
         "display_name": "Python 3 (ipykernel)",
         "language": "python",
         "name": "python3"
      },
      "language_info": {
         "codemirror_mode": {
            "name": "ipython",
            "version": 3
         },
         "file_extension": ".py",
         "mimetype": "text/x-python",
         "name": "python",
         "nbconvert_exporter": "python",
         "pygments_lexer": "ipython3",
         "version": "3.11.6"
      },
      "vscode": {
         "interpreter": {
            "hash": "916dbcbb3f70747c44a77c7bcd40155683ae19c65e1c03b4aa3499c5328201f1"
         }
      }
   },
   "nbformat": 4,
   "nbformat_minor": 5
}
