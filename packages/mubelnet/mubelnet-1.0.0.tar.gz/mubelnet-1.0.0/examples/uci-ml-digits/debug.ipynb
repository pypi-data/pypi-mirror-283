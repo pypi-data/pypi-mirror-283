{
 "cells": [
  {
   "cell_type": "code",
   "execution_count": 1,
   "metadata": {},
   "outputs": [
    {
     "name": "stderr",
     "output_type": "stream",
     "text": [
      "2023-10-04 13:39:56.792143: W tensorflow/compiler/tf2tensorrt/utils/py_utils.cc:38] TF-TRT Warning: Could not find TensorRT\n"
     ]
    }
   ],
   "source": [
    "import os\n",
    "from pathlib import Path\n",
    "import pickle\n",
    "from typing import Literal, NamedTuple\n",
    "\n",
    "import chex\n",
    "chex.set_n_cpu_devices(6)\n",
    "os.environ['ARTEFACT_DIR'] = '/tmp/digits'\n",
    "\n",
    "import jax\n",
    "import haiku as hk\n",
    "\n",
    "import sys\n",
    "sys.path.append('../../src')\n",
    "\n",
    "from gabenet.nets import MultinomialDirichletBelieve, PoissonGammaBelieve\n",
    "from gabenet.random import PRNGSequence\n",
    "from gabenet.utils import perplexity, get_hidden_unit_sizes\n",
    "from gabenet._surgery import (\n",
    "    copy_to_larger_net,\n",
    "    prune_network,\n",
    "    determine_number_to_prune,\n",
    ")\n",
    "import haiku as hk\n",
    "import jax\n",
    "from jax import config\n",
    "config.update(\"jax_debug_nans\", True)\n",
    "from jax import random\n",
    "from jax.tree_util import tree_map\n",
    "import jax.numpy as jnp\n",
    "from jaxtyping import PRNGKeyArray\n",
    "\n",
    "from dataset import load_digits\n",
    "\n",
    "\n",
    "_ARTEFACT_DIR = Path('/tmp/digits')\n",
    "_ARTEFACT_DIR.mkdir(parents=True, exist_ok=True)\n",
    "\n",
    "\n",
    "class TrainState(NamedTuple):\n",
    "    params: hk.Params\n",
    "    state: hk.State\n",
    "    key: jax.Array  # type: ignore\n",
    "    step: int\n",
    "    model_name: Literal[\"multinomial_dirichlet_believe\", \"poisson_gamma_believe\"]\n",
    "    hidden_layer_sizes: tuple[int]\n",
    "\n",
    "\n",
    "def infer_last_checkpoint_number(checkpoint_dir: Path) -> int:\n",
    "    \"\"\"Look in checkpoint_dir and find largest checkpoint number.\"\"\"\n",
    "    # List all pickle files, sort by number and load last one.\n",
    "    files = sorted(checkpoint_dir.glob(\"checkpoint_*.pkl\"))\n",
    "    if len(files) == 0:\n",
    "        return -1\n",
    "    return int(files[-1].stem.split(\"_\")[-1])\n",
    "\n",
    "\n",
    "\n",
    "def load_last_checkpoint(\n",
    "    model_name, hidden_layer_sizes, source_dir=_ARTEFACT_DIR\n",
    ") -> TrainState | None:\n",
    "    \"\"\"Load last state from disk.\"\"\"\n",
    "    architecture = \"-\".join(map(str, hidden_layer_sizes))\n",
    "    checkpoint_dir = source_dir / model_name / architecture / \"checkpoints\"\n",
    "    files = sorted(checkpoint_dir.glob(\"checkpoint_*.pkl\"))\n",
    "    if len(files) == 0:\n",
    "        print(\"No checkpoints found.\")\n",
    "        return None\n",
    "    with open(files[-1], \"rb\") as fi:\n",
    "        state = pickle.load(fi)\n",
    "    i_checkpoint = int(files[-1].stem.split(\"_\")[-1])\n",
    "    print(f\"Loaded checkpoint i={i_checkpoint}.\")\n",
    "    return state\n"
   ]
  },
  {
   "cell_type": "code",
   "execution_count": 2,
   "metadata": {},
   "outputs": [],
   "source": [
    "# Model hyperparameters.\n",
    "MODEL: Literal[\n",
    "    \"multinomial_dirichlet_believe\", \"poisson_gamma_believe\"\n",
    "] = \"multinomial_dirichlet_believe\"\n",
    "n_topics = 50\n",
    "HIDDEN_LAYER_SIZES = (n_topics,)\n",
    "GAMMA_0 = 1.0\n",
    "ETA = 0.05\n",
    "_bottom_layer_name = (\n",
    "    f\"{MODEL}/~/multinomial_layer\"\n",
    "    if MODEL == \"multinomial_dirichlet_believe\"\n",
    "    else f\"{MODEL}/~/poisson_layer\"\n",
    ")"
   ]
  },
  {
   "cell_type": "code",
   "execution_count": 3,
   "metadata": {},
   "outputs": [
    {
     "name": "stderr",
     "output_type": "stream",
     "text": [
      "No GPU/TPU found, falling back to CPU. (Set TF_CPP_MIN_LOG_LEVEL=0 and rerun for more info.)\n"
     ]
    }
   ],
   "source": [
    "X_train, X_test = load_digits()\n",
    "n_features = X_train.shape[1]\n",
    "\n",
    "@hk.transform_with_state\n",
    "def kernel(n_hidden_units, X=X_train):\n",
    "    \"\"\"Advance the Markov chain by one step.\"\"\"\n",
    "    if MODEL == \"multinomial_dirichlet_believe\":\n",
    "        model = MultinomialDirichletBelieve(\n",
    "            n_hidden_units,\n",
    "            n_features,\n",
    "            gamma_0=GAMMA_0,\n",
    "            eta=ETA,\n",
    "        )\n",
    "    else:\n",
    "        model = PoissonGammaBelieve(\n",
    "            n_hidden_units, n_features, gamma_0=GAMMA_0, eta=ETA\n",
    "        )\n",
    "    # Do one Gibbs sampling step.\n",
    "    model(X)\n"
   ]
  },
  {
   "cell_type": "code",
   "execution_count": 5,
   "metadata": {},
   "outputs": [
    {
     "name": "stdout",
     "output_type": "stream",
     "text": [
      "Loaded checkpoint i=7.\n"
     ]
    }
   ],
   "source": [
    "train_state = load_last_checkpoint(MODEL, HIDDEN_LAYER_SIZES, _ARTEFACT_DIR)\n",
    "n_chains = jax.device_count()\n",
    "key_seq = hk.PRNGSequence(train_state.key)"
   ]
  },
  {
   "cell_type": "code",
   "execution_count": 6,
   "metadata": {},
   "outputs": [],
   "source": [
    "from functools import partial\n",
    "\n",
    "kernel_fn = partial(kernel.apply, n_hidden_units=HIDDEN_LAYER_SIZES)\n",
    "# kernel_fn = jax.pmap(kernel_fn, in_axes=(None, 0, 0))\n",
    "\n",
    "\n",
    "def at_i(i, state):\n",
    "    return tree_map(lambda x: x[i], state)"
   ]
  },
  {
   "cell_type": "code",
   "execution_count": 7,
   "metadata": {},
   "outputs": [
    {
     "data": {
      "text/plain": [
       "{'multinomial_dirichlet_believe/~/cap_layer': {'c': False,\n",
       "  'm_k': False,\n",
       "  'r': False,\n",
       "  'theta': False},\n",
       " 'multinomial_dirichlet_believe/~/multinomial_layer': {'copy[theta(1)]': False,\n",
       "  'phi': False}}"
      ]
     },
     "execution_count": 7,
     "metadata": {},
     "output_type": "execute_result"
    }
   ],
   "source": [
    "import numpy as np\n",
    "tree_map(lambda x: np.any(np.isnan(x)), train_state.state)"
   ]
  },
  {
   "cell_type": "code",
   "execution_count": 18,
   "metadata": {},
   "outputs": [
    {
     "data": {
      "text/plain": [
       "Array(4.4796104, dtype=float32)"
      ]
     },
     "execution_count": 18,
     "metadata": {},
     "output_type": "execute_result"
    }
   ],
   "source": [
    "state_3 = at_i(3, train_state.state)\n",
    "state_3['multinomial_dirichlet_believe/~/cap_layer']['c'].max()"
   ]
  },
  {
   "cell_type": "code",
   "execution_count": 8,
   "metadata": {},
   "outputs": [
    {
     "data": {
      "text/plain": [
       "Array([     0,   1091,      0,      0,      0,      0,     56,      0,\n",
       "            0,      0,      0,      0,      0,      0,   1185, 107987,\n",
       "            0,      0,      1, 120304,      0,      0,  31981,      0,\n",
       "            0,      0,      0,  12145,      0,   6561,      0,      0,\n",
       "            0,      0,      0,      0,      0,      0,      0,      0,\n",
       "            0,      0,      0,      0,      0,      0,      0,      0,\n",
       "            0,      0], dtype=int32)"
      ]
     },
     "execution_count": 8,
     "metadata": {},
     "output_type": "execute_result"
    }
   ],
   "source": [
    "state_3['multinomial_dirichlet_believe/~/cap_layer']['m_k']"
   ]
  },
  {
   "cell_type": "code",
   "execution_count": 19,
   "metadata": {},
   "outputs": [],
   "source": [
    "_, result_state = kernel_fn(train_state.params, state_3, next(key_seq))\n",
    "_ = result_state['multinomial_dirichlet_believe/~/cap_layer']['r'].block_until_ready()\n",
    "# for i in range(n_chains):\n",
    "#     print(f'chain {i}')\n",
    "#     state_i = at_i(i, train_state.state)\n",
    "#     _, state = kernel_fn(train_state.params, state_i, next(key_seq))\n",
    "#     _ = state['multinomial_dirichlet_believe/~/cap_layer']['r'].block_until_ready()"
   ]
  },
  {
   "cell_type": "code",
   "execution_count": 20,
   "metadata": {},
   "outputs": [
    {
     "data": {
      "text/plain": [
       "{'multinomial_dirichlet_believe/~/cap_layer': {'c': False,\n",
       "  'm_k': False,\n",
       "  'r': False,\n",
       "  'theta': False},\n",
       " 'multinomial_dirichlet_believe/~/multinomial_layer': {'copy[theta(1)]': False,\n",
       "  'phi': False}}"
      ]
     },
     "execution_count": 20,
     "metadata": {},
     "output_type": "execute_result"
    },
    {
     "ename": "",
     "evalue": "",
     "output_type": "error",
     "traceback": [
      "\u001b[1;31mThe Kernel crashed while executing code in the the current cell or a previous cell. Please review the code in the cell(s) to identify a possible cause of the failure. Click <a href='https://aka.ms/vscodeJupyterKernelCrash'>here</a> for more info. View Jupyter <a href='command:jupyter.viewOutput'>log</a> for further details."
     ]
    }
   ],
   "source": [
    "tree_map(lambda x: np.any(np.isnan(x)), result_state)"
   ]
  },
  {
   "cell_type": "code",
   "execution_count": 1,
   "metadata": {},
   "outputs": [
    {
     "ename": "NameError",
     "evalue": "name 'train_state' is not defined",
     "output_type": "error",
     "traceback": [
      "\u001b[0;31m---------------------------------------------------------------------------\u001b[0m",
      "\u001b[0;31mNameError\u001b[0m                                 Traceback (most recent call last)",
      "\u001b[1;32m/home/hylke/workspace/gabenet/examples/uci-ml-digits/debug.ipynb Cell 8\u001b[0m line \u001b[0;36m1\n\u001b[0;32m----> <a href='vscode-notebook-cell:/home/hylke/workspace/gabenet/examples/uci-ml-digits/debug.ipynb#X11sZmlsZQ%3D%3D?line=0'>1</a>\u001b[0m train_state\u001b[39m.\u001b[39mstate[\u001b[39m'\u001b[39m\u001b[39mmultinomial_dirichlet_believe/~/cap_layer\u001b[39m\u001b[39m'\u001b[39m]\n",
      "\u001b[0;31mNameError\u001b[0m: name 'train_state' is not defined"
     ]
    }
   ],
   "source": [
    "kmap = jax.pmap(kernel_fn, in_axes=(None, 0, 0))\n",
    "keys = random.split(next(key_seq), n_chains)\n",
    "_, state = kmap(train_state.params, train_state.state, keys)"
   ]
  },
  {
   "cell_type": "code",
   "execution_count": 6,
   "metadata": {},
   "outputs": [
    {
     "ename": "TypeError",
     "evalue": "tuple indices must be integers or slices, not str",
     "output_type": "error",
     "traceback": [
      "\u001b[0;31m---------------------------------------------------------------------------\u001b[0m",
      "\u001b[0;31mTypeError\u001b[0m                                 Traceback (most recent call last)",
      "\u001b[1;32m/home/hylke/workspace/gabenet/examples/uci-ml-digits/debug.ipynb Cell 5\u001b[0m line \u001b[0;36m1\n\u001b[0;32m----> <a href='vscode-notebook-cell:/home/hylke/workspace/gabenet/examples/uci-ml-digits/debug.ipynb#X10sZmlsZQ%3D%3D?line=0'>1</a>\u001b[0m train_state[\u001b[39m'\u001b[39;49m\u001b[39mmultinomial_dirichlet_believe/~/cap_layer\u001b[39;49m\u001b[39m'\u001b[39;49m]\n",
      "\u001b[0;31mTypeError\u001b[0m: tuple indices must be integers or slices, not str"
     ]
    }
   ],
   "source": [
    "train_state"
   ]
  }
 ],
 "metadata": {
  "kernelspec": {
   "display_name": "Python 3",
   "language": "python",
   "name": "python3"
  },
  "language_info": {
   "codemirror_mode": {
    "name": "ipython",
    "version": 3
   },
   "file_extension": ".py",
   "mimetype": "text/x-python",
   "name": "python",
   "nbconvert_exporter": "python",
   "pygments_lexer": "ipython3",
   "version": "3.11.4"
  },
  "orig_nbformat": 4
 },
 "nbformat": 4,
 "nbformat_minor": 2
}
