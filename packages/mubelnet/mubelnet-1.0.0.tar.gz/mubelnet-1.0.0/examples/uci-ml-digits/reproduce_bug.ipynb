{
 "cells": [
  {
   "cell_type": "code",
   "execution_count": 57,
   "metadata": {},
   "outputs": [],
   "source": [
    "from jax._src.random import *\n",
    "from jax._src.random import _check_shape, _softmax, _check_prng_key\n",
    "\n",
    "def _dirichlet(key, alpha, shape, dtype) -> Array:\n",
    "  if not np.ndim(alpha) >= 1:\n",
    "    msg = \"dirichlet requires alpha.ndim >= 1, got alpha.ndim == {}\"\n",
    "    raise ValueError(msg.format(np.ndim(alpha)))\n",
    "\n",
    "  if shape is None:\n",
    "    shape = np.shape(alpha)[:-1]\n",
    "  else:\n",
    "    _check_shape(\"dirichlet\", shape, np.shape(alpha)[:-1])\n",
    "\n",
    "  alpha = lax.convert_element_type(alpha, dtype)\n",
    "\n",
    "  # Compute gamma in log space, otherwise small alpha can lead to poor behavior.\n",
    "  log_gamma_samples = loggamma(key, alpha, shape + np.shape(alpha)[-1:], dtype)\n",
    "  import ipdb ; ipdb.set_trace()\n",
    "  return _softmax(log_gamma_samples, -1)"
   ]
  },
  {
   "cell_type": "code",
   "execution_count": 1,
   "metadata": {},
   "outputs": [
    {
     "data": {
      "text/plain": [
       "Array(True, dtype=bool)"
      ]
     },
     "execution_count": 1,
     "metadata": {},
     "output_type": "execute_result"
    }
   ],
   "source": [
    "import jax.numpy as jnp\n",
    "from jax import random\n",
    "\n",
    "key = jnp.array([1328709358, 4232441613], dtype=jnp.uint32)\n",
    "alpha = jnp.load('/home/hylke/theta_alpha.npy')\n",
    "theta = random.dirichlet(key, alpha)\n",
    "jnp.isnan(theta).any()"
   ]
  },
  {
   "cell_type": "code",
   "execution_count": null,
   "metadata": {},
   "outputs": [],
   "source": []
  },
  {
   "cell_type": "code",
   "execution_count": 11,
   "metadata": {},
   "outputs": [
    {
     "data": {
      "text/plain": [
       "Array([2.85970038e-19, 2.29367446e-02, 1.97770518e-07, 2.78716716e-10,\n",
       "       5.38137819e-14, 4.85777460e-30, 9.07376874e-04, 0.00000000e+00,\n",
       "       2.08495621e-07, 2.23317788e-11, 1.68924967e-35, 1.20054595e-22,\n",
       "       0.00000000e+00, 1.96405199e-22, 2.19717901e-02, 5.88259621e+01,\n",
       "       6.22861317e-30, 1.97890771e-12, 1.71974698e-05, 2.90371399e+01,\n",
       "       1.61352022e-24, 3.08115816e-12, 2.96756802e+01, 1.44248478e-13,\n",
       "       5.45375791e-19, 1.47538853e-32, 6.65957023e-17, 1.72347870e+01,\n",
       "       1.49591912e-08, 1.13102004e-01, 2.67539774e-17, 6.91672404e-25,\n",
       "       3.71954193e-05, 8.12376660e-30, 6.39383836e-36, 4.70112751e-12,\n",
       "       1.10654719e-06, 6.43894728e-14, 0.00000000e+00, 1.24460723e-06,\n",
       "       1.77371698e-14, 6.23333407e-18, 3.84640350e-18, 0.00000000e+00,\n",
       "       4.66271223e-11, 3.77865319e-07, 1.92786956e-06, 2.43883571e-14,\n",
       "       6.05392606e-16, 0.00000000e+00], dtype=float32)"
      ]
     },
     "execution_count": 11,
     "metadata": {},
     "output_type": "execute_result"
    }
   ],
   "source": [
    "theta_alpha[153]"
   ]
  },
  {
   "cell_type": "code",
   "execution_count": 7,
   "metadata": {},
   "outputs": [
    {
     "name": "stdout",
     "output_type": "stream",
     "text": [
      "0.0\n"
     ]
    },
    {
     "data": {
      "text/plain": [
       "Array([-8.91214977e+18, -3.54515839e+01, -1.60128150e+07, -1.34022502e+09,\n",
       "       -1.16152892e+13, -6.70822312e+28, -7.64031494e+02,            -inf,\n",
       "       -2.79153925e+06, -1.07740518e+10, -1.70369344e+34, -1.17131913e+21,\n",
       "                  -inf, -4.48666694e+21, -1.54831905e+01,  3.95102644e+00,\n",
       "       -4.71898244e+28, -1.72155771e+12, -2.85312844e+05,  3.43723607e+00,\n",
       "       -5.21547641e+23, -4.15834563e+10,  3.52662492e+00, -3.08329447e+12,\n",
       "       -6.40748175e+16, -6.98344946e+31, -8.22427289e+15,  3.13226581e+00,\n",
       "       -1.71736640e+07, -3.31543827e+00, -1.64844034e+16, -5.02188873e+22,\n",
       "       -1.46619883e+04, -8.01401176e+28, -1.04333656e+35, -1.34303515e+11,\n",
       "       -3.64302422e+04, -2.51386365e+13,             nan, -1.28630859e+05,\n",
       "       -6.51494605e+10, -7.13762404e+16, -5.19587242e+17,            -inf,\n",
       "       -4.72881316e+10, -7.08488550e+06, -8.24803812e+05, -6.06075124e+13,\n",
       "       -1.51302343e+15,            -inf], dtype=float32)"
      ]
     },
     "execution_count": 7,
     "metadata": {},
     "output_type": "execute_result"
    }
   ],
   "source": [
    "# Matrix element [153, 38] is NaN.\n",
    "print(alpha[153, 38])\n",
    "random.loggamma(key, alpha)[153]"
   ]
  },
  {
   "cell_type": "code",
   "execution_count": 60,
   "metadata": {},
   "outputs": [
    {
     "data": {
      "text/plain": [
       "(Array([153], dtype=int32),)"
      ]
     },
     "execution_count": 60,
     "metadata": {},
     "output_type": "execute_result"
    }
   ],
   "source": [
    "jnp.where(jnp.isnan(theta).any(axis=1))"
   ]
  },
  {
   "cell_type": "code",
   "execution_count": 61,
   "metadata": {},
   "outputs": [
    {
     "name": "stdout",
     "output_type": "stream",
     "text": [
      "> \u001b[0;32m/tmp/ipykernel_25861/2269233043.py\u001b[0m(19)\u001b[0;36m_dirichlet\u001b[0;34m()\u001b[0m\n",
      "\u001b[0;32m     17 \u001b[0;31m  \u001b[0mlog_gamma_samples\u001b[0m \u001b[0;34m=\u001b[0m \u001b[0mloggamma\u001b[0m\u001b[0;34m(\u001b[0m\u001b[0mkey\u001b[0m\u001b[0;34m,\u001b[0m \u001b[0malpha\u001b[0m\u001b[0;34m,\u001b[0m \u001b[0mshape\u001b[0m \u001b[0;34m+\u001b[0m \u001b[0mnp\u001b[0m\u001b[0;34m.\u001b[0m\u001b[0mshape\u001b[0m\u001b[0;34m(\u001b[0m\u001b[0malpha\u001b[0m\u001b[0;34m)\u001b[0m\u001b[0;34m[\u001b[0m\u001b[0;34m-\u001b[0m\u001b[0;36m1\u001b[0m\u001b[0;34m:\u001b[0m\u001b[0;34m]\u001b[0m\u001b[0;34m,\u001b[0m \u001b[0mdtype\u001b[0m\u001b[0;34m)\u001b[0m\u001b[0;34m\u001b[0m\u001b[0;34m\u001b[0m\u001b[0m\n",
      "\u001b[0m\u001b[0;32m     18 \u001b[0;31m  \u001b[0;32mimport\u001b[0m \u001b[0mipdb\u001b[0m \u001b[0;34m;\u001b[0m \u001b[0mipdb\u001b[0m\u001b[0;34m.\u001b[0m\u001b[0mset_trace\u001b[0m\u001b[0;34m(\u001b[0m\u001b[0;34m)\u001b[0m\u001b[0;34m\u001b[0m\u001b[0;34m\u001b[0m\u001b[0m\n",
      "\u001b[0m\u001b[0;32m---> 19 \u001b[0;31m  \u001b[0;32mreturn\u001b[0m \u001b[0m_softmax\u001b[0m\u001b[0;34m(\u001b[0m\u001b[0mlog_gamma_samples\u001b[0m\u001b[0;34m,\u001b[0m \u001b[0;34m-\u001b[0m\u001b[0;36m1\u001b[0m\u001b[0;34m)\u001b[0m\u001b[0;34m\u001b[0m\u001b[0;34m\u001b[0m\u001b[0m\n",
      "\u001b[0m\n",
      "Array(True, dtype=bool)\n",
      "Array(True, dtype=bool)\n"
     ]
    }
   ],
   "source": [
    "res = _dirichlet(key, theta_alpha, theta_alpha.shape[:1], jnp.float32)"
   ]
  },
  {
   "cell_type": "code",
   "execution_count": 50,
   "metadata": {},
   "outputs": [
    {
     "data": {
      "text/plain": [
       "Array([nan, nan, nan, nan, nan, nan, nan, nan, nan, nan, nan, nan, nan,\n",
       "       nan, nan, nan, nan, nan, nan, nan, nan, nan, nan, nan, nan, nan,\n",
       "       nan, nan, nan, nan, nan, nan, nan, nan, nan, nan, nan, nan, nan,\n",
       "       nan, nan, nan, nan, nan, nan, nan, nan, nan, nan, nan],      dtype=float32)"
      ]
     },
     "execution_count": 50,
     "metadata": {},
     "output_type": "execute_result"
    }
   ],
   "source": [
    "res[153]"
   ]
  }
 ],
 "metadata": {
  "kernelspec": {
   "display_name": "Python 3",
   "language": "python",
   "name": "python3"
  },
  "language_info": {
   "codemirror_mode": {
    "name": "ipython",
    "version": 3
   },
   "file_extension": ".py",
   "mimetype": "text/x-python",
   "name": "python",
   "nbconvert_exporter": "python",
   "pygments_lexer": "ipython3",
   "version": "3.11.4"
  },
  "orig_nbformat": 4
 },
 "nbformat": 4,
 "nbformat_minor": 2
}
