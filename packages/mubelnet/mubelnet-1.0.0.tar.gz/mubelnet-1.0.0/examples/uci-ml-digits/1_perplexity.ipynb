{
 "cells": [
  {
   "cell_type": "code",
   "execution_count": 8,
   "metadata": {},
   "outputs": [],
   "source": [
    "import os\n",
    "from pathlib import Path\n",
    "import pickle\n",
    "from statkit.non_parametric import bootstrap_score\n",
    "\n",
    "os.environ['ARTEFACT_DIR'] = '/home/hylke/digits_more_topics'\n",
    "\n",
    "\n",
    "import jax\n",
    "import jax.numpy as jnp\n",
    "from jax.tree_util import tree_map\n",
    "from mubelnet.random import PRNGSequence\n",
    "from mubelnet.utils import perplexity\n",
    "import numpy as np\n",
    "from sklearn.decomposition import NMF\n",
    "\n",
    "from dataset import load_digits\n",
    "\n",
    "\n",
    "# Training hyperparameters\n",
    "RANDOM_SEED = 42\n",
    "key_seq = PRNGSequence(jax.random.PRNGKey(RANDOM_SEED))\n",
    "\n",
    "\n",
    "# Model hyperparameters.\n",
    "MODEL = \"multinomial_belief\"\n",
    "n_topics = 10\n",
    "HIDDEN_LAYER_SIZES = (n_topics, n_topics, n_topics)\n",
    "GAMMA_0 = 1.0\n",
    "ETA = 0.05\n",
    "_bottom_layer_name = (\n",
    "    f\"{MODEL}/~/multinomial_layer\"\n",
    "    if MODEL == \"multinomial_belief\"\n",
    "    else f\"{MODEL}/~/poisson_layer\"\n",
    ")\n",
    "\n",
    "X_train, X_test = load_digits()\n",
    "n_features = X_train.shape[1]\n",
    "\n",
    "def probability(params, state):\n",
    "    bottom_params = params.get(_bottom_layer_name, {})\n",
    "    bottom_state = state[_bottom_layer_name]\n",
    "    phi = bottom_params.get(\"phi\", bottom_state.get(\"phi\"))\n",
    "    theta = bottom_state[\"copy[theta(1)]\"]\n",
    "    probs = theta @ phi\n",
    "    probs /= probs.sum(axis=-1, keepdims=True)\n",
    "    return probs\n",
    "\n",
    "\n",
    "def evaluate(params, states, X, axis=[0, 1]):\n",
    "    \"\"\"Compute perplexity over chains and samples by default (axis=[0, 1]).\"\"\"\n",
    "    probs = probability(params, states).mean(axis)\n",
    "    return perplexity(X, probs)"
   ]
  },
  {
   "cell_type": "code",
   "execution_count": 2,
   "metadata": {},
   "outputs": [],
   "source": [
    "def load_trace(pkl_path: Path, thin: int = 1):\n",
    "    with open(pkl_path, 'rb') as fi:\n",
    "        trace = pickle.load(fi)\n",
    "    trace_thinned = tree_map(lambda x: x[:, ::thin], trace)\n",
    "    del trace\n",
    "    trace = trace_thinned\n",
    "    return trace"
   ]
  },
  {
   "cell_type": "code",
   "execution_count": 3,
   "metadata": {},
   "outputs": [
    {
     "name": "stdout",
     "output_type": "stream",
     "text": [
      "Perplexity on unseen observations 3.07e+01 (95 % CI: 3.05e+01-3.08e+01)\n",
      "3.07$^{+0.01}_{-0.01} \\cdot 10^{1}$\n"
     ]
    }
   ],
   "source": [
    "trace_10_20_30 = load_trace(Path('/home/hylke/digits_more_topics/digits_more_topics/multinomial_belief/10-20-30/samples/sample_1000.pkl'))\n",
    "probs = probability({}, trace_10_20_30).mean(axis=[0, 1])\n",
    "pp_estimate_1 = bootstrap_score(X_test, probs, metric=perplexity, random_state=42)\n",
    "print(\"Perplexity on unseen observations\", pp_estimate_1)\n",
    "print(pp_estimate_1.latex())\n",
    "del trace_10_20_30"
   ]
  },
  {
   "cell_type": "code",
   "execution_count": 4,
   "metadata": {},
   "outputs": [
    {
     "name": "stdout",
     "output_type": "stream",
     "text": [
      "Perplexity on unseen observations 3.07e+01 (95 % CI: 3.06e+01-3.08e+01)\n",
      "3.07$^{+0.01}_{-0.01} \\cdot 10^{1}$\n"
     ]
    }
   ],
   "source": [
    "trace_20_30 = load_trace(Path('/home/hylke/digits_more_topics/digits_more_topics/multinomial_belief/20-30/samples/sample_1000.pkl'))\n",
    "probs = probability({}, trace_20_30).mean(axis=[0, 1])\n",
    "pp_estimate_2 = bootstrap_score(X_test, probs, metric=perplexity, random_state=42)\n",
    "print(\"Perplexity on unseen observations\", pp_estimate_2)\n",
    "print(pp_estimate_2.latex())\n",
    "del trace_20_30"
   ]
  },
  {
   "cell_type": "code",
   "execution_count": 5,
   "metadata": {},
   "outputs": [
    {
     "name": "stdout",
     "output_type": "stream",
     "text": [
      "Perplexity on unseen observations 3.10e+01 (95 % CI: 3.08e+01-3.11e+01)\n",
      "3.10$^{+0.01}_{-0.01} \\cdot 10^{1}$\n"
     ]
    }
   ],
   "source": [
    "trace_30 = load_trace(Path('/home/hylke/digits_more_topics/digits_more_topics/multinomial_belief/30/samples/sample_1000.pkl'))\n",
    "probs = probability({}, trace_30).mean(axis=[0, 1])\n",
    "pp_estimate_3 = bootstrap_score(X_test, probs, metric=perplexity, random_state=42)\n",
    "print(\"Perplexity on unseen observations\", pp_estimate_3)\n",
    "print(pp_estimate_3.latex())\n",
    "del trace_30"
   ]
  },
  {
   "cell_type": "code",
   "execution_count": 6,
   "metadata": {},
   "outputs": [],
   "source": [
    "nmf = NMF(\n",
    "    n_components=30, random_state=42, solver='mu', beta_loss=\"kullback-leibler\", max_iter=10_000\n",
    ").fit(X_train)\n",
    "h = nmf.transform(X_train)\n",
    "unnormed_probs = h @ nmf.components_\n",
    "probs_nmf = unnormed_probs / unnormed_probs.sum(axis=-1, keepdims=True)"
   ]
  },
  {
   "cell_type": "code",
   "execution_count": 9,
   "metadata": {},
   "outputs": [
    {
     "name": "stdout",
     "output_type": "stream",
     "text": [
      "Deleting rows [  87  502 1264 1685]\n",
      "Perplexity on unseen observations (removed samples causing infinite perplexity) 3.42e+01 (95 % CI: 3.38e+01-3.45e+01)\n",
      "3.42$^{+0.03}_{-0.03} \\cdot 10^{1}$\n"
     ]
    }
   ],
   "source": [
    "# Compute performance on test set.\n",
    "ln_probs_nmf = jnp.log(probs_nmf)\n",
    "is_inf = np.isneginf(ln_probs_nmf) & (X_test > 0)\n",
    "\n",
    "# 2) Delete zero rows.\n",
    "zero_rows = np.where(is_inf)[0]\n",
    "print('Deleting rows', zero_rows)\n",
    "X_test_subset = np.delete(X_test, zero_rows, axis=0)\n",
    "probs_sigprof_xtrct_subset = np.delete(probs_nmf, zero_rows, axis=0)\n",
    "\n",
    "pp_nmf = bootstrap_score(X_test_subset, probs_sigprof_xtrct_subset, metric=perplexity, random_state=43)\n",
    "print('Perplexity on unseen observations (removed samples causing infinite perplexity)', pp_nmf)\n",
    "print(pp_nmf.latex())\n"
   ]
  }
 ],
 "metadata": {
  "kernelspec": {
   "display_name": "Python 3 (ipykernel)",
   "language": "python",
   "name": "python3"
  },
  "language_info": {
   "codemirror_mode": {
    "name": "ipython",
    "version": 3
   },
   "file_extension": ".py",
   "mimetype": "text/x-python",
   "name": "python",
   "nbconvert_exporter": "python",
   "pygments_lexer": "ipython3",
   "version": "3.11.6"
  }
 },
 "nbformat": 4,
 "nbformat_minor": 2
}
