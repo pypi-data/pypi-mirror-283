{
 "cells": [
  {
   "cell_type": "code",
   "execution_count": 1,
   "id": "1c8623ce",
   "metadata": {},
   "outputs": [
    {
     "name": "stderr",
     "output_type": "stream",
     "text": [
      "2023-07-11 12:44:43.342618: W tensorflow/compiler/tf2tensorrt/utils/py_utils.cc:38] TF-TRT Warning: Could not find TensorRT\n"
     ]
    }
   ],
   "source": [
    "import numpy as np\n",
    "from sklearn import datasets\n",
    "\n",
    "# Run the following before any XLA modules such as JAX:\n",
    "import chex\n",
    "\n",
    "# chex.set_n_cpu_devices(2)\n",
    "\n",
    "# Add end-to-end package to path.\n",
    "import sys\n",
    "from pathlib import Path\n",
    "\n",
    "sys.path.append(str(Path('../src').absolute()))\n",
    "\n",
    "# Import the remaining JAX related \n",
    "from gabenet.mcmc import sample_markov_chain\n",
    "from gabenet.nets import MultinomialDirichletBelieve\n",
    "\n",
    "import haiku as hk"
   ]
  },
  {
   "attachments": {},
   "cell_type": "markdown",
   "id": "0234db6d",
   "metadata": {},
   "source": [
    "To illustrate how to use the multinomial-Dirichlet believe network, we will train the\n",
    "model on the MNIST dataset, containing handwritten digits.\n",
    "\n",
    "The dataset can directly be loaded from scikit-learn. As preprocessing step, we reshape the\n",
    "digits from a 8x8 square matrix to a flat array of size 64."
   ]
  },
  {
   "cell_type": "code",
   "execution_count": 2,
   "id": "b51a7b7b",
   "metadata": {},
   "outputs": [],
   "source": [
    "digits = datasets.load_digits()\n",
    "n_samples = len(digits.images)\n",
    "X_train = digits.images.reshape((n_samples, -1))"
   ]
  },
  {
   "attachments": {},
   "cell_type": "markdown",
   "id": "b2a8f4f6",
   "metadata": {},
   "source": [
    "Next, we define the model. We use a simple decoder network with two hidden layers. In\n",
    "total, the size of the network: 2 x 10 x 64.\n",
    "\n",
    "```\n",
    "n_hidden_units = (2, 10)\n",
    "model = MultinomialDirichletBelieve(n_hidden_units, n_features)\n",
    "```\n",
    "\n",
    "This function has to be defined in a [haiku](https://github.com/deepmind/dm-haiku) context to transform the network in a pure state for JAX.\n",
    "\n",
    "Since the network is a Bayesian model, we don't train the model by\n",
    "minimising a loss. Rather, we infer the distribution $p(\\boldsymbol{\\theta}|\\boldsymbol{X}_{\\mathrm{train}})$ of the model's parameters $\\boldsymbol{\\theta}$ given the training data $\\boldsymbol{X}_{\\mathrm{train}}$ that we observe. This probability distribution is called the [posterior](https://en.wikipedia.org/wiki/Posterior_probability).\n",
    "\n",
    "Unfortunately, we don't know what this distribution is. However, we do know a way how to sample it: using Markov chain Monte Carlo (MCMC). This simulation method samples the distributions by taking small steps that depend on its previous state. In theory, when we have take enough steps, the state converges to the true (posterior) distribution.\n",
    "\n",
    "First, initialise the chain using training data:\n",
    "\n",
    "```python\n",
    "model.init(X_train)\n",
    "```\n",
    "\n",
    "This method takes samples from the prior as a starting point. After that, keep taking steps from your current to your next state. To take one step, you simply call your model using\n",
    "the training data:\n",
    "\n",
    "```python\n",
    "model(X_train)\n",
    "```\n",
    "\n",
    "This function call does one Gibbs sampling step, which updates all the parameters one-by-one.\n",
    "\n",
    "Now, lets put all elements together."
   ]
  },
  {
   "cell_type": "code",
   "execution_count": 3,
   "id": "5ab28182",
   "metadata": {},
   "outputs": [
    {
     "name": "stderr",
     "output_type": "stream",
     "text": [
      "No GPU/TPU found, falling back to CPU. (Set TF_CPP_MIN_LOG_LEVEL=0 and rerun for more info.)\n"
     ]
    }
   ],
   "source": [
    "# Pseudo-random number generator sequence.\n",
    "key_seq = hk.PRNGSequence(42)\n",
    "\n",
    "m_samples, n_features = X_train.shape\n",
    "\n",
    "@hk.transform_with_state\n",
    "def kernel():\n",
    "    \"\"\"Advance the Markov chain by one step.\"\"\"\n",
    "    n_hidden_units = (10, )\n",
    "    model = MultinomialDirichletBelieve(n_hidden_units, n_features)\n",
    "    if hk.running_init():\n",
    "        # Initialise Markov chain.\n",
    "        model.init(X_train)\n",
    "\n",
    "    # Do one Gibbs sampling step.\n",
    "    model(X_train)"
   ]
  },
  {
   "cell_type": "code",
   "execution_count": 4,
   "id": "71b8a917",
   "metadata": {},
   "outputs": [
    {
     "name": "stderr",
     "output_type": "stream",
     "text": [
      "WARNING:root:Number of trials is fixed at n_trials = [1797. 1798. 1799. ... 3591. 3592. 3593.]\n"
     ]
    },
    {
     "data": {
      "text/plain": [
       "Array([5.1007801e-01, 3.7258615e-25, 6.6692219e-03, 5.5523387e-08,\n",
       "       5.0742415e-08, 1.1700398e-01, 2.1399991e-17, 3.6347800e-01,\n",
       "       1.1877611e-09, 2.7706921e-03], dtype=float32)"
      ]
     },
     "execution_count": 4,
     "metadata": {},
     "output_type": "execute_result"
    }
   ],
   "source": [
    "params, state = kernel.init(next(key_seq))\n",
    "state['multinomial_dirichlet_believe/~/cap_layer']['r'].block_until_ready()"
   ]
  },
  {
   "cell_type": "code",
   "execution_count": 5,
   "id": "fe805260",
   "metadata": {},
   "outputs": [
    {
     "data": {
      "text/plain": [
       "Array([5.0151855e-01, 3.2134609e-05, 7.0774397e-03, 3.1438991e-16,\n",
       "       6.3737040e-15, 1.2054221e-01, 1.8244776e-06, 3.6653900e-01,\n",
       "       9.0008516e-06, 4.2798021e-03], dtype=float32)"
      ]
     },
     "execution_count": 5,
     "metadata": {},
     "output_type": "execute_result"
    }
   ],
   "source": [
    "params, state = kernel.apply(params, state, next(key_seq))\n",
    "state['multinomial_dirichlet_believe/~/cap_layer']['r'].block_until_ready()"
   ]
  },
  {
   "attachments": {},
   "cell_type": "markdown",
   "id": "0d4cbcc7",
   "metadata": {},
   "source": [
    "Here, we defined a function that proposes a new state based on its current configuration. This is called a _kernel_. The `hk.transform_with_state` decorator uses haiku to purify the function into something that is stateless."
   ]
  },
  {
   "attachments": {},
   "cell_type": "markdown",
   "id": "56d21ade",
   "metadata": {},
   "source": [
    "Finally, we draw samples from the Markov chain. We first take 100 burn-in steps, in the\n",
    "hope that the chain converges to the true distribution. After throwing away these first 100 samples, we collect a new set\n",
    "of 100 samples (50 in each chain) to estimate the posterior distribution.\n",
    "\n",
    "Note that `sample_markov_chain` (below) automatically takes care of distributing your\n",
    "computation across multiple devices. For simplicity, we assume you are running on a CPU and split the CPU up in two virtual devices. (See above, at the import section, where we've used\n",
    "`chex` set the number of devices to 2.)\n",
    "\n",
    "The following cell, that collects statistics from the Markov chain takes, about `10 minutes` to run on a CPU."
   ]
  },
  {
   "cell_type": "code",
   "execution_count": 6,
   "id": "682f6263",
   "metadata": {},
   "outputs": [
    {
     "name": "stderr",
     "output_type": "stream",
     "text": [
      "WARNING:root:Number of trials is fixed at n_trials = [1797. 1798. 1799. ... 3591. 3592. 3593.]\n",
      "/home/hylke/workspace/gabenet/examples/../src/gabenet/mcmc.py:95: UserWarning: Only one visible device in JAX. Reconfigure XLA_FLAGS.\n",
      "  warnings.warn(\"Only one visible device in JAX. Reconfigure XLA_FLAGS.\")\n"
     ]
    }
   ],
   "source": [
    "params, states = sample_markov_chain(\n",
    "    next(key_seq),\n",
    "    kernel=kernel,\n",
    "    n_samples=50, \n",
    "    n_burnin_steps=50, \n",
    "    n_chains=1,\n",
    ")\n",
    "\n",
    "_ = states['multinomial_dirichlet_believe/~/multinomial_layer']['phi'].block_until_ready()\n",
    "# jax.profiler.save_device_memory_profile('/tmp/mcmc/sample.prof')"
   ]
  },
  {
   "attachments": {},
   "cell_type": "markdown",
   "id": "cc6c1598",
   "metadata": {},
   "source": [
    "After training the model, we can inspect what the model has learned. Note that, instead of a single point estimate of the parameters, we've obtained a distribution. To visualise the parameters, we take for simplicity the median. Let's take a look at $\\bm{\\Phi}^{(1)}$, the weights of the first layer."
   ]
  },
  {
   "cell_type": "code",
   "execution_count": 6,
   "id": "2cc1ebdc",
   "metadata": {},
   "outputs": [
    {
     "name": "stderr",
     "output_type": "stream",
     "text": [
      "WARNING:root:Number of trials is fixed at n_trials = [1797. 1798. 1799. ... 3591. 3592. 3593.]\n"
     ]
    },
    {
     "name": "stderr",
     "output_type": "stream",
     "text": [
      "WARNING:jax._src.dispatch:Finished tracing + transforming jit(while) in 0.00032639503479003906 sec\n",
      "WARNING:jax._src.interpreters.pxla:Compiling while for with global shapes and types [ShapedArray(float32[1797,64]), ShapedArray(uint32[64,2]), ShapedArray(int32[]), ShapedArray(float32[1,1797]), ShapedArray(float32[1797]), ShapedArray(float32[64,1,1797])]. Argument mapping: (GSPMDSharding({replicated}), GSPMDSharding({replicated}), GSPMDSharding({replicated}), GSPMDSharding({replicated}), GSPMDSharding({replicated}), GSPMDSharding({replicated})).\n",
      "WARNING:jax._src.dispatch:Finished jaxpr to MLIR module conversion jit(while) in 0.5246031284332275 sec\n",
      "WARNING:jax._src.dispatch:Finished XLA compilation of jit(while) in 1.8872430324554443 sec\n"
     ]
    },
    {
     "name": "stdout",
     "output_type": "stream",
     "text": [
      "----------------------\n"
     ]
    },
    {
     "name": "stderr",
     "output_type": "stream",
     "text": [
      "WARNING:jax._src.dispatch:Finished tracing + transforming jit(broadcast_in_dim) in 0.0002994537353515625 sec\n",
      "WARNING:jax._src.interpreters.pxla:Compiling broadcast_in_dim for with global shapes and types [ShapedArray(float32[])]. Argument mapping: (GSPMDSharding({replicated}),).\n",
      "WARNING:jax._src.dispatch:Finished jaxpr to MLIR module conversion jit(broadcast_in_dim) in 0.001613616943359375 sec\n",
      "WARNING:jax._src.dispatch:Finished XLA compilation of jit(broadcast_in_dim) in 0.012001752853393555 sec\n",
      "WARNING:jax._src.dispatch:Finished tracing + transforming jit(concatenate) in 0.0009098052978515625 sec\n",
      "WARNING:jax._src.interpreters.pxla:Compiling concatenate for with global shapes and types [ShapedArray(float32[1]), ShapedArray(float32[1]), ShapedArray(float32[1]), ShapedArray(float32[1]), ShapedArray(float32[1]), ShapedArray(float32[1]), ShapedArray(float32[1]), ShapedArray(float32[1]), ShapedArray(float32[1]), ShapedArray(float32[1]), ShapedArray(float32[1]), ShapedArray(float32[1]), ShapedArray(float32[1]), ShapedArray(float32[1]), ShapedArray(float32[1]), ShapedArray(float32[1])]. Argument mapping: (GSPMDSharding({replicated}), GSPMDSharding({replicated}), GSPMDSharding({replicated}), GSPMDSharding({replicated}), GSPMDSharding({replicated}), GSPMDSharding({replicated}), GSPMDSharding({replicated}), GSPMDSharding({replicated}), GSPMDSharding({replicated}), GSPMDSharding({replicated}), GSPMDSharding({replicated}), GSPMDSharding({replicated}), GSPMDSharding({replicated}), GSPMDSharding({replicated}), GSPMDSharding({replicated}), GSPMDSharding({replicated})).\n",
      "WARNING:jax._src.dispatch:Finished jaxpr to MLIR module conversion jit(concatenate) in 0.0026483535766601562 sec\n",
      "WARNING:jax._src.dispatch:Finished XLA compilation of jit(concatenate) in 0.01611781120300293 sec\n",
      "WARNING:jax._src.dispatch:Finished tracing + transforming jit(concatenate) in 0.0005764961242675781 sec\n",
      "WARNING:jax._src.interpreters.pxla:Compiling concatenate for with global shapes and types [ShapedArray(float32[1]), ShapedArray(float32[1])]. Argument mapping: (GSPMDSharding({replicated}), GSPMDSharding({replicated})).\n",
      "WARNING:jax._src.dispatch:Finished jaxpr to MLIR module conversion jit(concatenate) in 0.01079416275024414 sec\n",
      "WARNING:jax._src.dispatch:Finished XLA compilation of jit(concatenate) in 0.024568796157836914 sec\n",
      "WARNING:jax._src.dispatch:Finished tracing + transforming jit(concatenate) in 0.0005898475646972656 sec\n",
      "WARNING:jax._src.interpreters.pxla:Compiling concatenate for with global shapes and types [ShapedArray(float32[16]), ShapedArray(float32[16]), ShapedArray(float32[16]), ShapedArray(float32[2])]. Argument mapping: (GSPMDSharding({replicated}), GSPMDSharding({replicated}), GSPMDSharding({replicated}), GSPMDSharding({replicated})).\n",
      "WARNING:jax._src.dispatch:Finished jaxpr to MLIR module conversion jit(concatenate) in 0.009582042694091797 sec\n",
      "WARNING:jax._src.dispatch:Finished XLA compilation of jit(concatenate) in 0.02217721939086914 sec\n",
      "WARNING:jax._src.dispatch:Finished tracing + transforming jit(concatenate) in 0.0011563301086425781 sec\n",
      "WARNING:jax._src.interpreters.pxla:Compiling concatenate for with global shapes and types [ShapedArray(float32[1,10]), ShapedArray(float32[1,10]), ShapedArray(float32[1,10]), ShapedArray(float32[1,10]), ShapedArray(float32[1,10]), ShapedArray(float32[1,10]), ShapedArray(float32[1,10]), ShapedArray(float32[1,10]), ShapedArray(float32[1,10]), ShapedArray(float32[1,10]), ShapedArray(float32[1,10]), ShapedArray(float32[1,10]), ShapedArray(float32[1,10]), ShapedArray(float32[1,10]), ShapedArray(float32[1,10]), ShapedArray(float32[1,10])]. Argument mapping: (GSPMDSharding({replicated}), GSPMDSharding({replicated}), GSPMDSharding({replicated}), GSPMDSharding({replicated}), GSPMDSharding({replicated}), GSPMDSharding({replicated}), GSPMDSharding({replicated}), GSPMDSharding({replicated}), GSPMDSharding({replicated}), GSPMDSharding({replicated}), GSPMDSharding({replicated}), GSPMDSharding({replicated}), GSPMDSharding({replicated}), GSPMDSharding({replicated}), GSPMDSharding({replicated}), GSPMDSharding({replicated})).\n",
      "WARNING:jax._src.dispatch:Finished jaxpr to MLIR module conversion jit(concatenate) in 0.0075817108154296875 sec\n"
     ]
    },
    {
     "name": "stdout",
     "output_type": "stream",
     "text": [
      "---------------------\n"
     ]
    },
    {
     "name": "stderr",
     "output_type": "stream",
     "text": [
      "WARNING:jax._src.dispatch:Finished XLA compilation of jit(concatenate) in 0.037312984466552734 sec\n",
      "WARNING:jax._src.dispatch:Finished tracing + transforming jit(concatenate) in 0.001245737075805664 sec\n",
      "WARNING:jax._src.interpreters.pxla:Compiling concatenate for with global shapes and types [ShapedArray(float32[1,10]), ShapedArray(float32[1,10])]. Argument mapping: (GSPMDSharding({replicated}), GSPMDSharding({replicated})).\n",
      "WARNING:jax._src.dispatch:Finished jaxpr to MLIR module conversion jit(concatenate) in 0.006678581237792969 sec\n",
      "WARNING:jax._src.dispatch:Finished XLA compilation of jit(concatenate) in 0.02582073211669922 sec\n",
      "WARNING:jax._src.dispatch:Finished tracing + transforming jit(concatenate) in 0.0007462501525878906 sec\n",
      "WARNING:jax._src.interpreters.pxla:Compiling concatenate for with global shapes and types [ShapedArray(float32[16,10]), ShapedArray(float32[16,10]), ShapedArray(float32[16,10]), ShapedArray(float32[2,10])]. Argument mapping: (GSPMDSharding({replicated}), GSPMDSharding({replicated}), GSPMDSharding({replicated}), GSPMDSharding({replicated})).\n",
      "WARNING:jax._src.dispatch:Finished jaxpr to MLIR module conversion jit(concatenate) in 0.01071619987487793 sec\n",
      "WARNING:jax._src.dispatch:Finished XLA compilation of jit(concatenate) in 0.029124021530151367 sec\n",
      "WARNING:jax._src.dispatch:Finished tracing + transforming jit(broadcast_in_dim) in 0.0006625652313232422 sec\n",
      "WARNING:jax._src.interpreters.pxla:Compiling broadcast_in_dim for with global shapes and types [ShapedArray(float32[1797,10])]. Argument mapping: (GSPMDSharding({replicated}),).\n",
      "WARNING:jax._src.dispatch:Finished jaxpr to MLIR module conversion jit(broadcast_in_dim) in 0.004687070846557617 sec\n",
      "WARNING:jax._src.dispatch:Finished XLA compilation of jit(broadcast_in_dim) in 0.023826122283935547 sec\n",
      "WARNING:jax._src.dispatch:Finished tracing + transforming jit(concatenate) in 0.002017498016357422 sec\n",
      "WARNING:jax._src.interpreters.pxla:Compiling concatenate for with global shapes and types [ShapedArray(float32[1,1797,10]), ShapedArray(float32[1,1797,10]), ShapedArray(float32[1,1797,10]), ShapedArray(float32[1,1797,10]), ShapedArray(float32[1,1797,10]), ShapedArray(float32[1,1797,10]), ShapedArray(float32[1,1797,10]), ShapedArray(float32[1,1797,10]), ShapedArray(float32[1,1797,10]), ShapedArray(float32[1,1797,10]), ShapedArray(float32[1,1797,10]), ShapedArray(float32[1,1797,10]), ShapedArray(float32[1,1797,10]), ShapedArray(float32[1,1797,10]), ShapedArray(float32[1,1797,10]), ShapedArray(float32[1,1797,10])]. Argument mapping: (GSPMDSharding({replicated}), GSPMDSharding({replicated}), GSPMDSharding({replicated}), GSPMDSharding({replicated}), GSPMDSharding({replicated}), GSPMDSharding({replicated}), GSPMDSharding({replicated}), GSPMDSharding({replicated}), GSPMDSharding({replicated}), GSPMDSharding({replicated}), GSPMDSharding({replicated}), GSPMDSharding({replicated}), GSPMDSharding({replicated}), GSPMDSharding({replicated}), GSPMDSharding({replicated}), GSPMDSharding({replicated})).\n",
      "WARNING:jax._src.dispatch:Finished jaxpr to MLIR module conversion jit(concatenate) in 0.0040323734283447266 sec\n",
      "WARNING:jax._src.dispatch:Finished XLA compilation of jit(concatenate) in 0.06602883338928223 sec\n",
      "WARNING:jax._src.dispatch:Finished tracing + transforming jit(concatenate) in 0.0006220340728759766 sec\n",
      "WARNING:jax._src.interpreters.pxla:Compiling concatenate for with global shapes and types [ShapedArray(float32[1,1797,10]), ShapedArray(float32[1,1797,10])]. Argument mapping: (GSPMDSharding({replicated}), GSPMDSharding({replicated})).\n",
      "WARNING:jax._src.dispatch:Finished jaxpr to MLIR module conversion jit(concatenate) in 0.006283760070800781 sec\n",
      "WARNING:jax._src.dispatch:Finished XLA compilation of jit(concatenate) in 0.022881031036376953 sec\n",
      "WARNING:jax._src.dispatch:Finished tracing + transforming jit(concatenate) in 0.0007648468017578125 sec\n",
      "WARNING:jax._src.interpreters.pxla:Compiling concatenate for with global shapes and types [ShapedArray(float32[16,1797,10]), ShapedArray(float32[16,1797,10]), ShapedArray(float32[16,1797,10]), ShapedArray(float32[2,1797,10])]. Argument mapping: (GSPMDSharding({replicated}), GSPMDSharding({replicated}), GSPMDSharding({replicated}), GSPMDSharding({replicated})).\n",
      "WARNING:jax._src.dispatch:Finished jaxpr to MLIR module conversion jit(concatenate) in 0.0037038326263427734 sec\n",
      "WARNING:jax._src.dispatch:Finished XLA compilation of jit(concatenate) in 0.06026625633239746 sec\n",
      "WARNING:jax._src.dispatch:Finished tracing + transforming jit(broadcast_in_dim) in 0.00045108795166015625 sec\n",
      "WARNING:jax._src.interpreters.pxla:Compiling broadcast_in_dim for with global shapes and types [ShapedArray(float32[10,64])]. Argument mapping: (GSPMDSharding({replicated}),).\n",
      "WARNING:jax._src.dispatch:Finished jaxpr to MLIR module conversion jit(broadcast_in_dim) in 0.0030868053436279297 sec\n",
      "WARNING:jax._src.dispatch:Finished XLA compilation of jit(broadcast_in_dim) in 0.01771855354309082 sec\n",
      "WARNING:jax._src.dispatch:Finished tracing + transforming jit(concatenate) in 0.0027124881744384766 sec\n",
      "WARNING:jax._src.interpreters.pxla:Compiling concatenate for with global shapes and types [ShapedArray(float32[1,10,64]), ShapedArray(float32[1,10,64]), ShapedArray(float32[1,10,64]), ShapedArray(float32[1,10,64]), ShapedArray(float32[1,10,64]), ShapedArray(float32[1,10,64]), ShapedArray(float32[1,10,64]), ShapedArray(float32[1,10,64]), ShapedArray(float32[1,10,64]), ShapedArray(float32[1,10,64]), ShapedArray(float32[1,10,64]), ShapedArray(float32[1,10,64]), ShapedArray(float32[1,10,64]), ShapedArray(float32[1,10,64]), ShapedArray(float32[1,10,64]), ShapedArray(float32[1,10,64])]. Argument mapping: (GSPMDSharding({replicated}), GSPMDSharding({replicated}), GSPMDSharding({replicated}), GSPMDSharding({replicated}), GSPMDSharding({replicated}), GSPMDSharding({replicated}), GSPMDSharding({replicated}), GSPMDSharding({replicated}), GSPMDSharding({replicated}), GSPMDSharding({replicated}), GSPMDSharding({replicated}), GSPMDSharding({replicated}), GSPMDSharding({replicated}), GSPMDSharding({replicated}), GSPMDSharding({replicated}), GSPMDSharding({replicated})).\n",
      "WARNING:jax._src.dispatch:Finished jaxpr to MLIR module conversion jit(concatenate) in 0.0036208629608154297 sec\n",
      "WARNING:jax._src.dispatch:Finished XLA compilation of jit(concatenate) in 0.025615692138671875 sec\n",
      "WARNING:jax._src.dispatch:Finished tracing + transforming jit(concatenate) in 0.0008792877197265625 sec\n",
      "WARNING:jax._src.interpreters.pxla:Compiling concatenate for with global shapes and types [ShapedArray(float32[1,10,64]), ShapedArray(float32[1,10,64])]. Argument mapping: (GSPMDSharding({replicated}), GSPMDSharding({replicated})).\n",
      "WARNING:jax._src.dispatch:Finished jaxpr to MLIR module conversion jit(concatenate) in 0.004022359848022461 sec\n",
      "WARNING:jax._src.dispatch:Finished XLA compilation of jit(concatenate) in 0.02708601951599121 sec\n",
      "WARNING:jax._src.dispatch:Finished tracing + transforming jit(concatenate) in 0.0010828971862792969 sec\n",
      "WARNING:jax._src.interpreters.pxla:Compiling concatenate for with global shapes and types [ShapedArray(float32[16,10,64]), ShapedArray(float32[16,10,64]), ShapedArray(float32[16,10,64]), ShapedArray(float32[2,10,64])]. Argument mapping: (GSPMDSharding({replicated}), GSPMDSharding({replicated}), GSPMDSharding({replicated}), GSPMDSharding({replicated})).\n",
      "WARNING:jax._src.dispatch:Finished jaxpr to MLIR module conversion jit(concatenate) in 0.009553909301757812 sec\n",
      "WARNING:jax._src.dispatch:Finished XLA compilation of jit(concatenate) in 0.02797222137451172 sec\n"
     ]
    }
   ],
   "source": [
    "from functools import partial\n",
    "from typing import Any, Callable, Optional\n",
    "import warnings\n",
    "\n",
    "import haiku as hk\n",
    "import jax\n",
    "from jax import random\n",
    "import jax.numpy as jnp\n",
    "\n",
    "from gabenet.sugar import scannable\n",
    "\n",
    "def sample_markov_chain3(    key,\n",
    "    kernel: Callable[[tuple], tuple[Any, dict]] | hk.TransformedWithState,\n",
    "    n_samples: int,\n",
    "    n_burnin_steps: int,\n",
    "    n_chains: Optional[int] = None,\n",
    "    params: Optional[hk.Params] = None,\n",
    "    initial_state: Optional[hk.State] = None,\n",
    "    n_leap_size: int = 1,\n",
    "):\n",
    "    key_seq = hk.PRNGSequence(key)\n",
    "    n_samples_per_chain = n_samples // n_chains\n",
    "\n",
    "    states = []\n",
    "    params = []\n",
    "    for i in range(n_chains):\n",
    "        param, state = kernel.init(next(key_seq))\n",
    "        print('----------------------')\n",
    "        for _ in range(n_burnin_steps):\n",
    "            _, state = kernel.apply(param, state, next(key_seq))\n",
    "        for _ in range(n_samples_per_chain):\n",
    "            _, state = kernel.apply(param, state, next(key_seq))\n",
    "            states.append(state)\n",
    "        print('---------------------')\n",
    "        params.append(param)\n",
    "\n",
    "    params_tree = jax.tree_util.tree_map(lambda *x: jnp.stack(x), *params)\n",
    "    states_tree = jax.tree_util.tree_map(lambda *x: jnp.stack(x), *states)\n",
    "    return params_tree, states_tree\n",
    "\n",
    "with jax.log_compiles(True):\n",
    "    params, states = sample_markov_chain3(\n",
    "        next(key_seq),\n",
    "        kernel=kernel,\n",
    "        n_samples=50, \n",
    "        n_burnin_steps=50, \n",
    "        n_chains=1,\n",
    "    )\n",
    "\n",
    "    _ = states['multinomial_dirichlet_believe/~/multinomial_layer']['phi'].block_until_ready()\n",
    "# jax.profiler.save_device_memory_profile('/tmp/gabenet/sample2.prof')"
   ]
  },
  {
   "cell_type": "code",
   "execution_count": 10,
   "id": "d2f0ae43",
   "metadata": {},
   "outputs": [
    {
     "name": "stderr",
     "output_type": "stream",
     "text": [
      "WARNING:root:Number of trials is fixed at n_trials = [1797. 1798. 1799. ... 3591. 3592. 3593.]\n",
      "WARNING:jax._src.dispatch:Finished tracing + transforming jit(while) in 0.00027561187744140625 sec\n",
      "WARNING:jax._src.interpreters.pxla:Compiling while for with global shapes and types [ShapedArray(float32[1,1797,64]), ShapedArray(uint32[1,64,2]), ShapedArray(int32[]), ShapedArray(float32[1,1,1797]), ShapedArray(float32[1,1797]), ShapedArray(float32[1,64,1,1797])]. Argument mapping: (GSPMDSharding({replicated}), GSPMDSharding({replicated}), GSPMDSharding({replicated}), GSPMDSharding({replicated}), GSPMDSharding({replicated}), GSPMDSharding({replicated})).\n",
      "WARNING:jax._src.dispatch:Finished jaxpr to MLIR module conversion jit(while) in 0.7062482833862305 sec\n",
      "WARNING:jax._src.dispatch:Finished XLA compilation of jit(while) in 2.200800657272339 sec\n",
      "WARNING:jax._src.dispatch:Finished tracing + transforming jit(scan) in 0.00032520294189453125 sec\n",
      "WARNING:jax._src.interpreters.pxla:Compiling scan for with global shapes and types [ShapedArray(float32[1]), ShapedArray(float32[1,10]), ShapedArray(float32[1,1797,10]), ShapedArray(float32[1,10,64]), ShapedArray(float32[1,1797,10]), ShapedArray(uint32[1,2])]. Argument mapping: (GSPMDSharding({replicated}), GSPMDSharding({replicated}), GSPMDSharding({replicated}), GSPMDSharding({replicated}), GSPMDSharding({replicated}), GSPMDSharding({replicated})).\n",
      "WARNING:jax._src.dispatch:Finished jaxpr to MLIR module conversion jit(scan) in 2.9359023571014404 sec\n",
      "WARNING:jax._src.dispatch:Finished XLA compilation of jit(scan) in 14.918276309967041 sec\n",
      "WARNING:jax._src.dispatch:Finished tracing + transforming jit(scan) in 0.0003654956817626953 sec\n",
      "WARNING:jax._src.interpreters.pxla:Compiling scan for with global shapes and types [ShapedArray(float32[1]), ShapedArray(float32[1,10]), ShapedArray(float32[1,1797,10]), ShapedArray(float32[1,10,64]), ShapedArray(float32[1,1797,10]), ShapedArray(uint32[1,2])]. Argument mapping: (GSPMDSharding({replicated}), GSPMDSharding({replicated}), GSPMDSharding({replicated}), GSPMDSharding({replicated}), GSPMDSharding({replicated}), GSPMDSharding({replicated})).\n",
      "WARNING:jax._src.dispatch:Finished jaxpr to MLIR module conversion jit(scan) in 2.6584057807922363 sec\n",
      "WARNING:jax._src.dispatch:Finished XLA compilation of jit(scan) in 13.632458925247192 sec\n"
     ]
    }
   ],
   "source": [
    "\n",
    "def sample_markov_chain2(\n",
    "    key,\n",
    "    kernel: Callable[[tuple], tuple[Any, dict]] | hk.TransformedWithState,\n",
    "    n_samples: int,\n",
    "    n_burnin_steps: int,\n",
    "    n_chains: Optional[int] = None,\n",
    "    params: Optional[hk.Params] = None,\n",
    "    initial_state: Optional[hk.State] = None,\n",
    "    n_leap_size: int = 1,\n",
    "):\n",
    "\n",
    "    key_seq = hk.PRNGSequence(key)\n",
    "\n",
    "    _scannable_kernel_fn = scannable(kernel)\n",
    "\n",
    "    if initial_state is None or params is None:\n",
    "        if not isinstance(kernel, hk.TransformedWithState):\n",
    "            raise ValueError(\n",
    "                \"Kernel must be `TransformedWithState` to be able to initialise\"\n",
    "                \"`params` and `state` when either is None.\"\n",
    "            )\n",
    "        if n_chains is None:\n",
    "            raise ValueError(\"Number of chains not specified!\")\n",
    "\n",
    "        init_key_per_chain = random.split(next(key_seq), num=n_chains)\n",
    "        params, initial_state = jax.vmap(kernel.init)(init_key_per_chain)\n",
    "\n",
    "\n",
    "    def _leapfrog(carry, _):\n",
    "        \"\"\"A for-loop (from 0,..,`n_steps-1`) that runs `step`.\"\"\"\n",
    "        carry_out, _ = jax.lax.scan(\n",
    "            _scannable_kernel_fn, carry, xs=None, length=n_leap_size\n",
    "        )\n",
    "        state = carry_out[1]\n",
    "        return carry_out, state\n",
    "\n",
    "    def _sampler(params_init, state_init, key, n_sample_size: int):\n",
    "        \"\"\"Samper for a single Markov chain.\"\"\"\n",
    "        carry = (params_init, state_init, key)\n",
    "        # 1) Take first sample after `(n_burnin - n_leap_size) + n_leap_size` steps.\n",
    "        n_steps = n_burnin_steps - n_leap_size\n",
    "        carry, _ = jax.lax.scan(_scannable_kernel_fn, carry, xs=None, length=n_steps)\n",
    "        # 2) Take subsequent samples after `n_leap_size` steps.\n",
    "        _, stacked_states = jax.lax.scan(\n",
    "            _leapfrog, carry, xs=None, length=n_sample_size\n",
    "        )\n",
    "\n",
    "        return stacked_states\n",
    "\n",
    "    n_devices = jax.local_device_count()\n",
    "\n",
    "\n",
    "    # Generate an initial state for each chain.\n",
    "    keys = random.split(next(key_seq), num=n_chains)\n",
    "\n",
    "    n_samples_per_chain = n_samples // n_chains\n",
    "    _vectorised_kernel_fn = jax.vmap(\n",
    "        partial(_sampler, n_sample_size=n_samples_per_chain), in_axes=(0, 0, 0)\n",
    "    )\n",
    "    state = _vectorised_kernel_fn(params, initial_state, keys)\n",
    "    return params, state\n",
    "\n",
    "with jax.log_compiles(True):\n",
    "    params, states = sample_markov_chain2(\n",
    "        next(key_seq),\n",
    "        kernel=kernel,\n",
    "        n_samples=50, \n",
    "        n_burnin_steps=50, \n",
    "        n_chains=1,\n",
    "    )\n",
    "\n",
    "    _ = states['multinomial_dirichlet_believe/~/multinomial_layer']['phi'].block_until_ready()\n",
    "# jax.profiler.save_device_memory_profile('/tmp/gabenet/sample2.prof')"
   ]
  },
  {
   "cell_type": "code",
   "execution_count": 9,
   "id": "dad098e5",
   "metadata": {},
   "outputs": [
    {
     "data": {
      "text/plain": [
       "<Figure size 640x480 with 0 Axes>"
      ]
     },
     "metadata": {},
     "output_type": "display_data"
    },
    {
     "data": {
      "image/png": "[encoded data removed]",
      "text/plain": [
       "<Figure size 1250x600 with 10 Axes>"
      ]
     },
     "metadata": {},
     "output_type": "display_data"
    },
    {
     "data": {
      "text/plain": [
       "<Figure size 640x480 with 0 Axes>"
      ]
     },
     "metadata": {},
     "output_type": "display_data"
    },
    {
     "data": {
      "image/png": "[encoded data removed]",
      "text/plain": [
       "<Figure size 1250x600 with 10 Axes>"
      ]
     },
     "metadata": {},
     "output_type": "display_data"
    }
   ],
   "source": [
    "from matplotlib import pyplot as plt\n",
    "\n",
    "# Aggregate posterior samples to visualise.\n",
    "phi_1st_layer = np.median(states['multinomial_dirichlet_believe/~/multinomial_layer']['phi'], axis=[1])\n",
    "\n",
    "for i in range(2):  # For each Markov chain.\n",
    "    plt.figure()\n",
    "    _, axes = plt.subplots(nrows=2, ncols=5, figsize=(12.5, 6))\n",
    "    plt.suptitle(f'Chain {i+1}')\n",
    "    # Plot the weights of all 10 hidden states.\n",
    "    for ax, phi in zip(axes.flatten(), phi_1st_layer[i]):\n",
    "        ax.set_axis_off()\n",
    "        image = phi.reshape(8, 8)\n",
    "        ax.imshow(image, cmap=plt.cm.gray_r, interpolation=\"nearest\")"
   ]
  }
 ],
 "metadata": {
  "kernelspec": {
   "display_name": "Python 3 (ipykernel)",
   "language": "python",
   "name": "python3"
  },
  "language_info": {
   "codemirror_mode": {
    "name": "ipython",
    "version": 3
   },
   "file_extension": ".py",
   "mimetype": "text/x-python",
   "name": "python",
   "nbconvert_exporter": "python",
   "pygments_lexer": "ipython3",
   "version": "3.11.2"
  },
  "vscode": {
   "interpreter": {
    "hash": "916dbcbb3f70747c44a77c7bcd40155683ae19c65e1c03b4aa3499c5328201f1"
   }
  }
 },
 "nbformat": 4,
 "nbformat_minor": 5
}
