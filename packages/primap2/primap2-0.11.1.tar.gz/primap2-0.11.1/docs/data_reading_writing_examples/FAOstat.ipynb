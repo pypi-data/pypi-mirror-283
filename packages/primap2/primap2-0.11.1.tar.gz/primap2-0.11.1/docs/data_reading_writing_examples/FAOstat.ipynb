{
 "cells": [
  {
   "cell_type": "markdown",
   "metadata": {},
   "source": [
    "# Data reading example 4 - FAOstat #\n",
    "To run this example the file `Emissions_Agriculture_Cultivated_Organic_Soils_E_All_Data_(Normalized).csv` must be placed in the same folder as this notebook.\n",
    "The data is available from the [FAOstat](http://www.fao.org/faostat/en/#data/GV/metadata)."
   ]
  },
  {
   "cell_type": "code",
   "execution_count": 1,
   "metadata": {},
   "outputs": [],
   "source": [
    "import primap2 as pm2"
   ]
  },
  {
   "cell_type": "markdown",
   "metadata": {},
   "source": [
    "## Dataset Specifications ##\n",
    "Here we define which columns of the csv file contain the dimensions."
   ]
  },
  {
   "cell_type": "code",
   "execution_count": 2,
   "metadata": {},
   "outputs": [],
   "source": [
    "file = \"Emissions_Agriculture_Cultivated_Organic_Soils_E_All_Data_(Normalized).csv\"\n",
    "coords_cols = {\n",
    "    \"unit\": \"Unit\",\n",
    "    \"entity\": \"Element\",\n",
    "    \"area\": \"Area\",\n",
    "    \"category\": \"Item\",\n",
    "    \"data\": \"Value\",\n",
    "    \"time\": \"Year\",\n",
    "}\n",
    "coords_defaults = {\n",
    "    \"source\": \"FAOstat\",\n",
    "}\n",
    "coords_terminologies = {\n",
    "    \"area\": \"FAOstat\",\n",
    "    \"category\": \"FAOstat\",\n",
    "}\n",
    "\n",
    "# TODO: proper mapping of the area to ISO3\n",
    "coords_value_mapping = {\n",
    "    \"unit\": {\"gigagrams\": \"Gg N2O / year\"},\n",
    "    \"entity\": {\"Emissions (N2O) (Cultivation of organic soils)\": \"N2O\"},\n",
    "}\n",
    "\n",
    "filter_keep = {\n",
    "    \"f1\": {\n",
    "        \"Element\": \"Emissions (N2O) (Cultivation of organic soils)\",\n",
    "    },\n",
    "}\n",
    "\n",
    "meta_data = {\n",
    "    \"references\": \"http://www.fao.org/faostat/en/#data/GV/metadata\"\n",
    "}"
   ]
  },
  {
   "cell_type": "markdown",
   "metadata": {},
   "source": [
    "## Reading the data to interchange format ##"
   ]
  },
  {
   "cell_type": "code",
   "execution_count": 3,
   "metadata": {},
   "outputs": [
    {
     "data": {
      "text/plain": "    source area (FAOstat) entity           unit  \\\n0  FAOstat         Africa    N2O  Gg N2O / year   \n1  FAOstat         Africa    N2O  Gg N2O / year   \n2  FAOstat         Africa    N2O  Gg N2O / year   \n3  FAOstat        Albania    N2O  Gg N2O / year   \n4  FAOstat        Albania    N2O  Gg N2O / year   \n\n                     category (FAOstat)     1990     1991     1992     1993  \\\n0  Cropland and grassland organic soils  34.3224  34.3224  34.3224  34.3224   \n1                Cropland organic soils  17.4597  17.4597  17.4597  17.4597   \n2               Grassland organic soils  16.8627  16.8627  16.8627  16.8627   \n3  Cropland and grassland organic soils   0.0471   0.0471   0.0471   0.0471   \n4                Cropland organic soils   0.0378   0.0378   0.0378   0.0378   \n\n      1994  ...     2012     2013     2014     2015     2016     2017  \\\n0  34.3211  ...  35.2262  35.2203  35.1451  35.1434  35.1327  35.1277   \n1  17.4588  ...  18.1675  18.1546  18.1318  18.1307  18.1014  18.0904   \n2  16.8623  ...  17.0586  17.0657  17.0133  17.0127  17.0313  17.0373   \n3   0.0471  ...   0.0470   0.0470   0.0470   0.0470   0.0468   0.0468   \n4   0.0378  ...   0.0377   0.0377   0.0377   0.0377   0.0376   0.0376   \n\n      2018     2019     2030     2050  \n0  35.0546  35.0546  35.0546  35.0546  \n1  18.0273  18.0273  18.0273  18.0273  \n2  17.0272  17.0272  17.0272  17.0272  \n3   0.0460   0.0460   0.0460   0.0460  \n4   0.0369   0.0369   0.0369   0.0369  \n\n[5 rows x 37 columns]",
      "text/html": "<div>\n<style scoped>\n    .dataframe tbody tr th:only-of-type {\n        vertical-align: middle;\n    }\n\n    .dataframe tbody tr th {\n        vertical-align: top;\n    }\n\n    .dataframe thead th {\n        text-align: right;\n    }\n</style>\n<table border=\"1\" class=\"dataframe\">\n  <thead>\n    <tr style=\"text-align: right;\">\n      <th></th>\n      <th>source</th>\n      <th>area (FAOstat)</th>\n      <th>entity</th>\n      <th>unit</th>\n      <th>category (FAOstat)</th>\n      <th>1990</th>\n      <th>1991</th>\n      <th>1992</th>\n      <th>1993</th>\n      <th>1994</th>\n      <th>...</th>\n      <th>2012</th>\n      <th>2013</th>\n      <th>2014</th>\n      <th>2015</th>\n      <th>2016</th>\n      <th>2017</th>\n      <th>2018</th>\n      <th>2019</th>\n      <th>2030</th>\n      <th>2050</th>\n    </tr>\n  </thead>\n  <tbody>\n    <tr>\n      <th>0</th>\n      <td>FAOstat</td>\n      <td>Africa</td>\n      <td>N2O</td>\n      <td>Gg N2O / year</td>\n      <td>Cropland and grassland organic soils</td>\n      <td>34.3224</td>\n      <td>34.3224</td>\n      <td>34.3224</td>\n      <td>34.3224</td>\n      <td>34.3211</td>\n      <td>...</td>\n      <td>35.2262</td>\n      <td>35.2203</td>\n      <td>35.1451</td>\n      <td>35.1434</td>\n      <td>35.1327</td>\n      <td>35.1277</td>\n      <td>35.0546</td>\n      <td>35.0546</td>\n      <td>35.0546</td>\n      <td>35.0546</td>\n    </tr>\n    <tr>\n      <th>1</th>\n      <td>FAOstat</td>\n      <td>Africa</td>\n      <td>N2O</td>\n      <td>Gg N2O / year</td>\n      <td>Cropland organic soils</td>\n      <td>17.4597</td>\n      <td>17.4597</td>\n      <td>17.4597</td>\n      <td>17.4597</td>\n      <td>17.4588</td>\n      <td>...</td>\n      <td>18.1675</td>\n      <td>18.1546</td>\n      <td>18.1318</td>\n      <td>18.1307</td>\n      <td>18.1014</td>\n      <td>18.0904</td>\n      <td>18.0273</td>\n      <td>18.0273</td>\n      <td>18.0273</td>\n      <td>18.0273</td>\n    </tr>\n    <tr>\n      <th>2</th>\n      <td>FAOstat</td>\n      <td>Africa</td>\n      <td>N2O</td>\n      <td>Gg N2O / year</td>\n      <td>Grassland organic soils</td>\n      <td>16.8627</td>\n      <td>16.8627</td>\n      <td>16.8627</td>\n      <td>16.8627</td>\n      <td>16.8623</td>\n      <td>...</td>\n      <td>17.0586</td>\n      <td>17.0657</td>\n      <td>17.0133</td>\n      <td>17.0127</td>\n      <td>17.0313</td>\n      <td>17.0373</td>\n      <td>17.0272</td>\n      <td>17.0272</td>\n      <td>17.0272</td>\n      <td>17.0272</td>\n    </tr>\n    <tr>\n      <th>3</th>\n      <td>FAOstat</td>\n      <td>Albania</td>\n      <td>N2O</td>\n      <td>Gg N2O / year</td>\n      <td>Cropland and grassland organic soils</td>\n      <td>0.0471</td>\n      <td>0.0471</td>\n      <td>0.0471</td>\n      <td>0.0471</td>\n      <td>0.0471</td>\n      <td>...</td>\n      <td>0.0470</td>\n      <td>0.0470</td>\n      <td>0.0470</td>\n      <td>0.0470</td>\n      <td>0.0468</td>\n      <td>0.0468</td>\n      <td>0.0460</td>\n      <td>0.0460</td>\n      <td>0.0460</td>\n      <td>0.0460</td>\n    </tr>\n    <tr>\n      <th>4</th>\n      <td>FAOstat</td>\n      <td>Albania</td>\n      <td>N2O</td>\n      <td>Gg N2O / year</td>\n      <td>Cropland organic soils</td>\n      <td>0.0378</td>\n      <td>0.0378</td>\n      <td>0.0378</td>\n      <td>0.0378</td>\n      <td>0.0378</td>\n      <td>...</td>\n      <td>0.0377</td>\n      <td>0.0377</td>\n      <td>0.0377</td>\n      <td>0.0377</td>\n      <td>0.0376</td>\n      <td>0.0376</td>\n      <td>0.0369</td>\n      <td>0.0369</td>\n      <td>0.0369</td>\n      <td>0.0369</td>\n    </tr>\n  </tbody>\n</table>\n<p>5 rows × 37 columns</p>\n</div>"
     },
     "execution_count": 3,
     "metadata": {},
     "output_type": "execute_result"
    }
   ],
   "source": [
    "AgN2O_if = pm2.pm2io.read_long_csv_file_if(\n",
    "    file,\n",
    "    coords_cols=coords_cols,\n",
    "    coords_defaults=coords_defaults,\n",
    "    coords_terminologies=coords_terminologies,\n",
    "    coords_value_mapping=coords_value_mapping,\n",
    "    filter_keep=filter_keep,\n",
    "    meta_data=meta_data,\n",
    "    time_format=\"%Y\",\n",
    ")\n",
    "AgN2O_if.head()"
   ]
  },
  {
   "cell_type": "code",
   "execution_count": 4,
   "outputs": [
    {
     "data": {
      "text/plain": "{'attrs': {'references': 'http://www.fao.org/faostat/en/#data/GV/metadata',\n  'area': 'area (FAOstat)',\n  'cat': 'category (FAOstat)'},\n 'time_format': '%Y',\n 'dimensions': {'*': ['source',\n   'area (FAOstat)',\n   'entity',\n   'unit',\n   'category (FAOstat)']}}"
     },
     "execution_count": 4,
     "metadata": {},
     "output_type": "execute_result"
    }
   ],
   "source": [
    "AgN2O_if.attrs"
   ],
   "metadata": {
    "collapsed": false,
    "pycharm": {
     "name": "#%%\n"
    }
   }
  },
  {
   "cell_type": "markdown",
   "metadata": {},
   "source": [
    "## Transformation to PRIMAP2 xarray format ##\n",
    "The transformation to PRIMAP2 xarray format is done using the function `from_interchange_format` which takes an interchange format DataFrame.\n",
    "The resulting xr Dataset is already quantified, thus the variables are pint arrays which include a unit."
   ]
  },
  {
   "cell_type": "code",
   "execution_count": 5,
   "metadata": {},
   "outputs": [
    {
     "name": "stderr",
     "output_type": "stream",
     "text": [
      "2021-04-13 17:03:06.126 | DEBUG    | primap2.pm2io._interchange_format:from_interchange_format:266 - Expected array shapes: [[1, 147, 1, 3]], resulting in size 441.\n",
      "2021-04-13 17:03:06.145 | INFO     | primap2._data_format:ensure_valid_attributes:245 - Reference information is not a DOI: 'http://www.fao.org/faostat/en/#data/GV/metadata'\n"
     ]
    },
    {
     "data": {
      "text/plain": "<xarray.Dataset>\nDimensions:             (area (FAOstat): 147, category (FAOstat): 3, source: 1, time: 32)\nCoordinates:\n  * time                (time) datetime64[ns] 1990-01-01 ... 2050-01-01\n  * source              (source) object 'FAOstat'\n  * category (FAOstat)  (category (FAOstat)) object 'Cropland and grassland o...\n  * area (FAOstat)      (area (FAOstat)) object 'Africa' 'Albania' ... 'Zambia'\nData variables:\n    N2O                 (time, source, category (FAOstat), area (FAOstat)) float64 [Gg·N2O/a] ...\nAttributes:\n    references:  http://www.fao.org/faostat/en/#data/GV/metadata\n    area:        area (FAOstat)\n    cat:         category (FAOstat)",
      "text/html": "<div><svg style=\"position: absolute; width: 0; height: 0; overflow: hidden\">\n<defs>\n<symbol id=\"icon-database\" viewBox=\"0 0 32 32\">\n<path d=\"M16 0c-8.837 0-16 2.239-16 5v4c0 2.761 7.163 5 16 5s16-2.239 16-5v-4c0-2.761-7.163-5-16-5z\"></path>\n<path d=\"M16 17c-8.837 0-16-2.239-16-5v6c0 2.761 7.163 5 16 5s16-2.239 16-5v-6c0 2.761-7.163 5-16 5z\"></path>\n<path d=\"M16 26c-8.837 0-16-2.239-16-5v6c0 2.761 7.163 5 16 5s16-2.239 16-5v-6c0 2.761-7.163 5-16 5z\"></path>\n</symbol>\n<symbol id=\"icon-file-text2\" viewBox=\"0 0 32 32\">\n<path d=\"M28.681 7.159c-0.694-0.947-1.662-2.053-2.724-3.116s-2.169-2.030-3.116-2.724c-1.612-1.182-2.393-1.319-2.841-1.319h-15.5c-1.378 0-2.5 1.121-2.5 2.5v27c0 1.378 1.122 2.5 2.5 2.5h23c1.378 0 2.5-1.122 2.5-2.5v-19.5c0-0.448-0.137-1.23-1.319-2.841zM24.543 5.457c0.959 0.959 1.712 1.825 2.268 2.543h-4.811v-4.811c0.718 0.556 1.584 1.309 2.543 2.268zM28 29.5c0 0.271-0.229 0.5-0.5 0.5h-23c-0.271 0-0.5-0.229-0.5-0.5v-27c0-0.271 0.229-0.5 0.5-0.5 0 0 15.499-0 15.5 0v7c0 0.552 0.448 1 1 1h7v19.5z\"></path>\n<path d=\"M23 26h-14c-0.552 0-1-0.448-1-1s0.448-1 1-1h14c0.552 0 1 0.448 1 1s-0.448 1-1 1z\"></path>\n<path d=\"M23 22h-14c-0.552 0-1-0.448-1-1s0.448-1 1-1h14c0.552 0 1 0.448 1 1s-0.448 1-1 1z\"></path>\n<path d=\"M23 18h-14c-0.552 0-1-0.448-1-1s0.448-1 1-1h14c0.552 0 1 0.448 1 1s-0.448 1-1 1z\"></path>\n</symbol>\n</defs>\n</svg>\n<style>/* CSS stylesheet for displaying xarray objects in jupyterlab.\n *\n */\n\n:root {\n  --xr-font-color0: var(--jp-content-font-color0, rgba(0, 0, 0, 1));\n  --xr-font-color2: var(--jp-content-font-color2, rgba(0, 0, 0, 0.54));\n  --xr-font-color3: var(--jp-content-font-color3, rgba(0, 0, 0, 0.38));\n  --xr-border-color: var(--jp-border-color2, #e0e0e0);\n  --xr-disabled-color: var(--jp-layout-color3, #bdbdbd);\n  --xr-background-color: var(--jp-layout-color0, white);\n  --xr-background-color-row-even: var(--jp-layout-color1, white);\n  --xr-background-color-row-odd: var(--jp-layout-color2, #eeeeee);\n}\n\nhtml[theme=dark],\nbody.vscode-dark {\n  --xr-font-color0: rgba(255, 255, 255, 1);\n  --xr-font-color2: rgba(255, 255, 255, 0.54);\n  --xr-font-color3: rgba(255, 255, 255, 0.38);\n  --xr-border-color: #1F1F1F;\n  --xr-disabled-color: #515151;\n  --xr-background-color: #111111;\n  --xr-background-color-row-even: #111111;\n  --xr-background-color-row-odd: #313131;\n}\n\n.xr-wrap {\n  display: block;\n  min-width: 300px;\n  max-width: 700px;\n}\n\n.xr-text-repr-fallback {\n  /* fallback to plain text repr when CSS is not injected (untrusted notebook) */\n  display: none;\n}\n\n.xr-header {\n  padding-top: 6px;\n  padding-bottom: 6px;\n  margin-bottom: 4px;\n  border-bottom: solid 1px var(--xr-border-color);\n}\n\n.xr-header > div,\n.xr-header > ul {\n  display: inline;\n  margin-top: 0;\n  margin-bottom: 0;\n}\n\n.xr-obj-type,\n.xr-array-name {\n  margin-left: 2px;\n  margin-right: 10px;\n}\n\n.xr-obj-type {\n  color: var(--xr-font-color2);\n}\n\n.xr-sections {\n  padding-left: 0 !important;\n  display: grid;\n  grid-template-columns: 150px auto auto 1fr 20px 20px;\n}\n\n.xr-section-item {\n  display: contents;\n}\n\n.xr-section-item input {\n  display: none;\n}\n\n.xr-section-item input + label {\n  color: var(--xr-disabled-color);\n}\n\n.xr-section-item input:enabled + label {\n  cursor: pointer;\n  color: var(--xr-font-color2);\n}\n\n.xr-section-item input:enabled + label:hover {\n  color: var(--xr-font-color0);\n}\n\n.xr-section-summary {\n  grid-column: 1;\n  color: var(--xr-font-color2);\n  font-weight: 500;\n}\n\n.xr-section-summary > span {\n  display: inline-block;\n  padding-left: 0.5em;\n}\n\n.xr-section-summary-in:disabled + label {\n  color: var(--xr-font-color2);\n}\n\n.xr-section-summary-in + label:before {\n  display: inline-block;\n  content: '►';\n  font-size: 11px;\n  width: 15px;\n  text-align: center;\n}\n\n.xr-section-summary-in:disabled + label:before {\n  color: var(--xr-disabled-color);\n}\n\n.xr-section-summary-in:checked + label:before {\n  content: '▼';\n}\n\n.xr-section-summary-in:checked + label > span {\n  display: none;\n}\n\n.xr-section-summary,\n.xr-section-inline-details {\n  padding-top: 4px;\n  padding-bottom: 4px;\n}\n\n.xr-section-inline-details {\n  grid-column: 2 / -1;\n}\n\n.xr-section-details {\n  display: none;\n  grid-column: 1 / -1;\n  margin-bottom: 5px;\n}\n\n.xr-section-summary-in:checked ~ .xr-section-details {\n  display: contents;\n}\n\n.xr-array-wrap {\n  grid-column: 1 / -1;\n  display: grid;\n  grid-template-columns: 20px auto;\n}\n\n.xr-array-wrap > label {\n  grid-column: 1;\n  vertical-align: top;\n}\n\n.xr-preview {\n  color: var(--xr-font-color3);\n}\n\n.xr-array-preview,\n.xr-array-data {\n  padding: 0 5px !important;\n  grid-column: 2;\n}\n\n.xr-array-data,\n.xr-array-in:checked ~ .xr-array-preview {\n  display: none;\n}\n\n.xr-array-in:checked ~ .xr-array-data,\n.xr-array-preview {\n  display: inline-block;\n}\n\n.xr-dim-list {\n  display: inline-block !important;\n  list-style: none;\n  padding: 0 !important;\n  margin: 0;\n}\n\n.xr-dim-list li {\n  display: inline-block;\n  padding: 0;\n  margin: 0;\n}\n\n.xr-dim-list:before {\n  content: '(';\n}\n\n.xr-dim-list:after {\n  content: ')';\n}\n\n.xr-dim-list li:not(:last-child):after {\n  content: ',';\n  padding-right: 5px;\n}\n\n.xr-has-index {\n  font-weight: bold;\n}\n\n.xr-var-list,\n.xr-var-item {\n  display: contents;\n}\n\n.xr-var-item > div,\n.xr-var-item label,\n.xr-var-item > .xr-var-name span {\n  background-color: var(--xr-background-color-row-even);\n  margin-bottom: 0;\n}\n\n.xr-var-item > .xr-var-name:hover span {\n  padding-right: 5px;\n}\n\n.xr-var-list > li:nth-child(odd) > div,\n.xr-var-list > li:nth-child(odd) > label,\n.xr-var-list > li:nth-child(odd) > .xr-var-name span {\n  background-color: var(--xr-background-color-row-odd);\n}\n\n.xr-var-name {\n  grid-column: 1;\n}\n\n.xr-var-dims {\n  grid-column: 2;\n}\n\n.xr-var-dtype {\n  grid-column: 3;\n  text-align: right;\n  color: var(--xr-font-color2);\n}\n\n.xr-var-preview {\n  grid-column: 4;\n}\n\n.xr-var-name,\n.xr-var-dims,\n.xr-var-dtype,\n.xr-preview,\n.xr-attrs dt {\n  white-space: nowrap;\n  overflow: hidden;\n  text-overflow: ellipsis;\n  padding-right: 10px;\n}\n\n.xr-var-name:hover,\n.xr-var-dims:hover,\n.xr-var-dtype:hover,\n.xr-attrs dt:hover {\n  overflow: visible;\n  width: auto;\n  z-index: 1;\n}\n\n.xr-var-attrs,\n.xr-var-data {\n  display: none;\n  background-color: var(--xr-background-color) !important;\n  padding-bottom: 5px !important;\n}\n\n.xr-var-attrs-in:checked ~ .xr-var-attrs,\n.xr-var-data-in:checked ~ .xr-var-data {\n  display: block;\n}\n\n.xr-var-data > table {\n  float: right;\n}\n\n.xr-var-name span,\n.xr-var-data,\n.xr-attrs {\n  padding-left: 25px !important;\n}\n\n.xr-attrs,\n.xr-var-attrs,\n.xr-var-data {\n  grid-column: 1 / -1;\n}\n\ndl.xr-attrs {\n  padding: 0;\n  margin: 0;\n  display: grid;\n  grid-template-columns: 125px auto;\n}\n\n.xr-attrs dt,\n.xr-attrs dd {\n  padding: 0;\n  margin: 0;\n  float: left;\n  padding-right: 10px;\n  width: auto;\n}\n\n.xr-attrs dt {\n  font-weight: normal;\n  grid-column: 1;\n}\n\n.xr-attrs dt:hover span {\n  display: inline-block;\n  background: var(--xr-background-color);\n  padding-right: 10px;\n}\n\n.xr-attrs dd {\n  grid-column: 2;\n  white-space: pre-wrap;\n  word-break: break-all;\n}\n\n.xr-icon-database,\n.xr-icon-file-text2 {\n  display: inline-block;\n  vertical-align: middle;\n  width: 1em;\n  height: 1.5em !important;\n  stroke-width: 0;\n  stroke: currentColor;\n  fill: currentColor;\n}\n</style><pre class='xr-text-repr-fallback'>&lt;xarray.Dataset&gt;\nDimensions:             (area (FAOstat): 147, category (FAOstat): 3, source: 1, time: 32)\nCoordinates:\n  * time                (time) datetime64[ns] 1990-01-01 ... 2050-01-01\n  * source              (source) object &#x27;FAOstat&#x27;\n  * category (FAOstat)  (category (FAOstat)) object &#x27;Cropland and grassland o...\n  * area (FAOstat)      (area (FAOstat)) object &#x27;Africa&#x27; &#x27;Albania&#x27; ... &#x27;Zambia&#x27;\nData variables:\n    N2O                 (time, source, category (FAOstat), area (FAOstat)) float64 [Gg·N2O/a] ...\nAttributes:\n    references:  http://www.fao.org/faostat/en/#data/GV/metadata\n    area:        area (FAOstat)\n    cat:         category (FAOstat)</pre><div class='xr-wrap' hidden><div class='xr-header'><div class='xr-obj-type'>xarray.Dataset</div></div><ul class='xr-sections'><li class='xr-section-item'><input id='section-b9f0d6f4-d0d3-407a-bd9b-ce75336de8d0' class='xr-section-summary-in' type='checkbox' disabled ><label for='section-b9f0d6f4-d0d3-407a-bd9b-ce75336de8d0' class='xr-section-summary'  title='Expand/collapse section'>Dimensions:</label><div class='xr-section-inline-details'><ul class='xr-dim-list'><li><span class='xr-has-index'>area (FAOstat)</span>: 147</li><li><span class='xr-has-index'>category (FAOstat)</span>: 3</li><li><span class='xr-has-index'>source</span>: 1</li><li><span class='xr-has-index'>time</span>: 32</li></ul></div><div class='xr-section-details'></div></li><li class='xr-section-item'><input id='section-f13b301d-0fb8-45c9-9c54-d99de72cbe38' class='xr-section-summary-in' type='checkbox'  checked><label for='section-f13b301d-0fb8-45c9-9c54-d99de72cbe38' class='xr-section-summary' >Coordinates: <span>(4)</span></label><div class='xr-section-inline-details'></div><div class='xr-section-details'><ul class='xr-var-list'><li class='xr-var-item'><div class='xr-var-name'><span class='xr-has-index'>time</span></div><div class='xr-var-dims'>(time)</div><div class='xr-var-dtype'>datetime64[ns]</div><div class='xr-var-preview xr-preview'>1990-01-01 ... 2050-01-01</div><input id='attrs-d2811e04-ebfe-4954-a393-6110ac1e3627' class='xr-var-attrs-in' type='checkbox' disabled><label for='attrs-d2811e04-ebfe-4954-a393-6110ac1e3627' title='Show/Hide attributes'><svg class='icon xr-icon-file-text2'><use xlink:href='#icon-file-text2'></use></svg></label><input id='data-28aed8ec-58c5-4b5a-82c1-b7bca3299bd6' class='xr-var-data-in' type='checkbox'><label for='data-28aed8ec-58c5-4b5a-82c1-b7bca3299bd6' title='Show/Hide data repr'><svg class='icon xr-icon-database'><use xlink:href='#icon-database'></use></svg></label><div class='xr-var-attrs'><dl class='xr-attrs'></dl></div><div class='xr-var-data'><pre>array([&#x27;1990-01-01T00:00:00.000000000&#x27;, &#x27;1991-01-01T00:00:00.000000000&#x27;,\n       &#x27;1992-01-01T00:00:00.000000000&#x27;, &#x27;1993-01-01T00:00:00.000000000&#x27;,\n       &#x27;1994-01-01T00:00:00.000000000&#x27;, &#x27;1995-01-01T00:00:00.000000000&#x27;,\n       &#x27;1996-01-01T00:00:00.000000000&#x27;, &#x27;1997-01-01T00:00:00.000000000&#x27;,\n       &#x27;1998-01-01T00:00:00.000000000&#x27;, &#x27;1999-01-01T00:00:00.000000000&#x27;,\n       &#x27;2000-01-01T00:00:00.000000000&#x27;, &#x27;2001-01-01T00:00:00.000000000&#x27;,\n       &#x27;2002-01-01T00:00:00.000000000&#x27;, &#x27;2003-01-01T00:00:00.000000000&#x27;,\n       &#x27;2004-01-01T00:00:00.000000000&#x27;, &#x27;2005-01-01T00:00:00.000000000&#x27;,\n       &#x27;2006-01-01T00:00:00.000000000&#x27;, &#x27;2007-01-01T00:00:00.000000000&#x27;,\n       &#x27;2008-01-01T00:00:00.000000000&#x27;, &#x27;2009-01-01T00:00:00.000000000&#x27;,\n       &#x27;2010-01-01T00:00:00.000000000&#x27;, &#x27;2011-01-01T00:00:00.000000000&#x27;,\n       &#x27;2012-01-01T00:00:00.000000000&#x27;, &#x27;2013-01-01T00:00:00.000000000&#x27;,\n       &#x27;2014-01-01T00:00:00.000000000&#x27;, &#x27;2015-01-01T00:00:00.000000000&#x27;,\n       &#x27;2016-01-01T00:00:00.000000000&#x27;, &#x27;2017-01-01T00:00:00.000000000&#x27;,\n       &#x27;2018-01-01T00:00:00.000000000&#x27;, &#x27;2019-01-01T00:00:00.000000000&#x27;,\n       &#x27;2030-01-01T00:00:00.000000000&#x27;, &#x27;2050-01-01T00:00:00.000000000&#x27;],\n      dtype=&#x27;datetime64[ns]&#x27;)</pre></div></li><li class='xr-var-item'><div class='xr-var-name'><span class='xr-has-index'>source</span></div><div class='xr-var-dims'>(source)</div><div class='xr-var-dtype'>object</div><div class='xr-var-preview xr-preview'>&#x27;FAOstat&#x27;</div><input id='attrs-c0d2216e-932d-4e23-b0bc-ec07b1939dbc' class='xr-var-attrs-in' type='checkbox' disabled><label for='attrs-c0d2216e-932d-4e23-b0bc-ec07b1939dbc' title='Show/Hide attributes'><svg class='icon xr-icon-file-text2'><use xlink:href='#icon-file-text2'></use></svg></label><input id='data-bb200e59-dcfd-4095-a47f-786326c93ff0' class='xr-var-data-in' type='checkbox'><label for='data-bb200e59-dcfd-4095-a47f-786326c93ff0' title='Show/Hide data repr'><svg class='icon xr-icon-database'><use xlink:href='#icon-database'></use></svg></label><div class='xr-var-attrs'><dl class='xr-attrs'></dl></div><div class='xr-var-data'><pre>array([&#x27;FAOstat&#x27;], dtype=object)</pre></div></li><li class='xr-var-item'><div class='xr-var-name'><span class='xr-has-index'>category (FAOstat)</span></div><div class='xr-var-dims'>(category (FAOstat))</div><div class='xr-var-dtype'>object</div><div class='xr-var-preview xr-preview'>&#x27;Cropland and grassland organic ...</div><input id='attrs-449f5dd9-f08e-4b41-8287-7c84541d6850' class='xr-var-attrs-in' type='checkbox' disabled><label for='attrs-449f5dd9-f08e-4b41-8287-7c84541d6850' title='Show/Hide attributes'><svg class='icon xr-icon-file-text2'><use xlink:href='#icon-file-text2'></use></svg></label><input id='data-e7db1fb3-2ebd-406c-b128-f1c7b0f0a3c0' class='xr-var-data-in' type='checkbox'><label for='data-e7db1fb3-2ebd-406c-b128-f1c7b0f0a3c0' title='Show/Hide data repr'><svg class='icon xr-icon-database'><use xlink:href='#icon-database'></use></svg></label><div class='xr-var-attrs'><dl class='xr-attrs'></dl></div><div class='xr-var-data'><pre>array([&#x27;Cropland and grassland organic soils&#x27;, &#x27;Cropland organic soils&#x27;,\n       &#x27;Grassland organic soils&#x27;], dtype=object)</pre></div></li><li class='xr-var-item'><div class='xr-var-name'><span class='xr-has-index'>area (FAOstat)</span></div><div class='xr-var-dims'>(area (FAOstat))</div><div class='xr-var-dtype'>object</div><div class='xr-var-preview xr-preview'>&#x27;Africa&#x27; &#x27;Albania&#x27; ... &#x27;Zambia&#x27;</div><input id='attrs-d0f82726-4ad3-4709-9112-7570fbe4a175' class='xr-var-attrs-in' type='checkbox' disabled><label for='attrs-d0f82726-4ad3-4709-9112-7570fbe4a175' title='Show/Hide attributes'><svg class='icon xr-icon-file-text2'><use xlink:href='#icon-file-text2'></use></svg></label><input id='data-4be5894b-5f08-4626-b92c-16efd6e67a44' class='xr-var-data-in' type='checkbox'><label for='data-4be5894b-5f08-4626-b92c-16efd6e67a44' title='Show/Hide data repr'><svg class='icon xr-icon-database'><use xlink:href='#icon-database'></use></svg></label><div class='xr-var-attrs'><dl class='xr-attrs'></dl></div><div class='xr-var-data'><pre>array([&#x27;Africa&#x27;, &#x27;Albania&#x27;, &#x27;Americas&#x27;, &#x27;Angola&#x27;, &#x27;Annex I countries&#x27;,\n       &#x27;Argentina&#x27;, &#x27;Asia&#x27;, &#x27;Australia&#x27;, &#x27;Australia and New Zealand&#x27;,\n       &#x27;Austria&#x27;, &#x27;Bangladesh&#x27;, &#x27;Belarus&#x27;, &#x27;Belgium&#x27;, &#x27;Belgium-Luxembourg&#x27;,\n       &#x27;Belize&#x27;, &#x27;Bosnia and Herzegovina&#x27;, &#x27;Botswana&#x27;, &#x27;Brazil&#x27;,\n       &#x27;Brunei Darussalam&#x27;, &#x27;Bulgaria&#x27;, &#x27;Burundi&#x27;, &#x27;Cameroon&#x27;, &#x27;Canada&#x27;,\n       &#x27;Caribbean&#x27;, &#x27;Central African Republic&#x27;, &#x27;Central America&#x27;, &#x27;Chile&#x27;,\n       &#x27;China&#x27;, &#x27;China, mainland&#x27;, &#x27;Colombia&#x27;, &#x27;Congo&#x27;, &#x27;Costa Rica&#x27;,\n       &#x27;Croatia&#x27;, &#x27;Czechia&#x27;, &#x27;Czechoslovakia&#x27;, &quot;C�te d&#x27;Ivoire&quot;,\n       &quot;Democratic People&#x27;s Republic of Korea&quot;,\n       &#x27;Democratic Republic of the Congo&#x27;, &#x27;Denmark&#x27;, &#x27;Eastern Africa&#x27;,\n       &#x27;Eastern Asia&#x27;, &#x27;Eastern Europe&#x27;, &#x27;Ecuador&#x27;, &#x27;Equatorial Guinea&#x27;,\n       &#x27;Eritrea&#x27;, &#x27;Estonia&#x27;, &#x27;Ethiopia&#x27;, &#x27;Ethiopia PDR&#x27;, &#x27;Europe&#x27;,\n       &#x27;European Union&#x27;, &#x27;Falkland Islands (Malvinas)&#x27;, &#x27;Faroe Islands&#x27;,\n       &#x27;Fiji&#x27;, &#x27;Finland&#x27;, &#x27;France&#x27;, &#x27;French Guiana&#x27;, &#x27;Gabon&#x27;, &#x27;Germany&#x27;,\n       &#x27;Ghana&#x27;, &#x27;Greece&#x27;, &#x27;Guinea&#x27;, &#x27;Guinea-Bissau&#x27;, &#x27;Guyana&#x27;, &#x27;Hungary&#x27;,\n       &#x27;Iceland&#x27;, &#x27;India&#x27;, &#x27;Indonesia&#x27;, &#x27;Ireland&#x27;, &#x27;Isle of Man&#x27;, &#x27;Italy&#x27;,\n       &#x27;Jamaica&#x27;, &#x27;Japan&#x27;, &#x27;Kenya&#x27;, &#x27;Land Locked Developing Countries&#x27;,\n       &#x27;Latvia&#x27;, &#x27;Least Developed Countries&#x27;, &#x27;Liberia&#x27;, &#x27;Lithuania&#x27;,\n       &#x27;Low Income Food Deficit Countries&#x27;, &#x27;Luxembourg&#x27;, &#x27;Madagascar&#x27;,\n       &#x27;Malawi&#x27;, &#x27;Malaysia&#x27;, &#x27;Melanesia&#x27;, &#x27;Middle Africa&#x27;, &#x27;Mongolia&#x27;,\n       &#x27;Montenegro&#x27;, &#x27;Myanmar&#x27;, &#x27;Namibia&#x27;, &#x27;Nepal&#x27;,\n       &#x27;Net Food Importing Developing Countries&#x27;, &#x27;Netherlands&#x27;, &#x27;New Zealand&#x27;,\n       &#x27;Nicaragua&#x27;, &#x27;Non-Annex I countries&#x27;, &#x27;Northern Africa&#x27;,\n       &#x27;Northern America&#x27;, &#x27;Northern Europe&#x27;, &#x27;Norway&#x27;, &#x27;OECD&#x27;, &#x27;Oceania&#x27;,\n       &#x27;Panama&#x27;, &#x27;Papua New Guinea&#x27;, &#x27;Peru&#x27;, &#x27;Poland&#x27;, &#x27;Portugal&#x27;,\n       &#x27;Puerto Rico&#x27;, &#x27;Republic of Moldova&#x27;, &#x27;Romania&#x27;, &#x27;Russian Federation&#x27;,\n       &#x27;Rwanda&#x27;, &#x27;Serbia&#x27;, &#x27;Serbia and Montenegro&#x27;, &#x27;Slovakia&#x27;, &#x27;Slovenia&#x27;,\n       &#x27;Small Island Developing States&#x27;, &#x27;Solomon Islands&#x27;, &#x27;South Africa&#x27;,\n       &#x27;South America&#x27;, &#x27;South Sudan&#x27;, &#x27;South-Eastern Asia&#x27;, &#x27;Southern Africa&#x27;,\n       &#x27;Southern Asia&#x27;, &#x27;Southern Europe&#x27;, &#x27;Spain&#x27;, &#x27;Sri Lanka&#x27;,\n       &#x27;Sudan (former)&#x27;, &#x27;Suriname&#x27;, &#x27;Sweden&#x27;, &#x27;Switzerland&#x27;, &#x27;Thailand&#x27;,\n       &#x27;Turkey&#x27;, &#x27;USSR&#x27;, &#x27;Uganda&#x27;, &#x27;Ukraine&#x27;, &#x27;United Kingdom&#x27;,\n       &#x27;United Republic of Tanzania&#x27;, &#x27;United States of America&#x27;, &#x27;Uruguay&#x27;,\n       &#x27;Venezuela (Bolivarian Republic of)&#x27;, &#x27;Viet Nam&#x27;, &#x27;Western Africa&#x27;,\n       &#x27;Western Asia&#x27;, &#x27;Western Europe&#x27;, &#x27;World&#x27;, &#x27;Yugoslav SFR&#x27;, &#x27;Zambia&#x27;],\n      dtype=object)</pre></div></li></ul></div></li><li class='xr-section-item'><input id='section-332bf7cc-e0bb-4a73-8565-9475c99dcb03' class='xr-section-summary-in' type='checkbox'  checked><label for='section-332bf7cc-e0bb-4a73-8565-9475c99dcb03' class='xr-section-summary' >Data variables: <span>(1)</span></label><div class='xr-section-inline-details'></div><div class='xr-section-details'><ul class='xr-var-list'><li class='xr-var-item'><div class='xr-var-name'><span>N2O</span></div><div class='xr-var-dims'>(time, source, category (FAOstat), area (FAOstat))</div><div class='xr-var-dtype'>float64</div><div class='xr-var-preview xr-preview'>[Gg·N2O/a] 34.32 0.0471 ... 5.921</div><input id='attrs-509f644d-0aa1-44d4-b877-3a823940c0ac' class='xr-var-attrs-in' type='checkbox' ><label for='attrs-509f644d-0aa1-44d4-b877-3a823940c0ac' title='Show/Hide attributes'><svg class='icon xr-icon-file-text2'><use xlink:href='#icon-file-text2'></use></svg></label><input id='data-69d1c22f-fba3-4e51-a2de-343a5f3c3eee' class='xr-var-data-in' type='checkbox'><label for='data-69d1c22f-fba3-4e51-a2de-343a5f3c3eee' title='Show/Hide data repr'><svg class='icon xr-icon-database'><use xlink:href='#icon-database'></use></svg></label><div class='xr-var-attrs'><dl class='xr-attrs'><dt><span>entity :</span></dt><dd>N2O</dd></dl></div><div class='xr-var-data'><table><tbody><tr><th>Magnitude</th><td style='text-align:left;'><pre>[[[[34.3224 0.0471 52.6792 ... 382.035 0.1305 9.1669]<br>   [17.4597 0.0378 30.6613 ... 250.4325 0.0731 3.1896]<br>   [16.8627 0.0093 22.0179 ... 131.6025 0.0574 5.9773]]]<br><br><br> [[[34.3224 0.0471 52.6792 ... 382.035 0.1305 9.1669]<br>   [17.4597 0.0378 30.6613 ... 250.4325 0.0731 3.1896]<br>   [16.8627 0.0093 22.0179 ... 131.6025 0.0574 5.9773]]]<br><br><br> [[[34.3224 0.0471 52.6792 ... 382.035 nan 9.1669]<br>   [17.4597 0.0378 30.6613 ... 250.4325 nan 3.1896]<br>   [16.8627 0.0093 22.0179 ... 131.6025 nan 5.9773]]]<br><br><br> ...<br><br><br> [[[35.0546 0.046 55.6044 ... 416.8022 nan 9.1346]<br>   [18.0273 0.0369 32.0142 ... 280.9176 nan 3.2132]<br>   [17.0272 0.0091 23.5902 ... 135.8846 nan 5.9214]]]<br><br><br> [[[35.0546 0.046 55.6044 ... 416.8022 nan 9.1346]<br>   [18.0273 0.0369 32.0142 ... 280.9176 nan 3.2132]<br>   [17.0272 0.0091 23.5902 ... 135.8846 nan 5.9214]]]<br><br><br> [[[35.0546 0.046 55.6044 ... 416.8022 nan 9.1346]<br>   [18.0273 0.0369 32.0142 ... 280.9176 nan 3.2132]<br>   [17.0272 0.0091 23.5902 ... 135.8846 nan 5.9214]]]]</pre></td></tr><tr><th>Units</th><td style='text-align:left;'>N2O gigagram/year</td></tr></tbody></table></div></li></ul></div></li><li class='xr-section-item'><input id='section-e2441a0e-2ce8-4865-aed8-2a1c0a192cb2' class='xr-section-summary-in' type='checkbox'  checked><label for='section-e2441a0e-2ce8-4865-aed8-2a1c0a192cb2' class='xr-section-summary' >Attributes: <span>(3)</span></label><div class='xr-section-inline-details'></div><div class='xr-section-details'><dl class='xr-attrs'><dt><span>references :</span></dt><dd>http://www.fao.org/faostat/en/#data/GV/metadata</dd><dt><span>area :</span></dt><dd>area (FAOstat)</dd><dt><span>cat :</span></dt><dd>category (FAOstat)</dd></dl></div></li></ul></div></div>"
     },
     "execution_count": 5,
     "metadata": {},
     "output_type": "execute_result"
    }
   ],
   "source": [
    "AgN2O = pm2.pm2io.from_interchange_format(AgN2O_if)\n",
    "AgN2O"
   ]
  },
  {
   "cell_type": "code",
   "execution_count": 5,
   "outputs": [],
   "source": [],
   "metadata": {
    "collapsed": false,
    "pycharm": {
     "name": "#%%\n"
    }
   }
  }
 ],
 "metadata": {
  "kernelspec": {
   "display_name": "Python 3",
   "language": "python",
   "name": "python3"
  },
  "language_info": {
   "codemirror_mode": {
    "name": "ipython",
    "version": 3
   },
   "file_extension": ".py",
   "mimetype": "text/x-python",
   "name": "python",
   "nbconvert_exporter": "python",
   "pygments_lexer": "ipython3",
   "version": "3.8.5"
  }
 },
 "nbformat": 4,
 "nbformat_minor": 4
}
