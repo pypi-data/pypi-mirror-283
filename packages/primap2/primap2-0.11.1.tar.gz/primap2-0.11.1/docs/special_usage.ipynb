{
 "cells": [
  {
   "cell_type": "markdown",
   "id": "24b10637-6afc-44db-a8dc-47ede1e84682",
   "metadata": {
    "execution": {
     "iopub.execute_input": "2024-04-02T10:21:45.223320Z",
     "iopub.status.busy": "2024-04-02T10:21:45.223155Z",
     "iopub.status.idle": "2024-04-02T10:21:45.226128Z",
     "shell.execute_reply": "2024-04-02T10:21:45.225574Z",
     "shell.execute_reply.started": "2024-04-02T10:21:45.223309Z"
    }
   },
   "source": [
    "# Specialized Usage\n",
    "\n",
    "In this section we present usage examples for functionality which is useful\n",
    "for specific tasks when working with GHG emissions data.\n"
   ]
  },
  {
   "cell_type": "code",
   "id": "27d87c23-db48-4f00-a4ba-efb7fc612ad7",
   "metadata": {},
   "source": [
    "import numpy as np\n",
    "import xarray as xr\n",
    "import primap2\n",
    "from primap2 import ureg\n",
    "\n",
    "# set up logging for the docs - don't show debug messages\n",
    "import sys\n",
    "from loguru import logger\n",
    "\n",
    "logger.remove()\n",
    "logger.add(sys.stderr, level=\"INFO\")"
   ],
   "outputs": [],
   "execution_count": null
  },
  {
   "cell_type": "markdown",
   "id": "78aae0e7-f760-4e1c-a6f1-79cfc30743b4",
   "metadata": {},
   "source": [
    "## Downscaling\n",
    "\n",
    "To downscale a super-category (for example, regional data) to sub-categories\n",
    "(for example, country-level data in the same region), the `downscale_timeseries`\n",
    "function is available. It determines shares from available data points, then\n",
    "does downscaling for years where full information is not available:"
   ]
  },
  {
   "cell_type": "code",
   "id": "6a3560ee-5119-4da1-8706-9df1841d37ec",
   "metadata": {},
   "source": [
    "# select an example dataset\n",
    "da = primap2.open_dataset(\"minimal_ds.nc\")[\"CO2\"].loc[\n",
    "    {\"time\": slice(\"2000\", \"2003\")}\n",
    "]\n",
    "da"
   ],
   "outputs": [],
   "execution_count": null
  },
  {
   "cell_type": "code",
   "id": "353e767e-3521-455a-9e18-01a8240571d3",
   "metadata": {},
   "source": [
    "# compute regional data as sum of country-level data\n",
    "temp = da.sum(dim=\"area (ISO3)\")\n",
    "temp = temp.expand_dims({\"area (ISO3)\": [\"LATAM\"]})\n",
    "# delete data from the country level for the years 2002-2003 (inclusive)\n",
    "da.loc[{\"time\": slice(\"2002\", \"2003\")}].pint.magnitude[:] = np.nan\n",
    "# add regional data to the array\n",
    "da = xr.concat([da, temp], dim=\"area (ISO3)\")\n",
    "da"
   ],
   "outputs": [],
   "execution_count": null
  },
  {
   "cell_type": "code",
   "id": "c9358c81-09a7-4dfa-9537-4bcf01b521d2",
   "metadata": {},
   "source": [
    "# Do the downscaling to fill in country-level data from regional data\n",
    "da.pr.downscale_timeseries(\n",
    "    basket=\"LATAM\",\n",
    "    basket_contents=[\"BOL\", \"MEX\", \"COL\", \"ARG\"],\n",
    "    dim=\"area (ISO3)\",\n",
    ")"
   ],
   "outputs": [],
   "execution_count": null
  },
  {
   "cell_type": "markdown",
   "id": "58de2993-434a-457e-8d58-62c15af05ad9",
   "metadata": {
    "execution": {
     "iopub.execute_input": "2024-04-02T10:24:02.358919Z",
     "iopub.status.busy": "2024-04-02T10:24:02.358734Z",
     "iopub.status.idle": "2024-04-02T10:24:02.364238Z",
     "shell.execute_reply": "2024-04-02T10:24:02.363826Z",
     "shell.execute_reply.started": "2024-04-02T10:24:02.358906Z"
    }
   },
   "source": [
    "For the downscaling, shares for the sub-categories at the points in time where data for\n",
    "all sub-categories is available are determined, the shares are interpolated where data\n",
    "is missing, and then the super-category is downscaled using these shares."
   ]
  },
  {
   "cell_type": "markdown",
   "id": "02078b49-ebdb-414a-a43b-f250f6e144c7",
   "metadata": {},
   "source": [
    "## Handling of gas baskets\n",
    "\n",
    "### Summation\n",
    "\n",
    "To sum the contents of gas baskets like KYOTOGHG, the function\n",
    "[ds.gas_basket_contents_sum](https://primap2.readthedocs.io/en/main/generated/xarray.Dataset.pr.gas_basket_contents_sum.html)\n",
    "is available:"
   ]
  },
  {
   "cell_type": "code",
   "id": "20301a07-02e6-4439-ba13-85319f167bfc",
   "metadata": {},
   "source": [
    "# select example dataset\n",
    "ds = primap2.open_dataset(\"minimal_ds.nc\").loc[\n",
    "    {\"time\": slice(\"2000\", \"2003\")}\n",
    "][[\"CH4\", \"CO2\", \"SF6\"]]\n",
    "ds"
   ],
   "outputs": [],
   "execution_count": null
  },
  {
   "cell_type": "code",
   "id": "34e38ec7-9bad-4806-8fee-56f3e57bb67d",
   "metadata": {},
   "source": [
    "# add (empty) gas basket with corresponding metadata\n",
    "ds[\"KYOTOGHG (AR4GWP100)\"] = xr.full_like(ds[\"CO2\"], np.nan).pr.quantify(\n",
    "    units=\"Gg CO2 / year\"\n",
    ")\n",
    "ds[\"KYOTOGHG (AR4GWP100)\"].attrs = {\"entity\": \"KYOTOGHG\", \"gwp_context\": \"AR4GWP100\"}\n",
    "\n",
    "ds"
   ],
   "outputs": [],
   "execution_count": null
  },
  {
   "cell_type": "code",
   "id": "20f9f831-9557-423f-9b7b-87df197d923b",
   "metadata": {},
   "source": [
    "# compute gas basket from its contents, which have to be given explicitly\n",
    "ds.pr.gas_basket_contents_sum(\n",
    "    basket=\"KYOTOGHG (AR4GWP100)\",\n",
    "    basket_contents=[\"CO2\", \"SF6\", \"CH4\"],\n",
    ")"
   ],
   "outputs": [],
   "execution_count": null
  },
  {
   "cell_type": "markdown",
   "id": "4ae0c47e-7a53-475b-ac70-20bbff42dafa",
   "metadata": {},
   "source": [
    "Note that like all PRIMAP2 functions,\n",
    "[gas_basket_contents_sum](https://primap2.readthedocs.io/en/main/generated/xarray.Dataset.pr.gas_basket_contents_sum.html)\n",
    "returns the result without overwriting anything in the original dataset,\n",
    "so you have to explicitly overwrite existing data if you want that:"
   ]
  },
  {
   "cell_type": "code",
   "id": "c0a6cd25-1285-4716-a05f-42e204e20fd0",
   "metadata": {},
   "source": [
    "ds[\"KYOTOGHG (AR4GWP100)\"] = ds.pr.gas_basket_contents_sum(\n",
    "    basket=\"KYOTOGHG (AR4GWP100)\",\n",
    "    basket_contents=[\"CO2\", \"SF6\", \"CH4\"],\n",
    ")"
   ],
   "outputs": [],
   "execution_count": null
  },
  {
   "cell_type": "markdown",
   "id": "8bc64302-72bb-4636-9163-4a3ec1b722a1",
   "metadata": {},
   "source": [
    "### Filling in missing information\n",
    "\n",
    "To fill in missing data in a gas basket, use\n",
    "[fill_na_gas_basket_from_contents](https://primap2.readthedocs.io/en/main/generated/xarray.Dataset.pr.fill_na_gas_basket_from_contents.html):"
   ]
  },
  {
   "cell_type": "code",
   "id": "1e3a59d0-c6ec-4d66-8849-324cabb857b3",
   "metadata": {},
   "source": [
    "# delete all data about the years 2002-2003 (inclusive) from the\n",
    "# KYOTOGHG data\n",
    "ds[\"KYOTOGHG (AR4GWP100)\"].loc[{\"time\": slice(\"2002\", \"2003\")}].pint.magnitude[\n",
    "    :\n",
    "] = np.nan\n",
    "ds[\"KYOTOGHG (AR4GWP100)\"]"
   ],
   "outputs": [],
   "execution_count": null
  },
  {
   "cell_type": "code",
   "id": "cf82e04d-4948-4d89-baa7-49cefa208b14",
   "metadata": {},
   "source": [
    "ds.pr.fill_na_gas_basket_from_contents(\n",
    "    basket=\"KYOTOGHG (AR4GWP100)\", basket_contents=[\"CO2\", \"SF6\", \"CH4\"]\n",
    ")"
   ],
   "outputs": [],
   "execution_count": null
  },
  {
   "cell_type": "markdown",
   "id": "28b765e0-66d3-44b4-9a8c-bb01e8b2366a",
   "metadata": {},
   "source": [
    "The reverse case is that you are missing some data in the timeseries of\n",
    "individual gases and want to fill those in using downscaled data from\n",
    "a gas basket.\n",
    "Here, use\n",
    "[downscale_gas_timeseries](https://primap2.readthedocs.io/en/main/generated/xarray.Dataset.pr.downscale_gas_timeseries.html):"
   ]
  },
  {
   "cell_type": "code",
   "id": "4b1565a6-6748-43a4-a4aa-297653be42a9",
   "metadata": {},
   "source": [
    "# delete all data about the years 2005-2009 from the individual gas data\n",
    "sel = {\"time\": slice(\"2002\", \"2003\")}\n",
    "ds[\"CO2\"].loc[sel].pint.magnitude[:] = np.nan\n",
    "ds[\"SF6\"].loc[sel].pint.magnitude[:] = np.nan\n",
    "ds[\"CH4\"].loc[sel].pint.magnitude[:] = np.nan\n",
    "ds"
   ],
   "outputs": [],
   "execution_count": null
  },
  {
   "cell_type": "code",
   "id": "d41d6f7e-f155-4118-9083-734fcf12dd2d",
   "metadata": {},
   "source": [
    "# This determines gas shares at the points in time where individual gas\n",
    "# data is available, interpolates the shares where data is missing, and\n",
    "# then downscales the gas basket data using the interpolated shares\n",
    "ds.pr.downscale_gas_timeseries(\n",
    "    basket=\"KYOTOGHG (AR4GWP100)\", basket_contents=[\"CO2\", \"SF6\", \"CH4\"]\n",
    ")"
   ],
   "outputs": [],
   "execution_count": null
  },
  {
   "cell_type": "markdown",
   "id": "f054a5b1-ab5d-4b95-a072-9766d43337f8",
   "metadata": {},
   "source": [
    "## Creating composite datasets\n",
    "\n",
    "The `primap2.csg` module can be used to create a composite dataset from multiple source\n",
    "datasets using specified rules.\n",
    "\n",
    "The general strategy for combining datasets is to always treat a single timeseries, i.e.\n",
    "an array with only the time as dimension.\n",
    "For each timeseries, the available source timeseries are ordered according to defined\n",
    "priorities, and the result timeseries is initialized from the highest-priority\n",
    "timeseries.\n",
    "Then, lower-priority source timeseries are used in turn to fill any missing information\n",
    "in the result timeseries, one source timeseries at a time.\n",
    "For filling the missing information, a strategy (such as direct substitution or\n",
    "least-squares matching of data) is selected for each source timeseries as configured.\n",
    "When no missing information is left in the result timeseries, the algorithm terminates.\n",
    "It also terminates if all source timeseries are used, even if missing information is\n",
    "left.\n",
    "\n",
    "The core function to use is the `primap2.csg.compose` function.\n",
    "It needs the following input:\n",
    "\n",
    "* The input dataset, containing all sources. The shape and dimensions of the input dataset also determine the shape\n",
    "  and dimensions of the composed dataset.\n",
    "* A definition of priority dimensions and priorities. The priority dimensions are the dimensions in the input dataset\n",
    "  which will be used to select source datasets. The result dataset will not have the priority dimensions as dimensions\n",
    "  any more, because along these dimensions, the source timeseries will be combined into a single composite timeseries.\n",
    "  The priorities are a list of selections which have to specify exactly one value for each priority dimension, so\n",
    "  that priorities are clearly defined. You can specify values for other dimensions than the priority dimensions, e.g.\n",
    "  if you want to change the priorities for some countries or categories. You can also specify exclusions from either\n",
    "  the result or input datasets to skip specific sources or categories.\n",
    "* A definition of strategies. Using selectors along any input dataset dimensions, it is possible to define filling\n",
    "  strategies to use. For each timeseries, a filling strategy has to be specified, so it is a good idea to define\n",
    "  a default filling strategy using an empty selector (see example below)."
   ]
  },
  {
   "cell_type": "code",
   "id": "d4dfc849-51bb-4f80-a77c-b49b9c107f18",
   "metadata": {},
   "source": [
    "import primap2.csg\n",
    "\n",
    "input_ds = primap2.open_dataset(\"opulent_ds.nc\")[[\"CH4\", \"CO2\", \"SF6\"]]\n",
    "input_ds[\"CH4\"].loc[{\n",
    "    \"category (IPCC 2006)\": \"1\",\n",
    "    \"time\": slice(\"2000\", \"2001\"),\n",
    "    \"scenario (FAOSTAT)\": \"lowpop\"\n",
    "}][:] = np.nan * ureg(\"Gg CH4 / year\")\n",
    "input_ds"
   ],
   "outputs": [],
   "execution_count": null
  },
  {
   "cell_type": "code",
   "id": "9add496e-647d-4ed2-a5db-708f3de230bf",
   "metadata": {},
   "source": [
    "priority_definition = primap2.csg.PriorityDefinition(\n",
    "    priority_dimensions=[\"source\", \"scenario (FAOSTAT)\"],\n",
    "    priorities=[\n",
    "        # only applies to category 0: prefer highpop\n",
    "        {\"category (IPCC 2006)\": \"0\", \"source\": \"RAND2020\", \"scenario (FAOSTAT)\": \"highpop\"},\n",
    "        {\"source\": \"RAND2020\", \"scenario (FAOSTAT)\": \"lowpop\"},\n",
    "        {\"source\": \"RAND2020\", \"scenario (FAOSTAT)\": \"highpop\"},\n",
    "        {\"source\": \"RAND2021\", \"scenario (FAOSTAT)\": \"lowpop\"},\n",
    "        # the RAND2021, highpop combination is not used at all - you don't have to use all source timeseries\n",
    "    ],\n",
    "    # category 5 is not defined for CH4 in this example, so we skip processing it\n",
    "    # altogether\n",
    "    exclude_result=[{\"entity\": \"CH4\", \"category (IPCC 2006)\": \"5\"}],\n",
    "    # in this example, we know that COL has reported wrong data in the RAND2020 source\n",
    "    # for SF6 category 1, so we exclude it from processing, it will be skipped and the\n",
    "    # other data sources will be used as configured in the priorities instead.\n",
    "    exclude_input=[\n",
    "        {\"entity\": \"SF6\", \"category (IPCC 2006)\": \"1\", \"area (ISO3)\": \"COL\", \"source\": \"RAND2020\"}\n",
    "    ]\n",
    ")"
   ],
   "outputs": [],
   "execution_count": null
  },
  {
   "cell_type": "code",
   "id": "55c1ce1a-c473-4e2c-a1ff-01d7dbd19180",
   "metadata": {},
   "source": [
    "# Currently, there are only two strategies implemented. The GlobalLSStrategy \n",
    "# uses a global least square fit to shift and scale the lower priority time\n",
    "# series to match the higher priority time series. We use this as the main \n",
    "# filling strategy and thus put it in the first place.\n",
    "# It can not work in all cases (e.g. when there is no overlap between the \n",
    "# time-series), thus we add the SubstitutionStrategy as a fallback. \n",
    "\n",
    "# As we use the same strategies for all time-series we use the empty selector {}, \n",
    "# which matches everything, to configure to use the GlobalLSStrategy and as a \n",
    "# fallback the SubstitutionStrategy for all timeseries.\n",
    "strategy_definition = primap2.csg.StrategyDefinition(\n",
    "    strategies=[\n",
    "        ({}, primap2.csg.GlobalLSStrategy()),\n",
    "        ({}, primap2.csg.SubstitutionStrategy())\n",
    "    ]\n",
    ")"
   ],
   "outputs": [],
   "execution_count": null
  },
  {
   "cell_type": "code",
   "id": "74adff7b-8f41-4325-bcb4-8c82ef0b967c",
   "metadata": {},
   "source": [
    "result_ds = primap2.csg.compose(\n",
    "    input_data=input_ds,\n",
    "    priority_definition=priority_definition,\n",
    "    strategy_definition=strategy_definition,\n",
    "    progress_bar=None,  # The animated progress bar is useless in a notebook\n",
    ")"
   ],
   "outputs": [],
   "execution_count": null
  },
  {
   "cell_type": "code",
   "id": "fc7ab8f8-e2aa-4057-9622-573bb00ee297",
   "metadata": {},
   "source": [
    "result_ds"
   ],
   "outputs": [],
   "execution_count": null
  },
  {
   "cell_type": "markdown",
   "id": "a011a846-3ac3-4385-b41a-69973f13083a",
   "metadata": {},
   "source": [
    "In the result, you can see that the priority dimensions have been removed, and there are new data variables \"Processing of $entity\" added which contain detailed information for each timeseries how it was derived."
   ]
  },
  {
   "cell_type": "code",
   "id": "ee86f1e1-6194-49d6-aaff-bdfe4afdedab",
   "metadata": {},
   "source": [
    "sel = {\"animal\": \"cow\",\n",
    "       \"category\": [\"0\", \"1\"],\n",
    "       \"product\": \"milk\",\n",
    "       \"time\": slice(\"2000\", \"2002\"), \"area\": \"MEX\"}\n",
    "result_ds[\"CH4\"].pr.loc[sel]"
   ],
   "outputs": [],
   "execution_count": null
  },
  {
   "cell_type": "code",
   "id": "f2044c7a-e172-4e99-87f9-c6fb236026d9",
   "metadata": {},
   "source": [
    "del sel[\"time\"]\n",
    "result_ds[\"Processing of CH4\"].pr.loc[sel]"
   ],
   "outputs": [],
   "execution_count": null
  },
  {
   "cell_type": "code",
   "id": "6ca2acf4-fecb-4ffd-92b5-18c283317c7c",
   "metadata": {},
   "source": [
    "for tpd in result_ds[\"Processing of CH4\"].pr.loc[sel]:\n",
    "    print(f\"category={tpd['category (IPCC 2006)'].item()}\")\n",
    "    print(str(tpd.item()))\n",
    "    print()"
   ],
   "outputs": [],
   "execution_count": null
  },
  {
   "cell_type": "markdown",
   "id": "2dae7138-c05c-4321-b0f9-0e5c3cbf2a5a",
   "metadata": {},
   "source": [
    "We can see that - as configured - for category 0 \"highpop\" was preferred, and for category 1 \"lowpop\" was preferred. For category 0, the initial timeseries did not contain NaNs, so no filling was needed. For category 1, there was information missing in the initial timeseries, so the lower-priority timeseries was used to fill the holes."
   ]
  }
 ],
 "metadata": {
  "kernelspec": {
   "display_name": "Python 3 (ipykernel)",
   "language": "python",
   "name": "python3"
  },
  "language_info": {
   "codemirror_mode": {
    "name": "ipython",
    "version": 3
   },
   "file_extension": ".py",
   "mimetype": "text/x-python",
   "name": "python",
   "nbconvert_exporter": "python",
   "pygments_lexer": "ipython3",
   "version": "3.11.2"
  }
 },
 "nbformat": 4,
 "nbformat_minor": 5
}
