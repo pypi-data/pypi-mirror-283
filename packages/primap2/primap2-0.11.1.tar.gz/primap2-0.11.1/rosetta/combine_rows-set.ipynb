{
 "cells": [
  {
   "cell_type": "markdown",
   "source": [
    "# combine_rows to set\n",
    "Translations between `pyCPA.core.combine_rows()` and PRIMAP2's\n",
    "`da.pr.set()` and `ds.pr.set()`.\n",
    "\n",
    "## case 1\n",
    "\n",
    "Task: Sum three categories to one (new) category, restricted\n",
    "to a specific classification and measure. Also add the\n",
    "name of the new category.\n",
    "\n",
    "### pyCPA.core.combine_rows()"
   ],
   "metadata": {
    "collapsed": false
   }
  },
  {
   "cell_type": "code",
   "execution_count": null,
   "outputs": [],
   "source": [
    "grouping_1 = {\n",
    "    \"category\": [[\"1.AA\", \"1.B\", \"1.C\"], \"+\", \"1.\"],\n",
    "    \"classification\": [[\"Total for category\"], \"+\", \"Total for category\"],\n",
    "    \"measure\": [[\"Net emissions/removals\"], \"+\", \"Net emissions/removals\"],\n",
    "    \"categoryName\": [[\"*\"], \"+\", \"Energy\"],\n",
    "}\n",
    "other_cols = {}\n",
    "cols_to_remove = []\n",
    "inplace = True\n",
    "verbose = False\n",
    "combine_rows(\n",
    "    scmrun, grouping_1, other_cols, cols_to_remove, inplace, verbose\n",
    ")"
   ],
   "metadata": {
    "collapsed": false,
    "pycharm": {
     "name": "#%%\n"
    }
   }
  },
  {
   "cell_type": "markdown",
   "source": [
    "### ds.pr.set()"
   ],
   "metadata": {
    "collapsed": false
   }
  },
  {
   "cell_type": "code",
   "execution_count": null,
   "outputs": [],
   "source": [
    "# restrict and compute new value\n",
    "cat1 = ds.pr.loc[\n",
    "    {\n",
    "        \"category\": [\"1.AA\", \"1.B\", \"1.C\"],\n",
    "        \"classification\": \"Total for category\",\n",
    "        \"measure\": \"Net emissions/removals\",\n",
    "    }\n",
    "].sum(\"category\")\n",
    "# set new value; never inplace, so needs ds = ds…\n",
    "ds = ds.pr.set(\"category\", \"1.\", cat1, existing=\"overwrite\")\n",
    "# update categoryName\n",
    "ds[\"categoryName\"].pr.loc[{\"category\": \"1.\"}] = \"Energy\""
   ],
   "metadata": {
    "collapsed": false,
    "pycharm": {
     "name": "#%%\n"
    }
   }
  },
  {
   "cell_type": "markdown",
   "source": [
    "## case 1\n",
    "Task: Calculate a (new) category as the sum of two categories,\n",
    "minus a third category.\n",
    "Again, restrict the result\n",
    "to a specific classification and measure and add the\n",
    "(new) category to the data. Also add the\n",
    "name of the new category.\n",
    "\n",
    "### pyCPA.core.combine_rows()"
   ],
   "metadata": {
    "collapsed": false
   }
  },
  {
   "cell_type": "code",
   "execution_count": null,
   "outputs": [],
   "source": [
    "grouping_3 = {\n",
    "    \"category\": [[\"1.AA\", \"1.B\", \"1.C\"], [\"+\", \"-\", \"+\"], \"1\"],\n",
    "    \"classification\": [[\"Total for category\"], \"+\", \"Total for category\"],\n",
    "    \"measure\": [[\"Net emissions/removals\"], \"+\", \"Net emissions/removals\"],\n",
    "    \"categoryName\": [[\"*\"], \"+\", \"Energy\"],\n",
    "}\n",
    "combined_data = combine_rows(\n",
    "    scmrun, grouping_3, other_cols, cols_to_remove, inplace, verbose\n",
    ")"
   ],
   "metadata": {
    "collapsed": false,
    "pycharm": {
     "name": "#%%\n"
    }
   }
  },
  {
   "cell_type": "markdown",
   "source": [
    "### ds.pr.set()"
   ],
   "metadata": {
    "collapsed": false,
    "pycharm": {
     "name": "#%% md\n"
    }
   }
  },
  {
   "cell_type": "code",
   "execution_count": null,
   "outputs": [],
   "source": [
    "# restrict\n",
    "restricted = ds.pr.loc[\n",
    "    {\n",
    "        \"classification\": \"Total for category\",\n",
    "        \"measure\": \"Net emissions/removals\",\n",
    "    }\n",
    "]\n",
    "# compute new value\n",
    "cat1 = (\n",
    "    restricted.pr.loc[{\"category\": \"1.AA\"}]\n",
    "    - restricted.pr.loc[{\"category\": \"1.B\"}]\n",
    "    + restricted.pr.loc[{\"category\": \"1.C\"}]\n",
    ")\n",
    "# set new value\n",
    "ds = ds.pr.set(\"category\", \"1\", cat1, existing=\"overwrite\")\n",
    "# update categoryName\n",
    "ds[\"categoryName\"].pr.loc[{\"category\": \"1\"}] = \"Energy\""
   ],
   "metadata": {
    "collapsed": false,
    "pycharm": {
     "name": "#%%\n"
    }
   }
  }
 ],
 "metadata": {
  "kernelspec": {
   "display_name": "Python 3",
   "language": "python",
   "name": "python3"
  },
  "language_info": {
   "codemirror_mode": {
    "name": "ipython",
    "version": 2
   },
   "file_extension": ".py",
   "mimetype": "text/x-python",
   "name": "python",
   "nbconvert_exporter": "python",
   "pygments_lexer": "ipython2",
   "version": "2.7.6"
  }
 },
 "nbformat": 4,
 "nbformat_minor": 0
}
