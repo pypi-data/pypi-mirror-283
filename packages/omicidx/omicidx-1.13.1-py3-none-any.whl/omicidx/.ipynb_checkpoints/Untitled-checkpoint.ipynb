{
 "cells": [
  {
   "cell_type": "code",
   "execution_count": 1,
   "id": "db947132-771e-4a95-813a-b2af7052bffb",
   "metadata": {},
   "outputs": [],
   "source": [
    "from omicidx.geo import parser as gp"
   ]
  },
  {
   "cell_type": "code",
   "execution_count": 2,
   "id": "174ad101-1e43-4eaa-9ae6-0161774c36f4",
   "metadata": {},
   "outputs": [
    {
     "data": {
      "text/plain": [
       "\u001b[0;31mSignature:\u001b[0m\n",
       "\u001b[0mgp\u001b[0m\u001b[0;34m.\u001b[0m\u001b[0mget_geo_accessions\u001b[0m\u001b[0;34m(\u001b[0m\u001b[0;34m\u001b[0m\n",
       "\u001b[0;34m\u001b[0m    \u001b[0metyp\u001b[0m\u001b[0;34m=\u001b[0m\u001b[0;32mNone\u001b[0m\u001b[0;34m,\u001b[0m\u001b[0;34m\u001b[0m\n",
       "\u001b[0;34m\u001b[0m    \u001b[0mbatch_size\u001b[0m\u001b[0;34m=\u001b[0m\u001b[0;36m1000\u001b[0m\u001b[0;34m,\u001b[0m\u001b[0;34m\u001b[0m\n",
       "\u001b[0;34m\u001b[0m    \u001b[0madd_term\u001b[0m\u001b[0;34m=\u001b[0m\u001b[0;32mNone\u001b[0m\u001b[0;34m,\u001b[0m\u001b[0;34m\u001b[0m\n",
       "\u001b[0;34m\u001b[0m    \u001b[0memail\u001b[0m\u001b[0;34m=\u001b[0m\u001b[0;34m'user@example.com'\u001b[0m\u001b[0;34m,\u001b[0m\u001b[0;34m\u001b[0m\n",
       "\u001b[0;34m\u001b[0m\u001b[0;34m)\u001b[0m\u001b[0;34m\u001b[0m\u001b[0;34m\u001b[0m\u001b[0m\n",
       "\u001b[0;31mDocstring:\u001b[0m\n",
       "Get GEO accessions by etyp\n",
       "\n",
       "Useful for getting all the ETYP accessions for\n",
       "later bulk processing\n",
       "\n",
       "Parameters\n",
       "----------\n",
       "etyp: str\n",
       "    One of GSE, GPL, GSM, GDS\n",
       "batch_size: int \n",
       "    the number of accessions to return in one batch. \n",
       "    Transparent to the user, as this returns an iterator.\n",
       "add_term: str\n",
       "    Add a search term for the query. Useful to limit\n",
       "    by date or search for specific text. For example, \n",
       "    to limit by date: '2007/01/01:2007/03/01[PDAT]'\n",
       "email: str\n",
       "    user email (not important)\n",
       "\n",
       "Return\n",
       "------\n",
       "an iterator of accessions, each as a string\n",
       "\u001b[0;31mFile:\u001b[0m      ~/Documents/git/omicidx-parsers/omicidx/geo/parser.py\n",
       "\u001b[0;31mType:\u001b[0m      function\n"
      ]
     },
     "metadata": {},
     "output_type": "display_data"
    }
   ],
   "source": [
    "?gp.get_geo_accessions"
   ]
  },
  {
   "cell_type": "code",
   "execution_count": 3,
   "id": "35705eca-f0f5-4d3d-87bf-a48bd1555fa6",
   "metadata": {},
   "outputs": [],
   "source": [
    "import datetime\n",
    "import logging\n",
    "logging.basicConfig(level=logging.INFO)\n",
    "\n",
    "logger = logging.getLogger()\n",
    "\n",
    "def yielder():\n",
    "    start_date = datetime.date(2020, 1, 1)\n",
    "    end_date = datetime.date.today()\n",
    "    delta = datetime.timedelta(days=1)\n",
    "    while start_date < end_date:\n",
    "        logger.info(f\"date: {start_date}\")\n",
    "        d1 = start_date.strftime('%Y/%m/%d')\n",
    "        start_date = start_date+delta\n",
    "        d2 = start_date.strftime('%Y/%m/%d')\n",
    "        term = f\"{d1}:{d2}[PDAT]\"\n",
    "        geo_acc_iterator = gp.get_geo_accessions(add_term=term)\n",
    "        for a in geo_acc_iterator:\n",
    "            yield a"
   ]
  },
  {
   "cell_type": "code",
   "execution_count": 4,
   "id": "9825c6eb-6cb8-491b-ba1f-bdb37decdb3c",
   "metadata": {},
   "outputs": [
    {
     "ename": "AttributeError",
     "evalue": "module 'trio' has no attribute 'Queue'",
     "output_type": "error",
     "traceback": [
      "\u001b[0;31m---------------------------------------------------------------------------\u001b[0m",
      "\u001b[0;31mAttributeError\u001b[0m                            Traceback (most recent call last)",
      "Input \u001b[0;32mIn [4]\u001b[0m, in \u001b[0;36m<module>\u001b[0;34m\u001b[0m\n\u001b[1;32m      2\u001b[0m \u001b[38;5;28;01mimport\u001b[39;00m \u001b[38;5;21;01mtrio\u001b[39;00m\n\u001b[1;32m      4\u001b[0m NO_TASKS\u001b[38;5;241m=\u001b[39m\u001b[38;5;241m15\u001b[39m\n\u001b[0;32m----> 6\u001b[0m queue \u001b[38;5;241m=\u001b[39m \u001b[43mtrio\u001b[49m\u001b[38;5;241;43m.\u001b[39;49m\u001b[43mQueue\u001b[49m(NO_TASKS)\n\u001b[1;32m      8\u001b[0m \u001b[38;5;28;01masync\u001b[39;00m \u001b[38;5;28;01mdef\u001b[39;00m \u001b[38;5;21mget_url\u001b[39m(GEO):\n\u001b[1;32m      9\u001b[0m     url \u001b[38;5;241m=\u001b[39m \u001b[38;5;124mf\u001b[39m\u001b[38;5;124m\"\u001b[39m\u001b[38;5;124mhttps://geo-serverless-whnnxetv4q-uc.a.run.app/geo/GEO\u001b[39m\u001b[38;5;124m\"\u001b[39m\n",
      "File \u001b[0;32m~/Library/Caches/pypoetry/virtualenvs/omicidx-KMlUzL5q-py3.9/lib/python3.9/site-packages/trio/_deprecate.py:124\u001b[0m, in \u001b[0;36m_ModuleWithDeprecations.__getattr__\u001b[0;34m(self, name)\u001b[0m\n\u001b[1;32m    121\u001b[0m     \u001b[38;5;28;01mreturn\u001b[39;00m info\u001b[38;5;241m.\u001b[39mvalue\n\u001b[1;32m    123\u001b[0m msg \u001b[38;5;241m=\u001b[39m \u001b[38;5;124m\"\u001b[39m\u001b[38;5;124mmodule \u001b[39m\u001b[38;5;124m'\u001b[39m\u001b[38;5;132;01m{}\u001b[39;00m\u001b[38;5;124m'\u001b[39m\u001b[38;5;124m has no attribute \u001b[39m\u001b[38;5;124m'\u001b[39m\u001b[38;5;132;01m{}\u001b[39;00m\u001b[38;5;124m'\u001b[39m\u001b[38;5;124m\"\u001b[39m\n\u001b[0;32m--> 124\u001b[0m \u001b[38;5;28;01mraise\u001b[39;00m \u001b[38;5;167;01mAttributeError\u001b[39;00m(msg\u001b[38;5;241m.\u001b[39mformat(\u001b[38;5;28mself\u001b[39m\u001b[38;5;241m.\u001b[39m\u001b[38;5;18m__name__\u001b[39m, name))\n",
      "\u001b[0;31mAttributeError\u001b[0m: module 'trio' has no attribute 'Queue'"
     ]
    }
   ],
   "source": [
    "import httpx\n",
    "import trio\n",
    "\n",
    "NO_TASKS=15\n",
    "\n",
    "queue = trio.Queue(NO_TASKS)\n",
    "\n",
    "async def get_url(GEO):\n",
    "    url = f\"https://geo-serverless-whnnxetv4q-uc.a.run.app/geo/GEO\"\n",
    "    async with httpx.AsyncClient() as client:\n",
    "        resp = await client.get(url)\n",
    "        return resp.json\n",
    "    \n",
    "async def producer(GEO,send_channel):\n",
    "    send_channel.send(GEO)\n",
    "    \n",
    "async def consumer(receive_channel):\n",
    "    value = await receive_channel.receive()\n",
    "    print(await get_url(value))\n",
    "\n",
    "async def main():\n",
    "    send_channel, receive_channel = trio.open_memory_channel(NO_TASKS)\n",
    "    async with trio.open_nursery() as nursery:\n",
    "        for geo in yielder:\n",
    "            nursery.start_soon(producer, page, send_channel)\n",
    "        for _ in range(NO_TASKS):\n",
    "            nursery.start_soon(consumer, receive_channel)"
   ]
  },
  {
   "cell_type": "code",
   "execution_count": 30,
   "id": "13eb4ef1-9574-416a-9837-8de0c07bf588",
   "metadata": {},
   "outputs": [
    {
     "name": "stdout",
     "output_type": "stream",
     "text": [
      "Requirement already satisfied: trio in /Users/seandavis/Library/Caches/pypoetry/virtualenvs/omicidx-KMlUzL5q-py3.9/lib/python3.9/site-packages (0.19.0)\n",
      "Collecting trio\n",
      "  Downloading trio-0.21.0-py3-none-any.whl (358 kB)\n",
      "\u001b[K     |████████████████████████████████| 358 kB 1.2 MB/s eta 0:00:01\n",
      "\u001b[?25hRequirement already satisfied: sniffio in /Users/seandavis/Library/Caches/pypoetry/virtualenvs/omicidx-KMlUzL5q-py3.9/lib/python3.9/site-packages (from trio) (1.2.0)\n",
      "Requirement already satisfied: idna in /Users/seandavis/Library/Caches/pypoetry/virtualenvs/omicidx-KMlUzL5q-py3.9/lib/python3.9/site-packages (from trio) (3.3)\n",
      "Requirement already satisfied: attrs>=19.2.0 in /Users/seandavis/Library/Caches/pypoetry/virtualenvs/omicidx-KMlUzL5q-py3.9/lib/python3.9/site-packages (from trio) (21.4.0)\n",
      "Requirement already satisfied: outcome in /Users/seandavis/Library/Caches/pypoetry/virtualenvs/omicidx-KMlUzL5q-py3.9/lib/python3.9/site-packages (from trio) (1.1.0)\n",
      "Requirement already satisfied: async-generator>=1.9 in /Users/seandavis/Library/Caches/pypoetry/virtualenvs/omicidx-KMlUzL5q-py3.9/lib/python3.9/site-packages (from trio) (1.10)\n",
      "Requirement already satisfied: sortedcontainers in /Users/seandavis/Library/Caches/pypoetry/virtualenvs/omicidx-KMlUzL5q-py3.9/lib/python3.9/site-packages (from trio) (2.4.0)\n",
      "Installing collected packages: trio\n",
      "  Attempting uninstall: trio\n",
      "    Found existing installation: trio 0.19.0\n",
      "    Uninstalling trio-0.19.0:\n",
      "      Successfully uninstalled trio-0.19.0\n",
      "Successfully installed trio-0.21.0\n",
      "\u001b[33mWARNING: You are using pip version 21.2.3; however, version 22.1.2 is available.\n",
      "You should consider upgrading via the '/Users/seandavis/Library/Caches/pypoetry/virtualenvs/omicidx-KMlUzL5q-py3.9/bin/python -m pip install --upgrade pip' command.\u001b[0m\n",
      "Note: you may need to restart the kernel to use updated packages.\n"
     ]
    }
   ],
   "source": [
    "pip install --upgrade trio"
   ]
  },
  {
   "cell_type": "code",
   "execution_count": null,
   "id": "73dd532a-7e3f-4128-9817-2c2919c95165",
   "metadata": {},
   "outputs": [],
   "source": []
  }
 ],
 "metadata": {
  "kernelspec": {
   "display_name": "omicidx-py39",
   "language": "python",
   "name": "omicidx-py39"
  },
  "language_info": {
   "codemirror_mode": {
    "name": "ipython",
    "version": 3
   },
   "file_extension": ".py",
   "mimetype": "text/x-python",
   "name": "python",
   "nbconvert_exporter": "python",
   "pygments_lexer": "ipython3",
   "version": "3.9.6"
  }
 },
 "nbformat": 4,
 "nbformat_minor": 5
}
