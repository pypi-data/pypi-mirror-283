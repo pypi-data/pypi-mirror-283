{
 "cells": [
  {
   "cell_type": "markdown",
   "id": "315d9e6b-1eb9-4c95-8360-a2ed0222dc87",
   "metadata": {},
   "source": [
    "# TFBS and Nucleosome checkpoints"
   ]
  },
  {
   "cell_type": "markdown",
   "id": "e84771fa-f156-4a4d-921b-dc3c56343d8f",
   "metadata": {},
   "source": [
    "1. Take the original checkpoints from PRINT paper and save it in pytorch format\n",
    "2. Change the linear model into convolution based form, to prevent manually create scanning window.\n",
    "3. All below based on Ruochi's code"
   ]
  },
  {
   "cell_type": "code",
   "execution_count": 1,
   "id": "c31b16b4-a8fa-4362-bc4a-398084f4270c",
   "metadata": {
    "execution": {
     "iopub.execute_input": "2024-05-03T22:06:52.634979Z",
     "iopub.status.busy": "2024-05-03T22:06:52.634755Z",
     "iopub.status.idle": "2024-05-03T22:06:55.148991Z",
     "shell.execute_reply": "2024-05-03T22:06:55.148283Z",
     "shell.execute_reply.started": "2024-05-03T22:06:52.634956Z"
    }
   },
   "outputs": [],
   "source": [
    "import h5py\n",
    "import numpy as np\n",
    "import torch\n",
    "import torch.nn as nn\n",
    "import torch.nn.functional as F"
   ]
  },
  {
   "cell_type": "code",
   "execution_count": 2,
   "id": "69837997-7575-40ab-8de9-38bc2e3c489a",
   "metadata": {
    "execution": {
     "iopub.execute_input": "2024-05-03T22:06:55.150706Z",
     "iopub.status.busy": "2024-05-03T22:06:55.149932Z",
     "iopub.status.idle": "2024-05-03T22:06:55.153732Z",
     "shell.execute_reply": "2024-05-03T22:06:55.153087Z",
     "shell.execute_reply.started": "2024-05-03T22:06:55.150676Z"
    }
   },
   "outputs": [],
   "source": [
    "from datetime import datetime\n",
    "\n",
    "today = f\"{datetime.now():%y%m%d}\""
   ]
  },
  {
   "cell_type": "markdown",
   "id": "94d3c404-56ff-453c-a054-2819af86bbb0",
   "metadata": {},
   "source": [
    "## All-in-one model class"
   ]
  },
  {
   "cell_type": "code",
   "execution_count": 3,
   "id": "a468b467-ae54-478f-96b5-ea73a6e1e05f",
   "metadata": {
    "execution": {
     "iopub.execute_input": "2024-05-03T22:06:55.155057Z",
     "iopub.status.busy": "2024-05-03T22:06:55.154812Z",
     "iopub.status.idle": "2024-05-03T22:06:55.164409Z",
     "shell.execute_reply": "2024-05-03T22:06:55.163799Z",
     "shell.execute_reply.started": "2024-05-03T22:06:55.155035Z"
    }
   },
   "outputs": [],
   "source": [
    "class TFModelConv(nn.Module):\n",
    "    def __init__(\n",
    "        self,\n",
    "        scales,\n",
    "        footprintMean,\n",
    "        footprintSd,\n",
    "        weights_0,\n",
    "        weights_1,\n",
    "        weights_2,\n",
    "        weights_3,\n",
    "        weights_4,\n",
    "        weights_5,\n",
    "        sigmoid=True,\n",
    "        motif=True,\n",
    "    ):\n",
    "        super().__init__()\n",
    "        self.scales = torch.tensor(scales)\n",
    "        weights_2 = weights_2.T[..., None]\n",
    "        self.weights_2 = nn.Parameter(torch.from_numpy(weights_2).double())\n",
    "        self.weights_3 = nn.Parameter(torch.from_numpy(weights_3).double())\n",
    "        weights_4 = weights_4.T[..., None]\n",
    "        self.weights_4 = nn.Parameter(torch.from_numpy(weights_4).double())\n",
    "        self.weights_5 = nn.Parameter(torch.from_numpy(weights_5).double())\n",
    "\n",
    "        self.sigmoid = sigmoid\n",
    "\n",
    "        # reformat l1 weights and bias\n",
    "        # put the last col in weights_0 to weights_1 (motif)\n",
    "        if motif:\n",
    "            weights_1 = weights_1 + weights_0[-1]\n",
    "            weights_0 = weights_0[:-1]\n",
    "\n",
    "        # put mean and sd into first conv layer weight\n",
    "        new_weights_0 = 1 / footprintSd[:, None] * weights_0\n",
    "        new_weights_1 = weights_1 - (footprintMean / footprintSd) @ weights_0\n",
    "\n",
    "        # reshape weights to conv1d weights\n",
    "        l1_channel = len(scales)\n",
    "        l1_out = weights_2.shape[1]\n",
    "        new_weights_0 = new_weights_0.reshape((l1_channel, 201, l1_out)).transpose(\n",
    "            2, 0, 1\n",
    "        )\n",
    "\n",
    "        self.weights_0 = nn.Parameter(torch.from_numpy(new_weights_0).double())\n",
    "        self.weights_1 = nn.Parameter(torch.from_numpy(new_weights_1).double())\n",
    "\n",
    "    def forward(self, data: torch.Tensor):\n",
    "        data = data.type(self.weights_0.dtype)\n",
    "\n",
    "        shapes = data.shape\n",
    "        # deal with four axes data\n",
    "        data = data.reshape((-1, data.shape[-2], data.shape[-1]))\n",
    "        x = F.relu(F.conv1d(data, self.weights_0, self.weights_1))\n",
    "        x = F.relu(F.conv1d(x, self.weights_2, self.weights_3))\n",
    "        x = F.conv1d(x, self.weights_4, self.weights_5)\n",
    "        if self.sigmoid:\n",
    "            x = torch.sigmoid(x)\n",
    "        x = x[:, 0, :]\n",
    "        new_shape = shapes[:-2] + (shapes[-1] - 200,)\n",
    "        x = x.reshape(new_shape)\n",
    "        return x"
   ]
  },
  {
   "cell_type": "markdown",
   "id": "f5273f67-e01f-4edb-9a73-ff19aad96bfb",
   "metadata": {
    "execution": {
     "iopub.execute_input": "2024-05-03T19:53:11.995247Z",
     "iopub.status.busy": "2024-05-03T19:53:11.994612Z",
     "iopub.status.idle": "2024-05-03T19:53:12.001682Z",
     "shell.execute_reply": "2024-05-03T19:53:12.000179Z",
     "shell.execute_reply.started": "2024-05-03T19:53:11.995217Z"
    }
   },
   "source": [
    "## TFBS_model.h5\n",
    "- Input: footprint\n",
    "- Model: All TF model\n",
    "- Output: TFBS score\n",
    "- Notes: produces score that looks like broad peaks"
   ]
  },
  {
   "cell_type": "code",
   "execution_count": 4,
   "id": "d02b3877-ffc5-4159-a13b-f0ad57c1b2f1",
   "metadata": {
    "execution": {
     "iopub.execute_input": "2024-05-03T22:06:55.166330Z",
     "iopub.status.busy": "2024-05-03T22:06:55.166090Z",
     "iopub.status.idle": "2024-05-03T22:06:55.186686Z",
     "shell.execute_reply": "2024-05-03T22:06:55.186052Z",
     "shell.execute_reply.started": "2024-05-03T22:06:55.166309Z"
    }
   },
   "outputs": [],
   "source": [
    "with h5py.File(\"TFBS_model.h5\", \"r\") as TFBSmodel:\n",
    "    (\n",
    "        footprintMean,\n",
    "        footprintSd,\n",
    "        weights_0,\n",
    "        weights_1,\n",
    "        weights_2,\n",
    "        weights_3,\n",
    "        weights_4,\n",
    "        weights_5,\n",
    "    ) = (\n",
    "        TFBSmodel[\"footprint_mean\"][:],\n",
    "        TFBSmodel[\"footprint_sd\"][:],\n",
    "        TFBSmodel[\"model_weights\"][\"dense_15\"][\"dense_15\"][\"kernel:0\"][:],\n",
    "        TFBSmodel[\"model_weights\"][\"dense_15\"][\"dense_15\"][\"bias:0\"][:],\n",
    "        TFBSmodel[\"model_weights\"][\"dense_16\"][\"dense_16\"][\"kernel:0\"][:],\n",
    "        TFBSmodel[\"model_weights\"][\"dense_16\"][\"dense_16\"][\"bias:0\"][:],\n",
    "        TFBSmodel[\"model_weights\"][\"dense_17\"][\"dense_17\"][\"kernel:0\"][:],\n",
    "        TFBSmodel[\"model_weights\"][\"dense_17\"][\"dense_17\"][\"bias:0\"][:],\n",
    "    )"
   ]
  },
  {
   "cell_type": "code",
   "execution_count": 5,
   "id": "4e64409e-585c-4b9f-9028-5fcd01bb0bd7",
   "metadata": {
    "execution": {
     "iopub.execute_input": "2024-05-03T22:06:55.187711Z",
     "iopub.status.busy": "2024-05-03T22:06:55.187488Z",
     "iopub.status.idle": "2024-05-03T22:06:55.293621Z",
     "shell.execute_reply": "2024-05-03T22:06:55.292958Z",
     "shell.execute_reply.started": "2024-05-03T22:06:55.187690Z"
    }
   },
   "outputs": [],
   "source": [
    "model_conv = TFModelConv(\n",
    "    scales=[10, 20, 30, 50, 80, 100],\n",
    "    footprintMean=footprintMean,\n",
    "    footprintSd=footprintSd,\n",
    "    weights_0=weights_0,\n",
    "    weights_1=weights_1,\n",
    "    weights_2=weights_2,\n",
    "    weights_3=weights_3,\n",
    "    weights_4=weights_4,\n",
    "    weights_5=weights_5,\n",
    ")\n",
    "model_conv.version = today\n",
    "model_conv = torch.jit.script(model_conv)\n",
    "model_conv.save(\"footprint_to_TFBS_conv_model.pt\")"
   ]
  },
  {
   "cell_type": "code",
   "execution_count": 6,
   "id": "8c9f7ed5-16e9-4f28-923b-0a38846f41b8",
   "metadata": {
    "execution": {
     "iopub.execute_input": "2024-05-03T22:06:55.295003Z",
     "iopub.status.busy": "2024-05-03T22:06:55.294501Z",
     "iopub.status.idle": "2024-05-03T22:06:55.391499Z",
     "shell.execute_reply": "2024-05-03T22:06:55.390843Z",
     "shell.execute_reply.started": "2024-05-03T22:06:55.294977Z"
    }
   },
   "outputs": [
    {
     "data": {
      "text/plain": [
       "torch.Size([2, 2, 800])"
      ]
     },
     "execution_count": 6,
     "metadata": {},
     "output_type": "execute_result"
    }
   ],
   "source": [
    "# test\n",
    "data = torch.from_numpy(np.random.randn(2, 2, 6, 1000))\n",
    "x = model_conv(data)\n",
    "x.shape"
   ]
  },
  {
   "cell_type": "markdown",
   "id": "6fb66f8a-5ff8-4a55-b35f-f021a747ee32",
   "metadata": {},
   "source": [
    "## TFBS_model_cluster_I.h5\n",
    "- Input: footprint\n",
    "- Model: TF with strong footprint model\n",
    "- Output: TFBS score\n",
    "- Notes: produces score that looks like narrow peaks"
   ]
  },
  {
   "cell_type": "code",
   "execution_count": 7,
   "id": "cbb3244f-2f4a-4bf5-ac96-367628b08822",
   "metadata": {
    "execution": {
     "iopub.execute_input": "2024-05-03T22:06:55.392923Z",
     "iopub.status.busy": "2024-05-03T22:06:55.392423Z",
     "iopub.status.idle": "2024-05-03T22:06:55.411870Z",
     "shell.execute_reply": "2024-05-03T22:06:55.411269Z",
     "shell.execute_reply.started": "2024-05-03T22:06:55.392898Z"
    }
   },
   "outputs": [],
   "source": [
    "with h5py.File(\"TFBS_model_cluster_I.h5\", \"r\") as TFBSmodel:\n",
    "    (\n",
    "        footprintMean,\n",
    "        footprintSd,\n",
    "        weights_0,\n",
    "        weights_1,\n",
    "        weights_2,\n",
    "        weights_3,\n",
    "        weights_4,\n",
    "        weights_5,\n",
    "    ) = (\n",
    "        TFBSmodel[\"footprint_mean\"][:],\n",
    "        TFBSmodel[\"footprint_sd\"][:],\n",
    "        TFBSmodel[\"model_weights\"][\"dense\"][\"dense\"][\"kernel:0\"][:],\n",
    "        TFBSmodel[\"model_weights\"][\"dense\"][\"dense\"][\"bias:0\"][:],\n",
    "        TFBSmodel[\"model_weights\"][\"dense_1\"][\"dense_1\"][\"kernel:0\"][:],\n",
    "        TFBSmodel[\"model_weights\"][\"dense_1\"][\"dense_1\"][\"bias:0\"][:],\n",
    "        TFBSmodel[\"model_weights\"][\"dense_2\"][\"dense_2\"][\"kernel:0\"][:],\n",
    "        TFBSmodel[\"model_weights\"][\"dense_2\"][\"dense_2\"][\"bias:0\"][:],\n",
    "    )"
   ]
  },
  {
   "cell_type": "code",
   "execution_count": 8,
   "id": "4c71e32b-6df5-4013-81a0-1e91ef223514",
   "metadata": {
    "execution": {
     "iopub.execute_input": "2024-05-03T22:06:55.412972Z",
     "iopub.status.busy": "2024-05-03T22:06:55.412724Z",
     "iopub.status.idle": "2024-05-03T22:06:55.469575Z",
     "shell.execute_reply": "2024-05-03T22:06:55.468948Z",
     "shell.execute_reply.started": "2024-05-03T22:06:55.412950Z"
    }
   },
   "outputs": [],
   "source": [
    "model_conv = TFModelConv(\n",
    "    scales=[10, 20, 30, 50, 80, 100],\n",
    "    footprintMean=footprintMean,\n",
    "    footprintSd=footprintSd,\n",
    "    weights_0=weights_0,\n",
    "    weights_1=weights_1,\n",
    "    weights_2=weights_2,\n",
    "    weights_3=weights_3,\n",
    "    weights_4=weights_4,\n",
    "    weights_5=weights_5,\n",
    ")\n",
    "model_conv.version = today\n",
    "model_conv = torch.jit.script(model_conv)\n",
    "model_conv.save(\"footprint_to_TFBS_class1_conv_model.pt\")"
   ]
  },
  {
   "cell_type": "code",
   "execution_count": 9,
   "id": "b9408d21-9e98-4f2b-bb7d-c3a73dd2b375",
   "metadata": {
    "execution": {
     "iopub.execute_input": "2024-05-03T22:06:55.470742Z",
     "iopub.status.busy": "2024-05-03T22:06:55.470472Z",
     "iopub.status.idle": "2024-05-03T22:06:55.509928Z",
     "shell.execute_reply": "2024-05-03T22:06:55.509149Z",
     "shell.execute_reply.started": "2024-05-03T22:06:55.470719Z"
    }
   },
   "outputs": [
    {
     "data": {
      "text/plain": [
       "torch.Size([2, 2, 800])"
      ]
     },
     "execution_count": 9,
     "metadata": {},
     "output_type": "execute_result"
    }
   ],
   "source": [
    "# test\n",
    "data = torch.from_numpy(np.random.randn(2, 2, 6, 1000))\n",
    "x = model_conv(data)\n",
    "x.shape"
   ]
  },
  {
   "cell_type": "markdown",
   "id": "72d971d1-f1b2-4047-9e8b-ec005c1aad33",
   "metadata": {},
   "source": [
    "## nucleosome_model.h5\n",
    "- Input: footprint\n",
    "- Model: nucleosome footprint model\n",
    "- Output: nucleosome score\n",
    "- Notes: produces score that has large nucleosome footprint"
   ]
  },
  {
   "cell_type": "code",
   "execution_count": 10,
   "id": "1298dbf1-175b-4fd8-b5c4-9db94150830f",
   "metadata": {
    "execution": {
     "iopub.execute_input": "2024-05-03T22:06:55.511301Z",
     "iopub.status.busy": "2024-05-03T22:06:55.510954Z",
     "iopub.status.idle": "2024-05-03T22:06:55.529924Z",
     "shell.execute_reply": "2024-05-03T22:06:55.529326Z",
     "shell.execute_reply.started": "2024-05-03T22:06:55.511278Z"
    }
   },
   "outputs": [
    {
     "data": {
      "text/plain": [
       "array([10., 20., 30., 50., 80.])"
      ]
     },
     "execution_count": 10,
     "metadata": {},
     "output_type": "execute_result"
    }
   ],
   "source": [
    "with h5py.File(\"nucleosome_model.h5\", \"r\") as TFBSmodel:\n",
    "    (\n",
    "        footprintMean,\n",
    "        footprintSd,\n",
    "        weights_0,\n",
    "        weights_1,\n",
    "        weights_2,\n",
    "        weights_3,\n",
    "        weights_4,\n",
    "        weights_5,\n",
    "        scales,\n",
    "    ) = (\n",
    "        TFBSmodel[\"footprint_mean\"][:],\n",
    "        TFBSmodel[\"footprint_sd\"][:],\n",
    "        TFBSmodel[\"model_weights\"][\"dense\"][\"dense\"][\"kernel:0\"][:],\n",
    "        TFBSmodel[\"model_weights\"][\"dense\"][\"dense\"][\"bias:0\"][:],\n",
    "        TFBSmodel[\"model_weights\"][\"dense_1\"][\"dense_1\"][\"kernel:0\"][:],\n",
    "        TFBSmodel[\"model_weights\"][\"dense_1\"][\"dense_1\"][\"bias:0\"][:],\n",
    "        TFBSmodel[\"model_weights\"][\"dense_2\"][\"dense_2\"][\"kernel:0\"][:],\n",
    "        TFBSmodel[\"model_weights\"][\"dense_2\"][\"dense_2\"][\"bias:0\"][:],\n",
    "        TFBSmodel[\"scales\"][:],\n",
    "    )\n",
    "scales"
   ]
  },
  {
   "cell_type": "code",
   "execution_count": 11,
   "id": "d3bc47cc-be45-4be4-96df-4848759ea921",
   "metadata": {
    "execution": {
     "iopub.execute_input": "2024-05-03T22:06:55.531207Z",
     "iopub.status.busy": "2024-05-03T22:06:55.530792Z",
     "iopub.status.idle": "2024-05-03T22:06:55.561419Z",
     "shell.execute_reply": "2024-05-03T22:06:55.560831Z",
     "shell.execute_reply.started": "2024-05-03T22:06:55.531183Z"
    }
   },
   "outputs": [
    {
     "data": {
      "text/plain": [
       "array([10., 20., 30., 50., 80.])"
      ]
     },
     "execution_count": 11,
     "metadata": {},
     "output_type": "execute_result"
    }
   ],
   "source": [
    "model_conv = TFModelConv(\n",
    "    scales=scales,\n",
    "    footprintMean=footprintMean,\n",
    "    footprintSd=footprintSd,\n",
    "    weights_0=weights_0,\n",
    "    weights_1=weights_1,\n",
    "    weights_2=weights_2,\n",
    "    weights_3=weights_3,\n",
    "    weights_4=weights_4,\n",
    "    weights_5=weights_5,\n",
    "    motif=False,\n",
    "    sigmoid=False,\n",
    ")\n",
    "model_conv.version = today\n",
    "model_conv = torch.jit.script(model_conv)\n",
    "model_conv.save(\"footprint_to_nucleosome_conv_model.pt\")\n",
    "scales"
   ]
  },
  {
   "cell_type": "code",
   "execution_count": 12,
   "id": "307dc074-7f3e-4803-aedc-541ab2d31d0b",
   "metadata": {
    "execution": {
     "iopub.execute_input": "2024-05-03T22:06:55.562630Z",
     "iopub.status.busy": "2024-05-03T22:06:55.562221Z",
     "iopub.status.idle": "2024-05-03T22:06:55.579895Z",
     "shell.execute_reply": "2024-05-03T22:06:55.579258Z",
     "shell.execute_reply.started": "2024-05-03T22:06:55.562604Z"
    }
   },
   "outputs": [
    {
     "data": {
      "text/plain": [
       "torch.Size([4, 800])"
      ]
     },
     "execution_count": 12,
     "metadata": {},
     "output_type": "execute_result"
    }
   ],
   "source": [
    "# test\n",
    "data = torch.from_numpy(np.random.randn(4, 5, 1000))\n",
    "x = model_conv(data)\n",
    "x.shape"
   ]
  },
  {
   "cell_type": "code",
   "execution_count": null,
   "id": "aa22fd83-dfc0-43fa-82ec-8417940d96f4",
   "metadata": {},
   "outputs": [],
   "source": []
  }
 ],
 "metadata": {
  "kernelspec": {
   "display_name": "Python 3 (ipykernel)",
   "language": "python",
   "name": "python3"
  },
  "language_info": {
   "codemirror_mode": {
    "name": "ipython",
    "version": 3
   },
   "file_extension": ".py",
   "mimetype": "text/x-python",
   "name": "python",
   "nbconvert_exporter": "python",
   "pygments_lexer": "ipython3",
   "version": "3.10.14"
  }
 },
 "nbformat": 4,
 "nbformat_minor": 5
}
