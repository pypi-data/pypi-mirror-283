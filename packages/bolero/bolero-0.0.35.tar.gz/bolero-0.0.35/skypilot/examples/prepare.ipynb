{
 "cells": [
  {
   "cell_type": "code",
   "execution_count": 2,
   "id": "65353c8c-0f85-4aea-988a-dfffbe30583d",
   "metadata": {
    "execution": {
     "iopub.execute_input": "2024-05-23T03:54:04.147680Z",
     "iopub.status.busy": "2024-05-23T03:54:04.147436Z",
     "iopub.status.idle": "2024-05-23T03:54:04.150296Z",
     "shell.execute_reply": "2024-05-23T03:54:04.149775Z",
     "shell.execute_reply.started": "2024-05-23T03:54:04.147663Z"
    }
   },
   "outputs": [],
   "source": [
    "notebooks = [\n",
    "    \"train-bolero_base.ipynb\",\n",
    "    \"train-bolero_region.ipynb\",\n",
    "    \"train-bolero_group.ipynb\",\n",
    "]\n",
    "\n",
    "cwd = \"/mnt/filestore/240315-scPrinter/05.lora_train/\""
   ]
  },
  {
   "cell_type": "code",
   "execution_count": 1,
   "id": "206198bb-0874-4d7b-b8b4-b712f7bc7177",
   "metadata": {
    "execution": {
     "iopub.execute_input": "2024-05-23T03:54:04.778761Z",
     "iopub.status.busy": "2024-05-23T03:54:04.778525Z",
     "iopub.status.idle": "2024-05-23T03:54:04.781606Z",
     "shell.execute_reply": "2024-05-23T03:54:04.781132Z",
     "shell.execute_reply.started": "2024-05-23T03:54:04.778745Z"
    }
   },
   "outputs": [],
   "source": [
    "with open(\"train_lora.yaml\") as f:\n",
    "    template = f.read()"
   ]
  },
  {
   "cell_type": "code",
   "execution_count": 3,
   "id": "3adfd0a5-528e-4d7d-953b-759df73d0181",
   "metadata": {
    "execution": {
     "iopub.execute_input": "2024-05-23T04:41:28.460830Z",
     "iopub.status.busy": "2024-05-23T04:41:28.460589Z",
     "iopub.status.idle": "2024-05-23T04:41:28.465715Z",
     "shell.execute_reply": "2024-05-23T04:41:28.465219Z",
     "shell.execute_reply.started": "2024-05-23T04:41:28.460813Z"
    }
   },
   "outputs": [
    {
     "name": "stdout",
     "output_type": "stream",
     "text": [
      "sky spot launch -d -y /Users/hanqingliu/bolero/skypilot/examples/train-bolero_base.yaml\n",
      "sky spot launch -d -y /Users/hanqingliu/bolero/skypilot/examples/train-bolero_region.yaml\n",
      "sky spot launch -d -y /Users/hanqingliu/bolero/skypilot/examples/train-bolero_group.yaml\n"
     ]
    }
   ],
   "source": [
    "for input_nb in notebooks:\n",
    "    name = input_nb[:-6]\n",
    "    with open(f\"{name}.yaml\", \"w\") as f:\n",
    "        output_nb = input_nb[:-5] + \"job.ipynb\"\n",
    "        t = template.format(\n",
    "            cwd=cwd, input_nb=f\"{cwd}/{input_nb}\", output_nb=f\"{cwd}/{output_nb}\"\n",
    "        )\n",
    "        f.write(t)\n",
    "    print(\n",
    "        f\"sky spot launch -d -y /Users/hanqingliu/bolero/skypilot/examples/{name}.yaml\"\n",
    "    )"
   ]
  },
  {
   "cell_type": "code",
   "execution_count": null,
   "id": "e254f181-5b4b-40f2-b15e-1a5a33f01bef",
   "metadata": {},
   "outputs": [],
   "source": []
  },
  {
   "cell_type": "code",
   "execution_count": null,
   "id": "dac69a76-fb60-4bb0-8256-f65f11ef696e",
   "metadata": {},
   "outputs": [],
   "source": []
  },
  {
   "cell_type": "code",
   "execution_count": null,
   "id": "4b0bbdf3-4331-40ac-bc42-fd881b20777b",
   "metadata": {},
   "outputs": [],
   "source": []
  },
  {
   "cell_type": "code",
   "execution_count": null,
   "id": "3cfe4555-11a4-473f-9b40-d3f33bb0ae90",
   "metadata": {},
   "outputs": [],
   "source": []
  },
  {
   "cell_type": "code",
   "execution_count": null,
   "id": "1e51405e-4e64-491d-9e0e-3bd0fab34be5",
   "metadata": {},
   "outputs": [],
   "source": []
  },
  {
   "cell_type": "code",
   "execution_count": null,
   "id": "58441daa-cff2-47a8-bb32-6677d79ed59d",
   "metadata": {},
   "outputs": [],
   "source": []
  }
 ],
 "metadata": {
  "kernelspec": {
   "display_name": "Python 3 (ipykernel)",
   "language": "python",
   "name": "python3"
  },
  "language_info": {
   "codemirror_mode": {
    "name": "ipython",
    "version": 3
   },
   "file_extension": ".py",
   "mimetype": "text/x-python",
   "name": "python",
   "nbconvert_exporter": "python",
   "pygments_lexer": "ipython3",
   "version": "3.10.13"
  }
 },
 "nbformat": 4,
 "nbformat_minor": 5
}
