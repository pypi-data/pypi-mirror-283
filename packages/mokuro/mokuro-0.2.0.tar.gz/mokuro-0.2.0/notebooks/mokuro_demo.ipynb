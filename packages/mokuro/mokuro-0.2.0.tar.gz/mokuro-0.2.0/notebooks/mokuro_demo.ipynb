{
 "cells": [
  {
   "cell_type": "code",
   "execution_count": null,
   "metadata": {
    "id": "dqE8lwP9RwmJ"
   },
   "outputs": [],
   "source": [
    "!pip install mokuro"
   ]
  },
  {
   "cell_type": "code",
   "execution_count": null,
   "metadata": {
    "id": "3IbKydhERyY-"
   },
   "outputs": [],
   "source": [
    "from google.colab import drive\n",
    "drive.mount('/content/drive')"
   ]
  },
  {
   "cell_type": "markdown",
   "metadata": {
    "id": "DlFQVn6se93Q"
   },
   "source": [
    "See https://github.com/kha-white/mokuro#usage for instructions on setting parameters"
   ]
  },
  {
   "cell_type": "code",
   "execution_count": null,
   "metadata": {
    "id": "ltajWNEqSPIi"
   },
   "outputs": [],
   "source": [
    "!mokuro --parent_dir \"/content/drive/MyDrive/manga/UchiNoNyan'sDiary\""
   ]
  }
 ],
 "metadata": {
  "accelerator": "GPU",
  "colab": {
   "name": "mokuro_demo.ipynb",
   "provenance": []
  },
  "kernelspec": {
   "display_name": "Python 3",
   "name": "python3"
  },
  "language_info": {
   "name": "python"
  }
 },
 "nbformat": 4,
 "nbformat_minor": 0
}