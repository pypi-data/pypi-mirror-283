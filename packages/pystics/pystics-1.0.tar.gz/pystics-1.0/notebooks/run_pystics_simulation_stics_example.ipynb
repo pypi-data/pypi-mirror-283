{
 "cells": [
  {
   "cell_type": "markdown",
   "id": "a65a9152",
   "metadata": {},
   "source": [
    "# Run a simulation on an example provided by STICS project team (https://stics.inrae.fr/telechargement)\n",
    "\n",
    "This notebook show how to run a pySTICS simulation on example parameters files provided by STICS project team.\n",
    "You just need to provide a species name and variety to run a simulation. The file usms.xml associates example parameters files (soil / technical / station / initial) to each species name.\n",
    "To use custom input parameters (soil / technical / station / initial), see parametrization_methods.ipynb notebook."
   ]
  },
  {
   "cell_type": "code",
   "execution_count": 1,
   "id": "d7405cd8",
   "metadata": {},
   "outputs": [],
   "source": [
    "##### Choice of species and variety --> the USM associated to the species \n",
    "species = 'wheat'\n",
    "variety = 'Talent'"
   ]
  },
  {
   "cell_type": "code",
   "execution_count": 2,
   "id": "4b47abb5",
   "metadata": {},
   "outputs": [
    {
     "name": "stderr",
     "output_type": "stream",
     "text": [
      "/Users/jbpasquier/Library/CloudStorage/OneDrive-Ombrea/OmbreaSync/Models_Agro_Climatiques/github/pySTICS/src/pystics/modules/irrigation.py:16: FutureWarning: Setting an item of incompatible dtype is deprecated and will raise an error in a future version of pandas. Value '22.2' has dtype incompatible with int64, please explicitly cast to a compatible dtype first.\n",
      "  weather.loc[int(day),'airg'] = amount\n"
     ]
    }
   ],
   "source": [
    "##### Run a simulation\n",
    "\n",
    "# Read example input files from STICS for the USM associated to chosen species and variety\n",
    "from pystics.params import parametrization_from_stics_example_files\n",
    "weather, crop, manage, soil, station, constants, initial = parametrization_from_stics_example_files(species, variety)\n",
    "\n",
    "# Run the simulation\n",
    "from pystics.simulation import run_pystics_simulation\n",
    "pystics_df, pystics_mat_list = run_pystics_simulation(weather, crop, soil, constants, manage, station, initial)"
   ]
  },
  {
   "cell_type": "code",
   "execution_count": 3,
   "id": "dc3e682d",
   "metadata": {},
   "outputs": [
    {
     "data": {
      "text/plain": [
       "np.float64(10.701714212679187)"
      ]
     },
     "execution_count": 3,
     "metadata": {},
     "output_type": "execute_result"
    }
   ],
   "source": [
    "# Yield (t.ha-1)\n",
    "pystics_df.mafruit.max()"
   ]
  },
  {
   "cell_type": "code",
   "execution_count": null,
   "id": "f3aa70df-a827-420c-baca-2c0eeeb4aa49",
   "metadata": {},
   "outputs": [],
   "source": []
  }
 ],
 "metadata": {
  "kernelspec": {
   "display_name": "Python 3 (ipykernel)",
   "language": "python",
   "name": "python3"
  },
  "language_info": {
   "codemirror_mode": {
    "name": "ipython",
    "version": 3
   },
   "file_extension": ".py",
   "mimetype": "text/x-python",
   "name": "python",
   "nbconvert_exporter": "python",
   "pygments_lexer": "ipython3",
   "version": "3.11.0"
  }
 },
 "nbformat": 4,
 "nbformat_minor": 5
}
