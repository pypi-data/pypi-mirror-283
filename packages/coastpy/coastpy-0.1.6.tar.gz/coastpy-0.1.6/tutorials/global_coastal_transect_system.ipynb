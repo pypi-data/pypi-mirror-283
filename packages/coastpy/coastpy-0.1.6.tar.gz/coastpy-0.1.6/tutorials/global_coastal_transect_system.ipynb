{
 "cells": [
  {
   "cell_type": "markdown",
   "id": "2b0c68db-fe09-425f-bbd2-56d77335d38c",
   "metadata": {},
   "source": [
    "# Global Coastal Transect System\n",
    "\n",
    "Cross-shore coastal transects are essential to coastal monitoring, offering a consistent reference line to measure coastal change, while providing a robust foundation to map coastal characteristics and derive coastal statistics thereof. The Global Coastal Transect System consists of more than 11 million cross-shore coastal transects uniformly spaced at 100-m intervals alongshore, for all OpenStreetMap coastlines that are longer than 5 kilometers. The dataset is more extensively described Calkoen et al., 2024. \"Enabling Coastal Analytics at Planetary Scale\", that is currently in review. "
   ]
  },
  {
   "cell_type": "code",
   "execution_count": null,
   "id": "5d2e6d5c-1563-46bf-880a-c0345bbfa528",
   "metadata": {},
   "outputs": [],
   "source": [
    "import os\n",
    "\n",
    "import dask\n",
    "\n",
    "dask.config.set({\"dataframe.query-planning\": False})\n",
    "\n",
    "import dask_geopandas\n",
    "import geopandas as gpd\n",
    "import hvplot.pandas\n",
    "import pandas as pd\n",
    "import pystac\n",
    "import shapely\n",
    "from dotenv import load_dotenv\n",
    "from ipyleaflet import Map, basemaps\n",
    "\n",
    "load_dotenv(override=True)\n",
    "\n",
    "sas_token = os.getenv(\"AZURE_STORAGE_SAS_TOKEN\")\n",
    "account_name = \"coclico\"\n",
    "storage_options = {\"account_name\": account_name, \"credential\": sas_token}"
   ]
  },
  {
   "cell_type": "markdown",
   "id": "69d58238-05c3-40c8-b753-3901f649ea6b",
   "metadata": {},
   "source": [
    "## Connect to the CoCliCo STAC "
   ]
  },
  {
   "cell_type": "code",
   "execution_count": null,
   "id": "1a2ec243-beaa-4493-9c94-4160246cc640",
   "metadata": {},
   "outputs": [],
   "source": [
    "coclico_catalog = pystac.Catalog.from_file(\n",
    "    \"https://coclico.blob.core.windows.net/stac/v1/catalog.json\"\n",
    ")\n",
    "gcts_collection = coclico_catalog.get_child(\"gcts\")\n",
    "gcts_collection"
   ]
  },
  {
   "cell_type": "markdown",
   "id": "2c2b1493-a005-4938-9ff4-ec4301c7502c",
   "metadata": {},
   "source": [
    "## The dataset is geospatially partitioned"
   ]
  },
  {
   "cell_type": "code",
   "execution_count": null,
   "id": "5c666163-d818-4439-bb7a-a8b56f502a98",
   "metadata": {},
   "outputs": [],
   "source": [
    "from coastpy.io.utils import read_items_extent\n",
    "\n",
    "gcts_extents = read_items_extent(gcts_collection, columns=[\"geometry\", \"assets\"])\n",
    "gcts_extents[[\"geometry\", \"href\"]].explore()"
   ]
  },
  {
   "cell_type": "markdown",
   "id": "7daeb662",
   "metadata": {},
   "source": [
    "### Use a dynamic map to extract data by region of interest\n",
    "\n",
    "The IPyleaflet map below can be used to find the bbox coordinates of a certain region.\n",
    "Zoom to the area where you want to extract data and run the next cell. Please wait until the map is rendered; otherwise the coordinates cannot be extracted. "
   ]
  },
  {
   "cell_type": "code",
   "execution_count": null,
   "id": "51e12c5b-27a3-4a0c-8ad9-0e92c427d7c8",
   "metadata": {
    "tags": []
   },
   "outputs": [],
   "source": [
    "m = Map(basemap=basemaps.Esri.WorldImagery, scroll_wheel_zoom=True)\n",
    "m.center = 15.827, -95.96\n",
    "m.zoom = 15\n",
    "m.layout.height = \"800px\"\n",
    "# m.layout.height = \"725px\"\n",
    "# m.layout.width = \"725px\"\n",
    "m\n",
    "\n"
   ]
  },
  {
   "cell_type": "code",
   "execution_count": null,
   "id": "5085cbb9-95f1-4a1f-9ea5-fe5ec79e9365",
   "metadata": {
    "tags": []
   },
   "outputs": [],
   "source": [
    "west, south, east, north = m.west, m.south, m.east, m.north\n",
    "# Note: small little hack to ensure the notebook also works when running all cells at once\n",
    "if not west:\n",
    "    west, south, east, north = (\n",
    "        30.28415679931641,\n",
    "        31.276790311057272,\n",
    "        30.630912780761722,\n",
    "        31.51123970051334,\n",
    "    )\n",
    "roi = gpd.GeoDataFrame(\n",
    "    geometry=[shapely.geometry.box(west, south, east, north)], crs=4326\n",
    ")"
   ]
  },
  {
   "cell_type": "markdown",
   "id": "6f74702b-818c-44c6-b697-18ac34ba0a86",
   "metadata": {},
   "source": [
    "## Find the data partitions that span the region of interest"
   ]
  },
  {
   "cell_type": "code",
   "execution_count": null,
   "id": "442e1f28-f425-4079-83f2-f5fa06638da8",
   "metadata": {},
   "outputs": [],
   "source": [
    "hrefs = gpd.sjoin(gcts_extents, roi).href.to_list()"
   ]
  },
  {
   "cell_type": "markdown",
   "id": "86044dd7-97f5-4360-b7d2-e3d2b53a1161",
   "metadata": {},
   "source": [
    "## Read the data from cloud storage"
   ]
  },
  {
   "cell_type": "code",
   "execution_count": null,
   "id": "3ccee875-c4cd-407a-9373-8e2485b543ad",
   "metadata": {},
   "outputs": [],
   "source": [
    "transects = dask_geopandas.read_parquet(hrefs, storage_options=storage_options)\n",
    "transects = (\n",
    "    transects.sjoin(roi.to_crs(transects.crs)).drop(columns=[\"index_right\"]).compute()\n",
    ")\n",
    "\n",
    "transects.head()"
   ]
  },
  {
   "cell_type": "code",
   "execution_count": null,
   "id": "e8588018-5af8-4b08-971a-41fb182cb43c",
   "metadata": {},
   "outputs": [],
   "source": [
    "import colorcet as cc\n",
    "\n",
    "transects[[\"geometry\", \"bearing\"]].hvplot(\n",
    "    geo=True,\n",
    "    tiles=\"ESRI\",\n",
    "    color=\"bearing\",\n",
    "    frame_width=650,\n",
    "    frame_height=550,\n",
    "    colorbar=True,\n",
    "    cmap=cc.CET_C6,\n",
    "    clim=(0,360),\n",
    "    # title=\"Transect geometries with north bearing [deg]\",\n",
    "    clabel=\"North Bearing [deg]\"\n",
    ")"
   ]
  }
 ],
 "metadata": {
  "kernelspec": {
   "display_name": "Python [conda env:coastal-testenv]",
   "language": "python",
   "name": "conda-env-coastal-testenv-py"
  },
  "language_info": {
   "codemirror_mode": {
    "name": "ipython",
    "version": 3
   },
   "file_extension": ".py",
   "mimetype": "text/x-python",
   "name": "python",
   "nbconvert_exporter": "python",
   "pygments_lexer": "ipython3",
   "version": "3.12.4"
  }
 },
 "nbformat": 4,
 "nbformat_minor": 5
}
