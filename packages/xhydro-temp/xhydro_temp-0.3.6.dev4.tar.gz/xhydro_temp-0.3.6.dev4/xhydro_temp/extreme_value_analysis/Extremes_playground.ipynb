{
 "cells": [
  {
   "cell_type": "code",
   "execution_count": 1,
   "metadata": {
    "ExecuteTime": {
     "end_time": "2024-07-03T18:07:39.617595600Z",
     "start_time": "2024-07-03T18:07:29.550676900Z"
    }
   },
   "outputs": [],
   "source": [
    "using Extremes"
   ]
  },
  {
   "cell_type": "code",
   "execution_count": 2,
   "metadata": {
    "collapsed": false,
    "ExecuteTime": {
     "end_time": "2024-07-03T18:07:44.340653700Z",
     "start_time": "2024-07-03T18:07:42.006619600Z"
    }
   },
   "outputs": [
    {
     "data": {
      "text/plain": "17-element Vector{Float64}:\n  31.4\n  38.8\n  63.78\n  54.82\n 123.2\n 108.2\n 108.1\n  98.52\n  42.24\n  33.45\n  60.0\n  84.23\n  48.07\n  77.71\n  38.37\n  42.02\n  46.0"
     },
     "execution_count": 2,
     "metadata": {},
     "output_type": "execute_result"
    }
   ],
   "source": [
    "y = [\n",
    "    31.4, 38.8, 63.78, 54.82, 123.2, 108.2, 108.1, 98.52,\n",
    "    42.24, 33.45, 60.0, 84.23, 48.07, 77.71, 38.37, 42.02,\n",
    "    46.0\n",
    "]"
   ]
  },
  {
   "cell_type": "code",
   "outputs": [
    {
     "name": "stderr",
     "output_type": "stream",
     "text": [
      "\u001B[32mProgress: 100%|█████████████████████████████████████████| Time: 0:00:02\u001B[39m\n"
     ]
    },
    {
     "data": {
      "text/plain": "3000×1 Matrix{Tuple{Float64, Float64, Float64}}:\n (44.86349979079509, 11.678058935814601, 0.5831329178718809)\n (44.95824897012972, 24.164222122080016, 0.7045485107611034)\n (44.98675094299702, 19.797296188692336, 0.753583004211027)\n (45.04161378679044, 21.856116668765775, 1.0029887215719777)\n (45.03858470694035, 18.35387936934386, 1.1179617986733097)\n (45.03858470694035, 18.35387936934386, 1.1179617986733097)\n (44.99693493062557, 17.642525529196426, 1.000441930848278)\n (44.97084906632301, 18.478303072009624, 0.9753435545508427)\n (44.97084906632301, 18.478303072009624, 0.9753435545508427)\n (44.89141013724255, 16.388707339204267, 0.7386622941084507)\n (45.64941439359343, 19.18780124341552, 0.3556495294175169)\n (45.53244364197877, 15.604079968099445, 0.657285704614465)\n (44.82212012190799, 19.559112081516073, 1.2457004660679267)\n ⋮\n (48.46576579012252, 21.919958825907816, 0.8341044526247338)\n (48.69225711882885, 21.222016345952873, 0.7425904471923525)\n (48.596755882317574, 21.779821449442696, 0.45883872545107396)\n (41.66630940150168, 15.186764800490492, 0.6175196982224951)\n (42.06088609274851, 10.179840672323165, 0.40660953099249575)\n (42.190415783714855, 12.8240271819511, 0.643673132990837)\n (42.78460886117061, 12.503272687931075, 0.33451448792435623)\n (42.806625017671436, 13.328418093694106, 0.6114610509904667)\n (42.818712960785895, 20.164996320894097, 0.5583259894102757)\n (42.61016060101172, 13.024163372462137, 0.2792425343954412)\n (42.42045749270142, 14.783154117631867, 0.713838122566035)\n (42.34940020663862, 14.314247402657896, 0.08704023368520142)"
     },
     "execution_count": 3,
     "metadata": {},
     "output_type": "execute_result"
    }
   ],
   "source": [
    "params(gevfitbayes(y))"
   ],
   "metadata": {
    "collapsed": false,
    "ExecuteTime": {
     "end_time": "2024-07-03T18:07:57.818571600Z",
     "start_time": "2024-07-03T18:07:46.318084100Z"
    }
   },
   "execution_count": 3
  },
  {
   "cell_type": "code",
   "execution_count": null,
   "metadata": {
    "collapsed": false
   },
   "outputs": [],
   "source": [
    "# DONT EXECUTE THIS CELL!!!\n",
    "\n",
    "#using Extremes, Distributions\n",
    "#using DelimitedFiles  # Import DelimitedFiles for writedlm function\n",
    "\n",
    "#pd = GeneralizedExtremeValue(0, 1, -0.2)\n",
    "#y = rand(pd, 5000)\n",
    "\n",
    "# Write y to a text file\n",
    "#writedlm(\"output2.txt\", y)\n",
    "\n"
   ]
  },
  {
   "cell_type": "code",
   "execution_count": null,
   "metadata": {
    "collapsed": false
   },
   "outputs": [],
   "source": [
    "#params(gevfit(y))"
   ]
  },
  {
   "cell_type": "code",
   "outputs": [],
   "source": [],
   "metadata": {
    "collapsed": false
   }
  }
 ],
 "metadata": {
  "kernelspec": {
   "display_name": "Julia 1.9.4",
   "language": "julia",
   "name": "julia-1.9"
  },
  "language_info": {
   "file_extension": ".jl",
   "mimetype": "application/julia",
   "name": "julia",
   "version": "1.9.4"
  }
 },
 "nbformat": 4,
 "nbformat_minor": 2
}
