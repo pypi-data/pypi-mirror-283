{
 "cells": [
  {
   "cell_type": "code",
   "execution_count": null,
   "metadata": {},
   "outputs": [],
   "source": [
    "%load_ext autoreload\n",
    "%autoreload 2\n",
    "%reload_ext autoreload\n",
    "\n",
    "from structures.cluster import Cluster\n",
    "from structures.conversions import *\n",
    "from structures.util import *"
   ]
  },
  {
   "cell_type": "code",
   "execution_count": null,
   "metadata": {},
   "outputs": [],
   "source": [
    "import random\n",
    "y = [random.uniform(-50.0, 50.0) for _ in range(25)]\n",
    "\n",
    "clusters = getcluster_1(y, u_1 = 28.0, u_2 = 2.0)\n",
    "print(clusters)\n",
    "print(type(clusters))\n"
   ]
  },
  {
   "cell_type": "code",
   "execution_count": null,
   "metadata": {},
   "outputs": [],
   "source": [
    "clusters = getcluster_2(y, u = 28.0, runlength = 9)\n",
    "print(clusters)\n",
    "print(type(clusters))\n",
    "\n",
    "clusters[0]\n",
    "\n"
   ]
  }
 ],
 "metadata": {
  "kernelspec": {
   "display_name": "xhydro-dev",
   "language": "python",
   "name": "python3"
  },
  "language_info": {
   "codemirror_mode": {
    "name": "ipython",
    "version": 3
   },
   "file_extension": ".py",
   "mimetype": "text/x-python",
   "name": "python",
   "nbconvert_exporter": "python",
   "pygments_lexer": "ipython3",
   "version": "3.12.3"
  }
 },
 "nbformat": 4,
 "nbformat_minor": 2
}
