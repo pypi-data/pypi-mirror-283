{
 "cells": [
  {
   "cell_type": "code",
   "execution_count": null,
   "id": "dd76b0d398266b4",
   "metadata": {
    "collapsed": false
   },
   "outputs": [],
   "source": [
    "import numpy as np\n",
    "\n",
    "my_arr = np.array([1, 2, 3, 4, 5])\n",
    "my_arr"
   ]
  },
  {
   "cell_type": "code",
   "execution_count": 5,
   "id": "fcf2144fffa5000f",
   "metadata": {
    "ExecuteTime": {
     "end_time": "2024-07-03T18:06:58.207214500Z",
     "start_time": "2024-07-03T18:06:57.670108800Z"
    },
    "collapsed": false
   },
   "outputs": [],
   "source": [
    "from juliacall import Main as jl\n",
    "from juliapkg import add\n",
    "\n",
    "add(\"Extremes\", \"fe3fe864-1b39-11e9-20b8-1f96fa57382d\")\n",
    "jl.seval(\"using Extremes\")\n",
    "Extremes = jl.Extremes"
   ]
  },
  {
   "cell_type": "code",
   "execution_count": null,
   "id": "cacf17febfef0ca2",
   "metadata": {
    "collapsed": false
   },
   "outputs": [],
   "source": []
  }
 ],
 "metadata": {
  "kernelspec": {
   "display_name": "Python 3 (ipykernel)",
   "language": "python",
   "name": "python3"
  },
  "language_info": {
   "codemirror_mode": {
    "name": "ipython",
    "version": 3
   },
   "file_extension": ".py",
   "mimetype": "text/x-python",
   "name": "python",
   "nbconvert_exporter": "python",
   "pygments_lexer": "ipython3",
   "version": "3.12.3"
  }
 },
 "nbformat": 4,
 "nbformat_minor": 5
}
