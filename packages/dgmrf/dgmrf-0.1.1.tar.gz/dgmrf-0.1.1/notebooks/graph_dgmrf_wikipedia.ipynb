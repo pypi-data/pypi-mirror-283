{
 "cells": [
  {
   "cell_type": "code",
   "execution_count": 1,
   "id": "1cffee4e-b70c-4d5b-bd04-f816cf203860",
   "metadata": {},
   "outputs": [],
   "source": [
    "%load_ext autoreload\n",
    "%autoreload 2"
   ]
  },
  {
   "cell_type": "markdown",
   "id": "696a04df-71dc-475e-a88c-943b8c1f9ff4",
   "metadata": {},
   "source": [
    "# Deep Gaussian Markov Random Fields on graph (the Graph DGMRF model) on the Wikipedia example\n",
    "\n",
    "The original article is [here](https://proceedings.mlr.press/v162/oskarsson22a/oskarsson22a.pdf) and the code can be found [here](https://github.com/joeloskarsson/graph-dgmrf/blob/main/utils.py).\n",
    "\n",
    "The experiment consists in predicting unobserved node attributes (a real number) when the graph is known and the observed node attributes are known too.\n",
    "\n",
    "The results of this notebook are to be compared with the Table 1 of the article. Our implmentation seems to perform better. We thus seem able to reasonably infer the unobserved node attributes."
   ]
  },
  {
   "cell_type": "code",
   "execution_count": 2,
   "id": "b41b3a12-1d28-458a-90f5-5bef317bdeb9",
   "metadata": {},
   "outputs": [
    {
     "name": "stderr",
     "output_type": "stream",
     "text": [
      "2024-07-05 16:32:13.224702: W external/xla/xla/service/gpu/nvptx_compiler.cc:765] The NVIDIA driver's CUDA version is 12.2 which is older than the ptxas CUDA version (12.5.40). Because the driver is older than the ptxas version, XLA is disabling parallel compilation, which may slow down compilation. You should update your NVIDIA driver or use the NVIDIA-provided CUDA forward compatibility packages.\n"
     ]
    }
   ],
   "source": [
    "from functools import partial\n",
    "import jax\n",
    "#jax.config.update('jax_platforms', \"cpu\")\n",
    "import jax.numpy as jnp\n",
    "import matplotlib.pyplot as plt\n",
    "from mpl_toolkits.axes_grid1 import make_axes_locatable\n",
    "import optax\n",
    "from jax_tqdm import scan_tqdm\n",
    "import copy\n",
    "import equinox as eqx\n",
    "import numpy as np\n",
    "\n",
    "\n",
    "key = jax.random.PRNGKey(0)"
   ]
  },
  {
   "cell_type": "code",
   "execution_count": 3,
   "id": "3a046ac9-c405-4b4b-acaa-959488edbeaf",
   "metadata": {},
   "outputs": [
    {
     "name": "stdout",
     "output_type": "stream",
     "text": [
      "TFRT_CPU_0 cuda:0\n"
     ]
    }
   ],
   "source": [
    "try:\n",
    "    gpu_device = jax.devices('gpu')[0]\n",
    "    cpu_device = jax.devices('cpu')[0]\n",
    "    print(cpu_device, gpu_device)\n",
    "except:\n",
    "    cpu_device = jax.devices('cpu')[0]\n",
    "    print(cpu_device)"
   ]
  },
  {
   "cell_type": "markdown",
   "id": "47edc65f-08e1-4278-bb0b-47c35810d0c9",
   "metadata": {},
   "source": [
    "## Load the wikipedia graph data for chameleon 🦎"
   ]
  },
  {
   "cell_type": "markdown",
   "id": "3c20960a-8afb-4c8b-ae6a-60f7a4305705",
   "metadata": {},
   "source": [
    "**Note that it would be good to have a more rigorous preprocessing of the data: e.g. isolated nodes** (see [original code](https://github.com/joeloskarsson/graph-dgmrf/blob/4c640b3eba025fdfdec8db977ca0f484748737d1/data_loading/wiki.py#L41))"
   ]
  },
  {
   "cell_type": "code",
   "execution_count": 4,
   "id": "664f6ac8-ea71-43a6-a80f-a8e39c2e9d68",
   "metadata": {},
   "outputs": [],
   "source": [
    "from dgmrf.utils import get_N_y_D_A\n",
    "N, y, D, A = get_N_y_D_A(\"musae_chameleon\")"
   ]
  },
  {
   "cell_type": "markdown",
   "id": "944b34ea-4f22-4f67-ad22-1bdba7be8b04",
   "metadata": {},
   "source": [
    "As stated in the article, **50% of nodes will be unobserved**, randomly and uniformly chosen and optionally add noise"
   ]
  },
  {
   "cell_type": "code",
   "execution_count": 5,
   "id": "b320ad23-298a-4012-a310-acb1e8cc80ad",
   "metadata": {},
   "outputs": [],
   "source": [
    "from dgmrf.utils import get_y_with_mask_and_noise\n",
    "true_sigma_noise = 0.5\n",
    "key, subkey = jax.random.split(key, 2)\n",
    "y, mask = get_y_with_mask_and_noise(y, y.shape[0] // 2, subkey, true_sigma_noise)"
   ]
  },
  {
   "cell_type": "markdown",
   "id": "df61c3ff-9ae6-4516-9e74-25f6ac120f8a",
   "metadata": {},
   "source": [
    "## Define the DGMRF components"
   ]
  },
  {
   "cell_type": "code",
   "execution_count": 6,
   "id": "7409d65b-5da3-488d-90e4-c449dd4701b8",
   "metadata": {},
   "outputs": [],
   "source": [
    "from dgmrf.models import DGMRF, MeanField, FactorizedS"
   ]
  },
  {
   "cell_type": "code",
   "execution_count": 7,
   "id": "a1fae14d-c4ae-4b9c-b05a-1acaf72a9ca9",
   "metadata": {},
   "outputs": [],
   "source": [
    "L = 3\n",
    "Nq = 5"
   ]
  },
  {
   "cell_type": "code",
   "execution_count": 8,
   "id": "da47b2b8-5c89-449e-86c2-8f030101f1ca",
   "metadata": {},
   "outputs": [],
   "source": [
    "y = y.flatten()\n",
    "mask = mask.flatten()"
   ]
  },
  {
   "cell_type": "code",
   "execution_count": 9,
   "id": "0ec6e87d-f2b7-4377-85f1-727a95f03197",
   "metadata": {},
   "outputs": [],
   "source": [
    "key, subkey = jax.random.split(key, 2)\n",
    "\n",
    "dgmrf = DGMRF(\n",
    "    subkey,\n",
    "    L,\n",
    "    A_D=(A, D),\n",
    "    log_det_method=\"eigenvalues\",\n",
    "    with_bias=True,\n",
    "    non_linear=False,\n",
    ")\n"
   ]
  },
  {
   "cell_type": "markdown",
   "id": "eb4ce87f-3aee-4137-9e82-d57df4bb9c2f",
   "metadata": {},
   "source": [
    "Instanciate the variational distribution. The factorized distribution is much slower. MF variational distribution is already very satisfying."
   ]
  },
  {
   "cell_type": "code",
   "execution_count": 10,
   "id": "bf5c662a-63b0-4328-97b5-f668c6f87841",
   "metadata": {},
   "outputs": [],
   "source": [
    "key, subkey1, subkey2 = jax.random.split(key, 3)\n",
    "\n",
    "q_phi = MeanField(N=N, key=subkey1)\n",
    "# q_phi = FactorizedS(\n",
    "#     N=N,\n",
    "#     dgmrf_args=(subkey1, 1),\n",
    "#     dgmrf_kwargs= {\n",
    "#         \"A_D\":(A, D),\n",
    "#         \"log_det_method\":\"eigenvalues\"\n",
    "#     },\n",
    "#     key=subkey2\n",
    "# )"
   ]
  },
  {
   "cell_type": "markdown",
   "id": "43bb951a-1a36-42c1-bfde-d2ac0ec829bd",
   "metadata": {},
   "source": [
    "Define the Model equinox module `(DGMRF, VariationalDistribution, noise_parameter_array)`. This is just a container-like structure"
   ]
  },
  {
   "cell_type": "code",
   "execution_count": 11,
   "id": "b24d64ea-0c21-4034-913e-22a79488053b",
   "metadata": {},
   "outputs": [],
   "source": [
    "from dgmrf.train import Model\n",
    "model = Model(dgmrf, q_phi, jnp.log(true_sigma_noise))"
   ]
  },
  {
   "cell_type": "markdown",
   "id": "62adad39-9b78-4c4f-9979-3b3fdea99ca5",
   "metadata": {},
   "source": [
    "## Variational inference to compute model parameters"
   ]
  },
  {
   "cell_type": "code",
   "execution_count": 12,
   "id": "3edc61ef-91c2-4c10-8ead-1d95700e7dba",
   "metadata": {},
   "outputs": [],
   "source": [
    "n_iter = 25000\n",
    "lr_graph = 1e-3\n",
    "\n",
    "lr = lr_graph\n",
    "tx = optax.multi_transform(\n",
    "    {\n",
    "     'dgmrf': optax.adam(lr), 'log_sigma': optax.adam(0), 'q_phi': optax.adam(lr)},\n",
    "    Model(dgmrf=\"dgmrf\", posterior=\"q_phi\", noise_parameter=\"log_sigma\")\n",
    ")\n",
    "opt_state = tx.init(eqx.filter(model, eqx.is_array))"
   ]
  },
  {
   "cell_type": "code",
   "execution_count": 13,
   "id": "83e0527d-e612-4026-bd36-a946921de085",
   "metadata": {},
   "outputs": [
    {
     "name": "stdout",
     "output_type": "stream",
     "text": [
      "Iteration 0, loss_value = -221343.125\n",
      "Iteration 5000, loss_value = -235.99578857421875\n",
      "Iteration 10000, loss_value = -40.814361572265625\n",
      "Iteration 15000, loss_value = -6.8815131187438965\n",
      "Iteration 20000, loss_value = 4.20373010635376\n",
      "End of training (iteration 25000), loss_value = 7.5756402015686035\n"
     ]
    }
   ],
   "source": [
    "from dgmrf.losses import dgmrf_elbo\n",
    "from dgmrf.train import train_loop\n",
    "\n",
    "print_rate = 5000\n",
    "key, subkey = jax.random.split(key, 2)\n",
    "\n",
    "model, loss_val, opt_state = train_loop(dgmrf_elbo, model, y, n_iter, tx, opt_state, subkey, print_rate, N, Nq, mask=mask)"
   ]
  },
  {
   "cell_type": "code",
   "execution_count": 14,
   "id": "c95ed3ac-9221-4fde-9ae8-52e34dea9f96",
   "metadata": {},
   "outputs": [
    {
     "data": {
      "image/png": "[encoded data removed]",
      "text/plain": [
       "<Figure size 640x480 with 1 Axes>"
      ]
     },
     "metadata": {},
     "output_type": "display_data"
    }
   ],
   "source": [
    "plt.plot((loss_val))\n",
    "plt.show()"
   ]
  },
  {
   "cell_type": "markdown",
   "id": "14846385-30ec-4ec0-af38-2fdf88150e94",
   "metadata": {},
   "source": [
    "The means of the variational distribution will be the inferred values as a first approximation.."
   ]
  },
  {
   "cell_type": "code",
   "execution_count": 15,
   "id": "04026de1-e05b-4a42-bb2f-1a0a977fdf44",
   "metadata": {},
   "outputs": [
    {
     "name": "stdout",
     "output_type": "stream",
     "text": [
      "RMSE with the means of the variational distribution 3.985897\n"
     ]
    }
   ],
   "source": [
    "rmse_nu_phi = jnp.sqrt(jnp.mean((model.posterior.params[\"nu\"] - y) ** 2))\n",
    "print(\"RMSE with the means of the variational distribution\", rmse_nu_phi)"
   ]
  },
  {
   "cell_type": "markdown",
   "id": "2469f7e1-f3b0-405b-8dfd-4c3cbd3aeae1",
   "metadata": {},
   "source": [
    "**.. but the estimation is very bad with the variational posterior means !**"
   ]
  },
  {
   "cell_type": "markdown",
   "id": "f7a779db-6d16-412b-97a3-7e29ad214ee2",
   "metadata": {},
   "source": [
    "### Computation of posterior mean"
   ]
  },
  {
   "cell_type": "code",
   "execution_count": 16,
   "id": "640846ba-ad5b-464f-95da-6ab3bb602010",
   "metadata": {},
   "outputs": [],
   "source": [
    "mu_post_exact = model.dgmrf.get_post_mu(\n",
    "    y,\n",
    "    model.noise_parameter,\n",
    "    mask=mask,\n",
    "    method=\"exact\"\n",
    ")"
   ]
  },
  {
   "cell_type": "code",
   "execution_count": 17,
   "id": "a03f6ea5-69b3-4bb3-b545-d0ec397c9759",
   "metadata": {},
   "outputs": [
    {
     "name": "stdout",
     "output_type": "stream",
     "text": [
      "RMSE with the exact posterior mean 0.42862558\n"
     ]
    }
   ],
   "source": [
    "rmse_mu_post_exact = jnp.sqrt(jnp.mean((mu_post_exact - y) ** 2))\n",
    "print(\"RMSE with the exact posterior mean\", rmse_mu_post_exact)"
   ]
  },
  {
   "cell_type": "code",
   "execution_count": 18,
   "id": "565f1b03-de60-45a5-9250-1a2fcb0b486e",
   "metadata": {},
   "outputs": [],
   "source": [
    "xpost_mean = model.dgmrf.get_post_mu(y, model.noise_parameter, model.posterior.params[\"nu\"], mask=mask, method=\"cg\");"
   ]
  },
  {
   "cell_type": "code",
   "execution_count": 19,
   "id": "f6b16575-2355-4b07-a129-9402f65937c7",
   "metadata": {},
   "outputs": [
    {
     "name": "stdout",
     "output_type": "stream",
     "text": [
      "RMSE with the posterior mean from conjugate gradient 0.4177313\n"
     ]
    }
   ],
   "source": [
    "rmse_xpost_mean = jnp.sqrt(jnp.mean((xpost_mean - y) ** 2))\n",
    "print(\"RMSE with the posterior mean from conjugate gradient\", rmse_xpost_mean)"
   ]
  },
  {
   "cell_type": "markdown",
   "id": "4811bff2-ae32-44c5-b329-d7b35c4977ce",
   "metadata": {},
   "source": [
    "**Now the results are much better using an exact computation of the posterior means or its approximation using a conjugate gradient algorithm ! We even do better than the results reported in the article, using only the MF approximation**"
   ]
  },
  {
   "cell_type": "markdown",
   "id": "2a956aa0-f44d-42a7-a6bc-0eb6ea4986c8",
   "metadata": {},
   "source": [
    "## Test on the squirrel wikipedia graph 🐿️"
   ]
  },
  {
   "cell_type": "code",
   "execution_count": 20,
   "id": "10eea7b4-1548-4c0c-a229-800f6fd9d650",
   "metadata": {},
   "outputs": [],
   "source": [
    "from dgmrf.utils import get_N_y_D_A\n",
    "N, y, D, A = get_N_y_D_A(\"musae_squirrel\")"
   ]
  },
  {
   "cell_type": "code",
   "execution_count": 21,
   "id": "5b259a32-9266-42c8-a920-fcb21c343d1c",
   "metadata": {},
   "outputs": [],
   "source": [
    "key, subkey = jax.random.split(key, 2)\n",
    "L = 3\n",
    "Nq = 5\n",
    "dgmrf = DGMRF(\n",
    "    subkey,\n",
    "    L,\n",
    "    A_D=(A, D),\n",
    "    log_det_method=\"eigenvalues\",\n",
    "    with_bias=True,\n",
    "    non_linear=False,\n",
    ")\n",
    "key, subkey = jax.random.split(key)\n",
    "q_phi = MeanField(N=N, key=subkey)\n",
    "model = Model(dgmrf, q_phi, jnp.log(true_sigma_noise))\n",
    "key, subkey = jax.random.split(key, 2)\n",
    "y, mask = get_y_with_mask_and_noise(y, y.shape[0] // 2, subkey, true_sigma_noise)"
   ]
  },
  {
   "cell_type": "code",
   "execution_count": 22,
   "id": "d0c33322-13dc-4a3f-a5c3-9a8ad0256208",
   "metadata": {},
   "outputs": [],
   "source": [
    "n_iter = 50000\n",
    "lr_graph = 1e-3\n",
    "\n",
    "lr = lr_graph\n",
    "tx = optax.multi_transform(\n",
    "    {\n",
    "     'dgmrf': optax.adam(lr), 'log_sigma': optax.adam(0), 'q_phi': optax.adam(lr)},\n",
    "    Model(dgmrf=\"dgmrf\", posterior=\"q_phi\", noise_parameter=\"log_sigma\")\n",
    ")\n",
    "opt_state = tx.init(eqx.filter(model, eqx.is_array))"
   ]
  },
  {
   "cell_type": "code",
   "execution_count": 23,
   "id": "d7e54bab-4fff-4e57-83d7-36d9568b99bf",
   "metadata": {},
   "outputs": [
    {
     "name": "stdout",
     "output_type": "stream",
     "text": [
      "Iteration 0, loss_value = -19465254.0\n",
      "Iteration 5000, loss_value = -10491.22265625\n",
      "Iteration 10000, loss_value = -914.7408447265625\n",
      "Iteration 15000, loss_value = -100.9206314086914\n",
      "Iteration 20000, loss_value = -21.759613037109375\n",
      "Iteration 25000, loss_value = 0.05420875549316406\n",
      "Iteration 30000, loss_value = 6.255952835083008\n",
      "Iteration 35000, loss_value = 8.870471954345703\n",
      "Iteration 40000, loss_value = 10.076672554016113\n",
      "Iteration 45000, loss_value = 10.548379898071289\n",
      "End of training (iteration 50000), loss_value = 10.90072250366211\n"
     ]
    }
   ],
   "source": [
    "from dgmrf.losses import dgmrf_elbo\n",
    "from dgmrf.train import train_loop\n",
    "\n",
    "print_rate = 5000\n",
    "key, subkey = jax.random.split(key, 2)\n",
    "\n",
    "model, loss_val, opt_state = train_loop(dgmrf_elbo, model, y, n_iter, tx, opt_state, subkey, print_rate, N, Nq, mask=mask)"
   ]
  },
  {
   "cell_type": "code",
   "execution_count": 24,
   "id": "a96933a8-c14e-4d09-8548-f1593b6f8a1c",
   "metadata": {},
   "outputs": [
    {
     "name": "stdout",
     "output_type": "stream",
     "text": [
      "RMSE with the means of the variational distribution 6.4483366\n",
      "RMSE with the exact posterior mean 0.8824542\n",
      "RMSE with the posterior mean from conjugate gradient 0.88814384\n"
     ]
    }
   ],
   "source": [
    "rmse_nu_phi = jnp.sqrt(jnp.mean((model.posterior.params[\"nu\"] - y) ** 2))\n",
    "print(\"RMSE with the means of the variational distribution\", rmse_nu_phi)\n",
    "mu_post_exact = model.dgmrf.get_post_mu(\n",
    "    y,\n",
    "    model.noise_parameter,\n",
    "    mask=mask,\n",
    "    method=\"exact\"\n",
    ")\n",
    "rmse_mu_post_exact = jnp.sqrt(jnp.mean((mu_post_exact - y) ** 2))\n",
    "print(\"RMSE with the exact posterior mean\", rmse_mu_post_exact)\n",
    "xpost_mean = model.dgmrf.get_post_mu(y, model.noise_parameter, model.posterior.params[\"nu\"], mask=mask, method=\"cg\");\n",
    "rmse_xpost_mean = jnp.sqrt(jnp.mean((xpost_mean - y) ** 2))\n",
    "print(\"RMSE with the posterior mean from conjugate gradient\", rmse_xpost_mean)"
   ]
  },
  {
   "cell_type": "markdown",
   "id": "9b79effa-d6a1-415c-8153-2949628bfd04",
   "metadata": {},
   "source": [
    "**Same remark as before: the variational mean parameter cannot be taken for the inferred values (they represented a very bad approximation), however, our exact posterior mean computation as well as our approximate posterior mean computation (with conjugate gradient) yields very good results as compared as in the article**"
   ]
  },
  {
   "cell_type": "markdown",
   "id": "812e27c4-bf56-4447-bb1d-cfd844a6a1f2",
   "metadata": {},
   "source": [
    "## Test on the crocodile wikipedia graph 🐊"
   ]
  },
  {
   "cell_type": "markdown",
   "id": "5fd7304e-9d95-4268-a258-db888927e26f",
   "metadata": {},
   "source": [
    "For large graph, eigenvalue decomposition is too costly, even if performed only once before. The approach to compute the log determinant is then the power series approach for this section"
   ]
  },
  {
   "cell_type": "code",
   "execution_count": 4,
   "id": "67a466dd-8918-4021-be6c-8a8b277cf3b5",
   "metadata": {},
   "outputs": [
    {
     "name": "stderr",
     "output_type": "stream",
     "text": [
      "/home/hugo/anaconda3/envs/dgmrf/lib/python3.11/site-packages/jax/experimental/sparse/coo.py:332: CuSparseEfficiencyWarning: coo_fromdense cusparse/hipsparse lowering not available for dtype=dtype('int8'). Falling back to default implementation.\n",
      "  warnings.warn(f\"coo_fromdense cusparse/hipsparse lowering not available for {dtype=}. \"\n"
     ]
    }
   ],
   "source": [
    "from dgmrf.utils import get_N_y_D_A\n",
    "N, y, D, A = get_N_y_D_A(\"musae_crocodile\")"
   ]
  },
  {
   "cell_type": "code",
   "execution_count": null,
   "id": "53ec2382-6de3-48d3-a2be-60c425b2933c",
   "metadata": {},
   "outputs": [],
   "source": [
    "from dgmrf.models import DGMRF, MeanField, FactorizedS\n",
    "from dgmrf.utils import get_y_with_mask_and_noise\n",
    "L = 3\n",
    "Nq = 5\n",
    "key, subkey = jax.random.split(key, 2)\n",
    "dgmrf = DGMRF(\n",
    "    subkey,\n",
    "    L,\n",
    "    A_D=(A, D),\n",
    "    log_det_method=\"power_series\",\n",
    "    with_bias=True,\n",
    "    non_linear=False,\n",
    ")\n",
    "key, subkey = jax.random.split(key)\n",
    "q_phi = MeanField(N=N, key=subkey)\n",
    "model = Model(dgmrf, q_phi, jnp.log(true_sigma_noise))\n",
    "key, subkey = jax.random.split(key, 2)\n",
    "y, mask = get_y_with_mask_and_noise(y, y.shape[0] // 2, subkey, true_sigma_noise)"
   ]
  },
  {
   "cell_type": "code",
   "execution_count": null,
   "id": "bff6cb8f-63d5-4861-882f-e67039c4de09",
   "metadata": {},
   "outputs": [],
   "source": [
    "n_iter = 50000\n",
    "lr_graph = 1e-3\n",
    "\n",
    "lr = lr_graph\n",
    "tx = optax.multi_transform(\n",
    "    {\n",
    "     'dgmrf': optax.adam(lr), 'log_sigma': optax.adam(0), 'q_phi': optax.adam(lr)},\n",
    "    Model(dgmrf=\"dgmrf\", posterior=\"q_phi\", noise_parameter=\"log_sigma\")\n",
    ")\n",
    "opt_state = tx.init(eqx.filter(model, eqx.is_array))"
   ]
  },
  {
   "cell_type": "code",
   "execution_count": null,
   "id": "24b8b105-f77d-4225-8185-b70d2302c519",
   "metadata": {},
   "outputs": [],
   "source": [
    "from dgmrf.losses import dgmrf_elbo\n",
    "from dgmrf.train import train_loop\n",
    "\n",
    "print_rate = 5000\n",
    "key, subkey = jax.random.split(key, 2)\n",
    "\n",
    "model, loss_val, opt_state = train_loop(dgmrf_elbo, model, y, n_iter, tx, opt_state, subkey, print_rate, N, Nq, mask=mask)"
   ]
  },
  {
   "cell_type": "code",
   "execution_count": null,
   "id": "0ede16e5-149f-469a-915e-0f9919fc6d84",
   "metadata": {},
   "outputs": [],
   "source": [
    "rmse_nu_phi = jnp.sqrt(jnp.mean((model.posterior.params[\"nu\"] - y) ** 2))\n",
    "print(\"RMSE with the means of the variational distribution\", rmse_nu_phi)\n",
    "mu_post_exact = model.dgmrf.get_post_mu(\n",
    "    y,\n",
    "    model.noise_parameter,\n",
    "    mask=mask,\n",
    "    method=\"exact\"\n",
    ")\n",
    "rmse_mu_post_exact = jnp.sqrt(jnp.mean((mu_post_exact - y) ** 2))\n",
    "print(\"RMSE with the exact posterior mean\", rmse_mu_post_exact)\n",
    "xpost_mean = model.dgmrf.get_post_mu(y, model.noise_parameter, model.posterior.params[\"nu\"], mask=mask, method=\"cg\");\n",
    "rmse_xpost_mean = jnp.sqrt(jnp.mean((xpost_mean - y) ** 2))\n",
    "print(\"RMSE with the posterior mean from conjugate gradient\", rmse_xpost_mean)"
   ]
  },
  {
   "cell_type": "code",
   "execution_count": null,
   "id": "677b33dc-13fb-4c32-a111-a16acc718fae",
   "metadata": {},
   "outputs": [],
   "source": []
  }
 ],
 "metadata": {
  "kernelspec": {
   "display_name": "Python 3 (ipykernel)",
   "language": "python",
   "name": "python3"
  },
  "language_info": {
   "codemirror_mode": {
    "name": "ipython",
    "version": 3
   },
   "file_extension": ".py",
   "mimetype": "text/x-python",
   "name": "python",
   "nbconvert_exporter": "python",
   "pygments_lexer": "ipython3",
   "version": "3.11.9"
  }
 },
 "nbformat": 4,
 "nbformat_minor": 5
}
