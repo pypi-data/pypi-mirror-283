{
 "cells": [
  {
   "cell_type": "markdown",
   "id": "a6f9c385-a190-4836-9f6f-a875cb748656",
   "metadata": {},
   "source": [
    "# PS-Poly Examples\n",
    "Version 0.3"
   ]
  },
  {
   "cell_type": "markdown",
   "id": "6c5f8fed-8105-46fb-8742-7808f1fe5c84",
   "metadata": {},
   "source": [
    "The following code excerpts are taken from the PS-Poly Python package instruction manual. It is recommended to follow along with the manual, executing all runable code cells in order. The raw text cells contain code used in the instruction manual which you do not need to run, unless you so choose."
   ]
  },
  {
   "cell_type": "markdown",
   "id": "8656c2c9-2ba3-4a96-b346-0f8cfed364d8",
   "metadata": {},
   "source": [
    "# Simple Data Analysis"
   ]
  },
  {
   "cell_type": "code",
   "execution_count": null,
   "id": "fa757b17-2c30-4824-a6fd-f57fa454a215",
   "metadata": {},
   "outputs": [],
   "source": [
    "import pspoly"
   ]
  },
  {
   "cell_type": "raw",
   "id": "f27ba9aa-077e-4126-b07e-e3d92dd446a0",
   "metadata": {},
   "source": [
    "pspoly.run('newCL_0000.png',2)"
   ]
  },
  {
   "cell_type": "raw",
   "id": "561445de-987a-4cef-ba75-79e71cb820b5",
   "metadata": {},
   "source": [
    "pspoly.run('newCL_0000.png',2,4)"
   ]
  },
  {
   "cell_type": "code",
   "execution_count": null,
   "id": "3cd8b486-745e-4afd-9d60-ec4b319c86c1",
   "metadata": {},
   "outputs": [],
   "source": [
    "pspoly.run('newCL_0000.png',2,4,'newCL_example')"
   ]
  },
  {
   "cell_type": "markdown",
   "id": "3a00f204-a160-4ee2-9d76-ec3599c6c3bc",
   "metadata": {},
   "source": [
    "# Data Management"
   ]
  },
  {
   "cell_type": "code",
   "execution_count": null,
   "id": "cfbecbea-5824-4828-95be-627a27292718",
   "metadata": {},
   "outputs": [],
   "source": [
    "newCL_example = pspoly.load('newCL_example')"
   ]
  },
  {
   "cell_type": "raw",
   "id": "b785fb38-5ebb-4720-b6ea-a6864b143697",
   "metadata": {},
   "source": [
    "particle_16 = newCL_example.get_particle(16,imtype='default',pad=5)\n",
    "import matplotlib.pyplot as plt\n",
    "plt.imshow(particle_16)\n",
    "plt.show()"
   ]
  },
  {
   "cell_type": "code",
   "execution_count": null,
   "id": "d8a940cf-6d0d-4808-afb4-c94e26f1a2a1",
   "metadata": {},
   "outputs": [],
   "source": [
    "# The above code is equivalent to the code below\n",
    "pspoly.show(newCL_example,16,imtype='default',pad=5)"
   ]
  },
  {
   "cell_type": "code",
   "execution_count": null,
   "id": "9769ab82-a8fb-4e53-b523-6e7700dbb960",
   "metadata": {},
   "outputs": [],
   "source": [
    "# Εnter your chosen save path as an argument\n",
    "# The r indicates that this is a raw string, so backslashes will work properly\n",
    "pspoly.initialize(r'your\\pspoly_home\\directory\\here')"
   ]
  },
  {
   "cell_type": "markdown",
   "id": "467e1476-4de9-4c44-b8f5-4204034eaa0a",
   "metadata": {},
   "source": [
    "# Advanced Techniques"
   ]
  },
  {
   "cell_type": "raw",
   "id": "688f600c-b4e9-4183-a80f-b0951f9dbda5",
   "metadata": {},
   "source": [
    "newCL_example = pspoly.polydat('newCL_example','newCL_0000.png',2,4)\n",
    "annotated_skeleton = pspoly.prepare(newCL_example)\n",
    "pspoly.analyze(annotated_skeleton)"
   ]
  },
  {
   "cell_type": "code",
   "execution_count": null,
   "id": "48c80184-6396-4d66-be80-4b8977101621",
   "metadata": {},
   "outputs": [],
   "source": [
    "def custom_threshold(img,threshold_value):\n",
    "        boolean_array = (img > threshold_value)\n",
    "        return boolean_array.astype('int')"
   ]
  },
  {
   "cell_type": "code",
   "execution_count": null,
   "id": "14a90b63-91d4-4612-8570-73ad142edc08",
   "metadata": {},
   "outputs": [],
   "source": [
    "def custom_prepare(afm_data,threshold_value):\n",
    "    binary_mask = pspoly.threshold(afm_data,threshold_function=custom_threshold,t=threshold_value)\n",
    "    skeleton = pspoly.skeletonize(binary_mask,skeleton_function=pspoly.filters.skeletonize)\n",
    "    particles = pspoly.separate_particles(skeleton)\n",
    "    for particle in particles: pspoly.identify_points(particle)\n",
    "    return skeleton"
   ]
  },
  {
   "cell_type": "raw",
   "id": "d5a7628a-f914-4b15-b3f0-8df5a1cf31d1",
   "metadata": {},
   "source": [
    "# Deletes the old save folder\n",
    "from shutil import rmtree\n",
    "try:\n",
    "    rmtree(newCL_example.get_path())\n",
    "    print('Deleted newCL_example save folder')\n",
    "except:\n",
    "    print('Failed to delete newCL_example save folder')"
   ]
  },
  {
   "cell_type": "code",
   "execution_count": null,
   "id": "ed97789f-db38-4ef3-8e6a-d9fe76430e0b",
   "metadata": {},
   "outputs": [],
   "source": [
    "newCL_example = pspoly.polydat('newCL_example','newCL_0000.png',2,4)\n",
    "annotated_skeleton = custom_prepare(newCL_example,0.25)\n",
    "pspoly.analyze(annotated_skeleton)"
   ]
  }
 ],
 "metadata": {
  "kernelspec": {
   "display_name": "Python 3 (ipykernel)",
   "language": "python",
   "name": "python3"
  },
  "language_info": {
   "codemirror_mode": {
    "name": "ipython",
    "version": 3
   },
   "file_extension": ".py",
   "mimetype": "text/x-python",
   "name": "python",
   "nbconvert_exporter": "python",
   "pygments_lexer": "ipython3",
   "version": "3.11.9"
  }
 },
 "nbformat": 4,
 "nbformat_minor": 5
}
