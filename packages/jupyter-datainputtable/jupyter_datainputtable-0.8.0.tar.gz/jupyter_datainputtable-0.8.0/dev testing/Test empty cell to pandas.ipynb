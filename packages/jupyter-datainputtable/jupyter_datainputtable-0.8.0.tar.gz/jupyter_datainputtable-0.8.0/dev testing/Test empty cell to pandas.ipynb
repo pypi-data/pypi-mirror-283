{
 "cells": [
  {
   "cell_type": "code",
   "execution_count": 1,
   "metadata": {},
   "outputs": [
    {
     "data": {
      "text/html": [
       "<script type=\"text/javascript\">//Javascript for input_table to use in Jupyter notebook\n",
       "//Jonathan Gutow <gutow@uwosh.edu> March 24, 2019\n",
       "//license GPL V3 or greater.\n",
       "\n",
       "//Get input table dimensions and build\n",
       "function get_table_dim(){\n",
       "    Jupyter.notebook.insert_cell_below();\n",
       "    Jupyter.notebook.select_next(true);\n",
       "    Jupyter.notebook.focus_cell();\n",
       "    var currentcell = Jupyter.notebook.get_selected_cell();\n",
       "//    var htmlstr =`\n",
       "//    <div id=\"input_table_dim_dlg\" style=\"border:thick;border-color:red;border-style:solid;\">\n",
       "//      <div>Set table size remembering to include enough rows and columns for labels.</div>\n",
       "//      <table id=\"init_input_table_dim\"><tr>\n",
       "//        <td> Rows:</td><td><input id=\"init_row_dim\" type=\"text\" size=\"7\" value=\"2\"\n",
       "//          onblur=\"record_input(this)\"></input></td>\n",
       "//        <td>Columns:</td><td><input id=\"init_col_dim\" type=\"text\" size=\"7\" value=\"2\"\n",
       "//          onblur=\"record_input(this)\"></input></td>\n",
       "//        <td><button onclick=\"create_table()\">Create Table</button></td>\n",
       "//      </tr></table>\n",
       "//    </div>`\n",
       "\n",
       "    var instructions = \"Set table size remembering to include enough rows and columns for labels.\";\n",
       "    var fields = [\"Number of Rows\", \"Number of Columns\"];\n",
       "    input_dialog(\"input_table_dim_dlg\", create_table,\"not used\", instructions,fields);\n",
       "    //currentcell.set_text('display(HTML(\"\"\"'+htmlstr+'\"\"\"))');\n",
       "    //currentcell.execute();\n",
       "}\n",
       "\n",
       "//Update html on change of cell content.\n",
       "function record_input(element){\n",
       "    var tempval = ''+element.value;//force to string\n",
       "    var tempsize = ''+element.size;\n",
       "    if (tempsize==null){tempsize='7'};\n",
       "    var tempclass = element.className;\n",
       "    if (tempclass==null){tempclass=''};\n",
       "    var tempid = element.id;\n",
       "    if (tempid==null){tempid=''};\n",
       "    var tempelem = document.createElement('input');\n",
       "    tempelem.className =tempclass;\n",
       "    tempelem.id=tempid;\n",
       "    tempelem.setAttribute('size',tempsize);\n",
       "    tempelem.setAttribute('value',tempval);\n",
       "    tempelem.setAttribute('onblur','record_input(this)');\n",
       "    element.replaceWith(tempelem);\n",
       "}\n",
       "\n",
       "// Convert table input element to fixed value.\n",
       "function input_element_to_fixed(element){\n",
       "    var tempelem =document.createElement('span');\n",
       "    tempelem.className=element.className;\n",
       "    tempelem.innerHTML = element.value;\n",
       "    element.replaceWith(tempelem);\n",
       "}\n",
       "\n",
       "function data_cell_to_input_cell(element){\n",
       "    var tempelem=document.createElement('input');\n",
       "    var tempsize = ''+element.size;\n",
       "    if (tempsize==null){tempsize='7'};\n",
       "    tempelem.setAttribute('size',tempsize);\n",
       "    var tempid = element.id;\n",
       "    if (tempid==null){tempid=''};\n",
       "    tempelem.id=tempid;\n",
       "    tempelem.className=element.className;\n",
       "    tempelem.setAttribute('value',element.innerHTML);\n",
       "    element.replaceWith(tempelem);\n",
       "}\n",
       "\n",
       "    \n",
       "function table_menu(tableID){\n",
       "    var menu = document.createElement('select');\n",
       "    menu.classList.add('form-control');\n",
       "    menu.classList.add('table-actions');\n",
       "    var actionstr = 'var lastvalue = this.value;';\n",
       "    actionstr+='this.value = \"Table Actions\";';\n",
       "    actionstr+='if(lastvalue==\"Edit Data\"){edit_input_table(\"'+tableID+'\");}';\n",
       "    actionstr+='if(lastvalue==\"Data to Pandas...\"){data_table_to_Pandas(\"'+tableID+'\");}';\n",
       "    menu.setAttribute('onchange',actionstr);\n",
       "    var optiontxt = '<option title=\"Things you can do to this table.\">Table Actions</option>';\n",
       "    optiontxt+='<option title=\"Start editing the data.\">Edit Data</option>';\n",
       "    optiontxt+='<option title=\"Create a Panda DataFrame from table.\">Data to Pandas...</option>';\n",
       "    menu.innerHTML=optiontxt;\n",
       "    return menu\n",
       "}\n",
       "\n",
       "function lock_labels(tableID){\n",
       "//Will need to use querySelectorAll(css)\n",
       "    var parentTable = document.getElementById(tableID);\n",
       "    var labelinputs = parentTable.querySelectorAll('.table_label');\n",
       "    for(var i=0;i<labelinputs.length;i++){\n",
       "        input_element_to_fixed(labelinputs[i]);\n",
       "    }\n",
       "    var lockbtn = parentTable.querySelector('.lock_btn');\n",
       "    //var tempelem = document.createElement('button');\n",
       "    //tempelem.classList.add('save_btn');\n",
       "    //var onclickstr = \"save_input_table('\"+tableID+\"')\"\n",
       "    //tempelem.setAttribute('onclick',onclickstr);\n",
       "    //tempelem.innerHTML='Save Updates';\n",
       "    var tempelem = table_menu(tableID);\n",
       "    lockbtn.replaceWith(tempelem);\n",
       "    save_input_table(tableID);\n",
       "}\n",
       "//Create the table using the info collected in the dimension table.\n",
       "var create_table = '('+function (){\n",
       "/*\n",
       "    var nrows = document.getElementById(\"init_row_dim\").value;\n",
       "    var ncols = document.getElementById(\"init_col_dim\").value;\n",
       "*/\n",
       "    var dialog = document.getElementById(\"input_table_dim_dlg\");\n",
       "    var inputs = dialog.querySelectorAll(\"input\");\n",
       "    var nrows = inputs[0].value;\n",
       "    var ncols = inputs[1].value;\n",
       "    var info = dialog.querySelectorAll(\"#post_pr_info\")[0].innerHTML;\n",
       "    dialog.remove();\n",
       "    //alert(nrows+', '+ncols)\n",
       "    var d = new Date();\n",
       "    var ID = \"it_\"+(Math.round(d.getTime()));\n",
       "    var labelClass = \"table_label\";\n",
       "    var dataCellClass=\"data_cell\";\n",
       "    var prestr='# If no data table appears in the output of this cell, run the cell to display the table.\\n\\n';\n",
       "    prestr+='try:\\n';\n",
       "    prestr+='    from input_table import *\\n';\n",
       "    prestr+='except (ImportError, FileNotFoundError) as e:\\n';\n",
       "    prestr+='    from IPython.display import HTML\\n';\n",
       "    prestr+='    print(\"Table editing will not work because `jupyter_datainputtable` module is not installed in python kernel\")\\n';\n",
       "    var tempstr='<table class=\"input_table\" id=\"'+ID+'\"><tbody>';\n",
       "    for(var i = 0; i < nrows; i++){\n",
       "        tempstr+=' <tr class=\"input_table r'+i+'\">';\n",
       "        for(var k = 0;k < ncols; k++){\n",
       "            if (k==0 && i==0){\n",
       "                tempstr+='  <th class=\"input_table r'+i+' c'+k+'\">';\n",
       "                tempstr+='<button class=\"lock_btn\" onclick=\"lock_labels(\\\\\\''+ID+'\\\\\\')\">';\n",
       "                tempstr+='Lock Column and Row Labels</button></th>';\n",
       "            }\n",
       "            if (k==0 && i>0){\n",
       "                tempstr+='<th class=\"input_table r'+i+' c'+k+'\">';\n",
       "                tempstr+='<input class=\"'+labelClass+'\" type=\"text\" size=\"7\" value=\"'+(i-1)+'\"';\n",
       "                tempstr+=' onblur=\"record_input(this)\"></input></th>';\n",
       "            }\n",
       "            if (i==0 && k>0){\n",
       "                tempstr+='<th class=\"input_table r'+i+' c'+k+'\">';\n",
       "                tempstr+='<input class=\"'+labelClass+'\" type=\"text\" size=\"15\" value=\"Col_'+(k-1)+'\"';\n",
       "                tempstr+=' onblur=\"record_input(this)\"></input></th>';\n",
       "            }\n",
       "            if (k>0 && i>0){\n",
       "                tempstr+='  <td class=\"input_table r'+i+' c'+k+'\">';\n",
       "                tempstr+='<input class=\"'+dataCellClass+'\" type=\"text\" size=\"7\"';\n",
       "                tempstr+=' onblur=\"record_input(this)\"></input></td>';\n",
       "            }\n",
       "        }\n",
       "        tempstr+=' </tr>';\n",
       "    }\n",
       "    tempstr+='</tbody></table>';\n",
       "    var currentcell = Jupyter.notebook.get_selected_cell();\n",
       "    currentcell.set_text(prestr+'display(HTML(\\''+tempstr+'\\'))');\n",
       "    //protect the cell so user cannot edit or delete the code without knowing \n",
       "    // what they are doing.\n",
       "    currentcell.metadata.editable=false;\n",
       "    currentcell.execute();\n",
       "}+')();';\n",
       "\n",
       "//Utility function that is not used because the Jupyter notebook cell indexing is maintained\n",
       "// independently of the DOM.\n",
       "function findAncestor (el, sel) {\n",
       "    while ((el = el.parentElement) && !((el.matches || el.matchesSelector).call(el,sel)));\n",
       "    return el;\n",
       "}\n",
       "\n",
       "function select_containing_cell(elem){\n",
       "    //Create a synthetic click in the cell to force selection of the cell containing the table\n",
       "    var event = new MouseEvent('click', {\n",
       "    view: window,\n",
       "    bubbles: true,\n",
       "    cancelable: true\n",
       "    });\n",
       "    var cancelled = !elem.dispatchEvent(event);\n",
       "    if (cancelled) {\n",
       "    // A handler called preventDefault.\n",
       "    alert(\"Something is wrong. Try running the cell that creates this table.\");\n",
       "    }    \n",
       "}\n",
       "//Allow editing of the unlocked table elements.\n",
       "function edit_input_table(tableID){\n",
       "    var table = document.getElementById(tableID);\n",
       "    select_containing_cell(table); //force selection of cell containing the table.\n",
       "    var currentcell = Jupyter.notebook.get_selected_cell();\n",
       "    var datainputs = table.querySelectorAll('.data_cell');\n",
       "    for(var i=0;i<datainputs.length;i++){\n",
       "        data_cell_to_input_cell(datainputs[i]);\n",
       "    }\n",
       "    var menu = table.querySelector('.table-actions');\n",
       "    var tempelem = document.createElement('button');\n",
       "    tempelem.classList.add('save_btn');\n",
       "    var onclickstr = \"save_input_table('\"+tableID+\"');\"\n",
       "    tempelem.setAttribute('onclick',onclickstr);\n",
       "    tempelem.innerHTML='Save Data';\n",
       "    menu.replaceWith(tempelem);\n",
       "}\n",
       "\n",
       "//Save table by making the code cell create it. Actuated by button.\n",
       "//***For this to work the following import need to be made into\n",
       "//   the jupyter notebook by the python code that utilizes this function:\n",
       "//   from IPython.display import HTML\n",
       "\n",
       "function save_input_table(tableID){\n",
       "    var table = document.getElementById(tableID);\n",
       "    select_containing_cell(table); //force selection of cell containing the table.\n",
       "    var currentcell = Jupyter.notebook.get_selected_cell();\n",
       "    var datainputs = table.querySelectorAll('.data_cell');\n",
       "    for(var i=0;i<datainputs.length;i++){\n",
       "        input_element_to_fixed(datainputs[i]);\n",
       "    }\n",
       "    if(table.querySelector('.save_btn')){\n",
       "        table.querySelector('.save_btn').replaceWith(table_menu(tableID));\n",
       "    }\n",
       "    var tablecnt = table.innerHTML;\n",
       "    var tablestr='# If no data table appears in the output of this cell, run the cell to display the table.\\n';\n",
       "    tablestr+='try:\\n';\n",
       "    tablestr+='    from input_table import *\\n';\n",
       "    tablestr+='except (ImportError, FileNotFoundError) as e:\\n';\n",
       "    tablestr+='    from IPython.display import HTML\\n';\n",
       "    tablestr+='    print(\"Table editing will not work because `jupyter_datainputtable` module is not installed in python kernel\")\\n';\n",
       "    tablestr+='display(HTML(\\'';\n",
       "    tablestr+='<table class=\"input_table\" id=\"'+tableID+'\">';\n",
       "    var re=/\\n/g;\n",
       "    var re2=/'/g;\n",
       "    tablestr+=tablecnt.replace(re,' ').replace(re2,'\\\\\\'')+'</table>';\n",
       "    tablestr+='\\'))';\n",
       "    currentcell.set_text(tablestr);\n",
       "    currentcell.execute();\n",
       "}\n",
       "/**\n",
       " * Utility functions for getting user input\n",
       " **/\n",
       "\n",
       " /**\n",
       " * Create a simple input dialog (modal) that does not depend on a library, but works in Jupyter.\n",
       " * @param dialogid a single word string that will be used as the dialog id to that it can be accessed in the DOM.\n",
       " * @param post_processor a function definition to be called by the do-it button (see example later in this comment).\n",
       " * @param instructions a string providing general instructions for the user or at minimum a dialog title.\n",
       " * @param fields a list of strings that will be used as the titles for the fields. The length of this list\n",
       " *               determines how many input fields the dialog will contain (1 per line).\n",
       " *\n",
       " * post_processor function must be based on the following skeleton. Replace <...> with appropriate variables or\n",
       " *  strings.\n",
       " *\n",
       " * var <name_of_post_processor> = '('+function (){\n",
       " *    var dialog = document.getElementById(\"<dialogid_string>\");\n",
       " *    var inputs = dialog.querySelectorAll('input');\n",
       " *    var values = [];\n",
       " *    for (var i=0;i<inputs.length;i++){\n",
       " *        values[i]=inputs[i].value;\n",
       " *    }\n",
       " *    var info = dialog.querySelectorAll('#post_pr_info')[0].innerHTML;\n",
       " *    dialog.remove();\n",
       " *    <code to use the items in values and post_pr_info> //order of items is\n",
       " *    the same as the fields list.\n",
       " *}+')();';\n",
       " *\n",
       " **/\n",
       "function input_dialog(dialogid, post_processor, post_pr_info, instructions,fields){\n",
       "    var backdialog = document.createElement('div');\n",
       "    backdialog.setAttribute('id',\"background_div\")\n",
       "    var stylestr = 'position:fixed;left:0%;top:0%;width:100%;height:100%;z-index:-1;';\n",
       "    stylestr+='background-color:white;opacity:60%;';\n",
       "    backdialog.setAttribute('style',stylestr);\n",
       "    var tempdialog = document.createElement('div');\n",
       "    stylestr = 'position:fixed;left:20%;';\n",
       "    stylestr+='top:25%;width:60%;z-index:99;background-color:navajowhite;opacity:100%!important;';\n",
       "    stylestr+='border-style:solid!imprortant;border:thick;border-color:red;';\n",
       "    tempdialog.setAttribute('style',stylestr);\n",
       "    tempdialog.setAttribute('id',dialogid);\n",
       "    if (instructions!=''){\n",
       "        var tempinstr = document.createElement('H3');\n",
       "        tempinstr.setAttribute('style','text-align:center;');\n",
       "        tempinstr.innerHTML = instructions;\n",
       "        tempdialog.append(tempinstr);\n",
       "    }\n",
       "    for (var i=0;i<fields.length;i++){\n",
       "        var templine=document.createElement('p');\n",
       "        templine.innerHTML = fields[i]+': ';\n",
       "        var fieldstr = fields[i].replace(' ','_').replace('\\'','').replace('/','_').replace('*','_').replace('\\\"','_');\n",
       "        var inputstr = '<input id=\"'+fieldstr+'\" type=\"text\" size=\"30\" value=\"\" ';\n",
       "        inputstr += 'onblur=\"record_input(this)\"></input>';\n",
       "        templine.innerHTML+=inputstr;\n",
       "        templine.setAttribute('style','text-align:center;');\n",
       "        tempdialog.append(templine);\n",
       "    }\n",
       "    var tempinfo = document.createElement('div');\n",
       "    tempinfo.setAttribute('id','post_pr_info');\n",
       "    tempinfo.setAttribute('hidden', true);\n",
       "    tempinfo.innerHTML = post_pr_info;\n",
       "    tempdialog.append(tempinfo);\n",
       "    var cancel_btn = document.createElement('button');\n",
       "    cancel_btn.innerHTML = \"CANCEL\"\n",
       "    var onclickstr = 'document.getElementById(\"'+dialogid+'\").remove()';\n",
       "    cancel_btn.setAttribute('onclick',onclickstr);\n",
       "    tempdialog.append(cancel_btn);\n",
       "    var save_btn = document.createElement('button');\n",
       "    save_btn.setAttribute('onclick',post_processor);\n",
       "    save_btn.innerHTML = \"OK/Do-It\"\n",
       "    tempdialog.append(save_btn);\n",
       "    tempdialog.append(backdialog);\n",
       "    document.body.append(tempdialog);\n",
       "    Jupyter.notebook.focus_cell();//Make sure keyboard manager doesn't grab inputs.\n",
       "    Jupyter.notebook.keyboard_manager.enabled=false; \n",
       "    tempdialog.focus();\n",
       "    Jupyter.notebook.keyboard_manager.enabled=false; //Make sure keyboard manager doesn't grab inputs.\n",
       "}\n",
       "\n",
       "var table_data_to_named_DF = '('+function (){\n",
       "     var dialog = document.getElementById(\"DFName_dia\");\n",
       "     var inputs = dialog.querySelectorAll('input');\n",
       "     var values = [];\n",
       "     for (var i=0;i<inputs.length;i++){\n",
       "         values[i]=inputs[i].value;\n",
       "     }\n",
       "     info = dialog.querySelectorAll('#post_pr_info')[0].innerHTML;\n",
       "     dialog.remove();\n",
       " //    <code to use the items in values and post_pr_info> //order of items is\n",
       " //    the same as the fields list.\n",
       "    var parentTable = document.getElementById(info);\n",
       "    var rows = parentTable.querySelectorAll('tr');\n",
       "    var nrows = rows.length;\n",
       "    var ncols = rows[0].querySelectorAll('th').length;\n",
       "    var colnames = [];\n",
       "    var escnamestr = []\n",
       "    var data = [];\n",
       "    //sort data into columns\n",
       "    for(var i=1;i<ncols;i++){\n",
       "        var classstr='.c'+i\n",
       "        colnames[i-1]=rows[0].querySelector(classstr).querySelector(\".table_label\").innerHTML;\n",
       "        escnamestr[i-1] = colnames[i-1].replace(' ','_').replace('(','_').replace(')','_').replace('/','_').replace('*','_');\n",
       "        var tempcol =[];\n",
       "        for (var k=1;k<nrows;k++){\n",
       "            classstr = '.r'+k+'.c'+i;\n",
       "            tempcol[k-1] = rows[k].querySelector(classstr).querySelector(\".data_cell\").innerHTML;\n",
       "            if (tempcol[k-1]==''){\n",
       "                tempcol[k-1]='\\'\\'';\n",
       "            }\n",
       "            alphare = /[a-zA-Z]/\n",
       "            if (alphare.test(tempcol[k-1])){\n",
       "                tempcol[k-1]='\\''+tempcol[k-1]+'\\'';\n",
       "            }\n",
       "        }\n",
       "        data[i-1]=tempcol;\n",
       "    }\n",
       "    //get indexes if they are not just numeric\n",
       "    use_indexes = false;\n",
       "    var indexes = [];\n",
       "    for (var i = 1; i < nrows;i++){\n",
       "        var classstr = '.r'+i+' .c0';\n",
       "        indexes[i-1] = parentTable.querySelector(classstr).querySelector(\".table_label\").innerHTML;\n",
       "        if (indexes[i-1] != (i-1)){use_indexes = true;}\n",
       "    }\n",
       "    \n",
       "    // Generate non-coder readable python code to put data into a DataFrame.\n",
       "    var pythoncode = \"\";\n",
       "    var dataframe_param = \"{\\\"\"+colnames[0]+\"\\\":\"+escnamestr[0]+\",\\n\";\n",
       "    for (var i=0;i<(ncols-1);i++){\n",
       "        pythoncode += escnamestr[i]+\"=[\"+data[i]+\"]\\n\";\n",
       "        if (i>0){dataframe_param +=\"    \\\"\"+colnames[i]+\"\\\":\"+escnamestr[i]+\",\\n\";}\n",
       "    }\n",
       "    dataframe_param +=\"    }\"\n",
       "    if (use_indexes){\n",
       "        dataframe_param +=\", index = [\";\n",
       "        for (var i = 0; i < indexes.length;i++){\n",
       "            dataframe_param += \"\\\"\"+indexes[i]+\"\\\", \";\n",
       "        }\n",
       "        dataframe_param += \"]\";\n",
       "    }\n",
       "    pythoncode += 'try: # Wrapping assigment in `try:...except:` allows us to check if Pandas is available.\\n';\n",
       "    pythoncode += '    '+values[0]+ \"= pd.DataFrame(\"+dataframe_param+\")\\n\";\n",
       "    pythoncode += 'except NameError as e:\\n';\n",
       "    pythoncode += '    print(\"Sorry, Pandas needs to be imported using the statement `import pandas as pd` first.\")\\n';\n",
       "    pythoncode += '    '+values[0]+' = \"undefined\"\\n';\n",
       "    pythoncode += \"print('DataFrame `\"+values[0]+\"`:')\\n\";\n",
       "    pythoncode += values[0];\n",
       "\n",
       "\n",
       "    // Insert a cell below the cell containing the table. Load with Python code that is non-coder readable.\n",
       "    // Run the cell to create the DataFrame.\n",
       "    select_containing_cell(parentTable); //Make sure the cell containing the table is selected by Jupyter.\n",
       "    Jupyter.notebook.insert_cell_below();\n",
       "    Jupyter.notebook.select_next(true);\n",
       "    Jupyter.notebook.focus_cell();\n",
       "    var currentcell = Jupyter.notebook.get_selected_cell();\n",
       "    currentcell.set_text(pythoncode);\n",
       "    currentcell.execute();\n",
       " }+')();';\n",
       "\n",
       "function data_table_to_Pandas(tableID){\n",
       "    // Use dialog to get user choice for name of the DataFrame. Assumes Pandas import as `pd`.\n",
       "    var instructions = \"Provide a one-word name for the Pandas DataFrame:\";\n",
       "    var fields = [\"Name\"];\n",
       "    input_dialog(\"DFName_dia\", table_data_to_named_DF, tableID, instructions,fields);\n",
       "\n",
       "}</script>"
      ],
      "text/plain": [
       "<IPython.core.display.HTML object>"
      ]
     },
     "metadata": {},
     "output_type": "display_data"
    }
   ],
   "source": [
    "from input_table import *\n",
    "import pandas as pd"
   ]
  },
  {
   "cell_type": "code",
   "execution_count": null,
   "metadata": {
    "scrolled": true
   },
   "outputs": [],
   "source": [
    "create_input_table()"
   ]
  },
  {
   "cell_type": "code",
   "execution_count": null,
   "metadata": {},
   "outputs": [],
   "source": []
  },
  {
   "cell_type": "code",
   "execution_count": null,
   "metadata": {
    "editable": false
   },
   "outputs": [],
   "source": [
    "# If no data table appears in the output of this cell, run the cell to display the table.\n",
    "try:\n",
    "    from input_table import *\n",
    "except (ImportError, FileNotFoundError) as e:\n",
    "    from IPython.display import HTML\n",
    "    print(\"Table editing will not work because `jupyter_datainputtable` module is not installed in python kernel\")\n",
    "display(HTML('<table class=\"input_table\" id=\"it_1604156746805\"><tbody> <tr class=\"input_table r0\">  <th class=\"input_table r0 c0\"><select class=\"form-control table-actions\" onchange=\"var lastvalue = this.value;this.value = &quot;Table Actions&quot;;if(lastvalue==&quot;Edit Data&quot;){edit_input_table(&quot;it_1604156746805&quot;);}if(lastvalue==&quot;Data to Pandas...&quot;){data_table_to_Pandas(&quot;it_1604156746805&quot;);}\"><option title=\"Things you can do to this table.\">Table Actions</option><option title=\"Start editing the data.\">Edit Data</option><option title=\"Create a Panda DataFrame from table.\">Data to Pandas...</option></select></th><th class=\"input_table r0 c1\"><span class=\"table_label\">Col_0</span></th> </tr> <tr class=\"input_table r1\"><th class=\"input_table r1 c0\"><span class=\"table_label\">0</span></th>  <td class=\"input_table r1 c1\"><span class=\"data_cell\"></span></td> </tr></tbody></table>'))"
   ]
  },
  {
   "cell_type": "code",
   "execution_count": null,
   "metadata": {},
   "outputs": [],
   "source": [
    "Col_0=[]\n",
    "try: # Wrapping assigment in `try:...except:` allows us to check if Pandas is available.\n",
    "    tst6= pd.DataFrame({\"Col_0\":Col_0,\n",
    "    })\n",
    "except NameError as e:\n",
    "    print(\"Sorry, Pandas needs to be imported using the statement `import pandas as pd` first.\")\n",
    "    tst6 = \"undefined\"\n",
    "print('DataFrame `tst6`:')\n",
    "tst6"
   ]
  },
  {
   "cell_type": "code",
   "execution_count": null,
   "metadata": {
    "editable": false
   },
   "outputs": [],
   "source": [
    "# If no data table appears in the output of this cell, run the cell to display the table.\n",
    "try:\n",
    "    from input_table import *\n",
    "except (ImportError, FileNotFoundError) as e:\n",
    "    from IPython.display import HTML\n",
    "    print(\"Table editing will not work because `jupyter_datainputtable` module is not installed in python kernel\")\n",
    "display(HTML('<table class=\"input_table\" id=\"it_1604156407699\"><tbody> <tr class=\"input_table r0\">  <th class=\"input_table r0 c0\"><select class=\"form-control table-actions\" onchange=\"var lastvalue = this.value;this.value = &quot;Table Actions&quot;;if(lastvalue==&quot;Edit Data&quot;){edit_input_table(&quot;it_1604156407699&quot;);}if(lastvalue==&quot;Data to Pandas...&quot;){data_table_to_Pandas(&quot;it_1604156407699&quot;);}\"><option title=\"Things you can do to this table.\">Table Actions</option><option title=\"Start editing the data.\">Edit Data</option><option title=\"Create a Panda DataFrame from table.\">Data to Pandas...</option></select></th><th class=\"input_table r0 c1\"><span class=\"table_label\">Col_0</span></th> </tr> <tr class=\"input_table r1\"><th class=\"input_table r1 c0\"><span class=\"table_label\">0</span></th>  <td class=\"input_table r1 c1\"><span class=\"data_cell\">a</span></td> </tr></tbody></table>'))"
   ]
  },
  {
   "cell_type": "code",
   "execution_count": null,
   "metadata": {},
   "outputs": [],
   "source": [
    "Col_0=[a]\n",
    "try: # Wrapping assigment in `try:...except:` allows us to check if Pandas is available.\n",
    "    tst5= pd.DataFrame({\"Col_0\":Col_0,\n",
    "    })\n",
    "except NameError as e:\n",
    "    print(\"Sorry, Pandas needs to be imported using the statement `import pandas as pd` first.\")\n",
    "    tst5 = \"undefined\"\n",
    "print('DataFrame `tst5`:')\n",
    "tst5"
   ]
  },
  {
   "cell_type": "code",
   "execution_count": null,
   "metadata": {
    "editable": false
   },
   "outputs": [],
   "source": [
    "# If no data table appears in the output of this cell, run the cell to display the table.\n",
    "try:\n",
    "    from input_table import *\n",
    "except (ImportError, FileNotFoundError) as e:\n",
    "    from IPython.display import HTML\n",
    "    print(\"Table editing will not work because `jupyter_datainputtable` module is not installed in python kernel\")\n",
    "display(HTML('<table class=\"input_table\" id=\"it_1604156261441\"><tbody> <tr class=\"input_table r0\">  <th class=\"input_table r0 c0\"><select class=\"form-control table-actions\" onchange=\"var lastvalue = this.value;this.value = &quot;Table Actions&quot;;if(lastvalue==&quot;Edit Data&quot;){edit_input_table(&quot;it_1604156261441&quot;);}if(lastvalue==&quot;Data to Pandas...&quot;){data_table_to_Pandas(&quot;it_1604156261441&quot;);}\"><option title=\"Things you can do to this table.\">Table Actions</option><option title=\"Start editing the data.\">Edit Data</option><option title=\"Create a Panda DataFrame from table.\">Data to Pandas...</option></select></th><th class=\"input_table r0 c1\"><span class=\"table_label\">Col_0</span></th> </tr> <tr class=\"input_table r1\"><th class=\"input_table r1 c0\"><span class=\"table_label\">0</span></th>  <td class=\"input_table r1 c1\"><span class=\"data_cell\">1</span></td> </tr></tbody></table>'))"
   ]
  },
  {
   "cell_type": "code",
   "execution_count": null,
   "metadata": {
    "editable": false
   },
   "outputs": [],
   "source": [
    "# If no data table appears in the output of this cell, run the cell to display the table.\n",
    "try:\n",
    "    from input_table import *\n",
    "except (ImportError, FileNotFoundError) as e:\n",
    "    from IPython.display import HTML\n",
    "    print(\"Table editing will not work because `jupyter_datainputtable` module is not installed in python kernel\")\n",
    "display(HTML('<table class=\"input_table\" id=\"it_1604155510803\"><tbody> <tr class=\"input_table r0\">  <th class=\"input_table r0 c0\"><select class=\"form-control table-actions\" onchange=\"var lastvalue = this.value;this.value = &quot;Table Actions&quot;;if(lastvalue==&quot;Edit Data&quot;){edit_input_table(&quot;it_1604155510803&quot;);}if(lastvalue==&quot;Data to Pandas...&quot;){data_table_to_Pandas(&quot;it_1604155510803&quot;);}\"><option title=\"Things you can do to this table.\">Table Actions</option><option title=\"Start editing the data.\">Edit Data</option><option title=\"Create a Panda DataFrame from table.\">Data to Pandas...</option></select></th><th class=\"input_table r0 c1\"><span class=\"table_label\">Col_0</span></th><th class=\"input_table r0 c2\"><span class=\"table_label\">Col_1</span></th> </tr> <tr class=\"input_table r1\"><th class=\"input_table r1 c0\"><span class=\"table_label\">0</span></th>  <td class=\"input_table r1 c1\"><span class=\"data_cell\">1</span></td>  <td class=\"input_table r1 c2\"><span class=\"data_cell\"></span></td> </tr> <tr class=\"input_table r2\"><th class=\"input_table r2 c0\"><span class=\"table_label\">1</span></th>  <td class=\"input_table r2 c1\"><span class=\"data_cell\"></span></td>  <td class=\"input_table r2 c2\"><span class=\"data_cell\">2</span></td> </tr></tbody></table>'))"
   ]
  },
  {
   "cell_type": "code",
   "execution_count": null,
   "metadata": {
    "editable": false
   },
   "outputs": [],
   "source": [
    "# If no data table appears in the output of this cell, run the cell to display the table.\n",
    "try:\n",
    "    from input_table import *\n",
    "except (ImportError, FileNotFoundError) as e:\n",
    "    from IPython.display import HTML\n",
    "    print(\"Table editing will not work because `jupyter_datainputtable` module is not installed in python kernel\")\n",
    "display(HTML('<table class=\"input_table\" id=\"it_1604155017567\"><tbody> <tr class=\"input_table r0\">  <th class=\"input_table r0 c0\"><select class=\"form-control table-actions\" onchange=\"var lastvalue = this.value;this.value = &quot;Table Actions&quot;;if(lastvalue==&quot;Edit Data&quot;){edit_input_table(&quot;it_1604155017567&quot;);}if(lastvalue==&quot;Data to Pandas...&quot;){data_table_to_Pandas(&quot;it_1604155017567&quot;);}\"><option title=\"Things you can do to this table.\">Table Actions</option><option title=\"Start editing the data.\">Edit Data</option><option title=\"Create a Panda DataFrame from table.\">Data to Pandas...</option></select></th><th class=\"input_table r0 c1\"><span class=\"table_label\">Col_0</span></th><th class=\"input_table r0 c2\"><span class=\"table_label\">Col_1</span></th> </tr> <tr class=\"input_table r1\"><th class=\"input_table r1 c0\"><span class=\"table_label\">0</span></th>  <td class=\"input_table r1 c1\"><span class=\"data_cell\"></span></td>  <td class=\"input_table r1 c2\"><span class=\"data_cell\">1</span></td> </tr></tbody></table>'))"
   ]
  },
  {
   "cell_type": "code",
   "execution_count": null,
   "metadata": {},
   "outputs": [],
   "source": [
    "Col_0=[]\n",
    "Col_1=[1]\n",
    "try: # Wrapping assigment in `try:...except:` allows us to check if Pandas is available.\n",
    "    tst4= pd.DataFrame({\"Col_0\":Col_0,\n",
    "    \"Col_1\":Col_1,\n",
    "    })\n",
    "except NameError as e:\n",
    "    print(\"Sorry, Pandas needs to be imported using the statement `import pandas as pd` first.\")\n",
    "    tst4 = \"undefined\"\n",
    "print('DataFrame `tst4`:')\n",
    "tst4"
   ]
  },
  {
   "cell_type": "code",
   "execution_count": null,
   "metadata": {
    "editable": false
   },
   "outputs": [],
   "source": [
    "# If no data table appears in the output of this cell, run the cell to display the table.\n",
    "try:\n",
    "    from input_table import *\n",
    "except (ImportError, FileNotFoundError) as e:\n",
    "    from IPython.display import HTML\n",
    "    print(\"Table editing will not work because `jupyter_datainputtable` module is not installed in python kernel\")\n",
    "display(HTML('<table class=\"input_table\" id=\"it_1604154466510\"><tbody> <tr class=\"input_table r0\">  <th class=\"input_table r0 c0\"><select class=\"form-control table-actions\" onchange=\"var lastvalue = this.value;this.value = &quot;Table Actions&quot;;if(lastvalue==&quot;Edit Data&quot;){edit_input_table(&quot;it_1604154466510&quot;);}if(lastvalue==&quot;Data to Pandas...&quot;){data_table_to_Pandas(&quot;it_1604154466510&quot;);}\"><option title=\"Things you can do to this table.\">Table Actions</option><option title=\"Start editing the data.\">Edit Data</option><option title=\"Create a Panda DataFrame from table.\">Data to Pandas...</option></select></th><th class=\"input_table r0 c1\"><span class=\"table_label\">Col_0</span></th><th class=\"input_table r0 c2\"><span class=\"table_label\">Col_1</span></th> </tr> <tr class=\"input_table r1\"><th class=\"input_table r1 c0\"><span class=\"table_label\">0</span></th>  <td class=\"input_table r1 c1\"><span class=\"data_cell\">1</span></td>  <td class=\"input_table r1 c2\"><span class=\"data_cell\"></span></td> </tr></tbody></table>'))"
   ]
  },
  {
   "cell_type": "code",
   "execution_count": null,
   "metadata": {},
   "outputs": [],
   "source": [
    "Col_0=[1]\n",
    "Col_1=[]\n",
    "try: # Wrapping assigment in `try:...except:` allows us to check if Pandas is available.\n",
    "    tst3= pd.DataFrame({\"Col_0\":Col_0,\n",
    "    \"Col_1\":Col_1,\n",
    "    })\n",
    "except NameError as e:\n",
    "    print(\"Sorry, Pandas needs to be imported using the statement `import pandas as pd` first.\")\n",
    "    tst3 = \"undefined\"\n",
    "print('DataFrame `tst3`:')\n",
    "tst3"
   ]
  },
  {
   "cell_type": "code",
   "execution_count": null,
   "metadata": {
    "editable": false
   },
   "outputs": [],
   "source": [
    "# If no data table appears in the output of this cell, run the cell to display the table.\n",
    "try:\n",
    "    from input_table import *\n",
    "except (ImportError, FileNotFoundError) as e:\n",
    "    from IPython.display import HTML\n",
    "    print(\"Table editing will not work because `jupyter_datainputtable` module is not installed in python kernel\")\n",
    "display(HTML('<table class=\"input_table\" id=\"it_1604154020620\"><tbody> <tr class=\"input_table r0\">  <th class=\"input_table r0 c0\"><select class=\"form-control table-actions\" onchange=\"var lastvalue = this.value;this.value = &quot;Table Actions&quot;;if(lastvalue==&quot;Edit Data&quot;){edit_input_table(&quot;it_1604154020620&quot;);}if(lastvalue==&quot;Data to Pandas...&quot;){data_table_to_Pandas(&quot;it_1604154020620&quot;);}\"><option title=\"Things you can do to this table.\">Table Actions</option><option title=\"Start editing the data.\">Edit Data</option><option title=\"Create a Panda DataFrame from table.\">Data to Pandas...</option></select></th><th class=\"input_table r0 c1\"><span class=\"table_label\">Col_0</span></th><th class=\"input_table r0 c2\"><span class=\"table_label\">Col_1</span></th><th class=\"input_table r0 c3\"><span class=\"table_label\">Col_2</span></th> </tr> <tr class=\"input_table r1\"><th class=\"input_table r1 c0\"><span class=\"table_label\">0</span></th>  <td class=\"input_table r1 c1\"><span class=\"data_cell\">1</span></td>  <td class=\"input_table r1 c2\"><span class=\"data_cell\">4</span></td>  <td class=\"input_table r1 c3\"><span class=\"data_cell\"></span></td> </tr> <tr class=\"input_table r2\"><th class=\"input_table r2 c0\"><span class=\"table_label\">1</span></th>  <td class=\"input_table r2 c1\"><span class=\"data_cell\">2</span></td>  <td class=\"input_table r2 c2\"><span class=\"data_cell\"></span></td>  <td class=\"input_table r2 c3\"><span class=\"data_cell\"></span></td> </tr> <tr class=\"input_table r3\"><th class=\"input_table r3 c0\"><span class=\"table_label\">2</span></th>  <td class=\"input_table r3 c1\"><span class=\"data_cell\">3</span></td>  <td class=\"input_table r3 c2\"><span class=\"data_cell\"></span></td>  <td class=\"input_table r3 c3\"><span class=\"data_cell\">6</span></td> </tr></tbody></table>'))"
   ]
  },
  {
   "cell_type": "code",
   "execution_count": null,
   "metadata": {
    "scrolled": true
   },
   "outputs": [],
   "source": [
    "Col_0=[1,2,3]\n",
    "Col_1=[4,,]\n",
    "Col_2=[,,6]\n",
    "try: # Wrapping assigment in `try:...except:` allows us to check if Pandas is available.\n",
    "    tstempty= pd.DataFrame({\"Col_0\":Col_0,\n",
    "    \"Col_1\":Col_1,\n",
    "    \"Col_2\":Col_2,\n",
    "    })\n",
    "except NameError as e:\n",
    "    print(\"Sorry, Pandas needs to be imported using the statement `import pandas as pd` first.\")\n",
    "    tstempty = \"undefined\"\n",
    "print('DataFrame `tstempty`:')\n",
    "tstempty"
   ]
  },
  {
   "cell_type": "code",
   "execution_count": null,
   "metadata": {
    "editable": false
   },
   "outputs": [],
   "source": [
    "# If no data table appears in the output of this cell, run the cell to display the table.\n",
    "try:\n",
    "    from input_table import *\n",
    "except (ImportError, FileNotFoundError) as e:\n",
    "    from IPython.display import HTML\n",
    "    print(\"Table editing will not work because `jupyter_datainputtable` module is not installed in python kernel\")\n",
    "display(HTML('<table class=\"input_table\" id=\"it_1604154220801\"><tbody> <tr class=\"input_table r0\">  <th class=\"input_table r0 c0\"><select class=\"form-control table-actions\" onchange=\"var lastvalue = this.value;this.value = &quot;Table Actions&quot;;if(lastvalue==&quot;Edit Data&quot;){edit_input_table(&quot;it_1604154220801&quot;);}if(lastvalue==&quot;Data to Pandas...&quot;){data_table_to_Pandas(&quot;it_1604154220801&quot;);}\"><option title=\"Things you can do to this table.\">Table Actions</option><option title=\"Start editing the data.\">Edit Data</option><option title=\"Create a Panda DataFrame from table.\">Data to Pandas...</option></select></th><th class=\"input_table r0 c1\"><span class=\"table_label\">Col_0</span></th> </tr> <tr class=\"input_table r1\"><th class=\"input_table r1 c0\"><span class=\"table_label\">0</span></th>  <td class=\"input_table r1 c1\"><span class=\"data_cell\"></span></td> </tr></tbody></table>'))"
   ]
  },
  {
   "cell_type": "code",
   "execution_count": null,
   "metadata": {},
   "outputs": [],
   "source": [
    "Col_0=[]\n",
    "try: # Wrapping assigment in `try:...except:` allows us to check if Pandas is available.\n",
    "    tst2= pd.DataFrame({\"Col_0\":Col_0,\n",
    "    })\n",
    "except NameError as e:\n",
    "    print(\"Sorry, Pandas needs to be imported using the statement `import pandas as pd` first.\")\n",
    "    tst2 = \"undefined\"\n",
    "print('DataFrame `tst2`:')\n",
    "tst2"
   ]
  },
  {
   "cell_type": "code",
   "execution_count": null,
   "metadata": {},
   "outputs": [],
   "source": [
    "create_input_table()"
   ]
  },
  {
   "cell_type": "code",
   "execution_count": null,
   "metadata": {},
   "outputs": [],
   "source": []
  },
  {
   "cell_type": "code",
   "execution_count": null,
   "metadata": {
    "editable": false
   },
   "outputs": [],
   "source": [
    "# If no data table appears in the output of this cell, run the cell to display the table.\n",
    "try:\n",
    "    from input_table import *\n",
    "except (ImportError, FileNotFoundError) as e:\n",
    "    from IPython.display import HTML\n",
    "    print(\"Table editing will not work because `jupyter_datainputtable` module is not installed in python kernel\")\n",
    "display(HTML('<table class=\"input_table\" id=\"it_1604156841052\"><tbody> <tr class=\"input_table r0\">  <th class=\"input_table r0 c0\"><select class=\"form-control table-actions\" onchange=\"var lastvalue = this.value;this.value = &quot;Table Actions&quot;;if(lastvalue==&quot;Edit Data&quot;){edit_input_table(&quot;it_1604156841052&quot;);}if(lastvalue==&quot;Data to Pandas...&quot;){data_table_to_Pandas(&quot;it_1604156841052&quot;);}\"><option title=\"Things you can do to this table.\">Table Actions</option><option title=\"Start editing the data.\">Edit Data</option><option title=\"Create a Panda DataFrame from table.\">Data to Pandas...</option></select></th><th class=\"input_table r0 c1\"><span class=\"table_label\">Col_0</span></th><th class=\"input_table r0 c2\"><span class=\"table_label\">Col_1</span></th> </tr> <tr class=\"input_table r1\"><th class=\"input_table r1 c0\"><span class=\"table_label\">0</span></th>  <td class=\"input_table r1 c1\"><span class=\"data_cell\">1</span></td>  <td class=\"input_table r1 c2\"><span class=\"data_cell\"></span></td> </tr> <tr class=\"input_table r2\"><th class=\"input_table r2 c0\"><span class=\"table_label\">1</span></th>  <td class=\"input_table r2 c1\"><span class=\"data_cell\"></span></td>  <td class=\"input_table r2 c2\"><span class=\"data_cell\">2</span></td> </tr></tbody></table>'))"
   ]
  },
  {
   "cell_type": "code",
   "execution_count": null,
   "metadata": {},
   "outputs": [],
   "source": [
    "Col_0=[1,]\n",
    "Col_1=[,2]\n",
    "try: # Wrapping assigment in `try:...except:` allows us to check if Pandas is available.\n",
    "    tst7= pd.DataFrame({\"Col_0\":Col_0,\n",
    "    \"Col_1\":Col_1,\n",
    "    })\n",
    "except NameError as e:\n",
    "    print(\"Sorry, Pandas needs to be imported using the statement `import pandas as pd` first.\")\n",
    "    tst7 = \"undefined\"\n",
    "print('DataFrame `tst7`:')\n",
    "tst7"
   ]
  },
  {
   "cell_type": "code",
   "execution_count": null,
   "metadata": {},
   "outputs": [],
   "source": [
    "create_input_table()"
   ]
  },
  {
   "cell_type": "code",
   "execution_count": null,
   "metadata": {},
   "outputs": [],
   "source": []
  },
  {
   "cell_type": "code",
   "execution_count": null,
   "metadata": {
    "editable": false
   },
   "outputs": [],
   "source": [
    "# If no data table appears in the output of this cell, run the cell to display the table.\n",
    "try:\n",
    "    from input_table import *\n",
    "except (ImportError, FileNotFoundError) as e:\n",
    "    from IPython.display import HTML\n",
    "    print(\"Table editing will not work because `jupyter_datainputtable` module is not installed in python kernel\")\n",
    "display(HTML('<table class=\"input_table\" id=\"it_1604157148041\"><tbody> <tr class=\"input_table r0\">  <th class=\"input_table r0 c0\"><select class=\"form-control table-actions\" onchange=\"var lastvalue = this.value;this.value = &quot;Table Actions&quot;;if(lastvalue==&quot;Edit Data&quot;){edit_input_table(&quot;it_1604157148041&quot;);}if(lastvalue==&quot;Data to Pandas...&quot;){data_table_to_Pandas(&quot;it_1604157148041&quot;);}\"><option title=\"Things you can do to this table.\">Table Actions</option><option title=\"Start editing the data.\">Edit Data</option><option title=\"Create a Panda DataFrame from table.\">Data to Pandas...</option></select></th><th class=\"input_table r0 c1\"><span class=\"table_label\">Col_0</span></th><th class=\"input_table r0 c2\"><span class=\"table_label\">Col_1</span></th> </tr> <tr class=\"input_table r1\"><th class=\"input_table r1 c0\"><span class=\"table_label\">0</span></th>  <td class=\"input_table r1 c1\"><span class=\"data_cell\">1</span></td>  <td class=\"input_table r1 c2\"><span class=\"data_cell\"></span></td> </tr> <tr class=\"input_table r2\"><th class=\"input_table r2 c0\"><span class=\"table_label\">1</span></th>  <td class=\"input_table r2 c1\"><span class=\"data_cell\"></span></td>  <td class=\"input_table r2 c2\"><span class=\"data_cell\">1.2</span></td> </tr></tbody></table>'))"
   ]
  },
  {
   "cell_type": "code",
   "execution_count": null,
   "metadata": {},
   "outputs": [],
   "source": [
    "Col_0=[1,'']\n",
    "Col_1=['',1.2]\n",
    "try: # Wrapping assigment in `try:...except:` allows us to check if Pandas is available.\n",
    "    tst8= pd.DataFrame({\"Col_0\":Col_0,\n",
    "    \"Col_1\":Col_1,\n",
    "    })\n",
    "except NameError as e:\n",
    "    print(\"Sorry, Pandas needs to be imported using the statement `import pandas as pd` first.\")\n",
    "    tst8 = \"undefined\"\n",
    "print('DataFrame `tst8`:')\n",
    "tst8"
   ]
  },
  {
   "cell_type": "code",
   "execution_count": null,
   "metadata": {},
   "outputs": [],
   "source": [
    "tst8[\"Col_1\"]=[3,4]\n",
    "tst8"
   ]
  },
  {
   "cell_type": "code",
   "execution_count": null,
   "metadata": {},
   "outputs": [],
   "source": [
    "create_input_table()"
   ]
  },
  {
   "cell_type": "code",
   "execution_count": null,
   "metadata": {},
   "outputs": [],
   "source": []
  },
  {
   "cell_type": "code",
   "execution_count": null,
   "metadata": {
    "editable": false
   },
   "outputs": [],
   "source": [
    "# If no data table appears in the output of this cell, run the cell to display the table.\n",
    "try:\n",
    "    from input_table import *\n",
    "except (ImportError, FileNotFoundError) as e:\n",
    "    from IPython.display import HTML\n",
    "    print(\"Table editing will not work because `jupyter_datainputtable` module is not installed in python kernel\")\n",
    "display(HTML('<table class=\"input_table\" id=\"it_1604158689334\"><tbody> <tr class=\"input_table r0\">  <th class=\"input_table r0 c0\"><select class=\"form-control table-actions\" onchange=\"var lastvalue = this.value;this.value = &quot;Table Actions&quot;;if(lastvalue==&quot;Edit Data&quot;){edit_input_table(&quot;it_1604158689334&quot;);}if(lastvalue==&quot;Data to Pandas...&quot;){data_table_to_Pandas(&quot;it_1604158689334&quot;);}\"><option title=\"Things you can do to this table.\">Table Actions</option><option title=\"Start editing the data.\">Edit Data</option><option title=\"Create a Panda DataFrame from table.\">Data to Pandas...</option></select></th><th class=\"input_table r0 c1\"><span class=\"table_label\">Col_0</span></th><th class=\"input_table r0 c2\"><span class=\"table_label\">Col_1</span></th> </tr> <tr class=\"input_table r1\"><th class=\"input_table r1 c0\"><span class=\"table_label\">0</span></th>  <td class=\"input_table r1 c1\"><span class=\"data_cell\">1</span></td>  <td class=\"input_table r1 c2\"><span class=\"data_cell\">1</span></td> </tr> <tr class=\"input_table r2\"><th class=\"input_table r2 c0\"><span class=\"table_label\">1</span></th>  <td class=\"input_table r2 c1\"><span class=\"data_cell\"></span></td>  <td class=\"input_table r2 c2\"><span class=\"data_cell\">3</span></td> </tr></tbody></table>'))"
   ]
  },
  {
   "cell_type": "code",
   "execution_count": null,
   "metadata": {},
   "outputs": [],
   "source": [
    "Col_0=[1,'']\n",
    "Col_1=[1,3]\n",
    "try: # Wrapping assigment in `try:...except:` allows us to check if Pandas is available.\n",
    "    tst9= pd.DataFrame({\"Col_0\":Col_0,\n",
    "    \"Col_1\":Col_1,\n",
    "    })\n",
    "except NameError as e:\n",
    "    print(\"Sorry, Pandas needs to be imported using the statement `import pandas as pd` first.\")\n",
    "    tst9 = \"undefined\"\n",
    "print('DataFrame `tst9`:')\n",
    "tst9"
   ]
  },
  {
   "cell_type": "code",
   "execution_count": null,
   "metadata": {},
   "outputs": [],
   "source": [
    "create_input_table()"
   ]
  },
  {
   "cell_type": "code",
   "execution_count": null,
   "metadata": {},
   "outputs": [],
   "source": []
  },
  {
   "cell_type": "code",
   "execution_count": 6,
   "metadata": {
    "editable": false
   },
   "outputs": [
    {
     "data": {
      "text/html": [
       "<table class=\"input_table\" id=\"it_1604158751061\"><tbody> <tr class=\"input_table r0\">  <th class=\"input_table r0 c0\"><select class=\"form-control table-actions\" onchange=\"var lastvalue = this.value;this.value = &quot;Table Actions&quot;;if(lastvalue==&quot;Edit Data&quot;){edit_input_table(&quot;it_1604158751061&quot;);}if(lastvalue==&quot;Data to Pandas...&quot;){data_table_to_Pandas(&quot;it_1604158751061&quot;);}\"><option title=\"Things you can do to this table.\">Table Actions</option><option title=\"Start editing the data.\">Edit Data</option><option title=\"Create a Panda DataFrame from table.\">Data to Pandas...</option></select></th><th class=\"input_table r0 c1\"><span class=\"table_label\">Col_0</span></th><th class=\"input_table r0 c2\"><span class=\"table_label\">Col_1</span></th> </tr> <tr class=\"input_table r1\"><th class=\"input_table r1 c0\"><span class=\"table_label\">0</span></th>  <td class=\"input_table r1 c1\"><span class=\"data_cell\">1</span></td>  <td class=\"input_table r1 c2\"><span class=\"data_cell\">aZ1</span></td> </tr> <tr class=\"input_table r2\"><th class=\"input_table r2 c0\"><span class=\"table_label\">1</span></th>  <td class=\"input_table r2 c1\"><span class=\"data_cell\"></span></td>  <td class=\"input_table r2 c2\"><span class=\"data_cell\">4</span></td> </tr></tbody></table>"
      ],
      "text/plain": [
       "<IPython.core.display.HTML object>"
      ]
     },
     "metadata": {},
     "output_type": "display_data"
    }
   ],
   "source": [
    "# If no data table appears in the output of this cell, run the cell to display the table.\n",
    "try:\n",
    "    from input_table import *\n",
    "except (ImportError, FileNotFoundError) as e:\n",
    "    from IPython.display import HTML\n",
    "    print(\"Table editing will not work because `jupyter_datainputtable` module is not installed in python kernel\")\n",
    "display(HTML('<table class=\"input_table\" id=\"it_1604158751061\"><tbody> <tr class=\"input_table r0\">  <th class=\"input_table r0 c0\"><select class=\"form-control table-actions\" onchange=\"var lastvalue = this.value;this.value = &quot;Table Actions&quot;;if(lastvalue==&quot;Edit Data&quot;){edit_input_table(&quot;it_1604158751061&quot;);}if(lastvalue==&quot;Data to Pandas...&quot;){data_table_to_Pandas(&quot;it_1604158751061&quot;);}\"><option title=\"Things you can do to this table.\">Table Actions</option><option title=\"Start editing the data.\">Edit Data</option><option title=\"Create a Panda DataFrame from table.\">Data to Pandas...</option></select></th><th class=\"input_table r0 c1\"><span class=\"table_label\">Col_0</span></th><th class=\"input_table r0 c2\"><span class=\"table_label\">Col_1</span></th> </tr> <tr class=\"input_table r1\"><th class=\"input_table r1 c0\"><span class=\"table_label\">0</span></th>  <td class=\"input_table r1 c1\"><span class=\"data_cell\">1</span></td>  <td class=\"input_table r1 c2\"><span class=\"data_cell\">aZ1</span></td> </tr> <tr class=\"input_table r2\"><th class=\"input_table r2 c0\"><span class=\"table_label\">1</span></th>  <td class=\"input_table r2 c1\"><span class=\"data_cell\"></span></td>  <td class=\"input_table r2 c2\"><span class=\"data_cell\">4</span></td> </tr></tbody></table>'))"
   ]
  },
  {
   "cell_type": "code",
   "execution_count": 7,
   "metadata": {},
   "outputs": [
    {
     "name": "stdout",
     "output_type": "stream",
     "text": [
      "DataFrame `tst13`:\n"
     ]
    },
    {
     "data": {
      "text/html": [
       "<div>\n",
       "<style scoped>\n",
       "    .dataframe tbody tr th:only-of-type {\n",
       "        vertical-align: middle;\n",
       "    }\n",
       "\n",
       "    .dataframe tbody tr th {\n",
       "        vertical-align: top;\n",
       "    }\n",
       "\n",
       "    .dataframe thead th {\n",
       "        text-align: right;\n",
       "    }\n",
       "</style>\n",
       "<table border=\"1\" class=\"dataframe\">\n",
       "  <thead>\n",
       "    <tr style=\"text-align: right;\">\n",
       "      <th></th>\n",
       "      <th>Col_0</th>\n",
       "      <th>Col_1</th>\n",
       "    </tr>\n",
       "  </thead>\n",
       "  <tbody>\n",
       "    <tr>\n",
       "      <th>0</th>\n",
       "      <td>1</td>\n",
       "      <td>aZ1</td>\n",
       "    </tr>\n",
       "    <tr>\n",
       "      <th>1</th>\n",
       "      <td></td>\n",
       "      <td>4</td>\n",
       "    </tr>\n",
       "  </tbody>\n",
       "</table>\n",
       "</div>"
      ],
      "text/plain": [
       "  Col_0 Col_1\n",
       "0     1   aZ1\n",
       "1           4"
      ]
     },
     "execution_count": 7,
     "metadata": {},
     "output_type": "execute_result"
    }
   ],
   "source": [
    "Col_0=[1,'']\n",
    "Col_1=['aZ1',4]\n",
    "try: # Wrapping assigment in `try:...except:` allows us to check if Pandas is available.\n",
    "    tst13= pd.DataFrame({\"Col_0\":Col_0,\n",
    "    \"Col_1\":Col_1,\n",
    "    })\n",
    "except NameError as e:\n",
    "    print(\"Sorry, Pandas needs to be imported using the statement `import pandas as pd` first.\")\n",
    "    tst13 = \"undefined\"\n",
    "print('DataFrame `tst13`:')\n",
    "tst13"
   ]
  },
  {
   "cell_type": "code",
   "execution_count": 5,
   "metadata": {},
   "outputs": [
    {
     "name": "stdout",
     "output_type": "stream",
     "text": [
      "DataFrame `tst12`:\n"
     ]
    },
    {
     "data": {
      "text/html": [
       "<div>\n",
       "<style scoped>\n",
       "    .dataframe tbody tr th:only-of-type {\n",
       "        vertical-align: middle;\n",
       "    }\n",
       "\n",
       "    .dataframe tbody tr th {\n",
       "        vertical-align: top;\n",
       "    }\n",
       "\n",
       "    .dataframe thead th {\n",
       "        text-align: right;\n",
       "    }\n",
       "</style>\n",
       "<table border=\"1\" class=\"dataframe\">\n",
       "  <thead>\n",
       "    <tr style=\"text-align: right;\">\n",
       "      <th></th>\n",
       "      <th>Col_0</th>\n",
       "      <th>Col_1</th>\n",
       "    </tr>\n",
       "  </thead>\n",
       "  <tbody>\n",
       "    <tr>\n",
       "      <th>0</th>\n",
       "      <td>1</td>\n",
       "      <td>aZ</td>\n",
       "    </tr>\n",
       "    <tr>\n",
       "      <th>1</th>\n",
       "      <td></td>\n",
       "      <td>4</td>\n",
       "    </tr>\n",
       "  </tbody>\n",
       "</table>\n",
       "</div>"
      ],
      "text/plain": [
       "  Col_0 Col_1\n",
       "0     1    aZ\n",
       "1           4"
      ]
     },
     "execution_count": 5,
     "metadata": {},
     "output_type": "execute_result"
    }
   ],
   "source": [
    "Col_0=[1,'']\n",
    "Col_1=['aZ',4]\n",
    "try: # Wrapping assigment in `try:...except:` allows us to check if Pandas is available.\n",
    "    tst12= pd.DataFrame({\"Col_0\":Col_0,\n",
    "    \"Col_1\":Col_1,\n",
    "    })\n",
    "except NameError as e:\n",
    "    print(\"Sorry, Pandas needs to be imported using the statement `import pandas as pd` first.\")\n",
    "    tst12 = \"undefined\"\n",
    "print('DataFrame `tst12`:')\n",
    "tst12"
   ]
  },
  {
   "cell_type": "code",
   "execution_count": 3,
   "metadata": {},
   "outputs": [
    {
     "name": "stdout",
     "output_type": "stream",
     "text": [
      "DataFrame `tst11`:\n"
     ]
    },
    {
     "data": {
      "text/html": [
       "<div>\n",
       "<style scoped>\n",
       "    .dataframe tbody tr th:only-of-type {\n",
       "        vertical-align: middle;\n",
       "    }\n",
       "\n",
       "    .dataframe tbody tr th {\n",
       "        vertical-align: top;\n",
       "    }\n",
       "\n",
       "    .dataframe thead th {\n",
       "        text-align: right;\n",
       "    }\n",
       "</style>\n",
       "<table border=\"1\" class=\"dataframe\">\n",
       "  <thead>\n",
       "    <tr style=\"text-align: right;\">\n",
       "      <th></th>\n",
       "      <th>Col_0</th>\n",
       "      <th>Col_1</th>\n",
       "    </tr>\n",
       "  </thead>\n",
       "  <tbody>\n",
       "    <tr>\n",
       "      <th>0</th>\n",
       "      <td>1</td>\n",
       "      <td>a</td>\n",
       "    </tr>\n",
       "    <tr>\n",
       "      <th>1</th>\n",
       "      <td></td>\n",
       "      <td>4</td>\n",
       "    </tr>\n",
       "  </tbody>\n",
       "</table>\n",
       "</div>"
      ],
      "text/plain": [
       "  Col_0 Col_1\n",
       "0     1     a\n",
       "1           4"
      ]
     },
     "execution_count": 3,
     "metadata": {},
     "output_type": "execute_result"
    }
   ],
   "source": [
    "Col_0=[1,'']\n",
    "Col_1=['a',4]\n",
    "try: # Wrapping assigment in `try:...except:` allows us to check if Pandas is available.\n",
    "    tst11= pd.DataFrame({\"Col_0\":Col_0,\n",
    "    \"Col_1\":Col_1,\n",
    "    })\n",
    "except NameError as e:\n",
    "    print(\"Sorry, Pandas needs to be imported using the statement `import pandas as pd` first.\")\n",
    "    tst11 = \"undefined\"\n",
    "print('DataFrame `tst11`:')\n",
    "tst11"
   ]
  }
 ],
 "metadata": {
  "kernelspec": {
   "display_name": "Python 3",
   "language": "python",
   "name": "python3"
  },
  "language_info": {
   "codemirror_mode": {
    "name": "ipython",
    "version": 3
   },
   "file_extension": ".py",
   "mimetype": "text/x-python",
   "name": "python",
   "nbconvert_exporter": "python",
   "pygments_lexer": "ipython3",
   "version": "3.8.5"
  }
 },
 "nbformat": 4,
 "nbformat_minor": 4
}
