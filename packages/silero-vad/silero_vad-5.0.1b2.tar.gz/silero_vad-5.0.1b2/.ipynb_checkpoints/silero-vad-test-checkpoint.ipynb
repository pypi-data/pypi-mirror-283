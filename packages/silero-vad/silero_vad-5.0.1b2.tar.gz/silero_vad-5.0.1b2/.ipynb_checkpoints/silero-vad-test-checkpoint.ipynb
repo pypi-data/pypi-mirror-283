{
 "cells": [
  {
   "cell_type": "code",
   "execution_count": 1,
   "id": "42e81e5d",
   "metadata": {
    "ExecuteTime": {
     "end_time": "2024-07-08T10:40:35.152339Z",
     "start_time": "2024-07-08T10:40:33.482148Z"
    }
   },
   "outputs": [],
   "source": [
    "#from utils_vad import init_jit_model, read_audio, OnnxWrapper, save_audio, collect_chunks, VADIterator\n",
    "import torch\n",
    "torch.set_num_threads(1)\n",
    "import matplotlib.pyplot as plt\n",
    "from IPython.display import Audio, display\n",
    "import pandas as pd\n",
    "import torchaudio"
   ]
  },
  {
   "cell_type": "code",
   "execution_count": 1,
   "id": "d81bf8b2",
   "metadata": {
    "ExecuteTime": {
     "end_time": "2024-07-08T10:42:49.955351Z",
     "start_time": "2024-07-08T10:42:49.872849Z"
    }
   },
   "outputs": [
    {
     "data": {
      "text/plain": [
       "'1.13.1'"
      ]
     },
     "execution_count": 1,
     "metadata": {},
     "output_type": "execute_result"
    }
   ],
   "source": [
    "import onnxruntime\n",
    "onnxruntime.__version__\n",
    "print(onnxruntime.get_available_providers())"
   ]
  },
  {
   "cell_type": "code",
   "execution_count": null,
   "id": "44050f51",
   "metadata": {
    "ExecuteTime": {
     "start_time": "2024-07-08T10:42:52.041Z"
    }
   },
   "outputs": [],
   "source": [
    "opts = onnxruntime.SessionOptions()\n",
    "opts.inter_op_num_threads = 1\n",
    "opts.intra_op_num_threads = 1\n",
    "session = onnxruntime.InferenceSession('files/silero_vad.onnx', providers=['CPUExecutionProvider'], sess_options=opts)"
   ]
  },
  {
   "cell_type": "code",
   "execution_count": null,
   "id": "a04686e5",
   "metadata": {
    "ExecuteTime": {
     "start_time": "2024-07-08T10:43:23.489Z"
    }
   },
   "outputs": [],
   "source": [
    "session"
   ]
  },
  {
   "cell_type": "code",
   "execution_count": null,
   "id": "369c9513",
   "metadata": {
    "ExecuteTime": {
     "start_time": "2024-07-08T10:43:23.878Z"
    }
   },
   "outputs": [],
   "source": [
    "print('heh')"
   ]
  },
  {
   "cell_type": "code",
   "execution_count": null,
   "id": "5f8d3faf",
   "metadata": {},
   "outputs": [],
   "source": []
  },
  {
   "cell_type": "code",
   "execution_count": null,
   "id": "660ba5cd",
   "metadata": {
    "ExecuteTime": {
     "start_time": "2024-07-08T10:39:34.431Z"
    }
   },
   "outputs": [
    {
     "name": "stderr",
     "output_type": "stream",
     "text": [
      "Downloading: \"https://github.com/snakers4/silero-vad/zipball/master\" to /home/keras/.cache/torch/hub/master.zip\n"
     ]
    }
   ],
   "source": [
    "vad_model, vad_utils = torch.hub.load(repo_or_dir='snakers4/silero-vad',\n",
    "                              model='silero_vad',\n",
    "                              force_reload=True,\n",
    "                              onnx=True, force_onnx_cpu=True)\n",
    "\n",
    "(get_speech_timestamps,\n",
    "             save_audio,\n",
    "             read_audio,\n",
    "             VADIterator,\n",
    "             collect_chunks) = vad_utils"
   ]
  },
  {
   "cell_type": "code",
   "execution_count": null,
   "id": "4433aeb2",
   "metadata": {},
   "outputs": [],
   "source": []
  },
  {
   "cell_type": "code",
   "execution_count": null,
   "id": "f38a8df1",
   "metadata": {},
   "outputs": [],
   "source": []
  },
  {
   "cell_type": "code",
   "execution_count": null,
   "id": "f35dd068",
   "metadata": {},
   "outputs": [],
   "source": []
  },
  {
   "cell_type": "code",
   "execution_count": 11,
   "id": "11dc212a",
   "metadata": {
    "ExecuteTime": {
     "end_time": "2024-07-05T13:53:57.342814Z",
     "start_time": "2024-07-05T13:53:56.192546Z"
    }
   },
   "outputs": [],
   "source": [
    "import pandas as pd\n",
    "import torchaudio"
   ]
  },
  {
   "cell_type": "code",
   "execution_count": 12,
   "id": "dce771bb",
   "metadata": {
    "ExecuteTime": {
     "end_time": "2024-07-05T13:53:57.367361Z",
     "start_time": "2024-07-05T13:53:57.344286Z"
    }
   },
   "outputs": [
    {
     "data": {
      "text/plain": [
       "'/home/keras/notebook/nvme1/adamnsandle/data/vad_data/wav/57c518f4-c1a4-419f-a12e-998ccb0f100b.opus'"
      ]
     },
     "execution_count": 12,
     "metadata": {},
     "output_type": "execute_result"
    }
   ],
   "source": [
    "df = pd.read_feather('../data/vad_manifests/v4/val/val_v4.feather')\n",
    "path = df['audio_path'].values[-1000]\n",
    "path"
   ]
  },
  {
   "cell_type": "code",
   "execution_count": 27,
   "id": "6efed73c",
   "metadata": {
    "ExecuteTime": {
     "end_time": "2024-07-05T14:07:50.795685Z",
     "start_time": "2024-07-05T14:07:50.527195Z"
    }
   },
   "outputs": [],
   "source": [
    "!cp 'X2Download.app - АИГЕЛ - Пыяла ACAPELLA VOKAL АКАПЕЛЛА ВОКАЛ (320 kbps).mp3' '../packaging_tutorial/test.mp3'"
   ]
  },
  {
   "cell_type": "code",
   "execution_count": 17,
   "id": "cb8f2869",
   "metadata": {
    "ExecuteTime": {
     "end_time": "2024-07-05T13:56:19.940861Z",
     "start_time": "2024-07-05T13:56:19.894302Z"
    }
   },
   "outputs": [
    {
     "name": "stderr",
     "output_type": "stream",
     "text": [
      "/tmp/ipykernel_3966/2674137158.py:1: UserWarning: Torchaudio's I/O functions now support par-call bakcend dispatch. Importing backend implementation directly is no longer guaranteed to work. Please use `backend` keyword with load/save/info function, instead of calling the udnerlying implementation directly.\n",
      "  torchaudio.backend.soundfile_backend.load(path)\n"
     ]
    },
    {
     "data": {
      "text/plain": [
       "(tensor([[-0.0197, -0.0246, -0.0231,  ..., -0.0047, -0.0040, -0.0020]]), 16000)"
      ]
     },
     "execution_count": 17,
     "metadata": {},
     "output_type": "execute_result"
    }
   ],
   "source": [
    "torchaudio.backend.soundfile_backend.load(path)"
   ]
  },
  {
   "cell_type": "code",
   "execution_count": 23,
   "id": "eadfb5ac",
   "metadata": {
    "ExecuteTime": {
     "end_time": "2024-07-05T14:02:01.690330Z",
     "start_time": "2024-07-05T14:02:01.684479Z"
    }
   },
   "outputs": [],
   "source": [
    "def read_audio(path: str,\n",
    "               sampling_rate: int = 16000):\n",
    "\n",
    "    try:\n",
    "        effects = [\n",
    "            ['channels', '1'],\n",
    "            ['rate', str(sampling_rate)]\n",
    "        ]\n",
    "\n",
    "        wav, sr = torchaudio.sox_effects.apply_effects_file(path, effects=effects)\n",
    "    except:\n",
    "        wav, sr = torchaudio.load(path)\n",
    "\n",
    "        if wav.size(0) > 1:\n",
    "            wav = wav.mean(dim=0, keepdim=True)\n",
    "\n",
    "        if sr != sampling_rate:\n",
    "            transform = torchaudio.transforms.Resample(orig_freq=sr,\n",
    "                                                       new_freq=sampling_rate)\n",
    "            wav = transform(wav)\n",
    "            sr = sampling_rate\n",
    "\n",
    "    assert sr == sampling_rate\n",
    "    return wav.squeeze(0)"
   ]
  },
  {
   "cell_type": "code",
   "execution_count": 24,
   "id": "a46732ef",
   "metadata": {
    "ExecuteTime": {
     "end_time": "2024-07-05T14:02:02.196084Z",
     "start_time": "2024-07-05T14:02:02.018493Z"
    }
   },
   "outputs": [
    {
     "name": "stdout",
     "output_type": "stream",
     "text": [
      "heh\n"
     ]
    },
    {
     "data": {
      "text/plain": [
       "tensor([0.0000e+00, 0.0000e+00, 0.0000e+00,  ..., 4.7684e-07, 4.1723e-07,\n",
       "        4.7684e-07])"
      ]
     },
     "execution_count": 24,
     "metadata": {},
     "output_type": "execute_result"
    }
   ],
   "source": [
    "read_audio('X2Download.app - АИГЕЛ - Пыяла ACAPELLA VOKAL АКАПЕЛЛА ВОКАЛ (320 kbps).mp3')"
   ]
  },
  {
   "cell_type": "code",
   "execution_count": 25,
   "id": "6c479160",
   "metadata": {
    "ExecuteTime": {
     "end_time": "2024-07-05T14:02:02.788833Z",
     "start_time": "2024-07-05T14:02:02.752679Z"
    }
   },
   "outputs": [],
   "source": [
    "audio = read_audio(path, sampling_rate=16000)\n",
    "#test = vad_model.audio_forward(wav, torch.tensor(16000, dtype=torch.int32))\n",
    "#speech_timestamps = get_speech_timestamps(audio, vad_model, visualize_probs=True)"
   ]
  },
  {
   "cell_type": "code",
   "execution_count": null,
   "id": "ee936912",
   "metadata": {},
   "outputs": [],
   "source": []
  },
  {
   "cell_type": "code",
   "execution_count": 3,
   "id": "0dc538e6",
   "metadata": {
    "ExecuteTime": {
     "end_time": "2024-07-01T08:57:08.125764Z",
     "start_time": "2024-07-01T08:57:08.064610Z"
    }
   },
   "outputs": [],
   "source": [
    "#model = torch.jit.load('files/silero_vad.jit')\n",
    "vad_model = OnnxWrapper('files/silero_vad.onnx', False)\n",
    "#Audio(audio, rate=16000)"
   ]
  },
  {
   "cell_type": "code",
   "execution_count": 8,
   "id": "9681ef4e",
   "metadata": {
    "ExecuteTime": {
     "end_time": "2024-07-01T08:57:24.444153Z",
     "start_time": "2024-07-01T08:57:24.153291Z"
    }
   },
   "outputs": [],
   "source": [
    "wav = read_audio('en_example.wav', sampling_rate=16000)\n",
    "test = vad_model.audio_forward(wav, 16000.0)"
   ]
  },
  {
   "cell_type": "code",
   "execution_count": 4,
   "id": "14d1846d",
   "metadata": {
    "ExecuteTime": {
     "end_time": "2024-07-01T08:47:39.234136Z",
     "start_time": "2024-07-01T08:47:38.936339Z"
    }
   },
   "outputs": [
    {
     "data": {
      "text/plain": [
       "torch.Size([1, 1875])"
      ]
     },
     "execution_count": 4,
     "metadata": {},
     "output_type": "execute_result"
    }
   ],
   "source": [
    "audio = read_audio('en_example.wav', sampling_rate=16000)\n",
    "predicts = model.audio_forward(audio, sr=16000)\n",
    "predicts.shape"
   ]
  },
  {
   "cell_type": "code",
   "execution_count": 5,
   "id": "f1ddb299",
   "metadata": {
    "ExecuteTime": {
     "end_time": "2024-07-01T08:47:40.253844Z",
     "start_time": "2024-07-01T08:47:39.235858Z"
    }
   },
   "outputs": [
    {
     "data": {
      "image/png": "[encoded data removed]",
      "text/plain": [
       "<Figure size 1600x800 with 1 Axes>"
      ]
     },
     "metadata": {},
     "output_type": "display_data"
    }
   ],
   "source": [
    "speech_timestamps = get_speech_timestamps(audio, model, visualize_probs=True)"
   ]
  },
  {
   "cell_type": "code",
   "execution_count": 6,
   "id": "4a07e439",
   "metadata": {
    "ExecuteTime": {
     "end_time": "2024-07-01T08:47:40.572285Z",
     "start_time": "2024-07-01T08:47:40.255788Z"
    }
   },
   "outputs": [
    {
     "name": "stdout",
     "output_type": "stream",
     "text": [
      "{'start': 0.0} {'end': 2.1} {'start': 2.7} {'end': 4.9} {'start': 5.0} {'end': 6.8} {'start': 9.3} {'end': 13.4} {'start': 13.5} {'end': 15.2} {'start': 15.3} {'end': 15.8} {'start': 16.3} {'end': 17.9} {'start': 18.4} {'end': 19.6} {'start': 20.3} {'end': 37.6} {'start': 38.0} {'end': 38.9} {'start': 39.9} {'end': 43.3} {'start': 43.6} {'end': 44.6} {'start': 45.0} {'end': 46.8} {'start': 48.8} {'end': 50.0} {'start': 51.1} {'end': 53.4} {'start': 53.5} "
     ]
    }
   ],
   "source": [
    "SAMPLING_RATE = 16000\n",
    "vad_iterator = VADIterator(model, sampling_rate=SAMPLING_RATE)\n",
    "wav = read_audio(f'en_example.wav', sampling_rate=SAMPLING_RATE)\n",
    "\n",
    "window_size_samples = 512 # number of samples in a single audio chunk\n",
    "for i in range(0, len(wav), window_size_samples):\n",
    "    speech_dict = vad_iterator(wav[i: i+ window_size_samples], return_seconds=True)\n",
    "    if speech_dict:\n",
    "        print(speech_dict, end=' ')\n",
    "vad_iterator.reset_states() # reset model states after each audio"
   ]
  },
  {
   "cell_type": "code",
   "execution_count": null,
   "id": "dfcfffd2",
   "metadata": {},
   "outputs": [],
   "source": []
  },
  {
   "cell_type": "code",
   "execution_count": null,
   "id": "74539028",
   "metadata": {},
   "outputs": [],
   "source": []
  },
  {
   "cell_type": "code",
   "execution_count": 7,
   "id": "7fa6bf28",
   "metadata": {
    "ExecuteTime": {
     "end_time": "2024-07-01T08:47:40.577281Z",
     "start_time": "2024-07-01T08:47:40.574193Z"
    }
   },
   "outputs": [],
   "source": [
    "from utils_vad import (init_jit_model,\n",
    "                       get_speech_timestamps,\n",
    "                       save_audio,\n",
    "                       read_audio,\n",
    "                       VADIterator,\n",
    "                       collect_chunks,\n",
    "                       drop_chunks,\n",
    "                       Validator,\n",
    "                       OnnxWrapper)"
   ]
  },
  {
   "cell_type": "code",
   "execution_count": null,
   "id": "08a04098",
   "metadata": {
    "ExecuteTime": {
     "end_time": "2024-07-01T08:47:44.426151Z",
     "start_time": "2024-07-01T08:47:44.426143Z"
    }
   },
   "outputs": [],
   "source": [
    "vad"
   ]
  },
  {
   "cell_type": "code",
   "execution_count": null,
   "id": "0ca70497",
   "metadata": {
    "ExecuteTime": {
     "end_time": "2024-07-01T08:47:44.427089Z",
     "start_time": "2024-07-01T08:47:44.427082Z"
    }
   },
   "outputs": [],
   "source": [
    "import os"
   ]
  },
  {
   "cell_type": "code",
   "execution_count": null,
   "id": "7251d094",
   "metadata": {
    "ExecuteTime": {
     "end_time": "2024-07-01T08:47:44.427907Z",
     "start_time": "2024-07-01T08:47:44.427900Z"
    }
   },
   "outputs": [],
   "source": [
    "torch.hub.get_dir()"
   ]
  },
  {
   "cell_type": "code",
   "execution_count": null,
   "id": "dc021e27",
   "metadata": {},
   "outputs": [],
   "source": []
  }
 ],
 "metadata": {
  "kernelspec": {
   "display_name": "Python 3 (ipykernel)",
   "language": "python",
   "name": "python3"
  },
  "language_info": {
   "codemirror_mode": {
    "name": "ipython",
    "version": 3
   },
   "file_extension": ".py",
   "mimetype": "text/x-python",
   "name": "python",
   "nbconvert_exporter": "python",
   "pygments_lexer": "ipython3",
   "version": "3.10.14"
  },
  "toc": {
   "base_numbering": 1,
   "nav_menu": {},
   "number_sections": true,
   "sideBar": true,
   "skip_h1_title": false,
   "title_cell": "Table of Contents",
   "title_sidebar": "Contents",
   "toc_cell": false,
   "toc_position": {},
   "toc_section_display": true,
   "toc_window_display": false
  }
 },
 "nbformat": 4,
 "nbformat_minor": 5
}
