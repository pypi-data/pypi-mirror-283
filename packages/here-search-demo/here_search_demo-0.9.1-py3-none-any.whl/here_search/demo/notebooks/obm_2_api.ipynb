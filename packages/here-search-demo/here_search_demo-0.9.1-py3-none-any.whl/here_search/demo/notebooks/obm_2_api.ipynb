{
 "cells": [
  {
   "cell_type": "code",
   "execution_count": 1,
   "id": "77ac7de0-8ebc-4686-87bf-a9e720cc79e4",
   "metadata": {},
   "outputs": [],
   "source": [
    "try:\n",
    "    import piplite\n",
    "    await piplite.install([\"ipywidgets==8.1.0\", \"ipyleaflet==0.17.3\", \"emfs:here_search_demo-0.9.1-py3-none-any.whl\"], keep_going=True)\n",
    "    api_key = \"<YOUR HERE API KEY>\"\n",
    "except ImportError:\n",
    "    api_key = None"
   ]
  },
  {
   "cell_type": "markdown",
   "id": "a312886c-007e-40e8-90a7-a215e1708ff5",
   "metadata": {
    "pycharm": {
     "name": "#%% md\n"
    },
    "slideshow": {
     "slide_type": "slide"
    },
    "tags": []
   },
   "source": [
    "## Browse and Derived place taxonomy\n",
    "\n",
    "`api.browse()` supports a set of places filters around [category](https://developer.here.com/documentation/geocoding-search-api/dev_guide/topics-places/places-category-system-full.html), [cusine](https://developer.here.com/documentation/geocoding-search-api/dev_guide/topics-places/food-types-category-system-full.html), [chain](https://developer.here.com/documentation/geocoding-search-api/dev_guide/topics-places/places-chain-system-full.html) IDs.\n",
    "\n",
    "For example, to get the nearby places with on of the category IDs `700-7600-0000` (Fueling Station), `700-7600-0116` (Petrol-Gasoline Station) or `700-7600-0444` (Hydrogen Fuel Station), on can send the following Browse request:"
   ]
  },
  {
   "cell_type": "code",
   "execution_count": 2,
   "id": "a59dacb1-da0a-40ba-a8d0-736738c62333",
   "metadata": {
    "pycharm": {
     "name": "#%%\n"
    },
    "slideshow": {
     "slide_type": "-"
    },
    "tags": []
   },
   "outputs": [
    {
     "data": {
      "text/plain": [
       "'https://browse.search.hereapi.com/v1/browse?at=52%2C13&categories=700-7600-0000%2C700-7600-0116%2C700-7600-0444&limit=4&apiKey=...'"
      ]
     },
     "execution_count": 2,
     "metadata": {},
     "output_type": "execute_result"
    }
   ],
   "source": [
    "from here_search.demo.api import API, HTTPSession\n",
    "\n",
    "api = API(api_key=api_key)\n",
    "session = HTTPSession()\n",
    "resp = await api.browse(latitude=52, longitude=13, limit=4, \n",
    "                        categories=[\"700-7600-0000\", \"700-7600-0116\", \"700-7600-0444\"], session=session)\n",
    "resp.req.full"
   ]
  },
  {
   "cell_type": "code",
   "execution_count": 3,
   "id": "da673fdb-baf9-41e0-9f32-b8e18436a579",
   "metadata": {},
   "outputs": [
    {
     "data": {
      "text/plain": [
       "['ARAL', 'TOTAL', 'Raiffeisen', 'Shell']"
      ]
     },
     "execution_count": 3,
     "metadata": {},
     "output_type": "execute_result"
    }
   ],
   "source": [
    "resp.titles"
   ]
  },
  {
   "cell_type": "markdown",
   "id": "70cae96a-ec74-4592-87b8-06a2ae0c1002",
   "metadata": {},
   "source": [
    "The place filters multi-values allows the support for simple derived ontologies. For example:"
   ]
  },
  {
   "cell_type": "code",
   "execution_count": 4,
   "id": "5db1262c-1815-44a2-a9be-c67377ca58f8",
   "metadata": {},
   "outputs": [
    {
     "data": {
      "text/html": [
       "<style>pre { line-height: 125%; }\n",
       "td.linenos .normal { color: inherit; background-color: transparent; padding-left: 5px; padding-right: 5px; }\n",
       "span.linenos { color: inherit; background-color: transparent; padding-left: 5px; padding-right: 5px; }\n",
       "td.linenos .special { color: #000000; background-color: #ffffc0; padding-left: 5px; padding-right: 5px; }\n",
       "span.linenos.special { color: #000000; background-color: #ffffc0; padding-left: 5px; padding-right: 5px; }\n",
       ".output_html .hll { background-color: #ffffcc }\n",
       ".output_html { background: #f8f8f8; }\n",
       ".output_html .c { color: #3D7B7B; font-style: italic } /* Comment */\n",
       ".output_html .err { border: 1px solid #FF0000 } /* Error */\n",
       ".output_html .k { color: #008000; font-weight: bold } /* Keyword */\n",
       ".output_html .o { color: #666666 } /* Operator */\n",
       ".output_html .ch { color: #3D7B7B; font-style: italic } /* Comment.Hashbang */\n",
       ".output_html .cm { color: #3D7B7B; font-style: italic } /* Comment.Multiline */\n",
       ".output_html .cp { color: #9C6500 } /* Comment.Preproc */\n",
       ".output_html .cpf { color: #3D7B7B; font-style: italic } /* Comment.PreprocFile */\n",
       ".output_html .c1 { color: #3D7B7B; font-style: italic } /* Comment.Single */\n",
       ".output_html .cs { color: #3D7B7B; font-style: italic } /* Comment.Special */\n",
       ".output_html .gd { color: #A00000 } /* Generic.Deleted */\n",
       ".output_html .ge { font-style: italic } /* Generic.Emph */\n",
       ".output_html .gr { color: #E40000 } /* Generic.Error */\n",
       ".output_html .gh { color: #000080; font-weight: bold } /* Generic.Heading */\n",
       ".output_html .gi { color: #008400 } /* Generic.Inserted */\n",
       ".output_html .go { color: #717171 } /* Generic.Output */\n",
       ".output_html .gp { color: #000080; font-weight: bold } /* Generic.Prompt */\n",
       ".output_html .gs { font-weight: bold } /* Generic.Strong */\n",
       ".output_html .gu { color: #800080; font-weight: bold } /* Generic.Subheading */\n",
       ".output_html .gt { color: #0044DD } /* Generic.Traceback */\n",
       ".output_html .kc { color: #008000; font-weight: bold } /* Keyword.Constant */\n",
       ".output_html .kd { color: #008000; font-weight: bold } /* Keyword.Declaration */\n",
       ".output_html .kn { color: #008000; font-weight: bold } /* Keyword.Namespace */\n",
       ".output_html .kp { color: #008000 } /* Keyword.Pseudo */\n",
       ".output_html .kr { color: #008000; font-weight: bold } /* Keyword.Reserved */\n",
       ".output_html .kt { color: #B00040 } /* Keyword.Type */\n",
       ".output_html .m { color: #666666 } /* Literal.Number */\n",
       ".output_html .s { color: #BA2121 } /* Literal.String */\n",
       ".output_html .na { color: #687822 } /* Name.Attribute */\n",
       ".output_html .nb { color: #008000 } /* Name.Builtin */\n",
       ".output_html .nc { color: #0000FF; font-weight: bold } /* Name.Class */\n",
       ".output_html .no { color: #880000 } /* Name.Constant */\n",
       ".output_html .nd { color: #AA22FF } /* Name.Decorator */\n",
       ".output_html .ni { color: #717171; font-weight: bold } /* Name.Entity */\n",
       ".output_html .ne { color: #CB3F38; font-weight: bold } /* Name.Exception */\n",
       ".output_html .nf { color: #0000FF } /* Name.Function */\n",
       ".output_html .nl { color: #767600 } /* Name.Label */\n",
       ".output_html .nn { color: #0000FF; font-weight: bold } /* Name.Namespace */\n",
       ".output_html .nt { color: #008000; font-weight: bold } /* Name.Tag */\n",
       ".output_html .nv { color: #19177C } /* Name.Variable */\n",
       ".output_html .ow { color: #AA22FF; font-weight: bold } /* Operator.Word */\n",
       ".output_html .w { color: #bbbbbb } /* Text.Whitespace */\n",
       ".output_html .mb { color: #666666 } /* Literal.Number.Bin */\n",
       ".output_html .mf { color: #666666 } /* Literal.Number.Float */\n",
       ".output_html .mh { color: #666666 } /* Literal.Number.Hex */\n",
       ".output_html .mi { color: #666666 } /* Literal.Number.Integer */\n",
       ".output_html .mo { color: #666666 } /* Literal.Number.Oct */\n",
       ".output_html .sa { color: #BA2121 } /* Literal.String.Affix */\n",
       ".output_html .sb { color: #BA2121 } /* Literal.String.Backtick */\n",
       ".output_html .sc { color: #BA2121 } /* Literal.String.Char */\n",
       ".output_html .dl { color: #BA2121 } /* Literal.String.Delimiter */\n",
       ".output_html .sd { color: #BA2121; font-style: italic } /* Literal.String.Doc */\n",
       ".output_html .s2 { color: #BA2121 } /* Literal.String.Double */\n",
       ".output_html .se { color: #AA5D1F; font-weight: bold } /* Literal.String.Escape */\n",
       ".output_html .sh { color: #BA2121 } /* Literal.String.Heredoc */\n",
       ".output_html .si { color: #A45A77; font-weight: bold } /* Literal.String.Interpol */\n",
       ".output_html .sx { color: #008000 } /* Literal.String.Other */\n",
       ".output_html .sr { color: #A45A77 } /* Literal.String.Regex */\n",
       ".output_html .s1 { color: #BA2121 } /* Literal.String.Single */\n",
       ".output_html .ss { color: #19177C } /* Literal.String.Symbol */\n",
       ".output_html .bp { color: #008000 } /* Name.Builtin.Pseudo */\n",
       ".output_html .fm { color: #0000FF } /* Name.Function.Magic */\n",
       ".output_html .vc { color: #19177C } /* Name.Variable.Class */\n",
       ".output_html .vg { color: #19177C } /* Name.Variable.Global */\n",
       ".output_html .vi { color: #19177C } /* Name.Variable.Instance */\n",
       ".output_html .vm { color: #19177C } /* Name.Variable.Magic */\n",
       ".output_html .il { color: #666666 } /* Literal.Number.Integer.Long */</style><div class=\"highlight\"><pre><span></span><span class=\"k\">class</span> <span class=\"n\">PlaceTaxonomyExample:</span>\n",
       "    <span class=\"n\">items</span>, <span class=\"n\">icons</span> = <span class=\"nb\">zip</span>(\n",
       "        *[\n",
       "            <span class=\"c1\">#                --------------------------------------------------------------------</span>\n",
       "            <span class=\"c1\">#                | item name | categories     | food types | chains  | icon         |</span>\n",
       "            <span class=\"c1\">#                --------------------------------------------------------------------</span>\n",
       "            (<span class=\"n\">PlaceTaxonomyItem</span>(<span class=\"s\">&quot;gas&quot;</span>, [<span class=\"s\">&quot;700-7600-0000&quot;</span>, <span class=\"s\">&quot;700-7600-0116&quot;</span>, <span class=\"s\">&quot;700-7600-0444&quot;</span>], <span class=\"n\">None</span>, <span class=\"n\">None</span>), <span class=\"s\">&quot;fa-gas-pump&quot;</span>),\n",
       "            (<span class=\"n\">PlaceTaxonomyItem</span>(<span class=\"s\">&quot;eat&quot;</span>, [<span class=\"s\">&quot;100&quot;</span>], <span class=\"n\">None</span>, <span class=\"n\">None</span>), <span class=\"s\">&quot;fa-utensils&quot;</span>),\n",
       "            (<span class=\"n\">PlaceTaxonomyItem</span>(<span class=\"s\">&quot;sleep&quot;</span>, [<span class=\"s\">&quot;500-5000&quot;</span>], <span class=\"n\">None</span>, <span class=\"n\">None</span>), <span class=\"s\">&quot;fa-bed&quot;</span>),\n",
       "            (<span class=\"n\">PlaceTaxonomyItem</span>(<span class=\"s\">&quot;park&quot;</span>, [<span class=\"s\">&quot;400-4300&quot;</span>, <span class=\"s\">&quot;800-8500&quot;</span>], <span class=\"n\">None</span>, <span class=\"n\">None</span>), <span class=\"s\">&quot;fa-parking&quot;</span>),\n",
       "            (<span class=\"n\">PlaceTaxonomyItem</span>(<span class=\"s\">&quot;ATM&quot;</span>, [<span class=\"s\">&quot;700-7010-0108&quot;</span>], <span class=\"n\">None</span>, <span class=\"n\">None</span>), <span class=\"s\">&quot;fa-euro-sign&quot;</span>),\n",
       "            (<span class=\"n\">PlaceTaxonomyItem</span>(<span class=\"s\">&quot;pizza&quot;</span>, <span class=\"n\">None</span>, [<span class=\"s\">&quot;800-057&quot;</span>], <span class=\"n\">None</span>), <span class=\"s\">&quot;fa-pizza-slice&quot;</span>),\n",
       "            (<span class=\"n\">PlaceTaxonomyItem</span>(<span class=\"s\">&quot;fastfood&quot;</span>, <span class=\"n\">None</span>, <span class=\"n\">None</span>, [<span class=\"s\">&quot;1566&quot;</span>, <span class=\"s\">&quot;1498&quot;</span>]), <span class=\"s\">&quot;fa-hamburger&quot;</span>),\n",
       "        ]\n",
       "    )\n",
       "    <span class=\"n\">taxonomy</span> = <span class=\"n\">PlaceTaxonomy</span>(<span class=\"s\">&quot;example&quot;</span>, <span class=\"n\">items</span>)\n",
       "</pre></div>\n"
      ],
      "text/latex": [
       "\\begin{Verbatim}[commandchars=\\\\\\{\\}]\n",
       "\\PY{k}{class} \\PY{n}{PlaceTaxonomyExample:}\n",
       "    \\PY{n}{items}, \\PY{n}{icons} = \\PY{n+nb}{zip}(\n",
       "        *[\n",
       "            \\PY{c+c1}{\\PYZsh{}                \\PYZhy{}\\PYZhy{}\\PYZhy{}\\PYZhy{}\\PYZhy{}\\PYZhy{}\\PYZhy{}\\PYZhy{}\\PYZhy{}\\PYZhy{}\\PYZhy{}\\PYZhy{}\\PYZhy{}\\PYZhy{}\\PYZhy{}\\PYZhy{}\\PYZhy{}\\PYZhy{}\\PYZhy{}\\PYZhy{}\\PYZhy{}\\PYZhy{}\\PYZhy{}\\PYZhy{}\\PYZhy{}\\PYZhy{}\\PYZhy{}\\PYZhy{}\\PYZhy{}\\PYZhy{}\\PYZhy{}\\PYZhy{}\\PYZhy{}\\PYZhy{}\\PYZhy{}\\PYZhy{}\\PYZhy{}\\PYZhy{}\\PYZhy{}\\PYZhy{}\\PYZhy{}\\PYZhy{}\\PYZhy{}\\PYZhy{}\\PYZhy{}\\PYZhy{}\\PYZhy{}\\PYZhy{}\\PYZhy{}\\PYZhy{}\\PYZhy{}\\PYZhy{}\\PYZhy{}\\PYZhy{}\\PYZhy{}\\PYZhy{}\\PYZhy{}\\PYZhy{}\\PYZhy{}\\PYZhy{}\\PYZhy{}\\PYZhy{}\\PYZhy{}\\PYZhy{}\\PYZhy{}\\PYZhy{}\\PYZhy{}\\PYZhy{}}\n",
       "            \\PY{c+c1}{\\PYZsh{}                | item name | categories     | food types | chains  | icon         |}\n",
       "            \\PY{c+c1}{\\PYZsh{}                \\PYZhy{}\\PYZhy{}\\PYZhy{}\\PYZhy{}\\PYZhy{}\\PYZhy{}\\PYZhy{}\\PYZhy{}\\PYZhy{}\\PYZhy{}\\PYZhy{}\\PYZhy{}\\PYZhy{}\\PYZhy{}\\PYZhy{}\\PYZhy{}\\PYZhy{}\\PYZhy{}\\PYZhy{}\\PYZhy{}\\PYZhy{}\\PYZhy{}\\PYZhy{}\\PYZhy{}\\PYZhy{}\\PYZhy{}\\PYZhy{}\\PYZhy{}\\PYZhy{}\\PYZhy{}\\PYZhy{}\\PYZhy{}\\PYZhy{}\\PYZhy{}\\PYZhy{}\\PYZhy{}\\PYZhy{}\\PYZhy{}\\PYZhy{}\\PYZhy{}\\PYZhy{}\\PYZhy{}\\PYZhy{}\\PYZhy{}\\PYZhy{}\\PYZhy{}\\PYZhy{}\\PYZhy{}\\PYZhy{}\\PYZhy{}\\PYZhy{}\\PYZhy{}\\PYZhy{}\\PYZhy{}\\PYZhy{}\\PYZhy{}\\PYZhy{}\\PYZhy{}\\PYZhy{}\\PYZhy{}\\PYZhy{}\\PYZhy{}\\PYZhy{}\\PYZhy{}\\PYZhy{}\\PYZhy{}\\PYZhy{}\\PYZhy{}}\n",
       "            (\\PY{n}{PlaceTaxonomyItem}(\\PY{l+s}{\\PYZdq{}gas\\PYZdq{}}, [\\PY{l+s}{\\PYZdq{}700\\PYZhy{}7600\\PYZhy{}0000\\PYZdq{}}, \\PY{l+s}{\\PYZdq{}700\\PYZhy{}7600\\PYZhy{}0116\\PYZdq{}}, \\PY{l+s}{\\PYZdq{}700\\PYZhy{}7600\\PYZhy{}0444\\PYZdq{}}], \\PY{n}{None}, \\PY{n}{None}), \\PY{l+s}{\\PYZdq{}fa\\PYZhy{}gas\\PYZhy{}pump\\PYZdq{}}),\n",
       "            (\\PY{n}{PlaceTaxonomyItem}(\\PY{l+s}{\\PYZdq{}eat\\PYZdq{}}, [\\PY{l+s}{\\PYZdq{}100\\PYZdq{}}], \\PY{n}{None}, \\PY{n}{None}), \\PY{l+s}{\\PYZdq{}fa\\PYZhy{}utensils\\PYZdq{}}),\n",
       "            (\\PY{n}{PlaceTaxonomyItem}(\\PY{l+s}{\\PYZdq{}sleep\\PYZdq{}}, [\\PY{l+s}{\\PYZdq{}500\\PYZhy{}5000\\PYZdq{}}], \\PY{n}{None}, \\PY{n}{None}), \\PY{l+s}{\\PYZdq{}fa\\PYZhy{}bed\\PYZdq{}}),\n",
       "            (\\PY{n}{PlaceTaxonomyItem}(\\PY{l+s}{\\PYZdq{}park\\PYZdq{}}, [\\PY{l+s}{\\PYZdq{}400\\PYZhy{}4300\\PYZdq{}}, \\PY{l+s}{\\PYZdq{}800\\PYZhy{}8500\\PYZdq{}}], \\PY{n}{None}, \\PY{n}{None}), \\PY{l+s}{\\PYZdq{}fa\\PYZhy{}parking\\PYZdq{}}),\n",
       "            (\\PY{n}{PlaceTaxonomyItem}(\\PY{l+s}{\\PYZdq{}ATM\\PYZdq{}}, [\\PY{l+s}{\\PYZdq{}700\\PYZhy{}7010\\PYZhy{}0108\\PYZdq{}}], \\PY{n}{None}, \\PY{n}{None}), \\PY{l+s}{\\PYZdq{}fa\\PYZhy{}euro\\PYZhy{}sign\\PYZdq{}}),\n",
       "            (\\PY{n}{PlaceTaxonomyItem}(\\PY{l+s}{\\PYZdq{}pizza\\PYZdq{}}, \\PY{n}{None}, [\\PY{l+s}{\\PYZdq{}800\\PYZhy{}057\\PYZdq{}}], \\PY{n}{None}), \\PY{l+s}{\\PYZdq{}fa\\PYZhy{}pizza\\PYZhy{}slice\\PYZdq{}}),\n",
       "            (\\PY{n}{PlaceTaxonomyItem}(\\PY{l+s}{\\PYZdq{}fastfood\\PYZdq{}}, \\PY{n}{None}, \\PY{n}{None}, [\\PY{l+s}{\\PYZdq{}1566\\PYZdq{}}, \\PY{l+s}{\\PYZdq{}1498\\PYZdq{}}]), \\PY{l+s}{\\PYZdq{}fa\\PYZhy{}hamburger\\PYZdq{}}),\n",
       "        ]\n",
       "    )\n",
       "    \\PY{n}{taxonomy} = \\PY{n}{PlaceTaxonomy}(\\PY{l+s}{\\PYZdq{}example\\PYZdq{}}, \\PY{n}{items})\n",
       "\\end{Verbatim}\n"
      ],
      "text/plain": [
       "class PlaceTaxonomyExample:\n",
       "    items, icons = zip(\n",
       "        *[\n",
       "            #                --------------------------------------------------------------------\n",
       "            #                | item name | categories     | food types | chains  | icon         |\n",
       "            #                --------------------------------------------------------------------\n",
       "            (PlaceTaxonomyItem(\"gas\", [\"700-7600-0000\", \"700-7600-0116\", \"700-7600-0444\"], None, None), \"fa-gas-pump\"),\n",
       "            (PlaceTaxonomyItem(\"eat\", [\"100\"], None, None), \"fa-utensils\"),\n",
       "            (PlaceTaxonomyItem(\"sleep\", [\"500-5000\"], None, None), \"fa-bed\"),\n",
       "            (PlaceTaxonomyItem(\"park\", [\"400-4300\", \"800-8500\"], None, None), \"fa-parking\"),\n",
       "            (PlaceTaxonomyItem(\"ATM\", [\"700-7010-0108\"], None, None), \"fa-euro-sign\"),\n",
       "            (PlaceTaxonomyItem(\"pizza\", None, [\"800-057\"], None), \"fa-pizza-slice\"),\n",
       "            (PlaceTaxonomyItem(\"fastfood\", None, None, [\"1566\", \"1498\"]), \"fa-hamburger\"),\n",
       "        ]\n",
       "    )\n",
       "    taxonomy = PlaceTaxonomy(\"example\", items)"
      ]
     },
     "execution_count": 4,
     "metadata": {},
     "output_type": "execute_result"
    }
   ],
   "source": [
    "from here_search.demo.entity.place import PlaceTaxonomyExample\n",
    "from inspect import getsource\n",
    "from IPython.display import Code\n",
    "\n",
    "Code(getsource(PlaceTaxonomyExample))"
   ]
  },
  {
   "cell_type": "code",
   "execution_count": 5,
   "id": "58c87605-eb8f-49eb-b9b8-b8e839610290",
   "metadata": {},
   "outputs": [
    {
     "data": {
      "text/plain": [
       "'https://browse.search.hereapi.com/v1/browse?at=52%2C13&foodTypes=800-057&limit=4&apiKey=...'"
      ]
     },
     "metadata": {},
     "output_type": "display_data"
    },
    {
     "data": {
      "text/plain": [
       "['Super Pizza', 'Il-Mulino-Due', 'Wasserpfeifchen', 'First Grill']"
      ]
     },
     "execution_count": 5,
     "metadata": {},
     "output_type": "execute_result"
    }
   ],
   "source": [
    "resp = await api.browse(latitude=52, longitude=13, limit=4, **PlaceTaxonomyExample.taxonomy.pizza.mapping, session=session)\n",
    "display(resp.req.full)\n",
    "resp.titles"
   ]
  },
  {
   "cell_type": "markdown",
   "id": "9fdd149c-2865-415d-8e9b-850cd5cc6a86",
   "metadata": {},
   "source": [
    "## Request & Response objects\n",
    "\n",
    "The `api.get()` method is called by `api.browse()` and the other endpoint methods. It takes a `Request` object and returns a `Response` object."
   ]
  },
  {
   "cell_type": "code",
   "execution_count": 6,
   "id": "b8a9bc0d-6725-4edb-9de3-9ada83312246",
   "metadata": {},
   "outputs": [
    {
     "data": {
      "text/plain": [
       "Response(req=Request(endpoint=<Endpoint.REVGEOCODE: 6>, url='https://revgeocode.search.hereapi.com/v1/revgeocode', params={'at': '52,13', 'limit': 1, 'apiKey': '...'}, x_headers=None), data={'items': [{'title': 'Niedergörsdorfer Allee, 14913 Niedergörsdorf, Deutschland', 'id': 'here:af:streetsection:.GSuwaNujk32oWouTtr19D', 'resultType': 'street', 'address': {'label': 'Niedergörsdorfer Allee, 14913 Niedergörsdorf, Deutschland', 'countryCode': 'DEU', 'countryName': 'Deutschland', 'stateCode': 'BB', 'state': 'Brandenburg', 'countyCode': 'TF', 'county': 'Teltow-Fläming', 'city': 'Niedergörsdorf', 'street': 'Niedergörsdorfer Allee', 'postalCode': '14913'}, 'position': {'lat': 52.00028, 'lng': 13.00166}, 'distance': 118, 'mapView': {'west': 13.00058, 'south': 51.98972, 'east': 13.00786, 'north': 52.00263}}]}, x_headers={'X-Request-Id': 'REQ-67940aeb-1198-4114-b574-32db7da10df1', 'X-Correlation-ID': '0e5596dd-c381-4f46-9e8c-d5c3d2578106'})"
      ]
     },
     "execution_count": 6,
     "metadata": {},
     "output_type": "execute_result"
    }
   ],
   "source": [
    "from here_search.demo.entity.request import Endpoint, Request, Response\n",
    "from here_search.demo.api import base_url\n",
    "\n",
    "req = Request(Endpoint.REVGEOCODE, base_url[Endpoint.REVGEOCODE], {\"at\": \"52,13\", \"limit\": 1})\n",
    "await api.get(req, session)"
   ]
  },
  {
   "cell_type": "code",
   "execution_count": null,
   "id": "151c9bcf-17f1-4553-bceb-90b089332a2a",
   "metadata": {},
   "outputs": [],
   "source": []
  }
 ],
 "metadata": {
  "celltoolbar": "Slideshow",
  "kernelspec": {
   "display_name": "search demo",
   "language": "python",
   "name": "search_demo"
  },
  "language_info": {
   "codemirror_mode": {
    "name": "ipython",
    "version": 3
   },
   "file_extension": ".py",
   "mimetype": "text/x-python",
   "name": "python",
   "nbconvert_exporter": "python",
   "pygments_lexer": "ipython3",
   "version": "3.11.3"
  }
 },
 "nbformat": 4,
 "nbformat_minor": 5
}
