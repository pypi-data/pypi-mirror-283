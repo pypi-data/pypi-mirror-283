{
  "metadata": {
    "celltoolbar": "Slideshow",
    "toc-autonumbering": false,
    "toc-showcode": false,
    "toc-showmarkdowntxt": false,
    "kernelspec": {
      "name": "python",
      "display_name": "Python (Pyodide)",
      "language": "python"
    },
    "language_info": {
      "codemirror_mode": {
        "name": "python",
        "version": 3
      },
      "file_extension": ".py",
      "mimetype": "text/x-python",
      "name": "python",
      "nbconvert_exporter": "python",
      "pygments_lexer": "ipython3",
      "version": "3.8"
    }
  },
  "nbformat_minor": 5,
  "nbformat": 4,
  "cells": [
    {
      "cell_type": "code",
      "source": "try:\n    import piplite\n    await piplite.install([\"ipywidgets==8.1.0\", \"ipyleaflet==0.17.3\", \"emfs:here_search_demo-0.9.1-py3-none-any.whl\"], keep_going=True)\n    api_key = \"<YOUR HERE API KEY>\"\nexcept ImportError:\n    api_key = None",
      "metadata": {
        "tags": [],
        "trusted": true
      },
      "execution_count": 1,
      "outputs": [],
      "id": "717d9c13-684f-4ef9-8045-09624217caeb"
    },
    {
      "cell_type": "markdown",
      "source": "# OneBoxMap\n\n`OneBoxMap` is a demo application showing how [HERE Geocoding and Search](https://developer.here.com/documentation/geocoding-search-api/dev_guide/topics/endpoint-autosuggest-brief.html) following endpoints are meant to be used: `/autosuggest`, `/discover`, `/browse`, `/lookup`.",
      "metadata": {
        "slideshow": {
          "slide_type": "slide"
        },
        "tags": []
      },
      "id": "712c9ba7-62a7-4795-9a5e-7cdfb320bb1c"
    },
    {
      "cell_type": "code",
      "source": "from here_search.demo.widgets.app import OneBoxMap\napp = OneBoxMap(api_key=api_key)\napp.run()",
      "metadata": {
        "slideshow": {
          "slide_type": "-"
        },
        "tags": [],
        "trusted": true
      },
      "execution_count": 2,
      "outputs": [
        {
          "output_type": "display_data",
          "data": {
            "text/plain": "HTML(value='<style>.result-button div, .result-button button { font-size: 10px; }</style>')",
            "application/vnd.jupyter.widget-view+json": {
              "version_major": 2,
              "version_minor": 0,
              "model_id": "22bd278b42354b4aa1bcec94c4562995"
            }
          },
          "metadata": {}
        },
        {
          "execution_count": 2,
          "output_type": "execute_result",
          "data": {
            "text/plain": "OneBoxMap(children=(HBox(children=(ResponseMap(center=[52.51604, 13.37691], controls=(AttributionControl(optio…",
            "application/vnd.jupyter.widget-view+json": {
              "version_major": 2,
              "version_minor": 0,
              "model_id": "3f7dcd63cc594d079f01bba55c697c45"
            }
          },
          "metadata": {}
        }
      ],
      "id": "54d57978-5cc6-40f1-aeda-04f49656b719"
    },
    {
      "cell_type": "code",
      "source": "if False: # change to True to deleted the app resources\n    app.__del__()",
      "metadata": {
        "tags": [],
        "trusted": true
      },
      "execution_count": 3,
      "outputs": [],
      "id": "691e81e5-064c-44ee-b3df-8e5f18f8f31f"
    },
    {
      "cell_type": "markdown",
      "source": "Features:\n\n- The app  \n    - proposes a single text form to formulate queries\n    - displays three buttons with predicted last token text completions\n    - displays all API calls in a separate window\n    - displays search results on a map and a list\n    - supports location-aware language preferences\n<br/>\n- `/autosuggest` endpoint is called for each key-stroke.\n    - Follow-up query suggestions are displayed in the list only\n    - Location suggestions are displayed in the list and on the map\n    - Query term suggestions are displayed in three buttons\n    - Selected locations lead to a call to `/lookup` using the location record `id`.\n    - Selected query suggestions lead to call to a http GET using the response `href` value\n<br/>\n- `/discover` endpoint is called when a query submission is validated.\n    - Validation happens when the [return] key or the <img src=\"https://upload.wikimedia.org/wikipedia/commons/2/2b/Font_Awesome_5_solid_search.svg\" style=\"width:12px\"/> button are hit\n    - Location results are displayed in the list and on the map\n    - Selected results lead to a call to `/lookup` using the location record `id`.\n- `/browse` endpoint is called when a place taxonomy button is selected.\n    - Location results are displayed in the list and on the map\n    - Selected results lead to a call to `/lookup` using the location record `id`.\n<br/>\n- `/autosuggest`, `/discover` and `/browse` requests are sent using the map center as search center\n- Search requests are cached during the lifetime of the application\n\n\n<!-- https://commons.wikimedia.org/wiki/File:Font_Awesome_5_solid_search.svg -->",
      "metadata": {},
      "id": "9924f7b8-e3e2-44ac-9ce2-dfca00211104"
    },
    {
      "cell_type": "code",
      "source": "",
      "metadata": {},
      "execution_count": null,
      "outputs": [],
      "id": "f36fb223-235c-4aaa-8fc1-066423a0fc72"
    }
  ]
}