{
 "cells": [
  {
   "cell_type": "code",
   "execution_count": 1,
   "id": "e5c95683-6b47-40aa-8dba-1c815e1549c3",
   "metadata": {},
   "outputs": [],
   "source": [
    "try:\n",
    "    import piplite\n",
    "    await piplite.install([\"ipywidgets==8.1.0\", \"ipyleaflet==0.17.3\", \"emfs:here_search_demo-0.9.1-py3-none-any.whl\"], keep_going=True)\n",
    "    api_key = \"<YOUR HERE API KEY>\"\n",
    "except ImportError:\n",
    "    api_key = None"
   ]
  },
  {
   "cell_type": "markdown",
   "id": "a312886c-007e-40e8-90a7-a215e1708ff5",
   "metadata": {
    "pycharm": {
     "name": "#%% md\n"
    },
    "slideshow": {
     "slide_type": "slide"
    },
    "tags": []
   },
   "source": [
    "## API client\n",
    "\n",
    "`api.API` is a thin wrapper around the [HERE search & geocoding API](https://developer.here.com/documentation/geocoding-search-api/api-reference-swagger.html). \n",
    "API objects host the `api_key` variable (prompted if not provided as argument or `API_KEY` environment variable)."
   ]
  },
  {
   "cell_type": "code",
   "execution_count": 2,
   "id": "a59dacb1-da0a-40ba-a8d0-736738c62333",
   "metadata": {
    "pycharm": {
     "name": "#%%\n"
    },
    "slideshow": {
     "slide_type": "-"
    },
    "tags": []
   },
   "outputs": [],
   "source": [
    "from here_search.demo.api import API, HTTPSession\n",
    "\n",
    "api = API(api_key=api_key)\n",
    "session = HTTPSession()"
   ]
  },
  {
   "cell_type": "markdown",
   "id": "a1274884-3a2e-4cfa-aa19-85e50033b8e5",
   "metadata": {},
   "source": [
    "The API class uses async methods to take advantage of Jupyter event loop and [async REPL](https://blog.jupyter.org/ipython-7-0-async-repl-a35ce050f7f7). For example `/discover` requests are sent with `api.discover()` like:"
   ]
  },
  {
   "cell_type": "code",
   "execution_count": 3,
   "id": "da673fdb-baf9-41e0-9f32-b8e18436a579",
   "metadata": {},
   "outputs": [
    {
     "data": {
      "text/plain": [
       "'https://discover.search.hereapi.com/v1/discover?q=berlin&at=52%2C13&apiKey=...'"
      ]
     },
     "execution_count": 3,
     "metadata": {},
     "output_type": "execute_result"
    }
   ],
   "source": [
    "resp = await api.discover(q=\"berlin\", latitude=52, longitude=13, session=session)\n",
    "resp.req.full"
   ]
  },
  {
   "cell_type": "code",
   "execution_count": 4,
   "id": "7ece78d9-5061-4493-a0ad-904f3c7d8aa6",
   "metadata": {},
   "outputs": [
    {
     "data": {
      "text/plain": [
       "{'items': [{'title': 'Berlin, Deutschland',\n",
       "   'id': 'here:cm:namedplace:20187403',\n",
       "   'language': 'de',\n",
       "   'resultType': 'locality',\n",
       "   'localityType': 'city',\n",
       "   'address': {'label': 'Berlin, Deutschland',\n",
       "    'countryCode': 'DEU',\n",
       "    'countryName': 'Deutschland',\n",
       "    'stateCode': 'BE',\n",
       "    'state': 'Berlin',\n",
       "    'countyCode': 'B',\n",
       "    'county': 'Berlin',\n",
       "    'city': 'Berlin',\n",
       "    'postalCode': '10117'},\n",
       "   'position': {'lat': 52.51604, 'lng': 13.37691},\n",
       "   'distance': 62854,\n",
       "   'mapView': {'west': 13.08835,\n",
       "    'south': 52.33812,\n",
       "    'east': 13.761,\n",
       "    'north': 52.6755}}]}"
      ]
     },
     "execution_count": 4,
     "metadata": {},
     "output_type": "execute_result"
    }
   ],
   "source": [
    "resp.data"
   ]
  },
  {
   "cell_type": "code",
   "execution_count": 7,
   "id": "f7d46007-3a25-4f10-90fe-e3fd0f6c4cc6",
   "metadata": {},
   "outputs": [
    {
     "data": {
      "text/plain": [
       "'https://autosuggest.search.hereapi.com/v1/autosuggest?q=restaura&at=52%2C13&limit=2&termsLimit=3&apiKey=...'"
      ]
     },
     "execution_count": 7,
     "metadata": {},
     "output_type": "execute_result"
    }
   ],
   "source": [
    "resp = await api.autosuggest(q=\"restaura\", latitude=52, longitude=13, limit=2, termsLimit=3, session=session)\n",
    "resp.req.full"
   ]
  },
  {
   "cell_type": "code",
   "execution_count": 8,
   "id": "7ebe5c74-9469-4593-99db-f8ded06d25ac",
   "metadata": {},
   "outputs": [
    {
     "data": {
      "text/plain": [
       "{'items': [{'title': 'Restaurant',\n",
       "   'id': 'here:cm:ontology:restaurant',\n",
       "   'resultType': 'categoryQuery',\n",
       "   'href': 'https://autosuggest.search.hereapi.com/v1/discover?limit=2&at=52%2C13&q=Restaurant&_ontology=restaurant',\n",
       "   'highlights': {'title': [{'start': 0, 'end': 8}]}},\n",
       "  {'title': 'Das Kleine Café',\n",
       "   'id': 'here:pds:place:276u31pz-3708ef13d164429e8861b8480c28a8a2',\n",
       "   'ontologyId': 'here:cm:ontology:restaurant',\n",
       "   'resultType': 'place',\n",
       "   'address': {'label': 'Das Kleine Café, Treuenbrietzener Straße 18, 14913 Niedergörsdorf, Deutschland'},\n",
       "   'position': {'lat': 52.01537, 'lng': 12.99675},\n",
       "   'access': [{'lat': 52.0155, 'lng': 12.99691}],\n",
       "   'distance': 1723,\n",
       "   'categories': [{'id': '100-1000-0000',\n",
       "     'name': 'Restaurant',\n",
       "     'primary': True},\n",
       "    {'id': '100-1100-0000', 'name': 'Kaffee/Tee'},\n",
       "    {'id': '100-1100-0010', 'name': 'Kaffeehaus'}],\n",
       "   'highlights': {'title': [], 'address': {'label': []}}}],\n",
       " 'queryTerms': [{'term': 'Restaurant',\n",
       "   'replaces': 'restaura',\n",
       "   'start': 0,\n",
       "   'end': 8}]}"
      ]
     },
     "execution_count": 8,
     "metadata": {},
     "output_type": "execute_result"
    }
   ],
   "source": [
    "resp.data"
   ]
  },
  {
   "cell_type": "code",
   "execution_count": 9,
   "id": "9fa03844-4584-4b2a-ae93-9742450ae76e",
   "metadata": {},
   "outputs": [
    {
     "data": {
      "text/plain": [
       "['Restaurant']"
      ]
     },
     "execution_count": 9,
     "metadata": {},
     "output_type": "execute_result"
    }
   ],
   "source": [
    "resp.terms"
   ]
  },
  {
   "cell_type": "code",
   "execution_count": 10,
   "id": "a5772d87-0cba-4c84-8aa4-acf7e726a40a",
   "metadata": {},
   "outputs": [
    {
     "data": {
      "text/plain": [
       "{'type': 'FeatureCollection',\n",
       " 'features': [{'type': 'Feature',\n",
       "   'geometry': {'type': 'Point', 'coordinates': [12.99675, 52.01537]},\n",
       "   'properties': {'title': 'Das Kleine Café', 'categories': 'Restaurant'}}]}"
      ]
     },
     "execution_count": 10,
     "metadata": {},
     "output_type": "execute_result"
    }
   ],
   "source": [
    "resp.geojson()"
   ]
  },
  {
   "cell_type": "markdown",
   "id": "70cae96a-ec74-4592-87b8-06a2ae0c1002",
   "metadata": {},
   "source": [
    "## Suggestions for a growing query\n",
    "\n",
    "Autosuggest is made to help end-user to quickly formulate a query.\n",
    "\n",
    "\n",
    "It is recommended to use Autosuggest response items `resulType` field to decide what to do in case of user selection. The selection of a `chainQuery` or `categoryQuery` result should lead to a GET of the `href` field value. Other selections should lead to a call to `/lookup` using the `id` field value. \n",
    "Note that the `resulType` field can be used to render results differently. For example, a <img src=\"https://upload.wikimedia.org/wikipedia/commons/2/2b/Font_Awesome_5_solid_search.svg\" style=\"width:12px\"/> can be used to signal a `chainQuery` or `categoryQuery`.\n",
    "\n",
    "The following snippet sends an Autosuggest request for each additional character of the query \"restaurant hamburg\" a hypothetic user intends to type to get restaurants near the German city of Hamburg. Only each response **first result** is displayed: "
   ]
  },
  {
   "cell_type": "code",
   "execution_count": 11,
   "id": "5db1262c-1815-44a2-a9be-c67377ca58f8",
   "metadata": {},
   "outputs": [
    {
     "name": "stdout",
     "output_type": "stream",
     "text": [
      "#  query                     resultType         id                                                                title         \n",
      "\n",
      "1  'r'                       administrativeArea here:cm:namedplace:20181414                                       Regensburg (Landkreis) (R), Bavaria, Germany\n",
      "\n",
      "2  're'                      locality           here:cm:namedplace:20180814                                       Regensburg, Bavaria, Germany\n",
      "\n",
      "3  'res'                     place              here:pds:place:276u31cx-e4c2ca2261114bf6a060240e539aeb76          Königstein Fortress (Restauration Festung)\n",
      "\n",
      "4  'rest'                    categoryQuery      here:cm:ontology:restaurant                                       Restaurant    \n",
      "\n",
      "5  'resta'                   categoryQuery      here:cm:ontology:restaurant                                       Restaurant    \n",
      "\n",
      "6  'restau'                  categoryQuery      here:cm:ontology:restaurant                                       Restaurant    \n",
      "\n",
      "7  'restaur'                 categoryQuery      here:cm:ontology:restaurant                                       Restaurant    \n",
      "\n",
      "8  'restaura'                categoryQuery      here:cm:ontology:restaurant                                       Restaurant    \n",
      "\n",
      "9  'restauran'               categoryQuery      here:cm:ontology:restaurant                                       Restaurant    \n",
      "\n",
      "10 'restaurant'              categoryQuery      here:cm:ontology:restaurant                                       Restaurant    \n",
      "\n",
      "11 'restaurant '             categoryQuery      here:cm:ontology:restaurant                                       Restaurant    \n",
      "\n",
      "12 'restaurant h'            place              here:pds:place:276u33db-cc50ca74bc7e4e19a646a85abd9ca9ee          Adlon Kempinski Berlin (Hotel Adlon Kempinski)\n",
      "\n",
      "13 'restaurant ha'           place              here:pds:place:276u30vw-9aa75f80605e4281ae9bb7b985e5c633          Gasthof Hammermuhle (Restaurant Hammermühle)\n",
      "\n",
      "14 'restaurant ham'          place              here:pds:place:276u30vw-9aa75f80605e4281ae9bb7b985e5c633          Gasthof Hammermuhle (Restaurant Hammermühle)\n",
      "\n",
      "15 'restaurant hamb'         categoryQuery      here:cm:ontology:restaurant-here:cm:namedplace:20151516           Restaurant near Hamburg, Germany\n",
      "\n",
      "16 'restaurant hambu'        categoryQuery      here:cm:ontology:restaurant-here:cm:namedplace:20151516           Restaurant near Hamburg, Germany\n",
      "\n",
      "17 'restaurant hambur'       categoryQuery      here:cm:ontology:restaurant-here:cm:namedplace:20151516           Restaurant near Hamburg, Germany\n",
      "\n",
      "18 'restaurant hamburg'      categoryQuery      here:cm:ontology:restaurant-here:cm:namedplace:20151516           Restaurant near Hamburg, Germany\n"
     ]
    }
   ],
   "source": [
    "q = \"restaurant hamburg\"\n",
    "\n",
    "template = \"{:<2} {:<25} {:<18} {:<65} {:<14}\"\n",
    "print(template.format(\"#\", \"query\", \"resultType\", \"id\", \"title\"))\n",
    "for i in range(len(q)):\n",
    "    resp = await api.autosuggest(q=q[:i+1], latitude=52, longitude=13,  lang=\"en\", limit=1, session=session)\n",
    "    item = resp.data[\"items\"][0]\n",
    "    print(template.format(i+1, f\"'{q[:i+1]}'\", item['resultType'], item['id'][:60], item['title']))"
   ]
  },
  {
   "cell_type": "markdown",
   "id": "3829230e-43c1-4e4e-8441-1bac40ec8381",
   "metadata": {},
   "source": [
    "If the end-user was actually typing the query \"restaurant\", the suggestion of `id` value `here:cm:taxonomy:restaurant` returned for the 4-letter query \"rest\" could be selected to trigger the related `href` query. But the end-user needs to continue typing untill \"restaurants ham\" to get the suggestion titled \"Restaurants near Hamburg, Germany\".\n",
    "\n",
    "## Terms suggestions\n",
    "\n",
    "To further help end-user to formulate such a long query, Autosuggest also returns predictive text for the query last token while it is being typed. Those suggested terms are in the response `queryTerms` when the request contains a positive `termsLimit` parameter. In the snippet below, 3 last token suggestiosn are returned per response:"
   ]
  },
  {
   "cell_type": "code",
   "execution_count": 12,
   "id": "b8a9bc0d-6725-4edb-9de3-9ada83312246",
   "metadata": {},
   "outputs": [
    {
     "name": "stdout",
     "output_type": "stream",
     "text": [
      "#  query                     terms                                  title         \n",
      "\n",
      "1  'r'                                                              Regensburg (Landkreis) (R), Bavaria, Germany\n",
      "\n",
      "2  're'                      Regensburg                             Regensburg, Bavaria, Germany\n",
      "\n",
      "3  'res'                     Restauration,Restaurant,Resort         Königstein Fortress (Restauration Festung)\n",
      "\n",
      "4  'rest'                    Restaurant                             Restaurant    \n",
      "\n",
      "5  'resta'                   Restaurant                             Restaurant    \n",
      "\n",
      "6  'restau'                  Restaurant                             Restaurant    \n",
      "\n",
      "7  'restaur'                 Restaurant                             Restaurant    \n",
      "\n",
      "8  'restaura'                Restaurant                             Restaurant    \n",
      "\n",
      "9  'restauran'               Restaurant                             Restaurant    \n",
      "\n",
      "10 'restaurant'                                                     Restaurant    \n",
      "\n",
      "11 'restaurant '                                                    Restaurant    \n",
      "\n",
      "12 'restaurant h'            Hotel ,Hanover,Hopfingerbräu           Adlon Kempinski Berlin (Hotel Adlon Kempinski)\n",
      "\n",
      "13 'restaurant ha'           Hammermühle,Havelgarten,Hafthorn       Gasthof Hammermuhle (Restaurant Hammermühle)\n",
      "\n",
      "14 'restaurant ham'          Hammermühle,Hamburg,Hammers            Gasthof Hammermuhle (Restaurant Hammermühle)\n",
      "\n",
      "15 'restaurant hamb'         Hamburg,Hamburger ,Hambacher           Restaurant near Hamburg, Germany\n",
      "\n",
      "16 'restaurant hambu'        Hamburg,Hamburger ,Hamburger           Restaurant near Hamburg, Germany\n",
      "\n",
      "17 'restaurant hambur'       Hamburg,Hamburger ,Hamburger           Restaurant near Hamburg, Germany\n",
      "\n",
      "18 'restaurant hamburg'                                             Restaurant near Hamburg, Germany\n"
     ]
    }
   ],
   "source": [
    "template = \"{:<2} {:<25} {:<38} {:<14}\"\n",
    "print(template.format(\"#\", \"query\", \"terms\", \"title\"))\n",
    "for i in range(len(q)):\n",
    "    resp = await api.autosuggest(q=q[:i+1], latitude=52, longitude=13, lang=\"en\", limit=1, termsLimit=3, session=session)\n",
    "    item = resp.data[\"items\"][0]\n",
    "    terms = \",\".join(t[\"term\"] for t in resp.data[\"queryTerms\"])\n",
    "    print(template.format(i+1, f\"'{q[:i+1]}'\", terms, item['title']))"
   ]
  },
  {
   "cell_type": "markdown",
   "id": "3af70809-462f-432d-a752-6f0f901b8fc2",
   "metadata": {},
   "source": [
    "When presented to the end-user to replace the last token in the query, `queryTerms` can significantly speed-up the query submission. In the previous interaction, the use of the token \"Restaurant\" returned for the \"res\" query, would have led to the series of 8 queries instead of 14: \"r\", \"re\", \"res\", \"restaurant\", \"restaurant \", \"restaurant h\", \"restaurant ha\", \"restaurant hamburg\"."
   ]
  },
  {
   "cell_type": "code",
   "execution_count": 13,
   "id": "aa5203d6-686a-4e16-9126-78ddc6f32cd6",
   "metadata": {},
   "outputs": [
    {
     "name": "stdout",
     "output_type": "stream",
     "text": [
      "#  query                     terms                                  title         \n",
      "\n",
      "1  'r'                                                              Regensburg (Landkreis) (R), Bavaria, Germany\n",
      "\n",
      "2  're'                      Regensburg                             Regensburg, Bavaria, Germany\n",
      "\n",
      "3  'res'                     Restauration,Restaurant,Resort         Königstein Fortress (Restauration Festung)\n",
      "\n",
      "4  'restaurant'                                                     Restaurant    \n",
      "\n",
      "5  'restaurant '                                                    Restaurant    \n",
      "\n",
      "6  'restaurant h'            Hotel ,Hanover,Hopfingerbräu           Adlon Kempinski Berlin (Hotel Adlon Kempinski)\n",
      "\n",
      "7  'restaurant ha'           Hammermühle,Havelgarten,Hafthorn       Gasthof Hammermuhle (Restaurant Hammermühle)\n",
      "\n",
      "8  'restaurant hamburg'                                             Restaurant near Hamburg, Germany\n"
     ]
    }
   ],
   "source": [
    "template = \"{:<2} {:<25} {:<38} {:<14}\"\n",
    "print(template.format(\"#\", \"query\", \"terms\", \"title\"))\n",
    "qs = [\"r\", \"re\", \"res\", \"restaurant\", \"restaurant \", \"restaurant h\", \"restaurant ha\", \"restaurant hamburg\"]\n",
    "for i, q in enumerate(qs):\n",
    "    resp = await api.autosuggest(q=q, latitude=52, longitude=13, lang=\"en\", limit=1, termsLimit=3, session=session)\n",
    "    item = resp.data[\"items\"][0]\n",
    "    terms = \",\".join(t[\"term\"] for t in resp.data[\"queryTerms\"])\n",
    "    print(template.format(i+1, f\"'{q}'\", terms, item['title']))"
   ]
  },
  {
   "cell_type": "code",
   "execution_count": null,
   "id": "ddcc7020-cea0-4588-a5bb-814a2795dc52",
   "metadata": {},
   "outputs": [],
   "source": []
  }
 ],
 "metadata": {
  "celltoolbar": "Slideshow",
  "kernelspec": {
   "display_name": "search demo",
   "language": "python",
   "name": "search_demo"
  },
  "language_info": {
   "codemirror_mode": {
    "name": "ipython",
    "version": 3
   },
   "file_extension": ".py",
   "mimetype": "text/x-python",
   "name": "python",
   "nbconvert_exporter": "python",
   "pygments_lexer": "ipython3",
   "version": "3.11.3"
  }
 },
 "nbformat": 4,
 "nbformat_minor": 5
}
