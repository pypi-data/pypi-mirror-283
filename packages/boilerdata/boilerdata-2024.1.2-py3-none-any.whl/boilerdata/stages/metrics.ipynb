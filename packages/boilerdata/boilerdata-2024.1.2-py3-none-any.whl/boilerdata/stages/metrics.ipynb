{
 "cells": [
  {
   "attachments": {},
   "cell_type": "markdown",
   "metadata": {},
   "source": [
    "# Metrics\n"
   ]
  },
  {
   "attachments": {},
   "cell_type": "markdown",
   "metadata": {},
   "source": [
    "## Setup\n"
   ]
  },
  {
   "cell_type": "code",
   "execution_count": null,
   "metadata": {},
   "outputs": [],
   "source": [
    "import json\n",
    "import warnings\n",
    "from pathlib import Path\n",
    "\n",
    "import numpy as np\n",
    "import pandas as pd\n",
    "import seaborn as sns\n",
    "from boilercore.notebooks import set_format\n",
    "from IPython.display import display\n",
    "from matplotlib import pyplot as plt\n",
    "\n",
    "from boilerdata.axes_enum import AxesEnum as A  # noqa: N814\n",
    "from boilerdata.models.params import PARAMS\n",
    "from boilerdata.stages import (\n",
    "    MODEL_WITH_UNCERTAINTY,\n",
    "    add_units,\n",
    "    per_trial,\n",
    "    plot_new_fits,\n",
    "    tex_wrap,\n",
    ")"
   ]
  },
  {
   "attachments": {},
   "cell_type": "markdown",
   "metadata": {},
   "source": [
    "### Data\n"
   ]
  },
  {
   "cell_type": "code",
   "execution_count": null,
   "metadata": {},
   "outputs": [],
   "source": [
    "meta = [col.name for col in PARAMS.axes.meta]\n",
    "errors = PARAMS.fit.free_errors\n",
    "fits = PARAMS.fit.free_params\n",
    "df_in = pd.read_csv(\n",
    "    PARAMS.paths.file_results,\n",
    "    index_col=(index := [A.trial, A.run]),\n",
    "    parse_dates=index,\n",
    "    dtype={col.name: col.dtype for col in PARAMS.axes.cols},\n",
    ")\n",
    "limits_in = {\n",
    "    A.T_5: (50, 300),\n",
    "    A.T_s_err: (0, 10),\n",
    "    A.q_s_err: (0, 5),\n",
    "    A.k_err: (0, 10),\n",
    "    A.h_a_err: (0, 40),\n",
    "    A.h_w_err: (0, 40),\n",
    "}"
   ]
  },
  {
   "attachments": {},
   "cell_type": "markdown",
   "metadata": {},
   "source": [
    "### Notebook\n"
   ]
  },
  {
   "cell_type": "code",
   "execution_count": null,
   "metadata": {},
   "outputs": [],
   "source": [
    "set_format()\n",
    "_ = display()\n",
    "\"\"\"Suppress implicit outputs. Unlike `;`, doesn't get formatted out by `black`.\"\"\"\n",
    "_"
   ]
  },
  {
   "attachments": {},
   "cell_type": "markdown",
   "metadata": {},
   "source": [
    "### Plotting\n"
   ]
  },
  {
   "cell_type": "code",
   "execution_count": null,
   "metadata": {},
   "outputs": [],
   "source": [
    "\"\"\"This warning fires unnecessarily when Seaborn or Pandas plots are placed in existing\n",
    "axes. This warning can't be caught in context of `warnings.catch_warnings()` because\n",
    "it fires *after* a cell finishes executing. So we have to disable this globally.\"\"\"\n",
    "\n",
    "warnings.filterwarnings(\n",
    "    category=UserWarning,\n",
    "    action=\"ignore\",\n",
    "    message=\"This figure includes Axes that are not compatible with\",\n",
    ")\n",
    "sns.set_theme(\n",
    "    context=\"notebook\", style=\"whitegrid\", palette=\"bright\", font=\"sans-serif\"\n",
    ")\n",
    "\n",
    "plt.style.use(style=PARAMS.paths.mpl_base)"
   ]
  },
  {
   "attachments": {},
   "cell_type": "markdown",
   "metadata": {},
   "source": [
    "## Metrics\n"
   ]
  },
  {
   "cell_type": "code",
   "execution_count": null,
   "metadata": {},
   "outputs": [],
   "source": [
    "metrics = (\n",
    "    df_in[errors].agg([\"median\", \"max\"]).rename(axis=\"index\", mapper={\"median\": \"med\"})\n",
    ").to_dict()\n",
    "metrics[\"fit_failure_rate\"] = (\n",
    "    df_in[errors[0]].apply(np.isinf).sum() + df_in[errors[0]].isna().sum()\n",
    ") / len(df_in)\n",
    "\n",
    "Path(PARAMS.paths.file_pipeline_metrics).write_text(\n",
    "    json.dumps(metrics), encoding=\"utf-8\"\n",
    ")\n",
    "\n",
    "_"
   ]
  },
  {
   "attachments": {},
   "cell_type": "markdown",
   "metadata": {},
   "source": [
    "## Plots\n"
   ]
  },
  {
   "attachments": {},
   "cell_type": "markdown",
   "metadata": {},
   "source": [
    "### Error and temperature\n"
   ]
  },
  {
   "cell_type": "code",
   "execution_count": null,
   "metadata": {},
   "outputs": [],
   "source": [
    "if PARAMS.do_plot:\n",
    "    cols = [A.joint, A.T_5, *errors]\n",
    "    df, col_to_unitcol = add_units(df_in, PARAMS)\n",
    "    col_to_unitcol = {k: v for k, v in col_to_unitcol.items() if k in cols}\n",
    "    df = df[[col_to_unitcol[col] for col in cols]]\n",
    "    df, unitcol_to_texunitcol = tex_wrap(df)\n",
    "    c = dict(zip(col_to_unitcol, unitcol_to_texunitcol.values(), strict=True))\n",
    "\n",
    "    joints = dict(paste=\".\", epoxy=\"^\", solder=\"s\", none=\"D\")\n",
    "    limits = {c[k]: v for k, v in limits_in.items() if k in c}\n",
    "\n",
    "    for error, path in zip(\n",
    "        errors,\n",
    "        [\n",
    "            PARAMS.paths.plot_error_T_s,\n",
    "            PARAMS.paths.plot_error_q_s,\n",
    "            PARAMS.paths.plot_error_h_a,\n",
    "        ],\n",
    "        strict=True,\n",
    "    ):\n",
    "        jg = sns.JointGrid()\n",
    "        jg.ax_marg_x.remove()\n",
    "\n",
    "        sns.scatterplot(\n",
    "            ax=jg.ax_joint,\n",
    "            data=df,\n",
    "            y=c[error],\n",
    "            x=c[A.T_5],\n",
    "            hue=c[A.joint],\n",
    "            style=c[A.joint],\n",
    "            markers=joints,  # type: ignore  # seaborn\n",
    "            edgecolor=\"gray\",\n",
    "            hue_order=joints.keys(),\n",
    "            alpha=0.9,\n",
    "        )\n",
    "        sns.histplot(\n",
    "            ax=jg.ax_marg_y,\n",
    "            data=df,\n",
    "            y=c[error],\n",
    "            stat=\"count\",\n",
    "            bins=16,  # type: ignore  # seaborn\n",
    "            color=\"gray\",\n",
    "        )\n",
    "\n",
    "        xlo, xhi = zip(jg.ax_joint.get_xlim(), limits[c[A.T_5]], strict=True)\n",
    "        jg.ax_joint.set_xlim((min(xlo), max(xhi)))\n",
    "\n",
    "        ylo, yhi = zip(jg.ax_joint.get_ylim(), limits[c[error]], strict=True)\n",
    "        jg.ax_joint.set_ylim((min(ylo), max(yhi)))  # type: ignore  # seaborn\n",
    "\n",
    "        jg.figure.savefig(path, dpi=300)  # type: ignore  # pydantic: 1.1.336"
   ]
  },
  {
   "attachments": {},
   "cell_type": "markdown",
   "metadata": {},
   "source": [
    "### New model fits\n"
   ]
  },
  {
   "cell_type": "code",
   "execution_count": null,
   "metadata": {},
   "outputs": [],
   "source": [
    "if PARAMS.do_plot:\n",
    "    per_trial(df_in, plot_new_fits, PARAMS, MODEL_WITH_UNCERTAINTY)"
   ]
  }
 ],
 "metadata": {
  "kernelspec": {
   "display_name": "Python 3.10.8 ('.venv': venv)",
   "language": "python",
   "name": "python3"
  },
  "language_info": {
   "codemirror_mode": {
    "name": "ipython",
    "version": 3
   },
   "file_extension": ".py",
   "mimetype": "text/x-python",
   "name": "python",
   "nbconvert_exporter": "python",
   "pygments_lexer": "ipython3"
  },
  "vscode": {
   "interpreter": {
    "hash": "b6aa036b71bee0863c84db770605bec9f16973f1b95b8b091417c7a1242fbf62"
   }
  }
 },
 "nbformat": 4,
 "nbformat_minor": 2
}
