{
 "cells": [
  {
   "cell_type": "code",
   "execution_count": 1,
   "id": "0e4f67fc-b889-4f8b-8bdd-0c8e82884479",
   "metadata": {},
   "outputs": [
    {
     "name": "stdin",
     "output_type": "stream",
     "text": [
      "insert input folder path ./test-data/input/wdu_pdf2md/1_file\n"
     ]
    }
   ],
   "source": [
    "input_folder = input(\"insert input folder path\")"
   ]
  },
  {
   "cell_type": "code",
   "execution_count": 1,
   "id": "284d224c-0e23-44d8-b6c8-05ece400845a",
   "metadata": {},
   "outputs": [
    {
     "name": "stdin",
     "output_type": "stream",
     "text": [
      "insert output folder path output\n"
     ]
    }
   ],
   "source": [
    "output_folder = input(\"insert output folder path\")"
   ]
  },
  {
   "cell_type": "code",
   "execution_count": 4,
   "id": "a6414955-b2a7-49bb-a831-bc37ada495cc",
   "metadata": {},
   "outputs": [
    {
     "name": "stderr",
     "output_type": "stream",
     "text": [
      "15:06:34 INFO - start step wdu_pdf2md with params = ['python ', '--runtime_pipeline_id=pipeline_id', '--runtime_job_id=job_id', \"--runtime_code_location={'github': 'github', 'commit_hash': '12345', 'path': 'path'}\", \"--data_local_config={'input_folder': './test-data/input/wdu_pdf2md/1_file', 'output_folder': 'output'}\", \"--data_files_to_use=['.zip']\"]\n",
      "15:06:34 INFO - Transform configuration {'wdu_rest_host': 'main-service-multi.apps.fmaas-instructlab-01.fmaas.res.ibm.com', 'wdu_rest_port': '80'}\n",
      "15:06:34 INFO - pipeline id pipeline_id\n",
      "15:06:34 INFO - job details {'job category': 'preprocessing', 'job name': 'wdu_pdf2md', 'job type': 'pure python', 'job id': 'job_id'}\n",
      "15:06:34 INFO - code location {'github': 'github', 'commit_hash': '12345', 'path': 'path'}\n",
      "15:06:34 INFO - data factory data_ is using local data access: input_folder - ./test-data/input/wdu_pdf2md/1_file output_folder - output\n",
      "15:06:34 INFO - data factory data_ max_files -1, n_sample -1\n",
      "15:06:34 INFO - data factory data_ Not using data sets, checkpointing False, max files -1, random samples -1, files to use ['.zip'], files to checkpoint ['.parquet']\n",
      "15:06:34 INFO - orchestrator wdu_pdf2md started at 2024-07-08 15:06:34\n",
      "15:06:34 INFO - Number of files is 1, source profile {'max_file_size': 0.009875297546386719, 'min_file_size': 0.009875297546386719, 'total_file_size': 0.009875297546386719}\n",
      "15:06:34 INFO - Try to process test1/\n",
      "15:06:34 INFO - Try to process test1/test_1.pdf\n"
     ]
    },
    {
     "name": "stdout",
     "output_type": "stream",
     "text": [
      "Flow( Name: test, Description: \n",
      "  Global params={'runtime_pipeline_id': 'pipeline_id', 'runtime_job_id': 'job_id', 'runtime_code_location': \"{'github': 'github', 'commit_hash': '12345', 'path': 'path'}\", 'data_local_config': {'input_folder': './test-data/input/wdu_pdf2md/1_file', 'output_folder': 'output', 'intermediate_folder': '/home/nassarmo/fm-data/fm-data-engineering/flow/data-prep-kit/data-processing-lib/flows/intermediate'}}\n",
      "\n",
      "  Steps:\n",
      "\tConfiguration WduPdf2MdTransformPythonConfiguration, Parameters: {'data_files_to_use': ['.zip']}\n",
      "test1/ is a directory\n"
     ]
    },
    {
     "name": "stderr",
     "output_type": "stream",
     "text": [
      "15:06:37 INFO - response status: 200\n",
      "15:06:37 INFO - Completed 1 files (100.0%) in 0.044413650035858156 min\n",
      "15:06:37 INFO - done flushing in 1.2636184692382812e-05 sec\n",
      "15:06:37 INFO - Completed execution in 0.044491287072499594 min, execution result 0\n",
      "15:06:37 INFO - the 'wdu_pdf2md' step finished, it took 2.675872325897217 sec\n",
      "15:06:37 INFO -  the flow test successfully finished in 2.676302671432495 sec\n"
     ]
    }
   ],
   "source": [
    "import ast\n",
    "import json\n",
    "import os\n",
    "\n",
    "\n",
    "from data_processing_flows import Flow\n",
    "from data_processing.utils import ParamsUtils\n",
    "from doc_id_transform_ray import DocIDRayTransformConfiguration\n",
    "from noop_transform_python import NOOPPythonTransformConfiguration\n",
    "from wdu_pdf2md_transform_python import WduPdf2MdTransformPythonConfiguration\n",
    "\n",
    "code_location = {\"github\": \"github\", \"commit_hash\": \"12345\", \"path\": \"path\"}\n",
    "\n",
    "# input_folder = os.path.abspath(\"./test-data/input/wdu_pdf2md/1_file\")\n",
    "# output_folder = os.path.abspath(\"output\")\n",
    "intermediate_folder = os.path.abspath(\"intermediate\")\n",
    "local_conf = {\n",
    "    \"input_folder\": input_folder,\n",
    "    \"output_folder\": output_folder,\n",
    "    \"intermediate_folder\": intermediate_folder,\n",
    "}\n",
    "global_params = {\n",
    "    \"runtime_pipeline_id\": \"pipeline_id\",\n",
    "    \"runtime_job_id\": \"job_id\",\n",
    "    \"runtime_code_location\": ParamsUtils.convert_to_ast(code_location),\n",
    "    \"data_local_config\": local_conf,\n",
    "}\n",
    "\n",
    "flow = Flow(name=\"test\", global_params=global_params)\n",
    "flow.add_step(\n",
    "    transform_config=WduPdf2MdTransformPythonConfiguration(),\n",
    "    step_params={\"data_files_to_use\": [\".zip\"]},\n",
    ")\n",
    "\n",
    "print(flow)\n",
    "flow.execute()\n",
    "\n"
   ]
  },
  {
   "cell_type": "code",
   "execution_count": null,
   "id": "1b6e5862-2726-4709-b5bf-d91ecbf17c82",
   "metadata": {},
   "outputs": [],
   "source": []
  }
 ],
 "metadata": {
  "kernelspec": {
   "display_name": "Python 3 (ipykernel)",
   "language": "python",
   "name": "python3"
  },
  "language_info": {
   "codemirror_mode": {
    "name": "ipython",
    "version": 3
   },
   "file_extension": ".py",
   "mimetype": "text/x-python",
   "name": "python",
   "nbconvert_exporter": "python",
   "pygments_lexer": "ipython3",
   "version": "3.10.10"
  }
 },
 "nbformat": 4,
 "nbformat_minor": 5
}
