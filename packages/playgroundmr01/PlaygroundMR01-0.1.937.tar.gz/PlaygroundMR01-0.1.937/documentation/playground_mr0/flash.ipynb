{
 "cells": [
  {
   "cell_type": "code",
   "execution_count": null,
   "metadata": {
    "tags": [
     "hide-cell"
    ]
   },
   "outputs": [],
   "source": [
    "!pip install MRzeroCore &> /dev/null\n",
    "!wget https://github.com/MRsources/MRzero-Core/raw/main/documentation/playground_mr0/subject05.npz &> /dev/null"
   ]
  },
  {
   "cell_type": "code",
   "execution_count": null,
   "metadata": {},
   "outputs": [],
   "source": [
    "import MRzeroCore as mr0\n",
    "import matplotlib.pyplot as plt\n",
    "from numpy import pi\n",
    "import torch"
   ]
  },
  {
   "attachments": {},
   "cell_type": "markdown",
   "metadata": {},
   "source": [
    "(flash)=\n",
    "# Create a FLASH Sequence\n",
    "\n",
    "This Notebook demonstrates a simple Fast Low Angle SHot sequence (FLASH). It is a simple gradient echo sequence with low TR and flip angles typically below 10°.\n",
    "\n",
    "Always prefer to write a function that builds the sequence that takes all variables of interest (often flip angles, TE, TR and/or others) as arguments. This way one can easily build variations of the sequence or optimize the arguments with gradient descent when using pyTorch tensors for all variables."
   ]
  },
  {
   "cell_type": "code",
   "execution_count": null,
   "metadata": {},
   "outputs": [],
   "source": [
    "def build_seq() -> mr0.Sequence:\n",
    "    seq = mr0.Sequence()\n",
    "\n",
    "    for i in range(64):\n",
    "        rep = seq.new_rep(2 + 64 + 1)\n",
    "        rep.pulse.usage = mr0.PulseUsage.EXCIT\n",
    "        rep.pulse.angle = 7 * pi/180\n",
    "        rep.pulse.phase = 0.5 * 137.50776405 * (i**2+i+2) * pi / 180\n",
    "\n",
    "        rep.event_time[0] = 2e-3  # Pulse\n",
    "        rep.event_time[1] = 2e-3  # Rewinder\n",
    "        rep.event_time[2:-1] = 0.08e-3  # Readout\n",
    "        rep.event_time[-1] = 2e-3  # Spoiler\n",
    "\n",
    "        rep.gradm[1, 0] = -33\n",
    "        rep.gradm[2:-1, 0] = 1\n",
    "        rep.gradm[-1, 0] = 96 - 31\n",
    "\n",
    "        # Linear reordered phase encoding\n",
    "        rep.gradm[1, 1] = i - 32\n",
    "        rep.gradm[-1, 1] = -rep.gradm[1, 1]\n",
    "\n",
    "        rep.adc_usage[2:-1] = 1\n",
    "        rep.adc_phase[2:-1] = pi - rep.pulse.phase\n",
    "\n",
    "    return seq"
   ]
  },
  {
   "cell_type": "code",
   "execution_count": null,
   "metadata": {},
   "outputs": [],
   "source": [
    "# Build the default FLASH and show the kspace\n",
    "seq = build_seq()\n",
    "seq.plot_kspace_trajectory()\n",
    "\n",
    "# Until now, the sequence uses normalized grads: The simulation will adapt them\n",
    "# to the phantom size. If we want to hardcode a fixed FOV instead, we can do so:\n",
    "seq.normalized_grads = False\n",
    "for rep in seq:\n",
    "    rep.gradm[:] /= 200e-3  # 200 mm FOV"
   ]
  },
  {
   "cell_type": "code",
   "execution_count": null,
   "metadata": {},
   "outputs": [],
   "source": [
    "# Load a BrainWeb phantom for simulation\n",
    "\n",
    "# https://github.com/MRsources/MRzero-Core/raw/main/documentation/examples/subject05.npz\n",
    "\n",
    "phantom = mr0.VoxelGridPhantom.brainweb(\"subject05.npz\")\n",
    "phantom = phantom.interpolate(64, 64, 32).slices([16])\n",
    "# The default fov is loaded from the data, but we can change it:\n",
    "phantom.size = torch.tensor([0.15, 0.15, 1])\n",
    "\n",
    "phantom.plot()\n",
    "data = phantom.build()"
   ]
  },
  {
   "cell_type": "code",
   "execution_count": null,
   "metadata": {
    "tags": [
     "hide-output"
    ]
   },
   "outputs": [],
   "source": [
    "# Simulate the sequence\n",
    "\n",
    "graph = mr0.compute_graph(seq, data)\n",
    "signal = mr0.execute_graph(graph, seq, data)\n",
    "reco = mr0.reco_adjoint(signal, seq.get_kspace())"
   ]
  },
  {
   "cell_type": "code",
   "execution_count": null,
   "metadata": {},
   "outputs": [],
   "source": [
    "# Plot the result\n",
    "\n",
    "plt.figure()\n",
    "plt.subplot(121)\n",
    "plt.title(\"Reconstruction\")\n",
    "plt.imshow(reco.abs().cpu()[:, :, 0].T, origin='lower', vmin=0)\n",
    "plt.subplot(122)\n",
    "plt.title(\"Proton Density\")\n",
    "plt.imshow(phantom.PD.cpu()[:, :, 0].T, origin='lower', vmin=0)\n",
    "plt.show()"
   ]
  },
  {
   "cell_type": "code",
   "execution_count": null,
   "metadata": {},
   "outputs": [],
   "source": [
    "plt.figure(figsize=(7, 5), dpi=120)\n",
    "graph.plot()\n",
    "plt.grid()\n",
    "plt.show()"
   ]
  }
 ],
 "metadata": {
  "kernelspec": {
   "display_name": "base",
   "language": "python",
   "name": "python3"
  },
  "language_info": {
   "codemirror_mode": {
    "name": "ipython",
    "version": 3
   },
   "file_extension": ".py",
   "mimetype": "text/x-python",
   "name": "python",
   "nbconvert_exporter": "python",
   "pygments_lexer": "ipython3",
   "version": "3.11.3"
  },
  "orig_nbformat": 4,
  "vscode": {
   "interpreter": {
    "hash": "88279d2366fe020547cde40dd65aa0e3aa662a6ec1f3ca12d88834876c85e1a6"
   }
  }
 },
 "nbformat": 4,
 "nbformat_minor": 2
}
